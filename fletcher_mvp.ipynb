{
 "metadata": {
  "name": "",
  "signature": "sha256:a2e3c5ec53036ae8c1d7b5bce8bc136bd34c5b53be75941219736f64dfbb9315"
 },
 "nbformat": 3,
 "nbformat_minor": 0,
 "worksheets": [
  {
   "cells": [
    {
     "cell_type": "code",
     "collapsed": false,
     "input": [
      "import pymongo\n",
      "import numpy as np\n",
      "from collections import defaultdict\n",
      "import matplotlib.pyplot as plt\n",
      "from textblob import TextBlob\n",
      "from nltk.corpus import stopwords\n",
      "from textblob import Word\n",
      "import pandas as pd\n",
      "import seaborn as sns\n",
      "from nltk.stem.snowball import SnowballStemmer\n",
      "from nltk.stem.snowball import PorterStemmer\n",
      "from nltk.stem import WordNetLemmatizer\n",
      "from nltk.stem.porter import PorterStemmer\n",
      "from nltk.stem.lancaster import LancasterStemmer\n",
      "from collections import defaultdict\n",
      "\n",
      "%matplotlib inline"
     ],
     "language": "python",
     "metadata": {},
     "outputs": [],
     "prompt_number": 102
    },
    {
     "cell_type": "markdown",
     "metadata": {},
     "source": [
      "##Connect to dream-wake dataset"
     ]
    },
    {
     "cell_type": "code",
     "collapsed": false,
     "input": [
      "client = pymongo.MongoClient()  #create a MongoClient to the running mongod instance:\n",
      "db = client.dreams  \n",
      "dream_wake_collection = db.dream_wake "
     ],
     "language": "python",
     "metadata": {},
     "outputs": [],
     "prompt_number": 2
    },
    {
     "cell_type": "markdown",
     "metadata": {},
     "source": [
      "##Get and clean waking reports:"
     ]
    },
    {
     "cell_type": "code",
     "collapsed": false,
     "input": [
      "cursor_wake = dream_wake_collection.find( {'dream_wake': 'Waking'}, {'text':1, '_id':0})\n",
      "cursor_wake.count()"
     ],
     "language": "python",
     "metadata": {},
     "outputs": [
      {
       "metadata": {},
       "output_type": "pyout",
       "prompt_number": 4,
       "text": [
        "370"
       ]
      }
     ],
     "prompt_number": 4
    },
    {
     "cell_type": "code",
     "collapsed": false,
     "input": [
      "waking_corpus = [report['text'] for report in cursor_wake]\n",
      "waking_corpus_clean = [report for report in waking_corpus if len(report) > 150]  \n",
      "len(waking_corpus_clean)"
     ],
     "language": "python",
     "metadata": {},
     "outputs": [
      {
       "metadata": {},
       "output_type": "pyout",
       "prompt_number": 5,
       "text": [
        "354"
       ]
      }
     ],
     "prompt_number": 5
    },
    {
     "cell_type": "code",
     "collapsed": false,
     "input": [
      "# find reports that have similarities to other reports to find duplicates (cant just use 'set' because duplicates are not exact)\n",
      "for i in range(len(waking_corpus_clean)):\n",
      "    remaining_reports = waking_corpus_clean[i+1:]\n",
      "    for remaining_report in remaining_reports:\n",
      "        if waking_corpus_clean[i][10:40] in remaining_report:\n",
      "            print waking_corpus_clean[i], ' index:', i\n",
      "            print"
     ],
     "language": "python",
     "metadata": {},
     "outputs": [
      {
       "output_type": "stream",
       "stream": "stdout",
       "text": [
        "I just got back into my dorm room after doing some studying in the Sobrato computer lab with my boyfriend. Even though it is kind of late I didn\u2019t feel very tired at all. Rather, I was quite awake and planning to complete some more tasks before heading to bed. I just finished snacking on some nachos in the computer lab, and yet I was still a bit hungry when I got to my dorm room. And so, I ate a few peanut M&Ms and fixed myself a bagel with grape jam. I was basically pretty relaxed too, because tomorrow I only have class and lecture and choir rehearsal (no quizzes or exams). Physically, I felt ok but a bit gross too because I feel I had put on a few pounds this quarter. Psychologically, I felt calm and happy in general\u2026I had a relaxing night of just doing some reading for my psychology class, attending the Loyola Tuesday night liturgy for fun for the first time, and had a warm hug and goodbye from my boyfriend when he dropped me off at my suite front door. I was sitting here in my room, not much in my mind, actually (rare for me J), besides what I ought to do next. It is warm in here and the night is peaceful.  index: 0\n",
        "\n",
        "I was sitting in the computer lab upstairs in Benson, reading my chapter for my PSYC 1 class. I remember wondering if I read very slow, because it seems like it takes a long time for me to get through one page. I wondered if it took other people (people in my class or in this college) the same amount of time to do so. I don\u2019t think it\u2019s boring or tedious reading, though\u2026I\u2019m actually very interested in the subject matter. In fact, I would probably read anything psychology in my own time. I thought about a lot of things\u2026I guess a lot of things go through my mind at times. Whenever I enjoy psychology (a recurring thought in my mind is whether or not I should go to graduate school for psychology or go to law school. I\u2019ve been so uncertain about whether I ought to pursue the study of law for a long time now, even since the idea got implanted into me my freshmen year. I know I can be successful as a lawyer, but I\u2019m just not sure if I would be happy. I always find myself in some debate over pride and honor and happiness and passion. I know I can synthesize the two, but for some reason, I still view my life situation as one or the other. Going into law would be the more practical path, because I really really need the larger salary (I will be in great debt after graduation) but I really have no significant interest in law. While reading, I also thought about how fast my interests can change as well, and how I can basically will myself to enjoy law. I mean, once I see some purpose to doing something, I do enjoy it more, or have more motivation towards it. So yeah, a lot of things were going through my mind as I read. I\u2019m not easily distracted but I do find myself having instances where it\u2019s difficult to concentrate. People are coming in and out of the room, and my sick boyfriend coughs every once in a while next to me. He is also a factor in my decision (about law/ graduate school). Every day, in the back of my mind, I worry about what\u2019s going to happen to us. He\u2019s graduating this year and we\u2019re not sure where he\u2019s going to go to law school yet. I want to be near him, but at the same time, I want to independently make decisions on my own self interest. Oh yeah, and physically, I feel very well rested (I got about 9.5 hours of sleep! The most I\u2019ve gotten for\u2026perhaps the past few months!) I\u2019m warm too, and comfortable in my sweats and sneakers. I feel a little self-conscious, though, because I feel like my curly hair is unruly at times and I want to lose a few pounds on my body. Other than that, I feel fine, and am just hoping that I won\u2019t be sick (again) soon! I also was chewing some Orbitz gum, which tastes pretty good J I wasn\u2019t moving very much\u2026just reading, and occasionally shifting how I sat. I wished the chairs up in Benson were more comfortable and less slanted though.  index: 1\n",
        "\n",
        "Before the alarm went off, I was on Facebook looking at people\u2019s profiles for whom I am writing a recommendation. I was pleasantly surprised by one of the girls and by how she presented herself on Facebook. I was having a mixture of feelings \u2013 none of them particularly strong. However, I was feeling slightly anxious because I have to fill out these recommendations for girls I don\u2019t know especially well. I still want to give them a good, accurate eval, but this is harder and more time consuming without knowing them very well. I was also feeling a slight amount of self-imposed pressure and stress as I think about all of the work I need tostart tonight. I keep putting it off for other tasks I need to get done, so my mountains of reading just keep looming I the back of my mind. Despite these slightly anxious feelings however, I also felt comfortable. It\u2019s the weekend now and I\u2019m sitting in my room with nice, relaxing lighting. I felt a slight, fresh breeze coming through my open window, but was also vaguely aware of my warm hoody. I was chewing a piece of mint gum that tasted refreshing. Towards the end of my 15 minutes, I was checking my email. I felt excited and curious as I was logging onto GroupWise, because I never know what new, fun email I may have. The email reminded me of an assignment I have for my storytelling class, and another \u201cto-do\u201d item was added to my mental checklist along with just a small twinge of stress. Throughout this 15 minutes, I was listening to Phoebe Snow on my iPod, making me feel good with her upbeat style.  index: 2\n",
        "\n",
        "I was sitting on my bed, leaning against the wall, relaxed but not lying down and not really sleepy. I felt really frustrated because I was looking through some scholarship paperwork. I was angry about having to deal with all of the stuff and I was telling my roommate about the meeting I had just had about it all. I was totally venting to her and I could tell she wasn\u2019t really listening because she was busy with homework. I sat back and threw the papers on the floor and then just sat there for like 5 minutes. I felt really sad, but I felt really foolish for getting upset over such a trivial issue. My body felt super comfortable, but I was thinking about all that stuff.  index: 10\n",
        "\n",
        "I was studying for a midterm that I have at 11:45. I was pretty focused for the past half hour or so. I feel a little nervous for the test because I am not that prepared. I am also anxious and excited that it\u2019s Friday and to get the test over with.  index: 12\n",
        "\n",
        "I was in a girl\u2019s room on my hall with other people from my hall discussing the previous Saturday night. One of the other guys in the room got up from his seat and proclaimed he was going to sleep and made some awkward comment as he left. We remarked on how he has little social tact and always makes the girls on our hall feel awkward. I saw two girls I know outside, heading back to their dorm. Some of the people in the room yell at the two girls far below. They cannot see who is yelling which is good because someone was screaming obscenities. We disbanded to our separate rooms while I absentmindedly watched Chronicles of Roddick and checked facebook. Thought about the work I had to do in the coming week. A little stressed but still want a lazy Sunday.  index: 17\n",
        "\n",
        "I just finished a final that I had been cramming all night for. I feel really good because the test went well and the work paid off. As I was walking back to my room, my girlfriend called me and I told her the test went really well. She said that she has a ton of work to do but that she just wanted to call me to say hi and that she loves me\u2026we\u2019ll talk later. I was very aware of the abundance of noise from the construction workers. I also noticed that it is a pretty gloomy day. Once I made it back to my room, I cleaned up a few things that were on my desk. Then my roommate came in the room, asked how my final went and I told him it went really well. He looked really tired and it made me laugh. As I was about to start this, I thought about how much better my mood is today and that even though I got way less sleep, I am happier. I began to space out about how that has to do with my performance on my exam and a lot less stressors for the near future.  index: 19\n",
        "\n",
        "I cleaned up my room\u2014folding and putting away laundry. I then brushed teeth flipped the television to see if anything was on\u2014it wasn\u2019t. Washed my face and got into bed.  index: 69\n",
        "\n",
        "I finished my weights but talking to a friend on the phone while watching Conan. I then did 20 push ups, brushed my teeth, washed my face, and went to sleep.  index: 70\n",
        "\n",
        "During the last 15 minutes of my waking experience I was watching a re-run online of the most recent Desperate Housewives I missed last night. This episode was an unusual one for it was jammed pack with happy, scary, and sad events. During this experience I was nervous as the suspense built. Sad when one of the characters died. Scared for one of the characters as her mother-in-law was trying to kill her of set it up to look like a suicide. The end of the episode was a good one because everything that was misunderstood was cleared up and now everything seems to be okay. Nevertheless, it left me anxious to know that something else inevitably will happen. It was a very good suspenseful episode."
       ]
      },
      {
       "output_type": "stream",
       "stream": "stdout",
       "text": [
        "  index: 308\n",
        "\n"
       ]
      }
     ],
     "prompt_number": 6
    },
    {
     "cell_type": "code",
     "collapsed": false,
     "input": [
      "#verify that dreams are indeed duplicates:\n",
      "\n",
      "#leave index 308\n",
      "\n",
      "for report in waking_corpus_clean:\n",
      "    if 'xxxxx' in report:\n",
      "        print report\n",
      "        print"
     ],
     "language": "python",
     "metadata": {},
     "outputs": [],
     "prompt_number": 7
    },
    {
     "cell_type": "code",
     "collapsed": false,
     "input": [
      "#get rid of duplicate waking reports:\n",
      "waking_corpus_clean = [report for report in waking_corpus_clean if report != waking_corpus_clean[0] \n",
      "                           and report != waking_corpus_clean[1] and report != waking_corpus_clean[2] \n",
      "                           and report != waking_corpus_clean[10] and report != waking_corpus_clean[12]\n",
      "                           and report != waking_corpus_clean[17] and report != waking_corpus_clean[19]\n",
      "                           and report != waking_corpus_clean[69] and report != waking_corpus_clean[70]]"
     ],
     "language": "python",
     "metadata": {},
     "outputs": [],
     "prompt_number": 8
    },
    {
     "cell_type": "code",
     "collapsed": false,
     "input": [
      "len(waking_corpus_clean)"
     ],
     "language": "python",
     "metadata": {},
     "outputs": [
      {
       "metadata": {},
       "output_type": "pyout",
       "prompt_number": 9,
       "text": [
        "343"
       ]
      }
     ],
     "prompt_number": 9
    },
    {
     "cell_type": "code",
     "collapsed": false,
     "input": [
      "waking_corpus_lower =[]\n",
      "for report in waking_corpus_clean:\n",
      "    textblob_report = TextBlob(report)\n",
      "    waking_report = ' '.join([word.lower() for word in textblob_report.words]) \n",
      "    waking_corpus_lower.append(waking_report)  "
     ],
     "language": "python",
     "metadata": {},
     "outputs": [],
     "prompt_number": 303
    },
    {
     "cell_type": "code",
     "collapsed": false,
     "input": [
      "b = TextBlob(\"I havv goood speling! And so does my broter. and so on and on.\")"
     ],
     "language": "python",
     "metadata": {},
     "outputs": [],
     "prompt_number": 722
    },
    {
     "cell_type": "code",
     "collapsed": false,
     "input": [
      "print b.correct()"
     ],
     "language": "python",
     "metadata": {},
     "outputs": [
      {
       "output_type": "stream",
       "stream": "stdout",
       "text": [
        "I have good spelling! And so does my brother. and so on and on.\n"
       ]
      }
     ],
     "prompt_number": 723
    },
    {
     "cell_type": "code",
     "collapsed": false,
     "input": [
      "#CORRECT SPELLING\n",
      "waking_corpus_spell_correct =[]\n",
      "for report in waking_corpus_lower:\n",
      "    textblob_report = TextBlob(report)\n",
      "    waking_report_spelled = textblob_report.correct()\n",
      "    waking_corpus_spell_correct.append(waking_report_spelled)  "
     ],
     "language": "python",
     "metadata": {},
     "outputs": [],
     "prompt_number": 724
    },
    {
     "cell_type": "code",
     "collapsed": false,
     "input": [
      "for report in waking_corpus_spell_correct[:3]:\n",
      "    print report\n",
      "    print"
     ],
     "language": "python",
     "metadata": {},
     "outputs": [
      {
       "output_type": "stream",
       "stream": "stdout",
       "text": [
        "for the past 15 min i\u2019ve been sitting at my desk in front of my lawton i\u2019ve been sipping on some \u201csoup in a cup\u201d of campbell\u2019s and really enjoying it \u2013 it\u2019s just what i needed although i microwaved it for too long and when i took the first sip it scorched the top of my mouth and kind of burnt my throat \u2013 i\u2019ve never really done that before so it caught me off guard and i was lamenting how i\u2019d probably feel it for the next couple of days i was checking my email and facebook \u2013 when i checked my e-mail i saw that there was a such survey for research credit that i\u2019m signed up to take online but when i went to take it it said the timeslots were full so that was frustration because something in the system is obviously missed up right now.i was looking at all the papers on my desk and thinking about how i want to deal w all of them before the weekend since i\u2019ll be gone on retreat and then i was looking for some papers i need to turn in to my job tomorrow and they weren\u2019t where i thought i\u2019d put them \u2013 and i\u2019m normally a v organized person so i was getting slightly agitated looking for them despite all the things i need to get done though and the long night that\u2019s probably ahead of me i wasn\u2019t feeling very tense i don\u2019t\u2019 have my midterms looming tomorrow so that helps i was feeling pretty energies and ready to tackle things \u2013 even looking forward to some of them.i was also thinking about changing into pp parts because my jeans were feeling tight and constricting\n",
        "\n",
        "i just left work at the jewel store it was a normal day today it was my turn to take the trash out i gave me 20-25 minutes outside and a chance to be myself since most of the garage that comes out of the store is paper it\u2019s a relatively clean job i was only in the store for 2 hours today so there wasn\u2019t much time to make sales but i was able to sell a 200 necklace specifically the last 15 minutes were spent going to lunch listening to music not thinking about anything in particular\n",
        "\n",
        "i have been relatively focused on working on my cover letter for my resume every few minutes i would click around between facebook and my email the feelings i have been experiencing have been a mixture of anxious and determined i have had two cups of coffee today so that has definitely contributed to my \u201cunsettled\u201d feeling\n",
        "\n"
       ]
      }
     ],
     "prompt_number": 725
    },
    {
     "cell_type": "code",
     "collapsed": false,
     "input": [
      "for report in waking_corpus_lower[:2]:\n",
      "    print report\n",
      "    print"
     ],
     "language": "python",
     "metadata": {},
     "outputs": [
      {
       "output_type": "stream",
       "stream": "stdout",
       "text": [
        "for the past 15 min i\u2019ve been sitting at my desk in front of my laptop i\u2019ve been sipping on some \u201csoup in a cup\u201d of campbell\u2019s and really enjoying it \u2013 it\u2019s just what i needed although i microwaved it for too long and when i took the first sip it scorched the top of my mouth and kind of burnt my throat \u2013 i\u2019ve never really done that before so it caught me off guard and i was lamenting how i\u2019d probably feel it for the next couple of days i was checking my email and facebook \u2013 when i checked my e-mail i saw that there was a psych survey for research credit that i\u2019m signed up to take online but when i went to take it it said the timeslots were full so that was frustrating because something in the system is obviously messed up right now.i was looking at all the papers on my desk and thinking about how i want to deal w all of them before the weekend since i\u2019ll be gone on retreat and then i was looking for some papers i need to turn in to my job tomorrow and they weren\u2019t where i thought i\u2019d put them \u2013 and i\u2019m normally a v organized person so i was getting slightly agitated looking for them despite all the things i need to get done though and the long night that\u2019s probably ahead of me i wasn\u2019t feeling very tense i don\u2019t\u2019 have my midterms looming tomorrow so that helps i was feeling pretty energized and ready to tackle things \u2013 even looking forward to some of them.i was also thinking about changing into pj pants because my jeans were feeling tight and constricting\n",
        "\n",
        "i just left work at the jewelry store it was a normal day today it was my turn to take the trash out i gave me 20-25 minutes outside and a chance to be myself since most of the garbage that comes out of the store is paper it\u2019s a relatively clean job i was only in the store for 2 hours today so there wasn\u2019t much time to make sales but i was able to sell a 200 necklace specifically the last 15 minutes were spent going to lunch listening to music not thinking about anything in particular\n",
        "\n"
       ]
      }
     ],
     "prompt_number": 310
    },
    {
     "cell_type": "markdown",
     "metadata": {},
     "source": [
      "##Get and clean dream reports"
     ]
    },
    {
     "cell_type": "code",
     "collapsed": false,
     "input": [
      "cursor_dreams = dream_wake_collection.find( {'dream_wake': 'Dream'}, {'text':1, '_id':0})\n",
      "dream_corpus = [dream['text'] for dream in cursor_dreams]\n",
      "dream_corpus_clean = [dream for dream in dream_corpus if len(dream) > 150]  "
     ],
     "language": "python",
     "metadata": {},
     "outputs": [],
     "prompt_number": 15
    },
    {
     "cell_type": "code",
     "collapsed": false,
     "input": [
      "#find duplicate dreams\n",
      "\n",
      "for i in range(len(dream_corpus_clean)):\n",
      "    remaining_dreams = dream_corpus_clean[i+1:]\n",
      "    for remaining_dream in remaining_dreams:\n",
      "        if dream_corpus_clean[i][10:30] in remaining_dream:\n",
      "            print dream_corpus_clean[i], ' index:', i\n",
      "            print"
     ],
     "language": "python",
     "metadata": {},
     "outputs": [
      {
       "output_type": "stream",
       "stream": "stdout",
       "text": [
        "Wow, right before waking up I was crying in my sleep! I was exclaiming somewhat emotionally to my friend and current suitemate that \u201cEven though you look much different now, you\u2019ve always been beautiful to me.\u201d Before that I said \u201cI know I\u2019m a girl and everything, but you\u2019ve always been beautiful.\u201d I said this to her honestly meaning them and looking into her eyes and holding her two hands. The setting I can\u2019t quite remember now\u2026perhaps a living room environment. I was sitting or lying down to the left of my friend and we were both (unknown) my boyfriend. He was telling her, sincerely and kindly yet was brutally honest that \u201c\u2026I thought you were unattractive,\u201d but (unknown) he saw her another time or at another place, he thought she was attractive. The point he goes on to saying is a piece of advice: that you should find someone who doesn\u2019t look at how you look, that cares about the person you are. The faces of my friend and my boyfriend were distinct and pretty clear. I remember seeing color (normal tones I think not too bright, etc.) and I remember feeling a lot of emotion, and thinking too.  index: 0\n",
        "\n",
        "I was in modern day Jerusalem, but I can remember thinking how the landscape looked more like Ireland to me. The dream started off in either my aunt\u2019s or my grandma\u2019s house. We were getting ready to go on a trip and there were a couple suitcases open in the large bathroom. I vaguely remember something about the power going out for a little while\u2026I recall wanting to pack up and get on out trip but not being too agitated either. At one point, things were just slow to get going and my aunt playfully ran into the large bathroom where the suitcases were \u2013 there was someone else sitting in there. Auntie sat next to them on the ground and I looked over at the jeans she was wearing. I thought to myself how weird it was that she had cut the length off of the back of them so the leg wouldn\u2019t drag on the ground but had left the front the same length. Auntie had previously stepped on the scale and it registered something like 70 kilograms. I ran over to the scale and it registered something like 80 kilos. I was trying to convert that over to pounds and she asked me what the scale said. Even though it had registered as more than her, I was quite carefree about the whole thing and told her and I think she helped me figure it out. Sometime after this we were on our trip and in a small, charming western town. There was a fairly large group of us, but I can only identify my friend Rochelle as being with us. We went into the restaurant that was well lit, had a couple walls missing so the breeze from the outside circulated through (it was a beautiful, sunny day) and the benches and tables were made of sturdy wood. For some reason, not everyone in our group was there and so we were ordering in spurts. Rochelle was one of the first to order. Her order came about an hour later \u2013 waffles, some type of meat, and two delicious looking poached eggs. But I remember thinking that with a wait time like that, it would take about an hour and a half for everyone to get their food! I was both amused and irritated by this. Then, somehow, we ended up in this castle-like structure in Jerusalem. I was with a couple other people, but I can only distinctly remember my grandma commenting on how King David, who had lived in this castle, had been this horrible tyrant and was spurting off some narrative about him. This didn\u2019t seem quite right to me. As I looked out one of the castle\u2019s windows onto the landscape of the green city, I remembered that King David had been a \u201cman after God\u2019s own heart.\u201d I couldn\u2019t believe that Lolita was so grossly mistaken and tried to go and say something to argue with her, but she brushed me off and went down the castle steps.  index: 1\n",
        "\n",
        "I was in a room that I didn\u2019t recognize but everybody in the room I was friends with. There was tons of people but no furniture. The people\u2019s voices were kind of blurry and I was pay attention to anyone. Then one of my good friends entered the room yelling. Two of my friends began screaming at each other but what they said didn\u2019t make any sense. Everybody was sitting in a room staring at the two of them fight. While everyone was watching, I walked out of the room and was outside on the street. It was night and there was nobody on the street. As I was walking my cell phone began to ring, but I couldn\u2019t find it.  index: 9\n",
        "\n",
        "I was back home in Portland. I was in front of my fireplace at home playing with my cat Buzzer. I got up and got in my car and began driving. I started the drive alone, but at some point a passenger appeared in the car. I didn\u2019t recognize them, but it was apparent that we knew eachother and were fairly close. It started raining and while I was driving down Scholls Ferry I spun out and crashed into a \u201cSlow Down\u201d sign.  index: 14\n",
        "\n",
        "It was parent\u2019s weekend again and my dad was coming around with me to all my classes. He was really angry at me for my study habits and with how I was doing in my classes. He came back with me to my dorm and was shocked because there were hundreds of beer cans sitting all over my room. He was screaming at me for a while and then he just started laughing uncontrollably. Later that night he came around with my friends and I to different parties. He complained about the bad beer at college parties and about how I was spending my time.  index: 15\n",
        "\n",
        "I am at a school which is basically a combination of my highschool campus & Santa Clara. I was walking back to my dorm room with a large group of people and I didn\u2019t know any of them. We were coming from a lecture or some sort of activity. I started to walk really really fast because I had an extreme urge to poop when all of a sudden a tall blonde guy who seemed to be a fellow freshmen challenged me to a contest. The contest was like \u201cyour momma\u201d from MTV but it turned out to be a rapping contest about yourself. I felt nervous because I definitely can\u2019t rap and didn\u2019t know what I was going to rap about. I started coming up with lines in my head about owning 2 Ferraris and a motorcycle. As I was thinking about the lines I realized that I still had to go diarrhea really bad. But right then, the tall blonde guy cam up to me with a written description of the contest and I looked over it. By this point a large group of people had circled around us and I definitely couldn\u2019t go back on the contest but I was really nervous about whether or not I would be able to come up with funny lines and I really had to poo!  index: 16\n",
        "\n",
        "I was in a store shopping for clothes. I was looking at a shelf of jeans and there were tshirts hanging from the ceiling. The best shirts were really high up and I had to jump really high to get them. There was one shirt that EVERYONE knew was the coolest. So I went for it with a running start and got it. Employees were all cheering for me because they had never seen anyone jump so high  index: 17\n",
        "\n",
        "I was late for class while talking on to my grandmother who was hassling me for not calling her as often as she wanted. packing my bags while getting yelled at.  index: 68\n",
        "\n",
        "I had an affair with the escaped Hannibal Lector\u2019s wife. The only thing really remembered is running away from him after he noticed I had his wife\u2019s scarf in my suitcase. I was running down the stairs that kind of spiral down and he had a cross bow that he was shooting at me.  index: 69\n",
        "\n",
        "The first part I remember, I was deciding what to wear and put a sweatshirt on but packed a T-shirt because I thought it would get hot. I was going on a field trip with my mom\u2019s school. The next part I remember I was on a boat and I felt like I was trying to hide from someone. There were firework type explosions and lights in the sky. Next thing I knew I was walking into a forest type place (except it was like a display not a real forest) and it was really cold. I think I was still trying to hide. Then next thing I know I\u2019m with my dad and I have to drive to school. My grandma was there and had brought a brand new Prius but wouldn\u2019t let me drive it, so I drove my car. Then at school (I\u2019m back at my old high school) the teacher is talking to the kids about drinking and everyone leaves class and goes to the Spanish teacher who has donuts in her room. Everyone is sitting down copying answers when the 1st teacher comes in and offers muffins. The Spanish teacher is the only one who wanted a muffin.  index: 74\n",
        "\n",
        "I was being chased by someone was coming after me, and I kept getting away. I don\u2019t remember much more than that. He was grasping my wrists pretty tightly."
       ]
      },
      {
       "output_type": "stream",
       "stream": "stdout",
       "text": [
        "  index: 123\n",
        "\n",
        "I was in the living room of a friend house. We were all watching TV when another friend of mine called my name from the elevator in the hall. I walked over and she asked me if I could get her any marijuana. I said no, and as she asked, two kids and their mom walked by, it made me nervous. I got on the elevator and we went up. I stepped out and found myself in the bathroom, ready for a shower. All the showers were occupied by fats girls I was frustrated because I anted to have sex, but all these girls were ugly. I finally got a shower and once I got in my girlfriend showed up. We got naked but didn\u2019t have sex. After this I went up to a friend room. She gave me a beer called \u201cChicago Bull Beer\u2019. A friend remarked that it was tasty and citrusy. I couldn\u2019t taste citrus, but it was good. We drank with the door open, which made me think we could get written up and in turn made me nervous.  index: 141\n",
        "\n",
        "It was about my ex-boyfriend. I was nervous around him because I thought I would see him with his girlfriend. I knew the whole time that I was dreaming. I wanted to see if my ex still had feelings for me and I found out that he did.  index: 161\n",
        "\n",
        "The first thing I remember is being at the Cal Train Station. I remember waiting forever I get on the train. I remember thinking that I was feeling anxious and just wanted to be on the train. I was in so much of a rush I was telling people to hurry up but I also forgot something myself when I got on the train. After taking the Cal Train, my family and I rented a car. I clearly remember that all the roads we drove on were heading south. At one time we had to make a u-turn because it was a one way street. At this point I know I talked to my brother and sister about something but I forget. The next dream sequence landed the car driving through Malibu and Pepperdine University. I commented to my dad I\u2019m glad to chose Santa Clara over Pepperdine. As we were driving I remember looking out the window at all the nice houses in the area and wishing I could live in a house like that. As we were driving we came to what was supposed to be UCLA. I told my mom that she wouldn\u2019t be able to convince me to change schools. This UCLS, however, was like a waterpark. It was early morning and there were little kids running around with a lot of Disney costume people. I remember asking myself where all the students, but remembering it was early and most students sleep in. The final thing in my dream was a girl from my high school, Christina Murrillo, walking by with her friends. I said hi to her and thought that her friends were very pretty. Participant Code: 5794  index: 173\n",
        "\n",
        "All I can recall right now is me being with my older brother. The last words I said to him before waking up dealt with me commenting on how he had my dream job. We were standing alone before I work up (I think our mom was present sometime in the dream too though, (unknown)). A few minutes before I woke up though, there were other people in my dream/ in the scene too. These people were strangers to me but friends to my brother. My brother worked in his residency. The people were co-workers/ fellow students doing residency w/ my brother, and they seemed very friendly and outgoing and said a few things. There were a only few of them (2-3?), and one of them was a caucasian girl. My brother was cooking/ preparing this huge oven pan or dish of fried rice. The fried rice had texture and was somewhat colorful (the yellow/brown of the rice, and with some orange from some of the scattered carrots and some green from some of the scattered peas. I remember feeling hungry looking at the rice J and my brother smushing it and stirring it with some kind of spoon or spatula. He told me it was his turn to do what he was doing (prepare the rice or food). I remember feeling a bit jealous of his job or whatever he was doing I think. He also seemed somewhat distanced and doing his own thing \u2013 not necessarily ignoring me but being the big brother who was in a different stage in life than me. I believe I felt like a little kid too, and like we were in a somewhat unfamiliar place for some reason (the closest description I can come up with is that it\u2019s like one of those parking garages?)  index: 183\n",
        "\n"
       ]
      }
     ],
     "prompt_number": 16
    },
    {
     "cell_type": "code",
     "collapsed": false,
     "input": [
      "#verify that dreams are indeed duplicates:\n",
      "#(leave indices 74, 123, 141, 161, 173)\n",
      "\n",
      "for dream in dream_corpus_clean:\n",
      "    if 'xxxx' in dream:\n",
      "        print dream\n",
      "        print"
     ],
     "language": "python",
     "metadata": {},
     "outputs": [],
     "prompt_number": 17
    },
    {
     "cell_type": "code",
     "collapsed": false,
     "input": [
      "#get rid of duplicate dreams:\n",
      "dream_corpus_clean = [dream for dream in dream_corpus_clean if dream != dream_corpus_clean[0] \n",
      "                           and dream != dream_corpus_clean[1] and dream != dream_corpus_clean[9] \n",
      "                           and dream != dream_corpus_clean[14] and dream != dream_corpus_clean[15]\n",
      "                           and dream != dream_corpus_clean[16] and dream != dream_corpus_clean[17]\n",
      "                           and dream != dream_corpus_clean[68] and dream != dream_corpus_clean[69]\n",
      "                           and dream != dream_corpus_clean[183]]"
     ],
     "language": "python",
     "metadata": {},
     "outputs": [],
     "prompt_number": 18
    },
    {
     "cell_type": "code",
     "collapsed": false,
     "input": [
      "len(dream_corpus_clean)"
     ],
     "language": "python",
     "metadata": {},
     "outputs": [
      {
       "metadata": {},
       "output_type": "pyout",
       "prompt_number": 19,
       "text": [
        "337"
       ]
      }
     ],
     "prompt_number": 19
    },
    {
     "cell_type": "code",
     "collapsed": false,
     "input": [
      "dream_corpus_lower =[]\n",
      "for report in dream_corpus_clean:\n",
      "    textblob_report = TextBlob(report)\n",
      "    dream_report = ' '.join([word.lower() for word in textblob_report.words]) \n",
      "    dream_corpus_lower.append(dream_report)  "
     ],
     "language": "python",
     "metadata": {},
     "outputs": [],
     "prompt_number": 311
    },
    {
     "cell_type": "code",
     "collapsed": false,
     "input": [
      "#CORRECT SPELLING\n",
      "dream_corpus_spell_correct =[]\n",
      "for report in dream_corpus_lower:\n",
      "    textblob_report = TextBlob(report)\n",
      "    dream_report_spelled = textblob_report.correct()\n",
      "    dream_corpus_spell_correct.append(dream_report_spelled)  "
     ],
     "language": "python",
     "metadata": {},
     "outputs": [],
     "prompt_number": 726
    },
    {
     "cell_type": "code",
     "collapsed": false,
     "input": [
      "for dream in dream_corpus_spell_correct[:4]:\n",
      "    print dream\n",
      "    print"
     ],
     "language": "python",
     "metadata": {},
     "outputs": [
      {
       "output_type": "stream",
       "stream": "stdout",
       "text": [
        "i was going to the pm student mass with my friend began it was quite dark outside we walked over to the church around 9:pm when we got inside there must have been 10 people scattered throughout i walked in and sitting near the alter was my friend chris i was so excited to see him i gave him a huge hug i didn\u2019t know that he was back at scut but he explained that he was back for about a week then he\u2019d fly back to oxford for the first 2 or 3 weeks of the bring term and then fly back i was envisioning this calendar in my head and i remember thinking how crazy and frivolous it seemed to make trips like this so close together i figured he must be homesick he showed me the book he was reading \u2013 something about grace \u2013 the print on the cover was in green survive and the cover was an beige he said he was reading with jesus in the church because it makes the reading less overwhelming i sat down next to chris waiting for mass to start and began sat next to me soon his girlfriend showed up and sat a couple of seats away from chris since the seats next to him were already taken i was so happy to get to sit next to him and remembered wondering why i hadn\u2019t found him attractive last year he was so good looking now i was frustrated that i hadn\u2019t jumped on this opportunity while i had the chance i had forgotten my sweeter and the church was a little cold so i left to go back to my room and get it i was wearing my boy scout shirt and needed my black sweeter before mass started on my way back to the church i saw began\u2019s roommate stephanie walking towards the church i was surprised because steps is an atheist and had never come to mass before i was glad at first until she explained that she brought \u201cmaterials to work on\u201d since she was sure to get bored with all the \u201creligious magic.\u201d i took a deep breath and tried to explain that it would be really disrespectful and distracting to others if she did this and that she should just abort everything \u2013 but she was rather flippant about my concern i felt v irritated when we got back into the church it was packed i looked where chris was sitting and found that his girlfriend had taken my seat i felt a tinge of jealousy but figured she had taken it because she probably thought i had really left and wasn\u2019t going to reclaim it so began steps and i and my friend diana ended up sitting in the very back now i remember thinking how i\u2019d never sat back there before but since i had the aisle seat it wasn\u2019t as bad as i thought a few minutes into mass steps brought out her materials to work on and i felt v frustrated\n",
        "\n",
        "i was running on a treadmill but it was the water type such that you use in physical therapy but i was going through bubble bath foam it took forever then i got hungry and wanted to eat a sandwich a loud plane came overhead and dropped a package for me to open\n",
        "\n",
        "the dream started with me and a group of friends walking toward my old middle school my memory of how we entered the school reminded me of how a babysitter and i once entered to play basketball when i was 12 or 13 years old once we went inside i noticed the school was deserted at that point it was no longer the school i recognized i still knew it was the middle school but not in the way i remember it to be we walked to a banister that looked out into the canopy of a jungle i climbed onto the banister and knew that i could fly as i leaned forward and took flight i realized that i had taken the form of a bat i was noticing how their flight pattern maximized area covered for hunting bags and i thought it was cool that even though it was dark almost pitch black i could still see i flew back over to the banister where i first left from and turned back into myself in human form at that moment i heard two strong banks on the door just around the corner then heard a woman\u2019s voice call my name loudly i woke up i felt like i knew that i had to get up in the dream\n",
        "\n",
        "i was in lenox jewel store and my manager told me \u201cfire you why would i fire one of my most productive he was referring to sales part time employees \u201d in the dream i had consistently been selling more than some of the full time employees but i\u2019m not sure how the thought of me getting fired came up in the dream after the conversation i woke up\n",
        "\n"
       ]
      }
     ],
     "prompt_number": 727
    },
    {
     "cell_type": "code",
     "collapsed": false,
     "input": [
      "for dream in dream_corpus_lower[:4]:\n",
      "    print dream\n",
      "    print"
     ],
     "language": "python",
     "metadata": {},
     "outputs": [
      {
       "output_type": "stream",
       "stream": "stdout",
       "text": [
        "i was going to the 10pm student mass with my friend meggan it was quite dark outside we walked over to the church around 9:45pm when we got inside there must have been 10 people scattered throughout i walked in and sitting near the alter was my friend chris i was so excited to see him i gave him a huge hug i didn\u2019t know that he was back at scu but he explained that he was back for about a week then he\u2019d fly back to oxford for the first 2 or 3 weeks of the pring term and then fly back i was envisioning this calendar in my head and i remember thinking how crazy and frivolous it seemed to make trips like this so close together i figured he must be homesick he showed me the book he was reading \u2013 something about grace \u2013 the print on the cover was in green cursive and the cover was tan beige he said he was reading with jesus in the church because it makes the reading less overwhelming i sat down next to chris waiting for mass to start and meggan sat next to me soon his girlfriend showed up and sat a couple of seats away from chris since the seats next to him were already taken i was so happy to get to sit next to him and remembered wondering why i hadn\u2019t found him attractive last year he was so good looking now i was frustrated that i hadn\u2019t jumped on this opportunity while i had the chance i had forgotten my sweater and the church was a little cold so i left to go back to my room and get it i was wearing my boy scout shirt and needed my black sweater before mass started on my way back to the church i saw meggan\u2019s roommate stephanie walking towards the church i was surprised because steph is an atheist and had never come to mass before i was glad at first until she explained that she brought \u201cmaterials to work on\u201d since she was sure to get bored with all the \u201creligious magic.\u201d i took a deep breath and tried to explain that it would be really disrespectful and distracting to others if she did this and that she should just abort everything \u2013 but she was rather flippant about my concern i felt v irritated when we got back into the church it was packed i looked where chris was sitting and found that his girlfriend had taken my seat i felt a twinge of jealousy but figured she had taken it because she probably thought i had really left and wasn\u2019t going to reclaim it so meggan steph and i and my friend dianna ended up sitting in the very back now i remember thinking how i\u2019d never sat back there before but since i had the aisle seat it wasn\u2019t as bad as i thought a few minutes into mass steph brought out her materials to work on and i felt v frustrated\n",
        "\n",
        "i was running on a treadmill but it was the water type such that you use in physical therapy but i was going through bubble bath foam it took forever then i got hungry and wanted to eat a sandwich a loud plane came overhead and dropped a package for me to open\n",
        "\n",
        "the dream started with me and a group of friends walking toward my old middle school my memory of how we entered the school reminded me of how a babysitter and i once entered to play basketball when i was 12 or 13 years old once we went inside i noticed the school was deserted at that point it was no longer the school i recognized i still knew it was the middle school but not in the way i remember it to be we walked to a banister that looked out into the canopy of a jungle i climbed onto the banister and knew that i could fly as i leaned forward and took flight i realized that i had taken the form of a bat i was noticing how their flight pattern maximized area covered for hunting bugs and i thought it was cool that even though it was dark almost pitch black i could still see i flew back over to the banister where i first left from and turned back into myself in human form at that moment i heard two strong bangs on the door just around the corner then heard a woman\u2019s voice call my name loudly i woke up i felt like i knew that i had to get up in the dream\n",
        "\n",
        "i was in lenox jewelry store and my manager told me \u201cfire you why would i fire one of my most productive he was referring to sales part time employees \u201d in the dream i had consistently been selling more than some of the full time employees but i\u2019m not sure how the thought of me getting fired came up in the dream after the conversation i woke up\n",
        "\n"
       ]
      }
     ],
     "prompt_number": 313
    },
    {
     "cell_type": "markdown",
     "metadata": {},
     "source": [
      "##Get and clean emotions word list"
     ]
    },
    {
     "cell_type": "code",
     "collapsed": false,
     "input": [
      "df_emotions = pd.read_excel('emotion_words_3.xlsx')\n",
      "df_emotions.describe()"
     ],
     "language": "python",
     "metadata": {},
     "outputs": [
      {
       "html": [
        "<div style=\"max-height:1000px;max-width:1500px;overflow:auto;\">\n",
        "<table border=\"1\" class=\"dataframe\">\n",
        "  <thead>\n",
        "    <tr style=\"text-align: right;\">\n",
        "      <th></th>\n",
        "      <th>irritated</th>\n",
        "    </tr>\n",
        "  </thead>\n",
        "  <tbody>\n",
        "    <tr>\n",
        "      <th>count</th>\n",
        "      <td>       704</td>\n",
        "    </tr>\n",
        "    <tr>\n",
        "      <th>unique</th>\n",
        "      <td>       660</td>\n",
        "    </tr>\n",
        "    <tr>\n",
        "      <th>top</th>\n",
        "      <td> Resentful</td>\n",
        "    </tr>\n",
        "    <tr>\n",
        "      <th>freq</th>\n",
        "      <td>         3</td>\n",
        "    </tr>\n",
        "  </tbody>\n",
        "</table>\n",
        "</div>"
       ],
       "metadata": {},
       "output_type": "pyout",
       "prompt_number": 728,
       "text": [
        "        irritated\n",
        "count         704\n",
        "unique        660\n",
        "top     Resentful\n",
        "freq            3"
       ]
      }
     ],
     "prompt_number": 728
    },
    {
     "cell_type": "code",
     "collapsed": false,
     "input": [
      "emotion_words = df_emotions.values\n",
      "emotion_words_2 = [word[0] for word in emotion_words]\n",
      "sorted_emotion_words = list(sorted(emotion_words_2))\n",
      "sorted_emotion_words.pop(0)\n",
      "emotion_words_lower = [word.lower() for word in sorted_emotion_words]\n",
      "emotion_words_set = set(emotion_words_lower)\n",
      "sorted_emotion_words_2 = list(sorted(emotion_words_set))\n",
      "emotion_words_clean = sorted_emotion_words_2\n",
      "emotion_words_clean[:5], len(emotion_words_clean) "
     ],
     "language": "python",
     "metadata": {},
     "outputs": [
      {
       "metadata": {},
       "output_type": "pyout",
       "prompt_number": 729,
       "text": [
        "([u'abashed', u'abused', u'aching', u'achy', u'admiring'], 553)"
       ]
      }
     ],
     "prompt_number": 729
    },
    {
     "cell_type": "code",
     "collapsed": false,
     "input": [
      "#emotion_words_clean[20:40]"
     ],
     "language": "python",
     "metadata": {},
     "outputs": [],
     "prompt_number": 649
    },
    {
     "cell_type": "code",
     "collapsed": false,
     "input": [
      "#how to just plot word frequency?\n",
      "    # http://www.thoughtly.co/blog/working-with-text/\n",
      "    # just have a dictoinary counter and go through and put words in dict and count. then plot. \n",
      "    # and do same for waking. and can copute difference too."
     ],
     "language": "python",
     "metadata": {},
     "outputs": []
    },
    {
     "cell_type": "code",
     "collapsed": false,
     "input": [
      "#NEXT STEPS\n",
      "\n",
      "#individually run stemmer on this and lemmatizer on this and see what happens. is it ok? Just do one, not both.\n",
      "#whatever i choose to do, do the same to the text in the actual dreams\n",
      "#then for each doc, loop through emotion words and either give the dream a 0 or 1 for each emotion word.\n",
      "    #could have a dict where each emotion word is a key. loop through the keys and then add/appen 0 or 1 to values list\n",
      "\n",
      "    \n",
      "#then can convert this into a pandas df  -- \n",
      "    #it'll automaticall convert dict so each word is a variable/col header, each value is a dream/doc\n",
      "#then I think i can plot something like: \n",
      "    #sns.barplot(x = df.columns, y = [df['fear'].count(), df['happy'].count()])   #or maybe for y: df.loc[0].count...?\n",
      "\n",
      "#ultimately should group variables together into categories (~25) reviwed by shaver on \n",
      "    # http://changingminds.org/explanations/emotions/basic%20emotions.htm\n",
      "#ultimately should try and plot percentages within dreams and within waking, to compare."
     ],
     "language": "python",
     "metadata": {},
     "outputs": []
    },
    {
     "cell_type": "markdown",
     "metadata": {},
     "source": [
      "##Stem emotion words. Bad idea -- skip this."
     ]
    },
    {
     "cell_type": "code",
     "collapsed": false,
     "input": [
      "stemmer = SnowballStemmer('english')\n",
      "stemmed_emotion_words = [stemmer.stem(t) for t in sorted_emotion_words]"
     ],
     "language": "python",
     "metadata": {},
     "outputs": [],
     "prompt_number": 78
    },
    {
     "cell_type": "code",
     "collapsed": false,
     "input": [
      "#doesnt't do a very good job. But go with this. stem in both emotion words list and dream reports. and tranlate back afterwards\n",
      "for i in range(20):\n",
      "    print sorted_emotion_words[i]\n",
      "    print stemmed_emotion_words[i]\n",
      "    print"
     ],
     "language": "python",
     "metadata": {},
     "outputs": [
      {
       "output_type": "stream",
       "stream": "stdout",
       "text": [
        "Abandoned\n",
        "abandon\n",
        "\n",
        "Abashed\n",
        "abash\n",
        "\n",
        "Abused\n",
        "abus\n",
        "\n",
        "Aching\n",
        "ach\n",
        "\n",
        "Admiring\n",
        "admir\n",
        "\n",
        "Adoring\n",
        "ador\n",
        "\n",
        "Adrift\n",
        "adrift\n",
        "\n",
        "Affectionate\n",
        "affection\n",
        "\n",
        "Affronted\n",
        "affront\n",
        "\n",
        "Afraid\n",
        "afraid\n",
        "\n",
        "Aggravated\n",
        "aggrav\n",
        "\n",
        "Aglow\n",
        "aglow\n",
        "\n",
        "Ailing\n",
        "ail\n",
        "\n",
        "Alarmed\n",
        "alarm\n",
        "\n",
        "Alienated\n",
        "alien\n",
        "\n",
        "Alone\n",
        "alon\n",
        "\n",
        "Ambivalent\n",
        "ambival\n",
        "\n",
        "Anguished\n",
        "anguish\n",
        "\n",
        "Annoyed\n",
        "annoy\n",
        "\n",
        "Antagonistic\n",
        "antagonist\n",
        "\n"
       ]
      }
     ],
     "prompt_number": 79
    },
    {
     "cell_type": "code",
     "collapsed": false,
     "input": [
      "len(stemmed_emotion_words)"
     ],
     "language": "python",
     "metadata": {},
     "outputs": [
      {
       "metadata": {},
       "output_type": "pyout",
       "prompt_number": 121,
       "text": [
        "773"
       ]
      }
     ],
     "prompt_number": 121
    },
    {
     "cell_type": "code",
     "collapsed": false,
     "input": [
      "set_stemmed_emotion_words = set(stemmed_emotion_words)"
     ],
     "language": "python",
     "metadata": {},
     "outputs": [],
     "prompt_number": 163
    },
    {
     "cell_type": "code",
     "collapsed": false,
     "input": [
      "len(set_stemmed_emotion_words)"
     ],
     "language": "python",
     "metadata": {},
     "outputs": [
      {
       "metadata": {},
       "output_type": "pyout",
       "prompt_number": 164,
       "text": [
        "644"
       ]
      }
     ],
     "prompt_number": 164
    },
    {
     "cell_type": "code",
     "collapsed": false,
     "input": [
      "#create a dict to go between original emotion word and stemmed version. use stems as key so can easily go back to originals?\n",
      "emotion_word_to_stem_dict = {}\n",
      "for i in range(len(stemmed_emotion_words)):\n",
      "    stemmed_word = stemmed_emotion_words[i]\n",
      "    original_word = sorted_emotion_words[i]\n",
      "    emotion_word_to_stem_dict[stemmed_word] = original_word"
     ],
     "language": "python",
     "metadata": {},
     "outputs": [],
     "prompt_number": 122
    },
    {
     "cell_type": "code",
     "collapsed": false,
     "input": [
      "len(emotion_word_to_stem_dict)"
     ],
     "language": "python",
     "metadata": {},
     "outputs": [
      {
       "metadata": {},
       "output_type": "pyout",
       "prompt_number": 165,
       "text": [
        "644"
       ]
      }
     ],
     "prompt_number": 165
    },
    {
     "cell_type": "code",
     "collapsed": false,
     "input": [
      "emotion_word_to_stem_dict['dispirit']"
     ],
     "language": "python",
     "metadata": {},
     "outputs": [
      {
       "metadata": {},
       "output_type": "pyout",
       "prompt_number": 129,
       "text": [
        "u'Dispirited'"
       ]
      }
     ],
     "prompt_number": 129
    },
    {
     "cell_type": "code",
     "collapsed": false,
     "input": [
      "lemmatizer = nltk.WordNetLemmatizer()\n",
      "lemmatized_tokens = [lemmatizer.lemmatize(t) for t in sorted_emotion_words]"
     ],
     "language": "python",
     "metadata": {},
     "outputs": [],
     "prompt_number": 75
    },
    {
     "cell_type": "code",
     "collapsed": false,
     "input": [
      "for i in range(5):\n",
      "    print sorted_emotion_words[i]\n",
      "    print lemmatized_tokens[i]\n",
      "    print"
     ],
     "language": "python",
     "metadata": {},
     "outputs": [
      {
       "output_type": "stream",
       "stream": "stdout",
       "text": [
        "Abandoned\n",
        "Abandoned\n",
        "\n",
        "Abashed\n",
        "Abashed\n",
        "\n",
        "Abused\n",
        "Abused\n",
        "\n",
        "Aching\n",
        "Aching\n",
        "\n",
        "Admiring\n",
        "Admiring\n",
        "\n"
       ]
      }
     ],
     "prompt_number": 77
    },
    {
     "cell_type": "markdown",
     "metadata": {},
     "source": [
      "##Stem dream and waking docs. Bad idea -- skip."
     ]
    },
    {
     "cell_type": "code",
     "collapsed": false,
     "input": [
      "stemmer = SnowballStemmer('english')\n",
      "stemmed_waking_corpus =[]\n",
      "for report in waking_corpus_clean:\n",
      "    textblob_report = TextBlob(report)\n",
      "    waking_report = ' '.join([stemmer.stem(word) for word in textblob_report.words]) \n",
      "    stemmed_waking_corpus.append(waking_report)  "
     ],
     "language": "python",
     "metadata": {},
     "outputs": [],
     "prompt_number": 90
    },
    {
     "cell_type": "code",
     "collapsed": false,
     "input": [
      "len(stemmed_waking_corpus)"
     ],
     "language": "python",
     "metadata": {},
     "outputs": [
      {
       "metadata": {},
       "output_type": "pyout",
       "prompt_number": 91,
       "text": [
        "343"
       ]
      }
     ],
     "prompt_number": 91
    },
    {
     "cell_type": "code",
     "collapsed": false,
     "input": [
      "for report in stemmed_waking_corpus[:5]:\n",
      "    print report\n",
      "    print"
     ],
     "language": "python",
     "metadata": {},
     "outputs": [
      {
       "output_type": "stream",
       "stream": "stdout",
       "text": [
        "for the past 15 min i'v been sit at my desk in front of my laptop i'v been sip on some \u201csoup in a cup\u201d of campbel and realli enjoy it \u2013 it just what i need although i microwav it for too long and when i took the first sip it scorch the top of my mouth and kind of burnt my throat \u2013 i'v never realli done that befor so it caught me off guard and i was lament how i'd probabl feel it for the next coupl of day i was check my email and facebook \u2013 when i check my e-mail i saw that there was a psych survey for research credit that i'm sign up to take onlin but when i went to take it it said the timeslot were full so that was frustrat becaus someth in the system is obvious mess up right now.i was look at all the paper on my desk and think about how i want to deal w all of them befor the weekend sinc i'll be gone on retreat and then i was look for some paper i need to turn in to my job tomorrow and they weren't where i thought i'd put them \u2013 and i'm normal a v organ person so i was get slight agit look for them despit all the thing i need to get done though and the long night that probabl ahead of me i wasn't feel veri tens i don't have my midterm loom tomorrow so that help i was feel pretti energ and readi to tackl thing \u2013 even look forward to some of them.i was also think about chang into pj pant becaus my jean were feel tight and constrict\n",
        "\n",
        "i just left work at the jewelri store it was a normal day today it was my turn to take the trash out i gave me 20-25 minut outsid and a chanc to be myself sinc most of the garbag that come out of the store is paper it a relat clean job i was onli in the store for 2 hour today so there wasn't much time to make sale but i was abl to sell a 200 necklac specif the last 15 minut were spent go to lunch listen to music not think about anyth in particular\n",
        "\n",
        "i have been relat focus on work on my cover letter for my resum everi few minut i would click around between facebook and my gmail the feel i have been experienc have been a mixtur of anxious and determin i have had two cup of coffe today so that has definit contribut to my \u201cunsettled\u201d feel\n",
        "\n",
        "i woke up today at 9:20 and have been walk around the hous look for what i want to eat for breakfast be unproduct i look on the internet at unknown a site where they sell one thing a day after i went and drank some juic and then went and turn on the tv did some channel surf and found noth interest went to my comput again and then went to the unknown unknown again where i have watch in unknown the news for the past 10 minut\n",
        "\n",
        "just woke up from a nap and am tri to get on the internet but it is down so went and unplug the router and plug it back in went into the kitchen to get some chip and then a cup of milk came back into room sat down got comput work and look at email noth excit so went to the news site and look at the news of the day read a coupl articl and that is now unknown 15 minut\n",
        "\n"
       ]
      }
     ],
     "prompt_number": 93
    },
    {
     "cell_type": "code",
     "collapsed": false,
     "input": [
      "stemmer = SnowballStemmer('english')\n",
      "stemmed_dream_corpus =[]\n",
      "for report in dream_corpus_clean:\n",
      "    textblob_report = TextBlob(report)\n",
      "    dream_report = ' '.join([stemmer.stem(word) for word in textblob_report.words]) \n",
      "    stemmed_dream_corpus.append(dream_report)  "
     ],
     "language": "python",
     "metadata": {},
     "outputs": [],
     "prompt_number": 95
    },
    {
     "cell_type": "code",
     "collapsed": false,
     "input": [
      "len(stemmed_dream_corpus)"
     ],
     "language": "python",
     "metadata": {},
     "outputs": [
      {
       "metadata": {},
       "output_type": "pyout",
       "prompt_number": 96,
       "text": [
        "337"
       ]
      }
     ],
     "prompt_number": 96
    },
    {
     "cell_type": "code",
     "collapsed": false,
     "input": [
      "for report in stemmed_dream_corpus[:2]:\n",
      "    print report\n",
      "    print"
     ],
     "language": "python",
     "metadata": {},
     "outputs": [
      {
       "output_type": "stream",
       "stream": "stdout",
       "text": [
        "i was go to the 10pm student mass with my friend meggan it was quit dark outsid we walk over to the church around 9:45pm when we got insid there must have been 10 peopl scatter throughout i walk in and sit near the alter was my friend chris i was so excit to see him i gave him a huge hug i didn't know that he was back at scu but he explain that he was back for about a week then he'd fli back to oxford for the first 2 or 3 week of the pring term and then fli back i was envis this calendar in my head and i rememb think how crazi and frivol it seem to make trip like this so close togeth i figur he must be homesick he show me the book he was read \u2013 someth about grace \u2013 the print on the cover was in green cursiv and the cover was tan beig he said he was read with jesus in the church becaus it make the read less overwhelm i sat down next to chris wait for mass to start and meggan sat next to me soon his girlfriend show up and sat a coupl of seat away from chris sinc the seat next to him were alreadi taken i was so happi to get to sit next to him and rememb wonder whi i hadn't found him attract last year he was so good look now i was frustrat that i hadn't jump on this opportun while i had the chanc i had forgotten my sweater and the church was a littl cold so i left to go back to my room and get it i was wear my boy scout shirt and need my black sweater befor mass start on my way back to the church i saw meggan roommat stephani walk toward the church i was surpris becaus steph is an atheist and had never come to mass befor i was glad at first until she explain that she brought \u201cmateri to work on\u201d sinc she was sure to get bore with all the \u201creligi magic.\u201d i took a deep breath and tri to explain that it would be realli disrespect and distract to other if she did this and that she should just abort everyth \u2013 but she was rather flippant about my concern i felt v irrit when we got back into the church it was pack i look where chris was sit and found that his girlfriend had taken my seat i felt a twing of jealousi but figur she had taken it becaus she probabl thought i had realli left and wasn't go to reclaim it so meggan steph and i and my friend dianna end up sit in the veri back now i rememb think how i'd never sat back there befor but sinc i had the aisl seat it wasn't as bad as i thought a few minut into mass steph brought out her materi to work on and i felt v frustrat\n",
        "\n",
        "i was run on a treadmil but it was the water type such that you use in physic therapi but i was go through bubbl bath foam it took forev then i got hungri and want to eat a sandwich a loud plane came overhead and drop a packag for me to open\n",
        "\n"
       ]
      }
     ],
     "prompt_number": 99
    },
    {
     "cell_type": "markdown",
     "metadata": {},
     "source": [
      "##Create dictionary of emotion word stems to their absence/presence in each doc. Values are list of 0 or 1 for each doc depending on whether emotion stem is absent or present."
     ]
    },
    {
     "cell_type": "code",
     "collapsed": false,
     "input": [
      "#loop through emotion words and either give the dream a 0 or 1 for each emotion word.\n",
      "#could have a dict where each emotion word is a key. loop through the keys and then add/appen 0 or 1 to values list"
     ],
     "language": "python",
     "metadata": {},
     "outputs": [],
     "prompt_number": 87
    },
    {
     "cell_type": "code",
     "collapsed": false,
     "input": [
      "waking_emotions_dictionary = defaultdict(list)\n",
      "for waking_report in waking_corpus_spell_correct:   #was using: waking_corpus_lower\n",
      "    for word in emotion_words_clean:\n",
      "        if word in waking_report:\n",
      "            waking_emotions_dictionary[word].append(1)\n",
      "        else:\n",
      "            waking_emotions_dictionary[word].append(0)"
     ],
     "language": "python",
     "metadata": {},
     "outputs": [],
     "prompt_number": 730
    },
    {
     "cell_type": "code",
     "collapsed": false,
     "input": [
      "waking_emotions_dictionary.keys()[:5]"
     ],
     "language": "python",
     "metadata": {},
     "outputs": [
      {
       "metadata": {},
       "output_type": "pyout",
       "prompt_number": 731,
       "text": [
        "[u'cheerful', u'thoughtful', u'tenuous', u'reluctant', u'devoted']"
       ]
      }
     ],
     "prompt_number": 731
    },
    {
     "cell_type": "code",
     "collapsed": false,
     "input": [
      "len(waking_emotions_dictionary.keys())"
     ],
     "language": "python",
     "metadata": {},
     "outputs": [
      {
       "metadata": {},
       "output_type": "pyout",
       "prompt_number": 732,
       "text": [
        "553"
       ]
      }
     ],
     "prompt_number": 732
    },
    {
     "cell_type": "code",
     "collapsed": false,
     "input": [
      "np.sum(waking_emotions_dictionary['devoted'])"
     ],
     "language": "python",
     "metadata": {},
     "outputs": [
      {
       "metadata": {},
       "output_type": "pyout",
       "prompt_number": 733,
       "text": [
        "0"
       ]
      }
     ],
     "prompt_number": 733
    },
    {
     "cell_type": "code",
     "collapsed": false,
     "input": [
      "dream_emotions_dictionary = defaultdict(list)\n",
      "for dream_report in dream_corpus_spell_correct:  #was: dream_corpus_lower\n",
      "    for word in emotion_words_clean:\n",
      "        if word in dream_report:\n",
      "            dream_emotions_dictionary[word].append(1)\n",
      "        else:\n",
      "            dream_emotions_dictionary[word].append(0)"
     ],
     "language": "python",
     "metadata": {},
     "outputs": [],
     "prompt_number": 734
    },
    {
     "cell_type": "code",
     "collapsed": false,
     "input": [
      "len(dream_emotions_dictionary.keys())"
     ],
     "language": "python",
     "metadata": {},
     "outputs": [
      {
       "metadata": {},
       "output_type": "pyout",
       "prompt_number": 735,
       "text": [
        "553"
       ]
      }
     ],
     "prompt_number": 735
    },
    {
     "cell_type": "markdown",
     "metadata": {},
     "source": [
      "##Plot frequency of emotion words for dreams and for descriptions of real-life"
     ]
    },
    {
     "cell_type": "code",
     "collapsed": false,
     "input": [
      "Y = [np.sum(l) for l in dream_emotions_dictionary.values()[:20]]"
     ],
     "language": "python",
     "metadata": {},
     "outputs": [],
     "prompt_number": 656
    },
    {
     "cell_type": "code",
     "collapsed": false,
     "input": [
      "len(Y), Y[:10]"
     ],
     "language": "python",
     "metadata": {},
     "outputs": [
      {
       "metadata": {},
       "output_type": "pyout",
       "prompt_number": 657,
       "text": [
        "(20, [1, 0, 0, 1, 0, 0, 0, 0, 0, 1])"
       ]
      }
     ],
     "prompt_number": 657
    },
    {
     "cell_type": "code",
     "collapsed": false,
     "input": [
      "X = [word for word in dream_emotions_dictionary.keys()[:20]]"
     ],
     "language": "python",
     "metadata": {},
     "outputs": [],
     "prompt_number": 658
    },
    {
     "cell_type": "code",
     "collapsed": false,
     "input": [
      "len(X), X[:5]"
     ],
     "language": "python",
     "metadata": {},
     "outputs": [
      {
       "metadata": {},
       "output_type": "pyout",
       "prompt_number": 659,
       "text": [
        "(20, [u'cheerful', u'thoughtful', u'tenuous', u'reluctant', u'devoted'])"
       ]
      }
     ],
     "prompt_number": 659
    },
    {
     "cell_type": "code",
     "collapsed": false,
     "input": [
      "sns.barplot(x = np.array(X), y = np.array([unit for unit in Y]))\n",
      "plt.xticks(rotation=80)"
     ],
     "language": "python",
     "metadata": {},
     "outputs": [
      {
       "metadata": {},
       "output_type": "pyout",
       "prompt_number": 660,
       "text": [
        "(array([ 0,  1,  2,  3,  4,  5,  6,  7,  8,  9, 10, 11, 12, 13, 14, 15, 16,\n",
        "        17, 18, 19]), <a list of 20 Text xticklabel objects>)"
       ]
      },
      {
       "metadata": {},
       "output_type": "display_data",
       "png": "[encoded data removed]",
       "text": [
        "<matplotlib.figure.Figure at 0x121f3cf10>"
       ]
      }
     ],
     "prompt_number": 660
    },
    {
     "cell_type": "code",
     "collapsed": false,
     "input": [
      "#DREAM REPORTS\n",
      "#put in order of appearance - sort\n",
      "dream_words_to_counts_list = []\n",
      "for key, value in dream_emotions_dictionary.iteritems():\n",
      "    dream_words_to_counts_list.append([key, sum(value)])\n",
      "    \n",
      "def get_key(item):\n",
      "    return item[1]\n",
      "\n",
      "sorted_dream_words_to_counts = sorted(dream_words_to_counts_list, key=get_key, reverse=True)"
     ],
     "language": "python",
     "metadata": {},
     "outputs": [],
     "prompt_number": 736
    },
    {
     "cell_type": "code",
     "collapsed": false,
     "input": [
      "sorted_dream_words_to_counts[:30], len(sorted_dream_words_to_counts)\n",
      "#WOULD BE GOOD TO PLOT THIS"
     ],
     "language": "python",
     "metadata": {},
     "outputs": [
      {
       "metadata": {},
       "output_type": "pyout",
       "prompt_number": 737,
       "text": [
        "([[u'mad', 55],\n",
        "  [u'scared', 35],\n",
        "  [u'confused', 26],\n",
        "  [u'excited', 25],\n",
        "  [u'happy', 24],\n",
        "  [u'upset', 22],\n",
        "  [u'angry', 17],\n",
        "  [u'sad', 16],\n",
        "  [u'nervous', 15],\n",
        "  [u'frustrated', 15],\n",
        "  [u'yelling', 14],\n",
        "  [u'anxious', 13],\n",
        "  [u'hurt', 12],\n",
        "  [u'stressed', 12],\n",
        "  [u'worried', 11],\n",
        "  [u'laughing', 11],\n",
        "  [u'embarrassed', 10],\n",
        "  [u'screaming', 9],\n",
        "  [u'annoyed', 8],\n",
        "  [u'irritated', 7],\n",
        "  [u'guilty', 7],\n",
        "  [u'afraid', 7],\n",
        "  [u'crying', 7],\n",
        "  [u'disappointed', 7],\n",
        "  [u'uncomfortable', 6],\n",
        "  [u'glad', 6],\n",
        "  [u'crazy', 6],\n",
        "  [u'rude', 6],\n",
        "  [u'wrong', 6],\n",
        "  [u'shocked', 6]],\n",
        " 553)"
       ]
      }
     ],
     "prompt_number": 737
    },
    {
     "cell_type": "code",
     "collapsed": false,
     "input": [
      "#WAKING REPORTS\n",
      "#put in order of appearance - sort\n",
      "waking_words_to_counts_list = []\n",
      "for key, value in waking_emotions_dictionary.iteritems():\n",
      "    waking_words_to_counts_list.append([key, sum(value)])\n",
      "    \n",
      "def get_key(item):\n",
      "    return item[1]\n",
      "\n",
      "sorted_waking_words_to_counts = sorted(waking_words_to_counts_list, key=get_key, reverse=True)"
     ],
     "language": "python",
     "metadata": {},
     "outputs": [],
     "prompt_number": 738
    },
    {
     "cell_type": "code",
     "collapsed": false,
     "input": [
      "sorted_waking_words_to_counts[:30], len(sorted_waking_words_to_counts)\n",
      "#WOULD BE GOOD TO PLOT THIS"
     ],
     "language": "python",
     "metadata": {},
     "outputs": [
      {
       "metadata": {},
       "output_type": "pyout",
       "prompt_number": 739,
       "text": [
        "([[u'mad', 64],\n",
        "  [u'happy', 45],\n",
        "  [u'excited', 38],\n",
        "  [u'stressed', 29],\n",
        "  [u'relaxed', 26],\n",
        "  [u'anxious', 23],\n",
        "  [u'annoyed', 21],\n",
        "  [u'frustrated', 21],\n",
        "  [u'sad', 20],\n",
        "  [u'bored', 15],\n",
        "  [u'distracted', 14],\n",
        "  [u'hurt', 13],\n",
        "  [u'tense', 13],\n",
        "  [u'nervous', 11],\n",
        "  [u'angry', 10],\n",
        "  [u'worried', 9],\n",
        "  [u'pleasant', 9],\n",
        "  [u'laughing', 9],\n",
        "  [u'upset', 8],\n",
        "  [u'overwhelmed', 8],\n",
        "  [u'glad', 7],\n",
        "  [u'crazy', 7],\n",
        "  [u'agitated', 7],\n",
        "  [u'scared', 7],\n",
        "  [u'irritated', 6],\n",
        "  [u'guilty', 6],\n",
        "  [u'jealous', 6],\n",
        "  [u'disappointed', 6],\n",
        "  [u'intense', 6],\n",
        "  [u'elated', 5]],\n",
        " 553)"
       ]
      }
     ],
     "prompt_number": 739
    },
    {
     "cell_type": "code",
     "collapsed": false,
     "input": [
      "#plan:\n",
      "    #plot the difference between dreams and waking\n",
      "    #plot difference in percentage between dreams and waking. or irmak's suggestion: ratio\n",
      "    #ratio: count of that emotion in dreams + 10 / count of that emotion in real-life experiences + 10\n",
      "    #i.e., percent that dream emotion accounts for all dream emotions and same for waking. think about what's better.\n",
      "    \n",
      "    #use shaver's list of emotions. get all version and then code with that as emotion list. and boid down to 25 emotions.\n",
      "        \n",
      "    #look at which regular words are associated with which emotions. \n",
      "    #get all dreams with fear vs all dreams without fear. then compare all words \n",
      "    #and see which ones are more common among fear reports than non-fear reports?\n",
      "    #could i do this with tf-idf? create two clusters or strings of words, one with fear and one without\n",
      "    #then compute tf-idf. and then get highest words for fear? not convinced tf-idf words that well so \n",
      "    #try other approach first."
     ],
     "language": "python",
     "metadata": {},
     "outputs": [],
     "prompt_number": 696
    },
    {
     "cell_type": "markdown",
     "metadata": {},
     "source": [
      "##Plot the ratio/difference between dreams and waking"
     ]
    },
    {
     "cell_type": "code",
     "collapsed": false,
     "input": [
      "#sort/alphabetize both (dream and waking) words to counts. \n",
      "#then can compute ratio between with i"
     ],
     "language": "python",
     "metadata": {},
     "outputs": [],
     "prompt_number": 697
    },
    {
     "cell_type": "code",
     "collapsed": false,
     "input": [
      "#DREAM REPORTS - SORT BY EMOTION\n",
      "dream_words_to_counts_list = []\n",
      "for key, value in dream_emotions_dictionary.iteritems():\n",
      "    dream_words_to_counts_list.append([key, sum(value)])\n",
      "    \n",
      "def get_key(item):\n",
      "    return item[0]\n",
      "\n",
      "sorted_emotions_dream_words_to_counts = sorted(dream_words_to_counts_list, key=get_key)"
     ],
     "language": "python",
     "metadata": {},
     "outputs": [],
     "prompt_number": 740
    },
    {
     "cell_type": "code",
     "collapsed": false,
     "input": [
      "sorted_emotions_dream_words_to_counts[:5]"
     ],
     "language": "python",
     "metadata": {},
     "outputs": [
      {
       "metadata": {},
       "output_type": "pyout",
       "prompt_number": 741,
       "text": [
        "[[u'abashed', 0],\n",
        " [u'abused', 0],\n",
        " [u'aching', 5],\n",
        " [u'achy', 0],\n",
        " [u'admiring', 0]]"
       ]
      }
     ],
     "prompt_number": 741
    },
    {
     "cell_type": "code",
     "collapsed": false,
     "input": [
      "#WAKE REPORTS - SORT BY EMOTION\n",
      "waking_words_to_counts_list = []\n",
      "for key, value in waking_emotions_dictionary.iteritems():\n",
      "    waking_words_to_counts_list.append([key, sum(value)])\n",
      "    \n",
      "def get_key(item):\n",
      "    return item[0]\n",
      "\n",
      "sorted_emotions_waking_words_to_counts = sorted(waking_words_to_counts_list, key=get_key)"
     ],
     "language": "python",
     "metadata": {},
     "outputs": [],
     "prompt_number": 742
    },
    {
     "cell_type": "code",
     "collapsed": false,
     "input": [
      "sorted_emotions_waking_words_to_counts[:5]"
     ],
     "language": "python",
     "metadata": {},
     "outputs": [
      {
       "metadata": {},
       "output_type": "pyout",
       "prompt_number": 743,
       "text": [
        "[[u'abashed', 0],\n",
        " [u'abused', 0],\n",
        " [u'aching', 4],\n",
        " [u'achy', 0],\n",
        " [u'admiring', 0]]"
       ]
      }
     ],
     "prompt_number": 743
    },
    {
     "cell_type": "code",
     "collapsed": false,
     "input": [
      "#to compute ratio of emotions in dream reports over waking reports\n",
      "emotions_ratio_list = [] \n",
      "for i in range(len(sorted_emotions_waking_words_to_counts)):\n",
      "    emotion = sorted_emotions_waking_words_to_counts[i][0]\n",
      "    ratio = float((sorted_emotions_dream_words_to_counts[i][1] + 10)) / float((sorted_emotions_waking_words_to_counts[i][1] + 10))\n",
      "    emotions_ratio_list.append([emotion, ratio])"
     ],
     "language": "python",
     "metadata": {},
     "outputs": [],
     "prompt_number": 744
    },
    {
     "cell_type": "code",
     "collapsed": false,
     "input": [
      "emotions_ratio_list[:5]"
     ],
     "language": "python",
     "metadata": {},
     "outputs": [
      {
       "metadata": {},
       "output_type": "pyout",
       "prompt_number": 745,
       "text": [
        "[[u'abashed', 1.0],\n",
        " [u'abused', 1.0],\n",
        " [u'aching', 1.0714285714285714],\n",
        " [u'achy', 1.0],\n",
        " [u'admiring', 1.0]]"
       ]
      }
     ],
     "prompt_number": 745
    },
    {
     "cell_type": "code",
     "collapsed": false,
     "input": [
      "#sorted by ratio\n",
      "def get_key(item):\n",
      "    return item[1]\n",
      "\n",
      "sorted_emotion_ratios = sorted(emotions_ratio_list, key=get_key, reverse=True)"
     ],
     "language": "python",
     "metadata": {},
     "outputs": [],
     "prompt_number": 746
    },
    {
     "cell_type": "code",
     "collapsed": false,
     "input": [
      "for word_ratio in sorted_emotion_ratios[:20]:\n",
      "    print word_ratio[0], round(word_ratio[1], 2)"
     ],
     "language": "python",
     "metadata": {},
     "outputs": [
      {
       "output_type": "stream",
       "stream": "stdout",
       "text": [
        "scared 2.65\n",
        "confused 2.4\n",
        "upset 1.78\n",
        "screaming 1.73\n",
        "crying 1.7\n",
        "yelling 1.6\n",
        "embarrassed 1.54\n",
        "awful 1.4\n",
        "terrified 1.4\n",
        "uneasy 1.4\n",
        "angry 1.35\n",
        "rude 1.33\n",
        "shocked 1.33\n",
        "uncomfortable 1.33\n",
        "afraid 1.31\n",
        "frightened 1.3\n",
        "furious 1.3\n",
        "helpless 1.3\n",
        "stern 1.3\n",
        "interested 1.27\n"
       ]
      }
     ],
     "prompt_number": 747
    },
    {
     "cell_type": "code",
     "collapsed": false,
     "input": [
      "for word_ratio in sorted_emotion_ratios[-20:]:\n",
      "    print word_ratio[0], round(word_ratio[1], 2)"
     ],
     "language": "python",
     "metadata": {},
     "outputs": [
      {
       "output_type": "stream",
       "stream": "stdout",
       "text": [
        "useless 0.83\n",
        "frustrated 0.81\n",
        "aggravated 0.77\n",
        "ailing 0.77\n",
        "pleased 0.77\n",
        "excited 0.73\n",
        "serious 0.71\n",
        "agitated 0.71\n",
        "anxious 0.7\n",
        "intense 0.69\n",
        "weak 0.67\n",
        "happy 0.62\n",
        "overwhelmed 0.61\n",
        "bored 0.6\n",
        "annoyed 0.58\n",
        "pleasant 0.58\n",
        "stressed 0.56\n",
        "distracted 0.54\n",
        "tense 0.48\n",
        "relaxed 0.33\n"
       ]
      }
     ],
     "prompt_number": 748
    },
    {
     "cell_type": "code",
     "collapsed": false,
     "input": [
      "X = [word[0] for word in sorted_emotion_ratios[:20]]"
     ],
     "language": "python",
     "metadata": {},
     "outputs": [],
     "prompt_number": 749
    },
    {
     "cell_type": "code",
     "collapsed": false,
     "input": [
      "Y = [freq[1] for freq in sorted_emotion_ratios[:20]]"
     ],
     "language": "python",
     "metadata": {},
     "outputs": [],
     "prompt_number": 750
    },
    {
     "cell_type": "code",
     "collapsed": false,
     "input": [
      "sns.set(style=\"white\", context=\"talk\")\n",
      "f, (ax1) = plt.subplots(1, 1, figsize=(12, 10))\n",
      "\n",
      "sns.barplot(x=np.array(range(len(X))), y=np.array(Y), palette=\"BuGn_d\", ax=ax1)\n",
      "ax1.set_ylabel(\"Emotions in dream relative to waking reports\", fontsize=20)\n",
      "plt.xticks(np.array(range(len(X))), np.array(X), rotation=75, fontsize=15)\n",
      "plt.ylim(1, 3)"
     ],
     "language": "python",
     "metadata": {},
     "outputs": [
      {
       "metadata": {},
       "output_type": "pyout",
       "prompt_number": 751,
       "text": [
        "(1, 3)"
       ]
      },
      {
       "metadata": {},
       "output_type": "display_data",
       "png": "[encoded data removed]",
       "text": [
        "<matplotlib.figure.Figure at 0x117ecd3d0>"
       ]
      }
     ],
     "prompt_number": 751
    },
    {
     "cell_type": "code",
     "collapsed": false,
     "input": [
      "sns.barplot(x = np.array(range(len(X))), y = np.array(Y))\n",
      "plt.xticks(rotation=75)\n",
      "plt.xticks(np.array(range(len(X))), np.array(X), rotation=75, fontsize=15)\n",
      "plt.ylim(1, 3)\n",
      "plt.ylabel(\"Emotions in dream relative to waking reports\", fontsize=15)"
     ],
     "language": "python",
     "metadata": {},
     "outputs": [
      {
       "metadata": {},
       "output_type": "pyout",
       "prompt_number": 752,
       "text": [
        "<matplotlib.text.Text at 0x11899b8d0>"
       ]
      },
      {
       "metadata": {},
       "output_type": "display_data",
       "png": "[encoded data removed]",
       "text": [
        "<matplotlib.figure.Figure at 0x117e71fd0>"
       ]
      }
     ],
     "prompt_number": 752
    },
    {
     "cell_type": "code",
     "collapsed": false,
     "input": [],
     "language": "python",
     "metadata": {},
     "outputs": [],
     "prompt_number": 752
    },
    {
     "cell_type": "code",
     "collapsed": false,
     "input": [
      "#to compute ratio of emotions in waking reports over dream reports\n",
      "emotions_waking_ratio_list = [] \n",
      "for i in range(len(sorted_emotions_waking_words_to_counts)):\n",
      "    emotion = sorted_emotions_waking_words_to_counts[i][0]\n",
      "    ratio = float((sorted_emotions_waking_words_to_counts[i][1] + 10)) / float((sorted_emotions_dream_words_to_counts[i][1] + 10))\n",
      "    emotions_waking_ratio_list.append([emotion, ratio])"
     ],
     "language": "python",
     "metadata": {},
     "outputs": [],
     "prompt_number": 753
    },
    {
     "cell_type": "code",
     "collapsed": false,
     "input": [
      "sorted_emotion_waking_ratios = sorted(emotions_waking_ratio_list, key=get_key, reverse=True)"
     ],
     "language": "python",
     "metadata": {},
     "outputs": [],
     "prompt_number": 754
    },
    {
     "cell_type": "code",
     "collapsed": false,
     "input": [
      "sorted_emotion_waking_ratios[:10]"
     ],
     "language": "python",
     "metadata": {},
     "outputs": [
      {
       "metadata": {},
       "output_type": "pyout",
       "prompt_number": 755,
       "text": [
        "[[u'relaxed', 3.0],\n",
        " [u'tense', 2.090909090909091],\n",
        " [u'distracted', 1.8461538461538463],\n",
        " [u'stressed', 1.7727272727272727],\n",
        " [u'pleasant', 1.7272727272727273],\n",
        " [u'annoyed', 1.7222222222222223],\n",
        " [u'bored', 1.6666666666666667],\n",
        " [u'overwhelmed', 1.6363636363636365],\n",
        " [u'happy', 1.6176470588235294],\n",
        " [u'weak', 1.5]]"
       ]
      }
     ],
     "prompt_number": 755
    },
    {
     "cell_type": "code",
     "collapsed": false,
     "input": [
      "X_wake = [word[0] for word in sorted_emotion_waking_ratios[:20]]"
     ],
     "language": "python",
     "metadata": {},
     "outputs": [],
     "prompt_number": 756
    },
    {
     "cell_type": "code",
     "collapsed": false,
     "input": [
      "Y_wake = [word[1] for word in sorted_emotion_waking_ratios[:20]]"
     ],
     "language": "python",
     "metadata": {},
     "outputs": [],
     "prompt_number": 757
    },
    {
     "cell_type": "code",
     "collapsed": false,
     "input": [
      "sns.barplot(x = np.array(range(len(X_wake))), y = np.array(Y_wake))\n",
      "plt.xticks(rotation=75)\n",
      "plt.xticks(np.array(range(len(X_wake))), np.array(X_wake), rotation=75, fontsize=15)\n",
      "plt.ylim(1, 3.1)\n",
      "plt.ylabel(\"Emotions in waking reports relative to dream\", fontsize=15)\n",
      "\n",
      "#EXCLUDE 'TIRED' FROM EXCEL"
     ],
     "language": "python",
     "metadata": {},
     "outputs": [
      {
       "metadata": {},
       "output_type": "pyout",
       "prompt_number": 758,
       "text": [
        "<matplotlib.text.Text at 0x11a674850>"
       ]
      },
      {
       "metadata": {},
       "output_type": "display_data",
       "png": "[encoded data removed]",
       "text": [
        "<matplotlib.figure.Figure at 0x119b07450>"
       ]
      }
     ],
     "prompt_number": 758
    },
    {
     "cell_type": "code",
     "collapsed": false,
     "input": [
      "#PLAN:\n",
      "    #CUT ATTACHED FROM REGULAR EMOTION LIST AND RE-RUN\n",
      "    #DO FEWER EMOTION CATEGORIES, I.E., DEALY PUT SIMILAR EMOTIONS UNDER SAME UMRELLA TERMS. "
     ],
     "language": "python",
     "metadata": {},
     "outputs": []
    },
    {
     "cell_type": "code",
     "collapsed": false,
     "input": [],
     "language": "python",
     "metadata": {},
     "outputs": []
    },
    {
     "cell_type": "code",
     "collapsed": false,
     "input": [
      "df_dreams = pd.DataFrame(dream_emotions_dictionary)"
     ],
     "language": "python",
     "metadata": {},
     "outputs": [],
     "prompt_number": 219
    },
    {
     "cell_type": "markdown",
     "metadata": {},
     "source": [
      "##Get and clean Shaver emotion words"
     ]
    },
    {
     "cell_type": "code",
     "collapsed": false,
     "input": [
      "df_emotions_shaver = pd.read_excel('shaver_emotions_3.xlsx')\n",
      "df_emotions_shaver.describe()"
     ],
     "language": "python",
     "metadata": {},
     "outputs": [
      {
       "html": [
        "<div style=\"max-height:1000px;max-width:1500px;overflow:auto;\">\n",
        "<table border=\"1\" class=\"dataframe\">\n",
        "  <thead>\n",
        "    <tr style=\"text-align: right;\">\n",
        "      <th></th>\n",
        "      <th>Lust</th>\n",
        "    </tr>\n",
        "  </thead>\n",
        "  <tbody>\n",
        "    <tr>\n",
        "      <th>count</th>\n",
        "      <td>    239</td>\n",
        "    </tr>\n",
        "    <tr>\n",
        "      <th>unique</th>\n",
        "      <td>    228</td>\n",
        "    </tr>\n",
        "    <tr>\n",
        "      <th>top</th>\n",
        "      <td> joyous</td>\n",
        "    </tr>\n",
        "    <tr>\n",
        "      <th>freq</th>\n",
        "      <td>      2</td>\n",
        "    </tr>\n",
        "  </tbody>\n",
        "</table>\n",
        "</div>"
       ],
       "metadata": {},
       "output_type": "pyout",
       "prompt_number": 759,
       "text": [
        "          Lust\n",
        "count      239\n",
        "unique     228\n",
        "top     joyous\n",
        "freq         2"
       ]
      }
     ],
     "prompt_number": 759
    },
    {
     "cell_type": "code",
     "collapsed": false,
     "input": [
      "emotion_words_shaver = df_emotions_shaver.values\n",
      "emotion_words_shaver_2 = [word[0] for word in emotion_words_shaver]\n",
      "sorted_shaver_emotion_words = list(sorted(emotion_words_shaver_2))\n",
      "sorted_shaver_emotion_words.pop(0)\n",
      "shaver_emotion_words_lower = [word.lower() for word in sorted_shaver_emotion_words]\n",
      "shaver_emotion_words_set = set(shaver_emotion_words_lower)\n",
      "sorted_shaver_emotion_words_2 = sorted(list(shaver_emotion_words_set))\n",
      "shaver_emotion_words_clean = sorted_shaver_emotion_words_2\n",
      "shaver_emotion_words_clean[:5], len(shaver_emotion_words_clean) "
     ],
     "language": "python",
     "metadata": {},
     "outputs": [
      {
       "metadata": {},
       "output_type": "pyout",
       "prompt_number": 760,
       "text": [
        "([u'adore', u'affection', u'aggravated', u'aggravation', u'agitated'], 210)"
       ]
      }
     ],
     "prompt_number": 760
    },
    {
     "cell_type": "code",
     "collapsed": false,
     "input": [
      "shaver_emotion_words_clean[:10]"
     ],
     "language": "python",
     "metadata": {},
     "outputs": [
      {
       "metadata": {},
       "output_type": "pyout",
       "prompt_number": 761,
       "text": [
        "[u'adore',\n",
        " u'affection',\n",
        " u'aggravated',\n",
        " u'aggravation',\n",
        " u'agitated',\n",
        " u'agitation',\n",
        " u'agonizing',\n",
        " u'agony',\n",
        " u'alarm',\n",
        " u'alienated']"
       ]
      }
     ],
     "prompt_number": 761
    },
    {
     "cell_type": "code",
     "collapsed": false,
     "input": [
      "#simplity to ~25 basic emotions\n",
      "#(and maybe can do again for 7 basic emotions (or some other small set)? - skip for now)"
     ],
     "language": "python",
     "metadata": {},
     "outputs": []
    },
    {
     "cell_type": "code",
     "collapsed": false,
     "input": [
      "emotions_hierarchy_dict = {'affection': ['adoration', 'adore', 'affection', 'affectionate', 'loving', 'love', 'fondness', 'fond', 'attraction', 'attracted', 'caring', 'tenderness', 'tender', 'compassion', 'compassionate', 'sentimentality', 'sentimental'],\n",
      "                           'lust': ['arousal', 'aroused', 'lust', 'lusting', 'passion', 'passionate', 'infatuation', 'infatuated'],\n",
      "                           'longing': ['longing'],\n",
      "                           'cheerfulness': ['amusement', 'amused', 'bliss', 'blissful', 'cheerfulness', 'cheerful', 'gaiety', 'jolliness', 'jolly', 'joviality', 'jovial', 'joy', 'joyful', 'joyous', 'delight', 'delightful', 'enjoyment', 'enjoy', 'enjoying', 'gladness', 'glad', 'happiness', 'happy', 'jubilation', 'elation', 'elated', 'satisfaction', 'satisfied', 'ecstasy', 'ecstatic', 'euphoria', 'euphoric'],\n",
      "                           'zest': ['enthusiasm', 'enthusiastic', 'zeal', 'zest', 'excitement', 'excited', 'thrill', 'thrilled', 'thrilling', 'exhilaration', 'exhilarated'],\n",
      "                           'contentment': ['contentment', 'contented', 'content', 'pleasure'],\n",
      "                           'pride': ['pride', 'proud', 'triumph', 'triumphant'],\n",
      "                           'optimism': ['eager', 'eagerness', 'hope', 'hopeful', 'optimism', 'optimistic'],\n",
      "                           'enthrallment': ['enthrallment', 'enthralled', 'enraptured', 'rapture'],\n",
      "                           'relief': ['relief'],\n",
      "                           'surprise': ['amazement', 'amazed', 'surprise', 'surprising', 'surprised', 'astonishment', 'astonished', 'astonish', 'astonishing'],\n",
      "                           'irritation': ['aggravation', 'aggravated', 'aggravating', 'aggravate', 'irritation', 'irritated', 'irritate', 'irritating', 'agitation', 'agitated', 'agitating', 'agitate', 'annoyance', 'annoy', 'annoying', 'annoyed', 'grouchiness', 'grouchy', 'grumpiness', 'grumpy'],\n",
      "                           'exasperation': ['exasperation','exasperated', 'exasperating', 'frustration', 'frustrated', 'frustrate', 'frustrating'],\n",
      "                           'rage': ['anger', 'angered', 'angry', 'rage', 'raging', 'enraged', 'outrage', 'outraged', 'fury', 'furious', 'wrath', 'hostility', 'hostile', 'ferocity', 'ferocious', 'bitterness', 'bitter', 'hate', 'hating', 'loathing', 'loathsome', 'scorn', 'scornful', 'spite', 'spiteful', 'vengefulness', 'vengeful', 'dislike', 'resentment', 'resentful', 'resenting'],\n",
      "                           'disgust': ['disgust', 'disgusted', 'disgusting', 'revulsion', 'revulting', 'revulted', 'contempt', 'contemptful'],\n",
      "                           'envy': ['envy', 'envious', 'envying', 'jealousy', 'jealous'],\n",
      "                           'torment': ['torment', 'tormented', 'tormenting'],\n",
      "                           'suffering': ['agony', 'agonizing', 'suffering', 'suffer', 'suffered', 'hurt', 'hurtng', 'anguish', 'anguished'],\n",
      "                           'sadness': ['depression', 'depressed', 'depressing', 'despair', 'despairing', 'hopelessness', 'hopeless', 'gloom', 'gloomy', 'gloominess', 'glumness', 'glum', 'sadness', 'sad', 'saddened', 'unhappiness', 'unhappy', 'grief', 'sorrow', 'woe', 'misery', 'melancholy', 'melancholic'],\n",
      "                           'disappointment': ['dismay', 'dismayed', 'disappointment', 'disappointing', 'disappointed', 'displeasure'],\n",
      "                           'shame': ['guilt', 'guilty', 'shame', 'shamed', 'shaming', 'shameful', 'regret', 'regretted', 'regretting', 'remorse', 'remorseful'],\n",
      "                           'neglect': ['alienation', 'alienated', 'alientating', 'isolation', 'isolated', 'neglect', 'neglected', 'loneliness', 'lonely', 'rejection', 'rejected', 'rejecting', 'homesickness', 'homesick', 'defeat', 'defeated', 'dejection', 'dejected', 'insecurity', 'insecure', 'embarrassment', 'embarrassed', 'embarrassing', 'humiliation', 'humiliated', 'humiliate', 'insult', 'insulting', 'insulted'],\n",
      "                           'sympathy': ['pity', 'sympathy', 'sympathize', 'sympathizing'],\n",
      "                           'horror': ['alarming', 'alarmed', 'shock', 'shocking', 'shocked', 'fear', 'fearful', 'afraid', 'fearing', 'fright', 'frightened', 'horror', 'horrified', 'terror', 'terrified', 'panic', 'panicky', 'panicked', 'hysteria', 'mortification', 'mortified', 'scared', 'scare', 'scary'],\n",
      "                           'nervousness': ['anxiety', 'anxious', 'nervousness', 'nervous', 'tenseness', 'tense', 'uneasiness', 'uneasy', 'apprehension', 'apprehensive',  'worry', 'worried', 'distress', 'distressing', 'distressed', 'dread', 'dreading']}"
     ],
     "language": "python",
     "metadata": {},
     "outputs": [],
     "prompt_number": 717
    },
    {
     "cell_type": "code",
     "collapsed": false,
     "input": [
      "len(emotions_hierarchy_dict)"
     ],
     "language": "python",
     "metadata": {},
     "outputs": [
      {
       "metadata": {},
       "output_type": "pyout",
       "prompt_number": 763,
       "text": [
        "25"
       ]
      }
     ],
     "prompt_number": 763
    },
    {
     "cell_type": "code",
     "collapsed": false,
     "input": [
      "#replace all values with their key in emotions_hierarchy_dict. waking\n",
      "waking_corpus_replaced_emotions = []\n",
      "for waking_report in waking_corpus_spell_correct:   \n",
      "    for key in emotions_hierarchy_dict.keys():\n",
      "        for word in emotions_hierarchy_dict[key]:\n",
      "            waking_report = waking_report.replace(word, key)\n",
      "            \n",
      "    waking_corpus_replaced_emotions.append(waking_report)"
     ],
     "language": "python",
     "metadata": {},
     "outputs": [],
     "prompt_number": 777
    },
    {
     "cell_type": "code",
     "collapsed": false,
     "input": [
      "len(waking_corpus_replaced_emotions)\n",
      "#waking_corpus_replaced_emotions[:5]"
     ],
     "language": "python",
     "metadata": {},
     "outputs": [
      {
       "metadata": {},
       "output_type": "pyout",
       "prompt_number": 782,
       "text": [
        "343"
       ]
      }
     ],
     "prompt_number": 782
    },
    {
     "cell_type": "code",
     "collapsed": false,
     "input": [
      "#replace all values with their key in emotions_hierarchy_dict. dreams\n",
      "dream_corpus_replaced_emotions = []\n",
      "for dream_report in dream_corpus_spell_correct:   \n",
      "    for key in emotions_hierarchy_dict.keys():\n",
      "        for word in emotions_hierarchy_dict[key]:\n",
      "            dream_report = dream_report.replace(word, key)\n",
      "            \n",
      "    dream_corpus_replaced_emotions.append(dream_report)"
     ],
     "language": "python",
     "metadata": {},
     "outputs": [],
     "prompt_number": 783
    },
    {
     "cell_type": "code",
     "collapsed": false,
     "input": [
      "len(dream_corpus_replaced_emotions)"
     ],
     "language": "python",
     "metadata": {},
     "outputs": [
      {
       "metadata": {},
       "output_type": "pyout",
       "prompt_number": 784,
       "text": [
        "337"
       ]
      }
     ],
     "prompt_number": 784
    },
    {
     "cell_type": "code",
     "collapsed": false,
     "input": [
      "#create dict where shaver emotion category is the key and the values are whether absent or present in each report (dream or waking)\n",
      "waking_shaver_emotions_dictionary = defaultdict(list)\n",
      "for waking_report in waking_corpus_replaced_emotions:   \n",
      "    for emotion in emotions_hierarchy_dict.keys():\n",
      "        if emotion in waking_report:\n",
      "            waking_shaver_emotions_dictionary[emotion].append(1)\n",
      "        else:\n",
      "            waking_shaver_emotions_dictionary[emotion].append(0)"
     ],
     "language": "python",
     "metadata": {},
     "outputs": [],
     "prompt_number": 785
    },
    {
     "cell_type": "code",
     "collapsed": false,
     "input": [
      "len(waking_shaver_emotions_dictionary['nervousness'])"
     ],
     "language": "python",
     "metadata": {},
     "outputs": [
      {
       "metadata": {},
       "output_type": "pyout",
       "prompt_number": 789,
       "text": [
        "343"
       ]
      }
     ],
     "prompt_number": 789
    },
    {
     "cell_type": "code",
     "collapsed": false,
     "input": [
      "#create dict where shaver emotion category is the key and the values are whether absent or present in each report (dream or waking)\n",
      "dream_shaver_emotions_dictionary = defaultdict(list)\n",
      "for dream_report in dream_corpus_replaced_emotions:   \n",
      "    for emotion in emotions_hierarchy_dict.keys():\n",
      "        if emotion in dream_report:\n",
      "            dream_shaver_emotions_dictionary[emotion].append(1)\n",
      "        else:\n",
      "            dream_shaver_emotions_dictionary[emotion].append(0)"
     ],
     "language": "python",
     "metadata": {},
     "outputs": [],
     "prompt_number": 790
    },
    {
     "cell_type": "code",
     "collapsed": false,
     "input": [
      "len(dream_shaver_emotions_dictionary['nervousness'])"
     ],
     "language": "python",
     "metadata": {},
     "outputs": [
      {
       "metadata": {},
       "output_type": "pyout",
       "prompt_number": 791,
       "text": [
        "337"
       ]
      }
     ],
     "prompt_number": 791
    },
    {
     "cell_type": "code",
     "collapsed": false,
     "input": [
      "#DREAM REPORTS\n",
      "#put in order of appearance - sort\n",
      "def sort_emotion_presence_dict(dictionary):\n",
      "    \"\"\"takes dictoinary with each emotion and how many docs it appears in (from a corpus) and sorts the emotions\n",
      "    from most to least frequent\"\"\"\n",
      "    \n",
      "    words_to_counts_list = []\n",
      "    for key, value in dictionary.iteritems():\n",
      "        words_to_counts_list.append([key, sum(value)])\n",
      "\n",
      "    def get_key(item):\n",
      "        return item[1]\n",
      "\n",
      "    sorted_words_to_counts = sorted(words_to_counts_list, key=get_key, reverse=True)\n",
      "    return sorted_words_to_counts"
     ],
     "language": "python",
     "metadata": {},
     "outputs": [],
     "prompt_number": 794
    },
    {
     "cell_type": "code",
     "collapsed": false,
     "input": [
      "sorted_waking_emotion_counts = sort_emotion_presence_dict(waking_shaver_emotions_dictionary)\n",
      "sorted_dream_emotion_counts = sort_emotion_presence_dict(dream_shaver_emotions_dictionary)\n",
      "#plot both of these before look at ratios"
     ],
     "language": "python",
     "metadata": {},
     "outputs": [],
     "prompt_number": 795
    },
    {
     "cell_type": "code",
     "collapsed": false,
     "input": [
      "sorted_waking_emotion_counts[:5]"
     ],
     "language": "python",
     "metadata": {},
     "outputs": [
      {
       "metadata": {},
       "output_type": "pyout",
       "prompt_number": 799,
       "text": [
        "[['cheerfulness', 82],\n",
        " ['nervousness', 65],\n",
        " ['zest', 45],\n",
        " ['irritation', 44],\n",
        " ['rage', 37]]"
       ]
      }
     ],
     "prompt_number": 799
    },
    {
     "cell_type": "code",
     "collapsed": false,
     "input": [
      "X = [word[0] for word in sorted_dream_emotion_counts]\n",
      "Y = [freq[1] for freq in sorted_dream_emotion_counts]"
     ],
     "language": "python",
     "metadata": {},
     "outputs": [],
     "prompt_number": 801
    },
    {
     "cell_type": "code",
     "collapsed": false,
     "input": [
      "sns.barplot(x = np.array(range(len(X))), y = np.array(Y))\n",
      "plt.xticks(rotation=75)\n",
      "plt.xticks(np.array(range(len(X))), np.array(X), rotation=75, fontsize=15)\n",
      "plt.ylim(0, 65)\n",
      "plt.ylabel(\"Emotions in dreams\", fontsize=15)"
     ],
     "language": "python",
     "metadata": {},
     "outputs": [
      {
       "metadata": {},
       "output_type": "pyout",
       "prompt_number": 808,
       "text": [
        "<matplotlib.text.Text at 0x11c394cd0>"
       ]
      },
      {
       "metadata": {},
       "output_type": "display_data",
       "png": "[encoded data removed]",
       "text": [
        "<matplotlib.figure.Figure at 0x11c5ed390>"
       ]
      }
     ],
     "prompt_number": 808
    },
    {
     "cell_type": "code",
     "collapsed": false,
     "input": [
      "X = [word[0] for word in sorted_waking_emotion_counts]\n",
      "Y = [freq[1] for freq in sorted_waking_emotion_counts]"
     ],
     "language": "python",
     "metadata": {},
     "outputs": [],
     "prompt_number": 809
    },
    {
     "cell_type": "code",
     "collapsed": false,
     "input": [
      "sns.barplot(x = np.array(range(len(X))), y = np.array(Y))\n",
      "plt.xticks(rotation=75)\n",
      "plt.xticks(np.array(range(len(X))), np.array(X), rotation=75, fontsize=15)\n",
      "plt.ylim(0, 85)\n",
      "plt.ylabel(\"Emotions in waking reports\", fontsize=15)"
     ],
     "language": "python",
     "metadata": {},
     "outputs": [
      {
       "metadata": {},
       "output_type": "pyout",
       "prompt_number": 814,
       "text": [
        "<matplotlib.text.Text at 0x123d54a10>"
       ]
      },
      {
       "metadata": {},
       "output_type": "display_data",
       "png": "[encoded data removed]",
       "text": [
        "<matplotlib.figure.Figure at 0x1242d5350>"
       ]
      }
     ],
     "prompt_number": 814
    },
    {
     "cell_type": "code",
     "collapsed": false,
     "input": [
      "#plot ratio using shaver categories"
     ],
     "language": "python",
     "metadata": {},
     "outputs": []
    },
    {
     "cell_type": "code",
     "collapsed": false,
     "input": [
      "#SORT BY EMOTION IN ORDER TO GET RATIO\n",
      "def sort_emotion_counts_alphabetically(dictionary):\n",
      "    \"\"\"Takes dictionary with each emotion and how many docs it appears in (from a corpus) and sorts the emotions\n",
      "    (and corresponding counts) from a to z\"\"\"\n",
      "    dream_words_to_counts_list = []\n",
      "    for key, value in dictionary.iteritems():\n",
      "        dream_words_to_counts_list.append([key, sum(value)])\n",
      "\n",
      "    def get_key(item):\n",
      "        return item[0]\n",
      "\n",
      "    sorted_emotions_dream_words_to_counts = sorted(dream_words_to_counts_list, key=get_key)\n",
      "    return sorted_emotions_dream_words_to_counts"
     ],
     "language": "python",
     "metadata": {},
     "outputs": [],
     "prompt_number": 829
    },
    {
     "cell_type": "code",
     "collapsed": false,
     "input": [
      "waking_emotion_counts_sorted_alphabetically = sort_emotion_counts_alphabetically(waking_shaver_emotions_dictionary)\n",
      "dream_emotion_counts_sorted_alphabetically = sort_emotion_counts_alphabetically(dream_shaver_emotions_dictionary)"
     ],
     "language": "python",
     "metadata": {},
     "outputs": [],
     "prompt_number": 830
    },
    {
     "cell_type": "code",
     "collapsed": false,
     "input": [
      "#sorted by ratio\n",
      "def get_key(item):\n",
      "    return item[1]"
     ],
     "language": "python",
     "metadata": {},
     "outputs": [],
     "prompt_number": 816
    },
    {
     "cell_type": "code",
     "collapsed": false,
     "input": [
      "#to compute ratio of emotions in dream reports over waking reports\n",
      "def get_emotion_ratios(dream_emotion_counts_sorted_alphabetically, waking_emotion_counts_sorted_alphabetically):\n",
      "    \"\"\"Takes list of emotions and their counts sorted alphabetically and computes emotion ratios.\n",
      "    Then sorts these emotion ratios from highest to lowest\"\"\"\n",
      "\n",
      "    emotions_ratio_list = [] \n",
      "    for i in range(len(dream_emotion_counts_sorted_alphabetically)):\n",
      "        emotion = dream_emotion_counts_sorted_alphabetically[i][0]\n",
      "        ratio = float((dream_emotion_counts_sorted_alphabetically[i][1] + 10)) / float((waking_emotion_counts_sorted_alphabetically[i][1] + 10))\n",
      "        emotions_ratio_list.append([emotion, ratio])\n",
      "\n",
      "    sorted_emotion_ratios = sorted(emotions_ratio_list, key=get_key, reverse=True)\n",
      "    return sorted_emotion_ratios"
     ],
     "language": "python",
     "metadata": {},
     "outputs": [],
     "prompt_number": 834
    },
    {
     "cell_type": "code",
     "collapsed": false,
     "input": [
      "dream_to_wake_emotion_ratios = get_emotion_ratios(dream_emotion_counts_sorted_alphabetically, waking_emotion_counts_sorted_alphabetically)"
     ],
     "language": "python",
     "metadata": {},
     "outputs": [],
     "prompt_number": 835
    },
    {
     "cell_type": "code",
     "collapsed": false,
     "input": [
      "X = [word[0] for word in dream_to_wake_emotion_ratios]\n",
      "Y = [freq[1] for freq in dream_to_wake_emotion_ratios]"
     ],
     "language": "python",
     "metadata": {},
     "outputs": [],
     "prompt_number": 838
    },
    {
     "cell_type": "code",
     "collapsed": false,
     "input": [
      "sns.barplot(x = np.array(range(len(X))), y = np.array(Y))\n",
      "plt.xticks(rotation=75)\n",
      "plt.xticks(np.array(range(len(X))), np.array(X), rotation=75, fontsize=15)\n",
      "#plt.ylim(0, 85)\n",
      "plt.ylabel(\"Emotions in dream to real-life events\", fontsize=15)"
     ],
     "language": "python",
     "metadata": {},
     "outputs": [
      {
       "metadata": {},
       "output_type": "pyout",
       "prompt_number": 839,
       "text": [
        "<matplotlib.text.Text at 0x126c17350>"
       ]
      },
      {
       "metadata": {},
       "output_type": "display_data",
       "png": "[encoded data removed]",
       "text": [
        "<matplotlib.figure.Figure at 0x126c88710>"
       ]
      }
     ],
     "prompt_number": 839
    },
    {
     "cell_type": "code",
     "collapsed": false,
     "input": [
      "#boil down one more level to just 6 emotions"
     ],
     "language": "python",
     "metadata": {},
     "outputs": []
    },
    {
     "cell_type": "code",
     "collapsed": false,
     "input": [
      "six_emotions_hierarchy_dict = {'love': ['affection', 'lust', 'longing'], \n",
      "                               'joy': ['cheerfulness', 'zest', 'contentment', 'pride', 'optimism', 'enthrallment', 'relief'],\n",
      "                               'surprise': ['surprise'],\n",
      "                               'anger': ['irritation', 'exasperation', 'rage', 'disgust', 'envy', 'torment'], \n",
      "                               'sadness': ['sadness', 'suffering', 'disappointment', 'shame', 'neglect', 'sympathy'],\n",
      "                               'fear': ['horror', 'nervousness']}"
     ],
     "language": "python",
     "metadata": {},
     "outputs": [],
     "prompt_number": 840
    },
    {
     "cell_type": "code",
     "collapsed": false,
     "input": [
      "#replace all values with their key in emotions_hierarchy_dict. waking\n",
      "waking_corpus_replaced_emotions_six = []\n",
      "for waking_report in waking_corpus_replaced_emotions:   \n",
      "    for key in six_emotions_hierarchy_dict.keys():\n",
      "        for word in six_emotions_hierarchy_dict[key]:\n",
      "            waking_report = waking_report.replace(word, key)\n",
      "            \n",
      "    waking_corpus_replaced_emotions_six.append(waking_report)"
     ],
     "language": "python",
     "metadata": {},
     "outputs": [],
     "prompt_number": 841
    },
    {
     "cell_type": "code",
     "collapsed": false,
     "input": [
      "#replace all values with their key in emotions_hierarchy_dict. dream\n",
      "dream_corpus_replaced_emotions_six = []\n",
      "for dream_report in dream_corpus_replaced_emotions:   \n",
      "    for key in six_emotions_hierarchy_dict.keys():\n",
      "        for word in six_emotions_hierarchy_dict[key]:\n",
      "            dream_report = dream_report.replace(word, key)\n",
      "            \n",
      "    dream_corpus_replaced_emotions_six.append(dream_report)"
     ],
     "language": "python",
     "metadata": {},
     "outputs": [],
     "prompt_number": 843
    },
    {
     "cell_type": "code",
     "collapsed": false,
     "input": [],
     "language": "python",
     "metadata": {},
     "outputs": []
    },
    {
     "cell_type": "code",
     "collapsed": false,
     "input": [
      "#create dict where six emotion category is the key and the values are whether absent or present in each report (dream or waking)\n",
      "waking_six_emotions_dictionary = defaultdict(list)\n",
      "for waking_report in waking_corpus_replaced_emotions_six:   \n",
      "    for emotion in six_emotions_hierarchy_dict.keys():\n",
      "        if emotion in waking_report:\n",
      "            waking_six_emotions_dictionary[emotion].append(1)\n",
      "        else:\n",
      "            waking_six_emotions_dictionary[emotion].append(0)"
     ],
     "language": "python",
     "metadata": {},
     "outputs": [],
     "prompt_number": 844
    },
    {
     "cell_type": "code",
     "collapsed": false,
     "input": [
      "#create dict where six emotion category is the key and the values are whether absent or present in each report (dream or waking)\n",
      "dream_six_emotions_dictionary = defaultdict(list)\n",
      "for dream_report in dream_corpus_replaced_emotions_six:   \n",
      "    for emotion in six_emotions_hierarchy_dict.keys():\n",
      "        if emotion in dream_report:\n",
      "            dream_six_emotions_dictionary[emotion].append(1)\n",
      "        else:\n",
      "            dream_six_emotions_dictionary[emotion].append(0)"
     ],
     "language": "python",
     "metadata": {},
     "outputs": [],
     "prompt_number": 847
    },
    {
     "cell_type": "code",
     "collapsed": false,
     "input": [],
     "language": "python",
     "metadata": {},
     "outputs": []
    },
    {
     "cell_type": "code",
     "collapsed": false,
     "input": [
      "sorted_waking_six_emotion_counts = sort_emotion_presence_dict(waking_six_emotions_dictionary)\n",
      "sorted_dream_six_emotion_counts = sort_emotion_presence_dict(dream_six_emotions_dictionary)\n",
      "#plot both of these before look at ratios"
     ],
     "language": "python",
     "metadata": {},
     "outputs": [],
     "prompt_number": 849
    },
    {
     "cell_type": "code",
     "collapsed": false,
     "input": [
      "X = [word[0] for word in sorted_dream_six_emotion_counts]\n",
      "Y = [freq[1] for freq in sorted_dream_six_emotion_counts]"
     ],
     "language": "python",
     "metadata": {},
     "outputs": [],
     "prompt_number": 850
    },
    {
     "cell_type": "code",
     "collapsed": false,
     "input": [
      "sns.barplot(x = np.array(range(len(X))), y = np.array(Y))\n",
      "plt.xticks(rotation=75)\n",
      "plt.xticks(np.array(range(len(X))), np.array(X), rotation=75, fontsize=15)\n",
      "#plt.ylim(0, 65)\n",
      "plt.ylabel(\"Emotions in dreams\", fontsize=15)"
     ],
     "language": "python",
     "metadata": {},
     "outputs": [
      {
       "metadata": {},
       "output_type": "pyout",
       "prompt_number": 852,
       "text": [
        "<matplotlib.text.Text at 0x127562a50>"
       ]
      },
      {
       "metadata": {},
       "output_type": "display_data",
       "png": "[encoded data removed]",
       "text": [
        "<matplotlib.figure.Figure at 0x127558650>"
       ]
      }
     ],
     "prompt_number": 852
    },
    {
     "cell_type": "code",
     "collapsed": false,
     "input": [
      "X = [word[0] for word in sorted_waking_six_emotion_counts]\n",
      "Y = [freq[1] for freq in sorted_waking_six_emotion_counts]"
     ],
     "language": "python",
     "metadata": {},
     "outputs": []
    },
    {
     "cell_type": "code",
     "collapsed": false,
     "input": [
      "sns.barplot(x = np.array(range(len(X))), y = np.array(Y))\n",
      "plt.xticks(rotation=75)\n",
      "plt.xticks(np.array(range(len(X))), np.array(X), rotation=75, fontsize=15)\n",
      "#plt.ylim(0, 65)\n",
      "plt.ylabel(\"Emotions in waking reports\", fontsize=15)"
     ],
     "language": "python",
     "metadata": {},
     "outputs": [
      {
       "metadata": {},
       "output_type": "pyout",
       "prompt_number": 854,
       "text": [
        "<matplotlib.text.Text at 0x1276e22d0>"
       ]
      },
      {
       "metadata": {},
       "output_type": "display_data",
       "png": "[encoded data removed]",
       "text": [
        "<matplotlib.figure.Figure at 0x1275757d0>"
       ]
      }
     ],
     "prompt_number": 854
    },
    {
     "cell_type": "code",
     "collapsed": false,
     "input": [
      "waking_six_emotion_counts_sorted_alphabetically = sort_emotion_counts_alphabetically(waking_six_emotions_dictionary)\n",
      "dream_six_emotion_counts_sorted_alphabetically = sort_emotion_counts_alphabetically(dream_six_emotions_dictionary)"
     ],
     "language": "python",
     "metadata": {},
     "outputs": [],
     "prompt_number": 855
    },
    {
     "cell_type": "code",
     "collapsed": false,
     "input": [
      "dream_to_wake_six_emotion_ratios = get_emotion_ratios(dream_six_emotion_counts_sorted_alphabetically, waking_six_emotion_counts_sorted_alphabetically)"
     ],
     "language": "python",
     "metadata": {},
     "outputs": [],
     "prompt_number": 856
    },
    {
     "cell_type": "code",
     "collapsed": false,
     "input": [
      "X = [word[0] for word in dream_to_wake_six_emotion_ratios]\n",
      "Y = [freq[1] for freq in dream_to_wake_six_emotion_ratios]"
     ],
     "language": "python",
     "metadata": {},
     "outputs": [],
     "prompt_number": 857
    },
    {
     "cell_type": "code",
     "collapsed": false,
     "input": [
      "sns.barplot(x = np.array(range(len(X))), y = np.array(Y))\n",
      "plt.xticks(rotation=75)\n",
      "plt.xticks(np.array(range(len(X))), np.array(X), rotation=75, fontsize=15)\n",
      "#plt.ylim(0, 65)\n",
      "plt.ylabel(\"Emotions in waking reports\", fontsize=15)"
     ],
     "language": "python",
     "metadata": {},
     "outputs": [
      {
       "metadata": {},
       "output_type": "pyout",
       "prompt_number": 858,
       "text": [
        "<matplotlib.text.Text at 0x1277de3d0>"
       ]
      },
      {
       "metadata": {},
       "output_type": "display_data",
       "png": "[encoded data removed]",
       "text": [
        "<matplotlib.figure.Figure at 0x1277a1ad0>"
       ]
      }
     ],
     "prompt_number": 858
    },
    {
     "cell_type": "code",
     "collapsed": false,
     "input": [
      "#AND get rid of variants on same exact word in first one above (e.g., scare and scared should be the same)"
     ],
     "language": "python",
     "metadata": {},
     "outputs": []
    }
   ],
   "metadata": {}
  }
 ]
}