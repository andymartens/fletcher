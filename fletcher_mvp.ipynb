{
 "metadata": {
  "name": "",
  "signature": "sha256:e5bf5f0127ce779b371a202e9b5d29fb3b68f42d467e4765da1d5b248f4dde15"
 },
 "nbformat": 3,
 "nbformat_minor": 0,
 "worksheets": [
  {
   "cells": [
    {
     "cell_type": "code",
     "collapsed": false,
     "input": [
      "import pymongo\n",
      "import numpy as np\n",
      "from collections import defaultdict\n",
      "import matplotlib.pyplot as plt\n",
      "from textblob import TextBlob\n",
      "from nltk.corpus import stopwords\n",
      "from textblob import Word\n",
      "import pandas as pd\n",
      "import seaborn as sns\n",
      "from nltk.stem.snowball import SnowballStemmer\n",
      "from nltk.stem.snowball import PorterStemmer\n",
      "from nltk.stem import WordNetLemmatizer\n",
      "from nltk.stem.porter import PorterStemmer\n",
      "from nltk.stem.lancaster import LancasterStemmer\n",
      "\n",
      "%matplotlib inline"
     ],
     "language": "python",
     "metadata": {},
     "outputs": [],
     "prompt_number": 56
    },
    {
     "cell_type": "markdown",
     "metadata": {},
     "source": [
      "##Connect to dream-wake dataset"
     ]
    },
    {
     "cell_type": "code",
     "collapsed": false,
     "input": [
      "client = pymongo.MongoClient()  #create a MongoClient to the running mongod instance:\n",
      "db = client.dreams  \n",
      "dream_wake_collection = db.dream_wake "
     ],
     "language": "python",
     "metadata": {},
     "outputs": [],
     "prompt_number": 2
    },
    {
     "cell_type": "markdown",
     "metadata": {},
     "source": [
      "##Get and clean waking reports:"
     ]
    },
    {
     "cell_type": "code",
     "collapsed": false,
     "input": [
      "cursor_wake = dream_wake_collection.find( {'dream_wake': 'Waking'}, {'text':1, '_id':0})\n",
      "cursor_wake.count()"
     ],
     "language": "python",
     "metadata": {},
     "outputs": [
      {
       "metadata": {},
       "output_type": "pyout",
       "prompt_number": 4,
       "text": [
        "370"
       ]
      }
     ],
     "prompt_number": 4
    },
    {
     "cell_type": "code",
     "collapsed": false,
     "input": [
      "waking_corpus = [report['text'] for report in cursor_wake]\n",
      "waking_corpus_clean = [report for report in waking_corpus if len(report) > 150]  \n",
      "len(waking_corpus_clean)"
     ],
     "language": "python",
     "metadata": {},
     "outputs": [
      {
       "metadata": {},
       "output_type": "pyout",
       "prompt_number": 5,
       "text": [
        "354"
       ]
      }
     ],
     "prompt_number": 5
    },
    {
     "cell_type": "code",
     "collapsed": false,
     "input": [
      "# find reports that have similarities to other reports to find duplicates (cant just use 'set' because duplicates are not exact)\n",
      "for i in range(len(waking_corpus_clean)):\n",
      "    remaining_reports = waking_corpus_clean[i+1:]\n",
      "    for remaining_report in remaining_reports:\n",
      "        if waking_corpus_clean[i][10:40] in remaining_report:\n",
      "            print waking_corpus_clean[i], ' index:', i\n",
      "            print"
     ],
     "language": "python",
     "metadata": {},
     "outputs": [
      {
       "output_type": "stream",
       "stream": "stdout",
       "text": [
        "I just got back into my dorm room after doing some studying in the Sobrato computer lab with my boyfriend. Even though it is kind of late I didn\u2019t feel very tired at all. Rather, I was quite awake and planning to complete some more tasks before heading to bed. I just finished snacking on some nachos in the computer lab, and yet I was still a bit hungry when I got to my dorm room. And so, I ate a few peanut M&Ms and fixed myself a bagel with grape jam. I was basically pretty relaxed too, because tomorrow I only have class and lecture and choir rehearsal (no quizzes or exams). Physically, I felt ok but a bit gross too because I feel I had put on a few pounds this quarter. Psychologically, I felt calm and happy in general\u2026I had a relaxing night of just doing some reading for my psychology class, attending the Loyola Tuesday night liturgy for fun for the first time, and had a warm hug and goodbye from my boyfriend when he dropped me off at my suite front door. I was sitting here in my room, not much in my mind, actually (rare for me J), besides what I ought to do next. It is warm in here and the night is peaceful.  index: 0\n",
        "\n",
        "I was sitting in the computer lab upstairs in Benson, reading my chapter for my PSYC 1 class. I remember wondering if I read very slow, because it seems like it takes a long time for me to get through one page. I wondered if it took other people (people in my class or in this college) the same amount of time to do so. I don\u2019t think it\u2019s boring or tedious reading, though\u2026I\u2019m actually very interested in the subject matter. In fact, I would probably read anything psychology in my own time. I thought about a lot of things\u2026I guess a lot of things go through my mind at times. Whenever I enjoy psychology (a recurring thought in my mind is whether or not I should go to graduate school for psychology or go to law school. I\u2019ve been so uncertain about whether I ought to pursue the study of law for a long time now, even since the idea got implanted into me my freshmen year. I know I can be successful as a lawyer, but I\u2019m just not sure if I would be happy. I always find myself in some debate over pride and honor and happiness and passion. I know I can synthesize the two, but for some reason, I still view my life situation as one or the other. Going into law would be the more practical path, because I really really need the larger salary (I will be in great debt after graduation) but I really have no significant interest in law. While reading, I also thought about how fast my interests can change as well, and how I can basically will myself to enjoy law. I mean, once I see some purpose to doing something, I do enjoy it more, or have more motivation towards it. So yeah, a lot of things were going through my mind as I read. I\u2019m not easily distracted but I do find myself having instances where it\u2019s difficult to concentrate. People are coming in and out of the room, and my sick boyfriend coughs every once in a while next to me. He is also a factor in my decision (about law/ graduate school). Every day, in the back of my mind, I worry about what\u2019s going to happen to us. He\u2019s graduating this year and we\u2019re not sure where he\u2019s going to go to law school yet. I want to be near him, but at the same time, I want to independently make decisions on my own self interest. Oh yeah, and physically, I feel very well rested (I got about 9.5 hours of sleep! The most I\u2019ve gotten for\u2026perhaps the past few months!) I\u2019m warm too, and comfortable in my sweats and sneakers. I feel a little self-conscious, though, because I feel like my curly hair is unruly at times and I want to lose a few pounds on my body. Other than that, I feel fine, and am just hoping that I won\u2019t be sick (again) soon! I also was chewing some Orbitz gum, which tastes pretty good J I wasn\u2019t moving very much\u2026just reading, and occasionally shifting how I sat. I wished the chairs up in Benson were more comfortable and less slanted though.  index: 1\n",
        "\n",
        "Before the alarm went off, I was on Facebook looking at people\u2019s profiles for whom I am writing a recommendation. I was pleasantly surprised by one of the girls and by how she presented herself on Facebook. I was having a mixture of feelings \u2013 none of them particularly strong. However, I was feeling slightly anxious because I have to fill out these recommendations for girls I don\u2019t know especially well. I still want to give them a good, accurate eval, but this is harder and more time consuming without knowing them very well. I was also feeling a slight amount of self-imposed pressure and stress as I think about all of the work I need tostart tonight. I keep putting it off for other tasks I need to get done, so my mountains of reading just keep looming I the back of my mind. Despite these slightly anxious feelings however, I also felt comfortable. It\u2019s the weekend now and I\u2019m sitting in my room with nice, relaxing lighting. I felt a slight, fresh breeze coming through my open window, but was also vaguely aware of my warm hoody. I was chewing a piece of mint gum that tasted refreshing. Towards the end of my 15 minutes, I was checking my email. I felt excited and curious as I was logging onto GroupWise, because I never know what new, fun email I may have. The email reminded me of an assignment I have for my storytelling class, and another \u201cto-do\u201d item was added to my mental checklist along with just a small twinge of stress. Throughout this 15 minutes, I was listening to Phoebe Snow on my iPod, making me feel good with her upbeat style.  index: 2\n",
        "\n",
        "I was sitting on my bed, leaning against the wall, relaxed but not lying down and not really sleepy. I felt really frustrated because I was looking through some scholarship paperwork. I was angry about having to deal with all of the stuff and I was telling my roommate about the meeting I had just had about it all. I was totally venting to her and I could tell she wasn\u2019t really listening because she was busy with homework. I sat back and threw the papers on the floor and then just sat there for like 5 minutes. I felt really sad, but I felt really foolish for getting upset over such a trivial issue. My body felt super comfortable, but I was thinking about all that stuff.  index: 10\n",
        "\n",
        "I was studying for a midterm that I have at 11:45. I was pretty focused for the past half hour or so. I feel a little nervous for the test because I am not that prepared. I am also anxious and excited that it\u2019s Friday and to get the test over with.  index: 12\n",
        "\n",
        "I was in a girl\u2019s room on my hall with other people from my hall discussing the previous Saturday night. One of the other guys in the room got up from his seat and proclaimed he was going to sleep and made some awkward comment as he left. We remarked on how he has little social tact and always makes the girls on our hall feel awkward. I saw two girls I know outside, heading back to their dorm. Some of the people in the room yell at the two girls far below. They cannot see who is yelling which is good because someone was screaming obscenities. We disbanded to our separate rooms while I absentmindedly watched Chronicles of Roddick and checked facebook. Thought about the work I had to do in the coming week. A little stressed but still want a lazy Sunday.  index: 17\n",
        "\n",
        "I just finished a final that I had been cramming all night for. I feel really good because the test went well and the work paid off. As I was walking back to my room, my girlfriend called me and I told her the test went really well. She said that she has a ton of work to do but that she just wanted to call me to say hi and that she loves me\u2026we\u2019ll talk later. I was very aware of the abundance of noise from the construction workers. I also noticed that it is a pretty gloomy day. Once I made it back to my room, I cleaned up a few things that were on my desk. Then my roommate came in the room, asked how my final went and I told him it went really well. He looked really tired and it made me laugh. As I was about to start this, I thought about how much better my mood is today and that even though I got way less sleep, I am happier. I began to space out about how that has to do with my performance on my exam and a lot less stressors for the near future.  index: 19\n",
        "\n",
        "I cleaned up my room\u2014folding and putting away laundry. I then brushed teeth flipped the television to see if anything was on\u2014it wasn\u2019t. Washed my face and got into bed.  index: 69\n",
        "\n",
        "I finished my weights but talking to a friend on the phone while watching Conan. I then did 20 push ups, brushed my teeth, washed my face, and went to sleep.  index: 70\n",
        "\n",
        "During the last 15 minutes of my waking experience I was watching a re-run online of the most recent Desperate Housewives I missed last night. This episode was an unusual one for it was jammed pack with happy, scary, and sad events. During this experience I was nervous as the suspense built. Sad when one of the characters died. Scared for one of the characters as her mother-in-law was trying to kill her of set it up to look like a suicide. The end of the episode was a good one because everything that was misunderstood was cleared up and now everything seems to be okay. Nevertheless, it left me anxious to know that something else inevitably will happen. It was a very good suspenseful episode."
       ]
      },
      {
       "output_type": "stream",
       "stream": "stdout",
       "text": [
        "  index: 308\n",
        "\n"
       ]
      }
     ],
     "prompt_number": 6
    },
    {
     "cell_type": "code",
     "collapsed": false,
     "input": [
      "#verify that dreams are indeed duplicates:\n",
      "\n",
      "#leave index 308\n",
      "\n",
      "for report in waking_corpus_clean:\n",
      "    if 'xxxxx' in report:\n",
      "        print report\n",
      "        print"
     ],
     "language": "python",
     "metadata": {},
     "outputs": [],
     "prompt_number": 7
    },
    {
     "cell_type": "code",
     "collapsed": false,
     "input": [
      "#get rid of duplicate waking reports:\n",
      "waking_corpus_clean = [report for report in waking_corpus_clean if report != waking_corpus_clean[0] \n",
      "                           and report != waking_corpus_clean[1] and report != waking_corpus_clean[2] \n",
      "                           and report != waking_corpus_clean[10] and report != waking_corpus_clean[12]\n",
      "                           and report != waking_corpus_clean[17] and report != waking_corpus_clean[19]\n",
      "                           and report != waking_corpus_clean[69] and report != waking_corpus_clean[70]]"
     ],
     "language": "python",
     "metadata": {},
     "outputs": [],
     "prompt_number": 8
    },
    {
     "cell_type": "code",
     "collapsed": false,
     "input": [
      "len(waking_corpus_clean)"
     ],
     "language": "python",
     "metadata": {},
     "outputs": [
      {
       "metadata": {},
       "output_type": "pyout",
       "prompt_number": 9,
       "text": [
        "343"
       ]
      }
     ],
     "prompt_number": 9
    },
    {
     "cell_type": "markdown",
     "metadata": {},
     "source": [
      "##Get and clean dream reports"
     ]
    },
    {
     "cell_type": "code",
     "collapsed": false,
     "input": [
      "cursor_dreams = dream_wake_collection.find( {'dream_wake': 'Dream'}, {'text':1, '_id':0})\n",
      "dream_corpus = [dream['text'] for dream in cursor_dreams]\n",
      "dream_corpus_clean = [dream for dream in dream_corpus if len(dream) > 150]  "
     ],
     "language": "python",
     "metadata": {},
     "outputs": [],
     "prompt_number": 15
    },
    {
     "cell_type": "code",
     "collapsed": false,
     "input": [
      "#find duplicate dreams\n",
      "\n",
      "for i in range(len(dream_corpus_clean)):\n",
      "    remaining_dreams = dream_corpus_clean[i+1:]\n",
      "    for remaining_dream in remaining_dreams:\n",
      "        if dream_corpus_clean[i][10:30] in remaining_dream:\n",
      "            print dream_corpus_clean[i], ' index:', i\n",
      "            print"
     ],
     "language": "python",
     "metadata": {},
     "outputs": [
      {
       "output_type": "stream",
       "stream": "stdout",
       "text": [
        "Wow, right before waking up I was crying in my sleep! I was exclaiming somewhat emotionally to my friend and current suitemate that \u201cEven though you look much different now, you\u2019ve always been beautiful to me.\u201d Before that I said \u201cI know I\u2019m a girl and everything, but you\u2019ve always been beautiful.\u201d I said this to her honestly meaning them and looking into her eyes and holding her two hands. The setting I can\u2019t quite remember now\u2026perhaps a living room environment. I was sitting or lying down to the left of my friend and we were both (unknown) my boyfriend. He was telling her, sincerely and kindly yet was brutally honest that \u201c\u2026I thought you were unattractive,\u201d but (unknown) he saw her another time or at another place, he thought she was attractive. The point he goes on to saying is a piece of advice: that you should find someone who doesn\u2019t look at how you look, that cares about the person you are. The faces of my friend and my boyfriend were distinct and pretty clear. I remember seeing color (normal tones I think not too bright, etc.) and I remember feeling a lot of emotion, and thinking too.  index: 0\n",
        "\n",
        "I was in modern day Jerusalem, but I can remember thinking how the landscape looked more like Ireland to me. The dream started off in either my aunt\u2019s or my grandma\u2019s house. We were getting ready to go on a trip and there were a couple suitcases open in the large bathroom. I vaguely remember something about the power going out for a little while\u2026I recall wanting to pack up and get on out trip but not being too agitated either. At one point, things were just slow to get going and my aunt playfully ran into the large bathroom where the suitcases were \u2013 there was someone else sitting in there. Auntie sat next to them on the ground and I looked over at the jeans she was wearing. I thought to myself how weird it was that she had cut the length off of the back of them so the leg wouldn\u2019t drag on the ground but had left the front the same length. Auntie had previously stepped on the scale and it registered something like 70 kilograms. I ran over to the scale and it registered something like 80 kilos. I was trying to convert that over to pounds and she asked me what the scale said. Even though it had registered as more than her, I was quite carefree about the whole thing and told her and I think she helped me figure it out. Sometime after this we were on our trip and in a small, charming western town. There was a fairly large group of us, but I can only identify my friend Rochelle as being with us. We went into the restaurant that was well lit, had a couple walls missing so the breeze from the outside circulated through (it was a beautiful, sunny day) and the benches and tables were made of sturdy wood. For some reason, not everyone in our group was there and so we were ordering in spurts. Rochelle was one of the first to order. Her order came about an hour later \u2013 waffles, some type of meat, and two delicious looking poached eggs. But I remember thinking that with a wait time like that, it would take about an hour and a half for everyone to get their food! I was both amused and irritated by this. Then, somehow, we ended up in this castle-like structure in Jerusalem. I was with a couple other people, but I can only distinctly remember my grandma commenting on how King David, who had lived in this castle, had been this horrible tyrant and was spurting off some narrative about him. This didn\u2019t seem quite right to me. As I looked out one of the castle\u2019s windows onto the landscape of the green city, I remembered that King David had been a \u201cman after God\u2019s own heart.\u201d I couldn\u2019t believe that Lolita was so grossly mistaken and tried to go and say something to argue with her, but she brushed me off and went down the castle steps.  index: 1\n",
        "\n",
        "I was in a room that I didn\u2019t recognize but everybody in the room I was friends with. There was tons of people but no furniture. The people\u2019s voices were kind of blurry and I was pay attention to anyone. Then one of my good friends entered the room yelling. Two of my friends began screaming at each other but what they said didn\u2019t make any sense. Everybody was sitting in a room staring at the two of them fight. While everyone was watching, I walked out of the room and was outside on the street. It was night and there was nobody on the street. As I was walking my cell phone began to ring, but I couldn\u2019t find it.  index: 9\n",
        "\n",
        "I was back home in Portland. I was in front of my fireplace at home playing with my cat Buzzer. I got up and got in my car and began driving. I started the drive alone, but at some point a passenger appeared in the car. I didn\u2019t recognize them, but it was apparent that we knew eachother and were fairly close. It started raining and while I was driving down Scholls Ferry I spun out and crashed into a \u201cSlow Down\u201d sign.  index: 14\n",
        "\n",
        "It was parent\u2019s weekend again and my dad was coming around with me to all my classes. He was really angry at me for my study habits and with how I was doing in my classes. He came back with me to my dorm and was shocked because there were hundreds of beer cans sitting all over my room. He was screaming at me for a while and then he just started laughing uncontrollably. Later that night he came around with my friends and I to different parties. He complained about the bad beer at college parties and about how I was spending my time.  index: 15\n",
        "\n",
        "I am at a school which is basically a combination of my highschool campus & Santa Clara. I was walking back to my dorm room with a large group of people and I didn\u2019t know any of them. We were coming from a lecture or some sort of activity. I started to walk really really fast because I had an extreme urge to poop when all of a sudden a tall blonde guy who seemed to be a fellow freshmen challenged me to a contest. The contest was like \u201cyour momma\u201d from MTV but it turned out to be a rapping contest about yourself. I felt nervous because I definitely can\u2019t rap and didn\u2019t know what I was going to rap about. I started coming up with lines in my head about owning 2 Ferraris and a motorcycle. As I was thinking about the lines I realized that I still had to go diarrhea really bad. But right then, the tall blonde guy cam up to me with a written description of the contest and I looked over it. By this point a large group of people had circled around us and I definitely couldn\u2019t go back on the contest but I was really nervous about whether or not I would be able to come up with funny lines and I really had to poo!  index: 16\n",
        "\n",
        "I was in a store shopping for clothes. I was looking at a shelf of jeans and there were tshirts hanging from the ceiling. The best shirts were really high up and I had to jump really high to get them. There was one shirt that EVERYONE knew was the coolest. So I went for it with a running start and got it. Employees were all cheering for me because they had never seen anyone jump so high  index: 17\n",
        "\n",
        "I was late for class while talking on to my grandmother who was hassling me for not calling her as often as she wanted. packing my bags while getting yelled at.  index: 68\n",
        "\n",
        "I had an affair with the escaped Hannibal Lector\u2019s wife. The only thing really remembered is running away from him after he noticed I had his wife\u2019s scarf in my suitcase. I was running down the stairs that kind of spiral down and he had a cross bow that he was shooting at me.  index: 69\n",
        "\n",
        "The first part I remember, I was deciding what to wear and put a sweatshirt on but packed a T-shirt because I thought it would get hot. I was going on a field trip with my mom\u2019s school. The next part I remember I was on a boat and I felt like I was trying to hide from someone. There were firework type explosions and lights in the sky. Next thing I knew I was walking into a forest type place (except it was like a display not a real forest) and it was really cold. I think I was still trying to hide. Then next thing I know I\u2019m with my dad and I have to drive to school. My grandma was there and had brought a brand new Prius but wouldn\u2019t let me drive it, so I drove my car. Then at school (I\u2019m back at my old high school) the teacher is talking to the kids about drinking and everyone leaves class and goes to the Spanish teacher who has donuts in her room. Everyone is sitting down copying answers when the 1st teacher comes in and offers muffins. The Spanish teacher is the only one who wanted a muffin.  index: 74\n",
        "\n",
        "I was being chased by someone was coming after me, and I kept getting away. I don\u2019t remember much more than that. He was grasping my wrists pretty tightly."
       ]
      },
      {
       "output_type": "stream",
       "stream": "stdout",
       "text": [
        "  index: 123\n",
        "\n",
        "I was in the living room of a friend house. We were all watching TV when another friend of mine called my name from the elevator in the hall. I walked over and she asked me if I could get her any marijuana. I said no, and as she asked, two kids and their mom walked by, it made me nervous. I got on the elevator and we went up. I stepped out and found myself in the bathroom, ready for a shower. All the showers were occupied by fats girls I was frustrated because I anted to have sex, but all these girls were ugly. I finally got a shower and once I got in my girlfriend showed up. We got naked but didn\u2019t have sex. After this I went up to a friend room. She gave me a beer called \u201cChicago Bull Beer\u2019. A friend remarked that it was tasty and citrusy. I couldn\u2019t taste citrus, but it was good. We drank with the door open, which made me think we could get written up and in turn made me nervous.  index: 141\n",
        "\n",
        "It was about my ex-boyfriend. I was nervous around him because I thought I would see him with his girlfriend. I knew the whole time that I was dreaming. I wanted to see if my ex still had feelings for me and I found out that he did.  index: 161\n",
        "\n",
        "The first thing I remember is being at the Cal Train Station. I remember waiting forever I get on the train. I remember thinking that I was feeling anxious and just wanted to be on the train. I was in so much of a rush I was telling people to hurry up but I also forgot something myself when I got on the train. After taking the Cal Train, my family and I rented a car. I clearly remember that all the roads we drove on were heading south. At one time we had to make a u-turn because it was a one way street. At this point I know I talked to my brother and sister about something but I forget. The next dream sequence landed the car driving through Malibu and Pepperdine University. I commented to my dad I\u2019m glad to chose Santa Clara over Pepperdine. As we were driving I remember looking out the window at all the nice houses in the area and wishing I could live in a house like that. As we were driving we came to what was supposed to be UCLA. I told my mom that she wouldn\u2019t be able to convince me to change schools. This UCLS, however, was like a waterpark. It was early morning and there were little kids running around with a lot of Disney costume people. I remember asking myself where all the students, but remembering it was early and most students sleep in. The final thing in my dream was a girl from my high school, Christina Murrillo, walking by with her friends. I said hi to her and thought that her friends were very pretty. Participant Code: 5794  index: 173\n",
        "\n",
        "All I can recall right now is me being with my older brother. The last words I said to him before waking up dealt with me commenting on how he had my dream job. We were standing alone before I work up (I think our mom was present sometime in the dream too though, (unknown)). A few minutes before I woke up though, there were other people in my dream/ in the scene too. These people were strangers to me but friends to my brother. My brother worked in his residency. The people were co-workers/ fellow students doing residency w/ my brother, and they seemed very friendly and outgoing and said a few things. There were a only few of them (2-3?), and one of them was a caucasian girl. My brother was cooking/ preparing this huge oven pan or dish of fried rice. The fried rice had texture and was somewhat colorful (the yellow/brown of the rice, and with some orange from some of the scattered carrots and some green from some of the scattered peas. I remember feeling hungry looking at the rice J and my brother smushing it and stirring it with some kind of spoon or spatula. He told me it was his turn to do what he was doing (prepare the rice or food). I remember feeling a bit jealous of his job or whatever he was doing I think. He also seemed somewhat distanced and doing his own thing \u2013 not necessarily ignoring me but being the big brother who was in a different stage in life than me. I believe I felt like a little kid too, and like we were in a somewhat unfamiliar place for some reason (the closest description I can come up with is that it\u2019s like one of those parking garages?)  index: 183\n",
        "\n"
       ]
      }
     ],
     "prompt_number": 16
    },
    {
     "cell_type": "code",
     "collapsed": false,
     "input": [
      "#verify that dreams are indeed duplicates:\n",
      "#(leave indices 74, 123, 141, 161, 173)\n",
      "\n",
      "for dream in dream_corpus_clean:\n",
      "    if 'xxxx' in dream:\n",
      "        print dream\n",
      "        print"
     ],
     "language": "python",
     "metadata": {},
     "outputs": [],
     "prompt_number": 17
    },
    {
     "cell_type": "code",
     "collapsed": false,
     "input": [
      "#get rid of duplicate dreams:\n",
      "dream_corpus_clean = [dream for dream in dream_corpus_clean if dream != dream_corpus_clean[0] \n",
      "                           and dream != dream_corpus_clean[1] and dream != dream_corpus_clean[9] \n",
      "                           and dream != dream_corpus_clean[14] and dream != dream_corpus_clean[15]\n",
      "                           and dream != dream_corpus_clean[16] and dream != dream_corpus_clean[17]\n",
      "                           and dream != dream_corpus_clean[68] and dream != dream_corpus_clean[69]\n",
      "                           and dream != dream_corpus_clean[183]]"
     ],
     "language": "python",
     "metadata": {},
     "outputs": [],
     "prompt_number": 18
    },
    {
     "cell_type": "code",
     "collapsed": false,
     "input": [
      "len(dream_corpus_clean)"
     ],
     "language": "python",
     "metadata": {},
     "outputs": [
      {
       "metadata": {},
       "output_type": "pyout",
       "prompt_number": 19,
       "text": [
        "337"
       ]
      }
     ],
     "prompt_number": 19
    },
    {
     "cell_type": "code",
     "collapsed": false,
     "input": [
      "df_emotions = pd.read_excel('emotion_words.xlsx')\n",
      "df_emotions.describe()"
     ],
     "language": "python",
     "metadata": {},
     "outputs": [
      {
       "html": [
        "<div style=\"max-height:1000px;max-width:1500px;overflow:auto;\">\n",
        "<table border=\"1\" class=\"dataframe\">\n",
        "  <thead>\n",
        "    <tr style=\"text-align: right;\">\n",
        "      <th></th>\n",
        "      <th>irritated</th>\n",
        "    </tr>\n",
        "  </thead>\n",
        "  <tbody>\n",
        "    <tr>\n",
        "      <th>count</th>\n",
        "      <td>       821</td>\n",
        "    </tr>\n",
        "    <tr>\n",
        "      <th>unique</th>\n",
        "      <td>       774</td>\n",
        "    </tr>\n",
        "    <tr>\n",
        "      <th>top</th>\n",
        "      <td> Resentful</td>\n",
        "    </tr>\n",
        "    <tr>\n",
        "      <th>freq</th>\n",
        "      <td>         3</td>\n",
        "    </tr>\n",
        "  </tbody>\n",
        "</table>\n",
        "</div>"
       ],
       "metadata": {},
       "output_type": "pyout",
       "prompt_number": 20,
       "text": [
        "        irritated\n",
        "count         821\n",
        "unique        774\n",
        "top     Resentful\n",
        "freq            3"
       ]
      }
     ],
     "prompt_number": 20
    },
    {
     "cell_type": "code",
     "collapsed": false,
     "input": [
      "emotion_words = df_emotions.values\n",
      "emotion_words_2 = [word[0] for word in emotion_words]\n",
      "emotion_words_set = set(emotion_words_2)\n",
      "sorted_emotion_words = list(sorted(emotion_words_set))\n",
      "sorted_emotion_words.pop(0)\n",
      "sorted_emotion_words[:5]  "
     ],
     "language": "python",
     "metadata": {},
     "outputs": [
      {
       "metadata": {},
       "output_type": "pyout",
       "prompt_number": 22,
       "text": [
        "[u'Abandoned', u'Abashed', u'Abused', u'Aching', u'Admiring']"
       ]
      }
     ],
     "prompt_number": 22
    },
    {
     "cell_type": "code",
     "collapsed": false,
     "input": [
      "#how to just plot word frequency?\n",
      "    # http://www.thoughtly.co/blog/working-with-text/\n",
      "    # just have a dictoinary counter and go through and put words in dict and count. then plot. \n",
      "    # and do same for waking. and can copute difference too."
     ],
     "language": "python",
     "metadata": {},
     "outputs": []
    },
    {
     "cell_type": "code",
     "collapsed": false,
     "input": [
      "#NEXT STEPS\n",
      "\n",
      "#individually run stemmer on this and lemmatizer on this and see what happens. is it ok? Just do one, not both.\n",
      "#whatever i choose to do, do the same to the text in the actual dreams\n",
      "\n",
      "\n",
      "#then for each doc, loop through emotion words and either give the dream a 0 or 1 for each emotion word.\n",
      "    #could have a dict where each emotion word is a key. loop through the keys and then add/appen 0 or 1 to values list\n",
      "#then can convert this into a pandas df  -- \n",
      "    #it'll automaticall convert dict so each word is a variable/col header, each value is a dream/doc\n",
      "#then I think i can plot something like: \n",
      "    #sns.barplot(x = df.columns, y = [df['fear'].count(), df['happy'].count()])   #or maybe for y: df.loc[0].count...?\n",
      "\n",
      "#ultimately should group variables together into categories (~25) reviwed by shaver on \n",
      "    # http://changingminds.org/explanations/emotions/basic%20emotions.htm\n",
      "#ultimately should try and plot percentages within dreams and within waking, to compare."
     ],
     "language": "python",
     "metadata": {},
     "outputs": []
    },
    {
     "cell_type": "markdown",
     "metadata": {},
     "source": [
      "##Stem emotion words"
     ]
    },
    {
     "cell_type": "code",
     "collapsed": false,
     "input": [
      "stemmer = SnowballStemmer('english')\n",
      "stemmed_emotion_words = [stemmer.stem(t) for t in sorted_emotion_words]"
     ],
     "language": "python",
     "metadata": {},
     "outputs": [],
     "prompt_number": 78
    },
    {
     "cell_type": "code",
     "collapsed": false,
     "input": [
      "#doesnt't do a very good job. But go with this. stem in both emotion words list and dream reports. and tranlate back afterwards\n",
      "for i in range(20):\n",
      "    print sorted_emotion_words[i]\n",
      "    print stemmed_emotion_words[i]\n",
      "    print"
     ],
     "language": "python",
     "metadata": {},
     "outputs": [
      {
       "output_type": "stream",
       "stream": "stdout",
       "text": [
        "Abandoned\n",
        "abandon\n",
        "\n",
        "Abashed\n",
        "abash\n",
        "\n",
        "Abused\n",
        "abus\n",
        "\n",
        "Aching\n",
        "ach\n",
        "\n",
        "Admiring\n",
        "admir\n",
        "\n",
        "Adoring\n",
        "ador\n",
        "\n",
        "Adrift\n",
        "adrift\n",
        "\n",
        "Affectionate\n",
        "affection\n",
        "\n",
        "Affronted\n",
        "affront\n",
        "\n",
        "Afraid\n",
        "afraid\n",
        "\n",
        "Aggravated\n",
        "aggrav\n",
        "\n",
        "Aglow\n",
        "aglow\n",
        "\n",
        "Ailing\n",
        "ail\n",
        "\n",
        "Alarmed\n",
        "alarm\n",
        "\n",
        "Alienated\n",
        "alien\n",
        "\n",
        "Alone\n",
        "alon\n",
        "\n",
        "Ambivalent\n",
        "ambival\n",
        "\n",
        "Anguished\n",
        "anguish\n",
        "\n",
        "Annoyed\n",
        "annoy\n",
        "\n",
        "Antagonistic\n",
        "antagonist\n",
        "\n"
       ]
      }
     ],
     "prompt_number": 79
    },
    {
     "cell_type": "code",
     "collapsed": false,
     "input": [
      "lemmatizer = nltk.WordNetLemmatizer()\n",
      "lemmatized_tokens = [lemmatizer.lemmatize(t) for t in sorted_emotion_words]"
     ],
     "language": "python",
     "metadata": {},
     "outputs": [],
     "prompt_number": 75
    },
    {
     "cell_type": "code",
     "collapsed": false,
     "input": [
      "for i in range(5):\n",
      "    print sorted_emotion_words[i]\n",
      "    print lemmatized_tokens[i]\n",
      "    print"
     ],
     "language": "python",
     "metadata": {},
     "outputs": [
      {
       "output_type": "stream",
       "stream": "stdout",
       "text": [
        "Abandoned\n",
        "Abandoned\n",
        "\n",
        "Abashed\n",
        "Abashed\n",
        "\n",
        "Abused\n",
        "Abused\n",
        "\n",
        "Aching\n",
        "Aching\n",
        "\n",
        "Admiring\n",
        "Admiring\n",
        "\n"
       ]
      }
     ],
     "prompt_number": 77
    },
    {
     "cell_type": "markdown",
     "metadata": {},
     "source": [
      "##Stem dream and waking docs"
     ]
    },
    {
     "cell_type": "code",
     "collapsed": false,
     "input": [
      "stemmer = SnowballStemmer('english')\n",
      "stemmed_waking_corpus =[]\n",
      "for report in waking_corpus_clean:\n",
      "    textblob_report = TextBlob(report)\n",
      "    waking_report = ' '.join([stemmer.stem(word) for word in textblob_report.words]) \n",
      "    stemmed_waking_corpus.append(waking_report)  "
     ],
     "language": "python",
     "metadata": {},
     "outputs": [],
     "prompt_number": 90
    },
    {
     "cell_type": "code",
     "collapsed": false,
     "input": [
      "len(stemmed_waking_corpus)"
     ],
     "language": "python",
     "metadata": {},
     "outputs": [
      {
       "metadata": {},
       "output_type": "pyout",
       "prompt_number": 91,
       "text": [
        "343"
       ]
      }
     ],
     "prompt_number": 91
    },
    {
     "cell_type": "code",
     "collapsed": false,
     "input": [
      "for report in stemmed_waking_corpus[:5]:\n",
      "    print report\n",
      "    print"
     ],
     "language": "python",
     "metadata": {},
     "outputs": [
      {
       "output_type": "stream",
       "stream": "stdout",
       "text": [
        "for the past 15 min i'v been sit at my desk in front of my laptop i'v been sip on some \u201csoup in a cup\u201d of campbel and realli enjoy it \u2013 it just what i need although i microwav it for too long and when i took the first sip it scorch the top of my mouth and kind of burnt my throat \u2013 i'v never realli done that befor so it caught me off guard and i was lament how i'd probabl feel it for the next coupl of day i was check my email and facebook \u2013 when i check my e-mail i saw that there was a psych survey for research credit that i'm sign up to take onlin but when i went to take it it said the timeslot were full so that was frustrat becaus someth in the system is obvious mess up right now.i was look at all the paper on my desk and think about how i want to deal w all of them befor the weekend sinc i'll be gone on retreat and then i was look for some paper i need to turn in to my job tomorrow and they weren't where i thought i'd put them \u2013 and i'm normal a v organ person so i was get slight agit look for them despit all the thing i need to get done though and the long night that probabl ahead of me i wasn't feel veri tens i don't have my midterm loom tomorrow so that help i was feel pretti energ and readi to tackl thing \u2013 even look forward to some of them.i was also think about chang into pj pant becaus my jean were feel tight and constrict\n",
        "\n",
        "i just left work at the jewelri store it was a normal day today it was my turn to take the trash out i gave me 20-25 minut outsid and a chanc to be myself sinc most of the garbag that come out of the store is paper it a relat clean job i was onli in the store for 2 hour today so there wasn't much time to make sale but i was abl to sell a 200 necklac specif the last 15 minut were spent go to lunch listen to music not think about anyth in particular\n",
        "\n",
        "i have been relat focus on work on my cover letter for my resum everi few minut i would click around between facebook and my gmail the feel i have been experienc have been a mixtur of anxious and determin i have had two cup of coffe today so that has definit contribut to my \u201cunsettled\u201d feel\n",
        "\n",
        "i woke up today at 9:20 and have been walk around the hous look for what i want to eat for breakfast be unproduct i look on the internet at unknown a site where they sell one thing a day after i went and drank some juic and then went and turn on the tv did some channel surf and found noth interest went to my comput again and then went to the unknown unknown again where i have watch in unknown the news for the past 10 minut\n",
        "\n",
        "just woke up from a nap and am tri to get on the internet but it is down so went and unplug the router and plug it back in went into the kitchen to get some chip and then a cup of milk came back into room sat down got comput work and look at email noth excit so went to the news site and look at the news of the day read a coupl articl and that is now unknown 15 minut\n",
        "\n"
       ]
      }
     ],
     "prompt_number": 93
    },
    {
     "cell_type": "code",
     "collapsed": false,
     "input": [
      "stemmer = SnowballStemmer('english')\n",
      "stemmed_dream_corpus =[]\n",
      "for report in dream_corpus_clean:\n",
      "    textblob_report = TextBlob(report)\n",
      "    dream_report = ' '.join([stemmer.stem(word) for word in textblob_report.words]) \n",
      "    stemmed_dream_corpus.append(dream_report)  "
     ],
     "language": "python",
     "metadata": {},
     "outputs": [],
     "prompt_number": 95
    },
    {
     "cell_type": "code",
     "collapsed": false,
     "input": [
      "len(stemmed_dream_corpus)"
     ],
     "language": "python",
     "metadata": {},
     "outputs": [
      {
       "metadata": {},
       "output_type": "pyout",
       "prompt_number": 96,
       "text": [
        "337"
       ]
      }
     ],
     "prompt_number": 96
    },
    {
     "cell_type": "code",
     "collapsed": false,
     "input": [
      "for report in stemmed_dream_corpus[:2]:\n",
      "    print report\n",
      "    print"
     ],
     "language": "python",
     "metadata": {},
     "outputs": [
      {
       "output_type": "stream",
       "stream": "stdout",
       "text": [
        "i was go to the 10pm student mass with my friend meggan it was quit dark outsid we walk over to the church around 9:45pm when we got insid there must have been 10 peopl scatter throughout i walk in and sit near the alter was my friend chris i was so excit to see him i gave him a huge hug i didn't know that he was back at scu but he explain that he was back for about a week then he'd fli back to oxford for the first 2 or 3 week of the pring term and then fli back i was envis this calendar in my head and i rememb think how crazi and frivol it seem to make trip like this so close togeth i figur he must be homesick he show me the book he was read \u2013 someth about grace \u2013 the print on the cover was in green cursiv and the cover was tan beig he said he was read with jesus in the church becaus it make the read less overwhelm i sat down next to chris wait for mass to start and meggan sat next to me soon his girlfriend show up and sat a coupl of seat away from chris sinc the seat next to him were alreadi taken i was so happi to get to sit next to him and rememb wonder whi i hadn't found him attract last year he was so good look now i was frustrat that i hadn't jump on this opportun while i had the chanc i had forgotten my sweater and the church was a littl cold so i left to go back to my room and get it i was wear my boy scout shirt and need my black sweater befor mass start on my way back to the church i saw meggan roommat stephani walk toward the church i was surpris becaus steph is an atheist and had never come to mass befor i was glad at first until she explain that she brought \u201cmateri to work on\u201d sinc she was sure to get bore with all the \u201creligi magic.\u201d i took a deep breath and tri to explain that it would be realli disrespect and distract to other if she did this and that she should just abort everyth \u2013 but she was rather flippant about my concern i felt v irrit when we got back into the church it was pack i look where chris was sit and found that his girlfriend had taken my seat i felt a twing of jealousi but figur she had taken it becaus she probabl thought i had realli left and wasn't go to reclaim it so meggan steph and i and my friend dianna end up sit in the veri back now i rememb think how i'd never sat back there befor but sinc i had the aisl seat it wasn't as bad as i thought a few minut into mass steph brought out her materi to work on and i felt v frustrat\n",
        "\n",
        "i was run on a treadmil but it was the water type such that you use in physic therapi but i was go through bubbl bath foam it took forev then i got hungri and want to eat a sandwich a loud plane came overhead and drop a packag for me to open\n",
        "\n"
       ]
      }
     ],
     "prompt_number": 99
    },
    {
     "cell_type": "markdown",
     "metadata": {},
     "source": [
      "##Create dictionary of emotion word stems. Values are list of 0 or 1 for each doc depending on whether emotion stem is absent or present."
     ]
    },
    {
     "cell_type": "code",
     "collapsed": false,
     "input": [],
     "language": "python",
     "metadata": {},
     "outputs": [],
     "prompt_number": 87
    },
    {
     "cell_type": "code",
     "collapsed": false,
     "input": [],
     "language": "python",
     "metadata": {},
     "outputs": [],
     "prompt_number": 96
    },
    {
     "cell_type": "code",
     "collapsed": false,
     "input": [],
     "language": "python",
     "metadata": {},
     "outputs": []
    }
   ],
   "metadata": {}
  }
 ]
}