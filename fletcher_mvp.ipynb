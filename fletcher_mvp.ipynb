{
 "metadata": {
  "name": "",
  "signature": "sha256:c79f9f07ae7073bca91c1dad85a0186a511e34300e38bb52164078bb878b26ac"
 },
 "nbformat": 3,
 "nbformat_minor": 0,
 "worksheets": []
}