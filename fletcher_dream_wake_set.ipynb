{
 "metadata": {
  "name": "",
  "signature": "sha256:da140cc75bf0eb268029d643a5e58ea5ac489c20ec59be55f1eefbfa59e9e086"
 },
 "nbformat": 3,
 "nbformat_minor": 0,
 "worksheets": [
  {
   "cells": [
    {
     "cell_type": "code",
     "collapsed": false,
     "input": [
      "import pymongo\n",
      "import csv"
     ],
     "language": "python",
     "metadata": {},
     "outputs": [],
     "prompt_number": 5
    },
    {
     "cell_type": "markdown",
     "metadata": {},
     "source": [
      "##Create dream_wake_collection in Mongo. This is approximately 350 descriptions of dreams and 350 descriptions of waking experiences."
     ]
    },
    {
     "cell_type": "code",
     "collapsed": false,
     "input": [
      "client = pymongo.MongoClient()  #create a MongoClient to the running mongod instance:\n",
      "db = client.dreams  #create dsbc database and assign it to db\n",
      "dream_wake_collection = db.dream_wake  #create collection for the dream vs. wake descriptions"
     ],
     "language": "python",
     "metadata": {},
     "outputs": [],
     "prompt_number": 2
    },
    {
     "cell_type": "code",
     "collapsed": false,
     "input": [
      "with open('dream_reports_test.csv', 'rU') as dream_reports:\n",
      "    reader = csv.reader(dream_reports)    \n",
      "    for i, row in enumerate(reader): \n",
      "        #when i pasted the data into excel, excel turned the characters into bytes using the mac_roman encoding system\n",
      "        #so when I want to pull out of that excel/csv file into python, python needs to be able to take those bytes and \n",
      "        #transform into the right characters. so it has to know what the characters were encoded in in the csv and then\n",
      "        #decode them using that system (mac_roman)\n",
      "        if i < 4:\n",
      "            print row[0].decode('mac_roman')  \n",
      "            print"
     ],
     "language": "python",
     "metadata": {},
     "outputs": [
      {
       "output_type": "stream",
       "stream": "stdout",
       "text": [
        "Exclude this survey Dream Text: SCU 1 - kahan_q1), 200 words, kahan_sleep_wake_1874 [Answer Date Unknown]\n",
        "\n",
        "Wow, right before waking up I was crying in my sleep! I was exclaiming somewhat emotionally to my friend and current suitemate that \u201cEven though you look much different now, you\u2019ve always been beautiful to me.\u201d Before that I said \u201cI know I\u2019m a girl and everything, but you\u2019ve always been beautiful.\u201d I said this to her honestly meaning them and looking into her eyes and holding her two hands. The setting I can\u2019t quite remember now\u2026perhaps a living room environment. I was sitting or lying down to the left of my friend and we were both (unknown) my boyfriend. He was telling her, sincerely and kindly yet was brutally honest that \u201c\u2026I thought you were unattractive,\u201d but (unknown) he saw her another time or at another place, he thought she was attractive. The point he goes on to saying is a piece of advice: that you should find someone who doesn\u2019t look at how you look, that cares about the person you are. The faces of my friend and my boyfriend were distinct and pretty clear. I remember seeing color (normal tones I think not too bright, etc.) and I remember feeling a lot of emotion, and thinking too.\n",
        "\n",
        "Exclude this survey Dream Text: SCU 1 - kahan_q1), 507 words, kahan_sleep_wake_1199 [Answer Date Unknown]\n",
        "\n",
        "I was in modern day Jerusalem, but I can remember thinking how the landscape looked more like Ireland to me. The dream started off in either my aunt\u2019s or my grandma\u2019s house. We were getting ready to go on a trip and there were a couple suitcases open in the large bathroom. I vaguely remember something about the power going out for a little while\u2026I recall wanting to pack up and get on out trip but not being too agitated either. At one point, things were just slow to get going and my aunt playfully ran into the large bathroom where the suitcases were \u2013 there was someone else sitting in there. Auntie sat next to them on the ground and I looked over at the jeans she was wearing. I thought to myself how weird it was that she had cut the length off of the back of them so the leg wouldn\u2019t drag on the ground but had left the front the same length. Auntie had previously stepped on the scale and it registered something like 70 kilograms. I ran over to the scale and it registered something like 80 kilos. I was trying to convert that over to pounds and she asked me what the scale said. Even though it had registered as more than her, I was quite carefree about the whole thing and told her and I think she helped me figure it out. Sometime after this we were on our trip and in a small, charming western town. There was a fairly large group of us, but I can only identify my friend Rochelle as being with us. We went into the restaurant that was well lit, had a couple walls missing so the breeze from the outside circulated through (it was a beautiful, sunny day) and the benches and tables were made of sturdy wood. For some reason, not everyone in our group was there and so we were ordering in spurts. Rochelle was one of the first to order. Her order came about an hour later \u2013 waffles, some type of meat, and two delicious looking poached eggs. But I remember thinking that with a wait time like that, it would take about an hour and a half for everyone to get their food! I was both amused and irritated by this. Then, somehow, we ended up in this castle-like structure in Jerusalem. I was with a couple other people, but I can only distinctly remember my grandma commenting on how King David, who had lived in this castle, had been this horrible tyrant and was spurting off some narrative about him. This didn\u2019t seem quite right to me. As I looked out one of the castle\u2019s windows onto the landscape of the green city, I remembered that King David had been a \u201cman after God\u2019s own heart.\u201d I couldn\u2019t believe that Lolita was so grossly mistaken and tried to go and say something to argue with her, but she brushed me off and went down the castle steps.\n",
        "\n"
       ]
      }
     ],
     "prompt_number": 126
    },
    {
     "cell_type": "code",
     "collapsed": false,
     "input": [
      "# with open('dream_reports.csv', 'rU') as dream_reports:\n",
      "#     reader = csv.reader(dream_reports)    \n",
      "#     for row in reader: \n",
      "#         row = row[0].decode('mac_roman')\n",
      "#         print row[:7]\n",
      "#         print"
     ],
     "language": "python",
     "metadata": {},
     "outputs": [],
     "prompt_number": 110
    },
    {
     "cell_type": "markdown",
     "metadata": {},
     "source": [
      "##Put the waking reports into mongo:"
     ]
    },
    {
     "cell_type": "code",
     "collapsed": false,
     "input": [
      "test_list = []\n",
      "with open('waking_reports.csv', 'rU') as dream_reports:\n",
      "    reader = csv.reader(dream_reports)    \n",
      "    for row in reader: \n",
      "        row = row[0].decode('mac_roman')\n",
      "        if row[:7] == 'Exclude':\n",
      "            row = row.split(',')\n",
      "            begin_id = row[2].rfind('wake') + 5\n",
      "            end_id = row[2].rfind('Answer') - 2\n",
      "            dream_dict = {'person_id': int(row[2][begin_id:end_id])}\n",
      "            dream_dict['dream_wake'] = row[0][20:26]\n",
      "            #print dream_dict\n",
      "        else:\n",
      "            dream_dict['text'] = row\n",
      "            dream_wake_collection.save(dream_dict)\n",
      "            test_list.append(dream_dict)"
     ],
     "language": "python",
     "metadata": {},
     "outputs": [],
     "prompt_number": 261
    },
    {
     "cell_type": "markdown",
     "metadata": {},
     "source": [
      "##Funtion to put the dream reports into mongo:"
     ]
    },
    {
     "cell_type": "code",
     "collapsed": false,
     "input": [
      "def dream_wake_csv_to_mongo(the_file, mongo_collection):\n",
      "    \"\"\"Takes csv files with dream and waking reports and puts them into mongo collection\"\"\"\n",
      "    with open(the_file, 'rU') as dream_reports:\n",
      "        reader = csv.reader(dream_reports)    \n",
      "        for row in reader: \n",
      "            row = row[0].decode('mac_roman')\n",
      "            if row[:7] == 'Exclude':\n",
      "                row = row.split(',')\n",
      "                begin_id = row[2].rfind('wake') + 5\n",
      "                end_id = row[2].rfind('Answer') - 2\n",
      "                dream_dict = {'person_id': int(row[2][begin_id:end_id])}\n",
      "                dream_dict['dream_wake'] = row[0][20:25]\n",
      "            else:\n",
      "                dream_dict['text'] = row\n",
      "                mongo_collection.save(dream_dict)"
     ],
     "language": "python",
     "metadata": {},
     "outputs": [],
     "prompt_number": 262
    },
    {
     "cell_type": "code",
     "collapsed": false,
     "input": [
      "dream_wake_csv_to_mongo('dream_reports.csv', dream_wake_collection)"
     ],
     "language": "python",
     "metadata": {},
     "outputs": [],
     "prompt_number": 263
    },
    {
     "cell_type": "code",
     "collapsed": false,
     "input": [
      "#test_list[55:58]"
     ],
     "language": "python",
     "metadata": {},
     "outputs": [],
     "prompt_number": 238
    },
    {
     "cell_type": "code",
     "collapsed": false,
     "input": [
      "db.collection_names()"
     ],
     "language": "python",
     "metadata": {},
     "outputs": [
      {
       "metadata": {},
       "output_type": "pyout",
       "prompt_number": 265,
       "text": [
        "[u'dream_wake', u'system.indexes', u'worst_nightmares']"
       ]
      }
     ],
     "prompt_number": 265
    },
    {
     "cell_type": "code",
     "collapsed": false,
     "input": [
      "dream_wake_collection.count()"
     ],
     "language": "python",
     "metadata": {},
     "outputs": [
      {
       "metadata": {},
       "output_type": "pyout",
       "prompt_number": 340,
       "text": [
        "739"
       ]
      }
     ],
     "prompt_number": 340
    },
    {
     "cell_type": "code",
     "collapsed": false,
     "input": [
      "dream_wake_collection.remove()  #removes all docs in the collection"
     ],
     "language": "python",
     "metadata": {},
     "outputs": [
      {
       "metadata": {},
       "output_type": "pyout",
       "prompt_number": 260,
       "text": [
        "{u'n': 970, u'ok': 1}"
       ]
      }
     ],
     "prompt_number": 260
    },
    {
     "cell_type": "code",
     "collapsed": false,
     "input": [
      "#len(test_list)\n",
      "#test_list[367:]"
     ],
     "language": "python",
     "metadata": {},
     "outputs": [],
     "prompt_number": 228
    },
    {
     "cell_type": "code",
     "collapsed": false,
     "input": [
      "cursor = dream_wake_collection.find({})"
     ],
     "language": "python",
     "metadata": {},
     "outputs": [],
     "prompt_number": 236
    },
    {
     "cell_type": "code",
     "collapsed": false,
     "input": [
      "print cursor.next()"
     ],
     "language": "python",
     "metadata": {},
     "outputs": [
      {
       "output_type": "stream",
       "stream": "stdout",
       "text": [
        "{u'person_id': 2541, u'text': u'I was in Lenox (Jewelry Store) and my manager told me, \\u201cFire you?! Why would I fire one of my most productive (he was referring to sales) part time employees?\\u201d In the dream I had consistently been selling more than some of the full time employees but I\\u2019m not sure how the thought of me getting fired came up in the dream. After the conversation I woke up.', u'_id': ObjectId('54f4c9c547e07502490b10a2'), u'dream_wake': u'Dream'}\n"
       ]
      }
     ],
     "prompt_number": 235
    },
    {
     "cell_type": "code",
     "collapsed": false,
     "input": [
      "#now put the worst nightmares file in mongo\n",
      "#create worst_nightmares collection:\n",
      "worst_nightmares_collection = db.worst_nightmares  #create collection for the dream vs. wake descriptions"
     ],
     "language": "python",
     "metadata": {},
     "outputs": [],
     "prompt_number": 249
    },
    {
     "cell_type": "code",
     "collapsed": false,
     "input": [
      "db.collection_names()"
     ],
     "language": "python",
     "metadata": {},
     "outputs": [
      {
       "metadata": {},
       "output_type": "pyout",
       "prompt_number": 251,
       "text": [
        "[u'dream_wake', u'system.indexes']"
       ]
      }
     ],
     "prompt_number": 251
    },
    {
     "cell_type": "markdown",
     "metadata": {},
     "source": [
      "##Put worst nightmares of females into mongo (approiately 200 dreams):"
     ]
    },
    {
     "cell_type": "code",
     "collapsed": false,
     "input": [
      "#test_list = []\n",
      "with open('worst_dreams_female.csv', 'rU') as worst_dreams:\n",
      "    reader = csv.reader(worst_dreams)    \n",
      "    for row in reader: \n",
      "        row = row[0].decode('mac_roman')\n",
      "        if row[:7] == 'Exclude':\n",
      "            row = row.split(',')\n",
      "            begin_id = row[2].rfind('zogby') + 13\n",
      "            end_id = row[2].rfind('Answer') - 2\n",
      "            dream_dict = {'person_id': int(row[2][begin_id:end_id])}\n",
      "            dream_dict['gender'] = 'female'\n",
      "            #print dream_dict\n",
      "        else:\n",
      "            dream_dict['text'] = row\n",
      "            worst_nightmares_collection.save(dream_dict)\n",
      "            test_list.append(dream_dict)"
     ],
     "language": "python",
     "metadata": {},
     "outputs": [],
     "prompt_number": 273
    },
    {
     "cell_type": "markdown",
     "metadata": {},
     "source": [
      "##Put worst nightmares of males into mongo (approxiately 200 dreams):"
     ]
    },
    {
     "cell_type": "code",
     "collapsed": false,
     "input": [
      "#test_list = []\n",
      "with open('worst_dreams_male.csv', 'rU') as worst_dreams:\n",
      "    reader = csv.reader(worst_dreams)    \n",
      "    for row in reader: \n",
      "        row = row[0].decode('mac_roman')\n",
      "        if row[:7] == 'Exclude':\n",
      "            row = row.split(',')\n",
      "            begin_id = row[2].rfind('zogby') + 13\n",
      "            end_id = row[2].rfind('Answer') - 2\n",
      "            dream_dict = {'person_id': int(row[2][begin_id:end_id])}\n",
      "            dream_dict['gender'] = 'male'\n",
      "            #print dream_dict\n",
      "        else:\n",
      "            dream_dict['text'] = row\n",
      "            worst_nightmares_collection.save(dream_dict)\n",
      "            test_list.append(dream_dict)"
     ],
     "language": "python",
     "metadata": {},
     "outputs": [],
     "prompt_number": 274
    },
    {
     "cell_type": "code",
     "collapsed": false,
     "input": [
      "worst_nightmares_collection.count()"
     ],
     "language": "python",
     "metadata": {},
     "outputs": [
      {
       "metadata": {},
       "output_type": "pyout",
       "prompt_number": 341,
       "text": [
        "414"
       ]
      }
     ],
     "prompt_number": 341
    },
    {
     "cell_type": "code",
     "collapsed": false,
     "input": [
      "cursor_worst = worst_nightmares_collection.find({})"
     ],
     "language": "python",
     "metadata": {},
     "outputs": [],
     "prompt_number": 276
    },
    {
     "cell_type": "code",
     "collapsed": false,
     "input": [
      "cursor_worst.next()"
     ],
     "language": "python",
     "metadata": {},
     "outputs": [
      {
       "metadata": {},
       "output_type": "pyout",
       "prompt_number": 279,
       "text": [
        "{u'_id': ObjectId('54f4d0f147e07502490b231f'),\n",
        " u'gender': u'male',\n",
        " u'person_id': 12501,\n",
        " u'text': u'When my ex wife and I separated in 1986, I dreamed that she visited me to inform me that she was now dating others. I was deeply in love with her at that time.'}"
       ]
      }
     ],
     "prompt_number": 279
    },
    {
     "cell_type": "code",
     "collapsed": false,
     "input": [
      "#worst_nightmares_collection.remove()  #removes all docs in the collection"
     ],
     "language": "python",
     "metadata": {},
     "outputs": [
      {
       "metadata": {},
       "output_type": "pyout",
       "prompt_number": 271,
       "text": [
        "{u'n': 414, u'ok': 1}"
       ]
      }
     ],
     "prompt_number": 271
    },
    {
     "cell_type": "code",
     "collapsed": false,
     "input": [],
     "language": "python",
     "metadata": {},
     "outputs": []
    },
    {
     "cell_type": "code",
     "collapsed": false,
     "input": [
      "import numpy as np\n",
      "from sklearn.feature_extraction.text import TfidfVectorizer\n",
      "from sklearn.cluster import KMeans\n",
      "from collections import defaultdict\n",
      "import matplotlib.pyplot as plt\n",
      "from sklearn.metrics.pairwise import pairwise_distances\n",
      "%matplotlib inline"
     ],
     "language": "python",
     "metadata": {},
     "outputs": [],
     "prompt_number": 367
    },
    {
     "cell_type": "code",
     "collapsed": false,
     "input": [
      "#cursor_dreams = dream_wake_collection.find( {filter or selection criteria}, {which fields get returned})\n",
      "#e.g., #cursor_dreams = dream_wake_collection.find( {'dream_wake': 'Dream'}, {'text':1, '_id':0})"
     ],
     "language": "python",
     "metadata": {},
     "outputs": []
    },
    {
     "cell_type": "code",
     "collapsed": false,
     "input": [
      "cursor_dreams = dream_wake_collection.find( {'dream_wake': 'Dream'}, {'text':1, '_id':0})"
     ],
     "language": "python",
     "metadata": {},
     "outputs": [],
     "prompt_number": 322
    },
    {
     "cell_type": "code",
     "collapsed": false,
     "input": [
      "cursor_dreams.next()"
     ],
     "language": "python",
     "metadata": {},
     "outputs": [
      {
       "metadata": {},
       "output_type": "pyout",
       "prompt_number": 297,
       "text": [
        "{u'text': u'Wow, right before waking up I was crying in my sleep! I was exclaiming somewhat emotionally to my friend and current suitemate that \\u201cEven though you look much different now, you\\u2019ve always been beautiful to me.\\u201d Before that I said \\u201cI know I\\u2019m a girl and everything, but you\\u2019ve always been beautiful.\\u201d I said this to her honestly meaning them and looking into her eyes and holding her two hands. The setting I can\\u2019t quite remember now\\u2026perhaps a living room environment. I was sitting or lying down to the left of my friend and we were both (unknown) my boyfriend. He was telling her, sincerely and kindly yet was brutally honest that \\u201c\\u2026I thought you were unattractive,\\u201d but (unknown) he saw her another time or at another place, he thought she was attractive. The point he goes on to saying is a piece of advice: that you should find someone who doesn\\u2019t look at how you look, that cares about the person you are. The faces of my friend and my boyfriend were distinct and pretty clear. I remember seeing color (normal tones I think not too bright, etc.) and I remember feeling a lot of emotion, and thinking too.'}"
       ]
      }
     ],
     "prompt_number": 297
    },
    {
     "cell_type": "code",
     "collapsed": false,
     "input": [
      "dream_corpus = [dream['text'] for dream in cursor_dreams]"
     ],
     "language": "python",
     "metadata": {},
     "outputs": [],
     "prompt_number": 323
    },
    {
     "cell_type": "code",
     "collapsed": false,
     "input": [
      "for dream in dream_corpus:\n",
      "    if len(dream) < 5:\n",
      "        print len(dream)"
     ],
     "language": "python",
     "metadata": {},
     "outputs": [
      {
       "output_type": "stream",
       "stream": "stdout",
       "text": [
        "3\n",
        "3\n",
        "3\n",
        "3\n",
        "3\n",
        "3\n",
        "3\n",
        "3\n",
        "3\n",
        "3\n",
        "3\n",
        "3\n",
        "3\n",
        "3\n"
       ]
      }
     ],
     "prompt_number": 568
    },
    {
     "cell_type": "code",
     "collapsed": false,
     "input": [
      "dream_corpus_clean = []\n",
      "for dream in dream_corpus:\n",
      "    if len(dream) > 3:\n",
      "        dream_corpus_clean.append(dream)"
     ],
     "language": "python",
     "metadata": {},
     "outputs": [],
     "prompt_number": 569
    },
    {
     "cell_type": "code",
     "collapsed": false,
     "input": [
      "dream_corpus_clean = [dream for dream in dream_corpus if len(dream) > 3]"
     ],
     "language": "python",
     "metadata": {},
     "outputs": [],
     "prompt_number": 575
    },
    {
     "cell_type": "code",
     "collapsed": false,
     "input": [
      "len(dream_corpus_clean)"
     ],
     "language": "python",
     "metadata": {},
     "outputs": [
      {
       "metadata": {},
       "output_type": "pyout",
       "prompt_number": 576,
       "text": [
        "355"
       ]
      }
     ],
     "prompt_number": 576
    },
    {
     "cell_type": "code",
     "collapsed": false,
     "input": [
      "for dream in dream_corpus_clean:\n",
      "    if len(dream) < 5:\n",
      "        print len(dream)"
     ],
     "language": "python",
     "metadata": {},
     "outputs": [],
     "prompt_number": 584
    },
    {
     "cell_type": "code",
     "collapsed": false,
     "input": [
      "#print dream_corpus[:2]  #prints the unicode numbers (in place of apostrophes) because it's showing the list\n",
      "#but if showed the string within the list, i.e., if looped through the lists and printed each string, then we wouldn't see those (and wouldn't\n",
      "#see the 'u' in front of the string like we do here. that u shows that this is encoded w unicode.)"
     ],
     "language": "python",
     "metadata": {},
     "outputs": [],
     "prompt_number": 342
    },
    {
     "cell_type": "code",
     "collapsed": false,
     "input": [
      "for i, dream in enumerate(dream_corpus_clean):\n",
      "    if i < 4:\n",
      "        print dream\n",
      "        print"
     ],
     "language": "python",
     "metadata": {},
     "outputs": [
      {
       "output_type": "stream",
       "stream": "stdout",
       "text": [
        "Wow, right before waking up I was crying in my sleep! I was exclaiming somewhat emotionally to my friend and current suitemate that \u201cEven though you look much different now, you\u2019ve always been beautiful to me.\u201d Before that I said \u201cI know I\u2019m a girl and everything, but you\u2019ve always been beautiful.\u201d I said this to her honestly meaning them and looking into her eyes and holding her two hands. The setting I can\u2019t quite remember now\u2026perhaps a living room environment. I was sitting or lying down to the left of my friend and we were both (unknown) my boyfriend. He was telling her, sincerely and kindly yet was brutally honest that \u201c\u2026I thought you were unattractive,\u201d but (unknown) he saw her another time or at another place, he thought she was attractive. The point he goes on to saying is a piece of advice: that you should find someone who doesn\u2019t look at how you look, that cares about the person you are. The faces of my friend and my boyfriend were distinct and pretty clear. I remember seeing color (normal tones I think not too bright, etc.) and I remember feeling a lot of emotion, and thinking too.\n",
        "\n",
        "I was in modern day Jerusalem, but I can remember thinking how the landscape looked more like Ireland to me. The dream started off in either my aunt\u2019s or my grandma\u2019s house. We were getting ready to go on a trip and there were a couple suitcases open in the large bathroom. I vaguely remember something about the power going out for a little while\u2026I recall wanting to pack up and get on out trip but not being too agitated either. At one point, things were just slow to get going and my aunt playfully ran into the large bathroom where the suitcases were \u2013 there was someone else sitting in there. Auntie sat next to them on the ground and I looked over at the jeans she was wearing. I thought to myself how weird it was that she had cut the length off of the back of them so the leg wouldn\u2019t drag on the ground but had left the front the same length. Auntie had previously stepped on the scale and it registered something like 70 kilograms. I ran over to the scale and it registered something like 80 kilos. I was trying to convert that over to pounds and she asked me what the scale said. Even though it had registered as more than her, I was quite carefree about the whole thing and told her and I think she helped me figure it out. Sometime after this we were on our trip and in a small, charming western town. There was a fairly large group of us, but I can only identify my friend Rochelle as being with us. We went into the restaurant that was well lit, had a couple walls missing so the breeze from the outside circulated through (it was a beautiful, sunny day) and the benches and tables were made of sturdy wood. For some reason, not everyone in our group was there and so we were ordering in spurts. Rochelle was one of the first to order. Her order came about an hour later \u2013 waffles, some type of meat, and two delicious looking poached eggs. But I remember thinking that with a wait time like that, it would take about an hour and a half for everyone to get their food! I was both amused and irritated by this. Then, somehow, we ended up in this castle-like structure in Jerusalem. I was with a couple other people, but I can only distinctly remember my grandma commenting on how King David, who had lived in this castle, had been this horrible tyrant and was spurting off some narrative about him. This didn\u2019t seem quite right to me. As I looked out one of the castle\u2019s windows onto the landscape of the green city, I remembered that King David had been a \u201cman after God\u2019s own heart.\u201d I couldn\u2019t believe that Lolita was so grossly mistaken and tried to go and say something to argue with her, but she brushed me off and went down the castle steps.\n",
        "\n",
        "I was going to the 10pm student mass with my friend Meggan. It was quite dark outside. We walked over to the church around 9:45pm. When we got inside, there must have been 10 people scattered throughout. I walked in, and sitting near the alter was my friend Chris. I was so excited to see him. I gave him a huge hug. I didn\u2019t know that he was back at SCU, but he explained that he was back for about a week, then he\u2019d fly back to Oxford for the first 2 or 3 weeks of the Pring term and then fly back. I was envisioning this calendar in my head and I remember thinking how crazy and frivolous it seemed to make trips like this so close together. I figured he must be homesick. He showed me the book he was reading \u2013 something about grace \u2013 the print on the cover was in green cursive and the cover was tan/ beige. He said he was reading with Jesus in the church because it makes the reading less overwhelming. I sat down next to Chris, waiting for mass to start and Meggan sat next to me. Soon his girlfriend showed up and sat a couple of seats away from Chris since the seats next to him were already taken. I was so happy to get to sit next to him and remembered wondering why I hadn\u2019t found him attractive last year he was so good looking now. I was frustrated that I hadn\u2019t jumped on this opportunity while I had the chance. I had forgotten my sweater and the church was a little cold, so I left to go back to my room and get it. I was wearing my Boy Scout shirt and needed my black sweater before mass started. On my way back to the church, I saw Meggan\u2019s roommate, Stephanie, walking towards the church. I was surprised because Steph is an atheist and had never come to mass before. I was glad at first, until she explained that she brought \u201cmaterials to work on\u201d since she was sure to get bored with all the \u201creligious magic.\u201d I took a deep breath and tried to explain that it would be really disrespectful and distracting to others if she did this and that she should just abort everything \u2013 but she was rather flippant about my concern. I felt v. irritated. When we got back into the church it was packed. I looked where Chris was sitting and found that his girlfriend had taken my seat. I felt a twinge of jealousy, but figured she had taken it because she probably thought I had really left and wasn\u2019t going to reclaim it. So Meggan, Steph, and I and my friend Dianna ended up sitting in the very back now. I remember thinking how I\u2019d never sat back there before, but since I had the aisle seat, it wasn\u2019t as bad as I thought. A few minutes into Mass, Steph brought out her materials to work on and I felt v. frustrated.\n",
        "\n",
        "I was running on a treadmill but it was the water type, such that you use in physical therapy, but I was going through bubble bath foam. It took forever, then I got hungry and wanted to eat a sandwich, a loud plane came overhead and dropped a package for me to open.\n",
        "\n"
       ]
      }
     ],
     "prompt_number": 578
    },
    {
     "cell_type": "markdown",
     "metadata": {},
     "source": [
      "##Create features by creating tf-idf within each dream for each word in corups"
     ]
    },
    {
     "cell_type": "code",
     "collapsed": false,
     "input": [
      "vectorizer = TfidfVectorizer(stop_words=\"english\")  \n",
      "dream_vectors = vectorizer.fit_transform(dream_corpus_clean)  #this is the X to pass into ml cluster algo. a list of strings."
     ],
     "language": "python",
     "metadata": {},
     "outputs": [],
     "prompt_number": 585
    },
    {
     "cell_type": "markdown",
     "metadata": {},
     "source": [
      "##Cluster the dreams into 5 clusters using KMeans. (Assume scaling doesn't matter here because all features -- tf-idfs -- on same scale?--Yes.) \n",
      "\n",
      "##Is the below fit running the algorith 10 times (n_init=10 is the default) and then taking the one with the best inertia? If i increase n_init to 20 will the clusters more consistently come out the same way if I rerun this a bunch of times? Yes - exactly. So increase the n_init given that my dataset is pretty small."
     ]
    },
    {
     "cell_type": "code",
     "collapsed": false,
     "input": [
      "model_kmeans_5 = KMeans(n_clusters=5)\n",
      "clusters_kmeans_5 = model_kmeans_5.fit_predict(dream_vectors)\n",
      "\n",
      "print clusters_kmeans_5\n",
      "#model_kmeans_10.labels_  #does the same as above"
     ],
     "language": "python",
     "metadata": {},
     "outputs": [
      {
       "output_type": "stream",
       "stream": "stdout",
       "text": [
        "[2 0 1 3 3 2 2 3 3 2 0 4 2 1 1 4 0 0 4 1 2 1 3 0 1 3 1 0 2 2 1 1 2 1 1 4 1\n",
        " 1 1 3 0 4 1 1 2 2 1 3 2 4 2 1 1 4 3 2 0 0 1 3 3 1 4 1 3 4 1 1 3 2 4 4 4 1\n",
        " 4 3 4 4 1 1 3 1 3 1 1 4 2 0 4 0 1 1 2 1 0 2 4 0 1 3 3 2 3 3 1 2 1 1 1 1 1\n",
        " 0 3 3 1 1 2 0 2 0 4 1 4 0 1 0 3 1 1 3 3 1 1 3 3 1 4 0 2 0 2 2 3 2 2 2 3 1\n",
        " 4 0 3 3 3 2 0 3 3 3 3 1 3 1 1 1 4 3 4 1 4 2 1 2 1 2 1 2 1 4 2 4 2 1 0 2 4\n",
        " 3 4 4 2 2 1 4 4 3 4 0 1 4 1 1 1 3 4 4 3 3 4 2 2 1 4 1 1 4 3 1 3 3 4 0 1 2\n",
        " 0 4 2 3 1 0 0 1 3 3 3 3 4 2 4 1 1 4 1 0 1 0 2 1 0 4 3 2 4 3 1 3 3 3 3 0 4\n",
        " 0 1 3 0 0 3 1 3 2 0 1 3 4 4 3 3 1 3 1 3 4 4 2 1 1 0 2 4 2 2 1 4 2 1 1 2 3\n",
        " 1 1 3 4 1 1 3 3 4 3 1 1 3 1 3 3 2 3 4 3 3 2 1 1 1 1 4 2 3 3 1 4 0 0 4 2 3\n",
        " 2 2 0 1 2 0 3 3 4 4 3 1 3 4 1 1 1 1 2 2 3 1]\n"
       ]
      }
     ],
     "prompt_number": 588
    },
    {
     "cell_type": "code",
     "collapsed": false,
     "input": [
      "len(clusters_kmeans_5), len(dream_corpus_clean)  #good - matches original dream_corpus_clean"
     ],
     "language": "python",
     "metadata": {},
     "outputs": [
      {
       "metadata": {},
       "output_type": "pyout",
       "prompt_number": 596,
       "text": [
        "(355, 355)"
       ]
      }
     ],
     "prompt_number": 596
    },
    {
     "cell_type": "markdown",
     "metadata": {},
     "source": [
      "##Function to group dreams by cluster in a dict"
     ]
    },
    {
     "cell_type": "code",
     "collapsed": false,
     "input": [
      "def look_at_clusters(clusters, corpus):\n",
      "    clusters_to_dreams = defaultdict(list)\n",
      "    for i, category in enumerate(clusters):\n",
      "        dream = corpus[i]\n",
      "        clusters_to_dreams[category].append(dream)\n",
      "    return clusters_to_dreams"
     ],
     "language": "python",
     "metadata": {},
     "outputs": [],
     "prompt_number": 592
    },
    {
     "cell_type": "code",
     "collapsed": false,
     "input": [
      "# clusterid_to_members = defaultdict(list)\n",
      "\n",
      "# for i, clusterid in enumerate(clusters_kmeans_10):\n",
      "#     dream = dream_corpus[i]\n",
      "#     clusterid_to_members[clusterid].append(dream)\n",
      "\n",
      "# clusterid_to_members.keys()"
     ],
     "language": "python",
     "metadata": {},
     "outputs": [],
     "prompt_number": 345
    },
    {
     "cell_type": "code",
     "collapsed": false,
     "input": [
      "dreams_in_clusters_dict = look_at_clusters(clusters_kmeans_5, dream_corpus_clean)"
     ],
     "language": "python",
     "metadata": {},
     "outputs": [],
     "prompt_number": 593
    },
    {
     "cell_type": "code",
     "collapsed": false,
     "input": [
      "dreams_in_clusters_dict.keys()"
     ],
     "language": "python",
     "metadata": {},
     "outputs": [
      {
       "metadata": {},
       "output_type": "pyout",
       "prompt_number": 597,
       "text": [
        "[0, 1, 2, 3, 4]"
       ]
      }
     ],
     "prompt_number": 597
    },
    {
     "cell_type": "code",
     "collapsed": false,
     "input": [
      "for i in range(5):\n",
      "    print len(dreams_in_clusters_dict[i])"
     ],
     "language": "python",
     "metadata": {},
     "outputs": [
      {
       "output_type": "stream",
       "stream": "stdout",
       "text": [
        "41\n",
        "107\n",
        "61\n",
        "84\n",
        "62\n"
       ]
      }
     ],
     "prompt_number": 598
    },
    {
     "cell_type": "markdown",
     "metadata": {},
     "source": [
      "##Show inertia curve:"
     ]
    },
    {
     "cell_type": "code",
     "collapsed": false,
     "input": [
      "ks = []\n",
      "inertias = []\n",
      "for i in range(1, 51):\n",
      "    model = KMeans(n_clusters=i).fit(dream_vectors)\n",
      "    ks.append(i)\n",
      "    inertias.append(model.inertia_)\n",
      "\n",
      "plt.plot(ks, inertias)\n",
      "plt.xlabel('K (number of clusters)')\n",
      "plt.ylabel('Inertia (higher numbers represent looser clusters)')"
     ],
     "language": "python",
     "metadata": {},
     "outputs": [
      {
       "metadata": {},
       "output_type": "pyout",
       "prompt_number": 599,
       "text": [
        "<matplotlib.text.Text at 0x10771c6d0>"
       ]
      },
      {
       "metadata": {},
       "output_type": "display_data",
       "png": "[encoded data removed]",
       "text": [
        "<matplotlib.figure.Figure at 0x105830e10>"
       ]
      }
     ],
     "prompt_number": 599
    },
    {
     "cell_type": "markdown",
     "metadata": {},
     "source": [
      "##Get the dreams closest to centroid of cluster:"
     ]
    },
    {
     "cell_type": "code",
     "collapsed": false,
     "input": [
      "#gives the coordinates of the centroid for each of the five clusters\n",
      "centroids_for_each_cluster = model_kmeans_5.cluster_centers_\n",
      "print centroids_for_each_cluster[4]"
     ],
     "language": "python",
     "metadata": {},
     "outputs": [
      {
       "output_type": "stream",
       "stream": "stdout",
       "text": [
        "[ 0.          0.          0.00136284 ...,  0.          0.          0.        ]\n"
       ]
      }
     ],
     "prompt_number": 616
    },
    {
     "cell_type": "code",
     "collapsed": false,
     "input": [
      "len(centroids_for_each_cluster[0])  #so, 4,523 features (words with tf-idf scores)?"
     ],
     "language": "python",
     "metadata": {},
     "outputs": [
      {
       "metadata": {},
       "output_type": "pyout",
       "prompt_number": 601,
       "text": [
        "4523"
       ]
      }
     ],
     "prompt_number": 601
    },
    {
     "cell_type": "code",
     "collapsed": false,
     "input": [
      "#I assume that the following returns the distance between each of the 5 cluster centroids and that dream\n",
      "#i.e., each row is a dream, which has 5 numbers that represent the distance betwen that dream and each \n",
      "#of the 5 cluster centroid  \n",
      "dream_distance_from_centroid = pairwise_distances(dream_vectors, Y=model_kmeans_5.cluster_centers_, metric='euclidean', n_jobs=1)"
     ],
     "language": "python",
     "metadata": {},
     "outputs": [],
     "prompt_number": 609
    },
    {
     "cell_type": "code",
     "collapsed": false,
     "input": [
      "#VS COULD DO THIS FOR EACH CLUSTER SEPARATELY? I.E., pairwise_distances(dream_vectors, Y=centroids_for_each_cluster[0] ..."
     ],
     "language": "python",
     "metadata": {},
     "outputs": []
    },
    {
     "cell_type": "code",
     "collapsed": false,
     "input": [
      "#gives the distances between all the dreams and centroid for cluster 1. i.e. first column of array above.\n",
      "dream_distance_from_centroid[:, 0] "
     ],
     "language": "python",
     "metadata": {},
     "outputs": [
      {
       "metadata": {},
       "output_type": "pyout",
       "prompt_number": 603,
       "text": [
        "array([ 0.99376899,  0.9392089 ,  0.99390158,  1.01908078,  0.99373761,\n",
        "        1.00932891,  1.00337936,  1.01303169,  1.00295813,  1.00425898,\n",
        "        0.93588212,  1.00674096,  1.02220447,  1.00824879,  0.97849103,\n",
        "        1.00961865,  0.95151426,  0.94973551,  1.00236344,  0.99968804,\n",
        "        1.00055489,  1.00108299,  1.00053076,  0.97525381,  1.0036238 ,\n",
        "        0.99727962,  1.01407845,  0.9657099 ,  1.00479205,  1.01371444,\n",
        "        0.99552111,  1.00101196,  1.00693924,  1.01052913,  1.00864303,\n",
        "        1.00558384,  1.01220788,  1.01323731,  1.00298947,  1.01287674,\n",
        "        0.9632802 ,  0.98453001,  1.00319003,  1.00691134,  1.00186775,\n",
        "        1.00503419,  1.00646073,  0.99197741,  1.01692679,  0.9938258 ,\n",
        "        0.99508901,  1.00833588,  0.96801627,  1.00583409,  0.98665369,\n",
        "        0.9999571 ,  0.96413438,  0.96134872,  0.98901066,  0.99146231,\n",
        "        1.01257657,  1.01839295,  1.01430199,  0.96672099,  0.97230709,\n",
        "        0.99989453,  0.98470531,  0.9891906 ,  1.00998261,  1.01744692,\n",
        "        1.02021502,  1.00266934,  0.99685837,  0.98747906,  0.97002154,\n",
        "        0.98831734,  0.99010869,  1.00268915,  1.00171758,  0.98836869,\n",
        "        1.01315378,  1.00513755,  0.98844012,  1.00774181,  1.00640326,\n",
        "        0.99752363,  1.00432783,  0.96857352,  1.00711234,  0.9528267 ,\n",
        "        1.00343836,  0.98992131,  1.01050417,  0.99766202,  0.99055704,\n",
        "        1.01977672,  1.01149742,  1.00003019,  1.00165533,  0.98827905,\n",
        "        0.99264676,  1.01347225,  0.99731347,  0.98036478,  0.98848357,\n",
        "        1.00117094,  0.982433  ,  1.00680993,  0.9840065 ,  1.02318872,\n",
        "        0.99750006,  0.97786625,  1.02149567,  0.98643339,  1.00910138,\n",
        "        0.99920829,  1.01001803,  0.96161279,  1.00007374,  0.96248804,\n",
        "        0.99001578,  1.00870148,  1.0066956 ,  0.9926421 ,  1.00414776,\n",
        "        0.96741991,  0.98734489,  1.01135104,  1.01089823,  1.00444695,\n",
        "        0.99522315,  0.99936285,  1.00183865,  0.99591787,  0.97151941,\n",
        "        1.00286915,  1.00961197,  0.97238007,  1.00927974,  0.98812779,\n",
        "        1.00097503,  1.01805038,  1.00588726,  1.0199999 ,  1.01608401,\n",
        "        1.02325623,  0.99345691,  0.98302607,  1.0095405 ,  0.964492  ,\n",
        "        1.01095197,  0.99097399,  0.99522011,  1.01779834,  0.98143382,\n",
        "        1.02149644,  0.9690867 ,  1.01714056,  1.01961915,  0.99927977,\n",
        "        1.01466518,  1.0131477 ,  0.98719741,  1.00096141,  1.00787874,\n",
        "        1.00589396,  1.00136028,  1.01409644,  1.01925631,  1.00914083,\n",
        "        0.99081998,  1.00283211,  1.00531736,  1.00671501,  0.98172136,\n",
        "        0.9919893 ,  1.00977577,  1.00987409,  0.99756379,  0.98694149,\n",
        "        1.01189834,  0.99332144,  0.98129592,  1.00182245,  1.0031141 ,\n",
        "        1.00817169,  1.01323795,  0.99882068,  1.0010561 ,  0.993828  ,\n",
        "        1.00177441,  1.00375248,  1.01204946,  1.00573714,  1.0084682 ,\n",
        "        0.96562201,  1.00833754,  1.00383055,  1.00427113,  0.98602026,\n",
        "        0.9963811 ,  1.0091488 ,  1.00917527,  0.99441906,  1.01327301,\n",
        "        1.00318549,  1.00330833,  1.00800639,  1.01099075,  1.01847753,\n",
        "        1.00028769,  1.00913001,  1.01880579,  1.01883182,  1.0136384 ,\n",
        "        1.00766538,  1.00830481,  1.0099995 ,  1.01175942,  0.98606609,\n",
        "        1.01316328,  1.00926346,  0.95262124,  1.01585636,  1.00073809,\n",
        "        1.0073347 ,  1.0102584 ,  0.98814262,  0.98892811,  0.99492184,\n",
        "        1.01255452,  1.00569431,  0.97955856,  1.00377785,  0.99786746,\n",
        "        1.00137441,  1.0029742 ,  1.00595501,  1.0051507 ,  1.00925089,\n",
        "        0.99389311,  0.98576959,  0.98248816,  0.98283326,  1.00659428,\n",
        "        0.98458079,  0.96365177,  1.00613933,  0.9904912 ,  1.01410648,\n",
        "        1.00331063,  0.99979158,  0.99380071,  1.01330449,  1.00090797,\n",
        "        1.00847237,  1.0179704 ,  1.0042959 ,  0.97795802,  0.96467298,\n",
        "        1.0148879 ,  1.00825439,  0.97469291,  0.99170295,  1.02009064,\n",
        "        1.0156485 ,  1.02553739,  1.01441757,  0.98217906,  0.99200486,\n",
        "        0.9792227 ,  0.99701389,  1.00993639,  0.99708929,  1.0072808 ,\n",
        "        1.01659531,  0.97288294,  0.99453523,  1.00269882,  0.99076497,\n",
        "        1.01808376,  1.01137498,  1.01269702,  0.99121701,  0.96517951,\n",
        "        0.98989034,  0.99231543,  0.99294732,  1.01307232,  0.96437925,\n",
        "        0.99792365,  1.01370764,  1.00833197,  1.02281392,  0.99017497,\n",
        "        0.98890822,  0.99439221,  1.00006172,  0.97915116,  0.97609286,\n",
        "        1.01080613,  1.01214881,  0.98291577,  0.99549552,  1.01218708,\n",
        "        1.00541877,  1.01642189,  0.97298292,  1.00360967,  0.99599237,\n",
        "        1.00082128,  0.99383582,  1.00054779,  0.99839818,  0.98651042,\n",
        "        0.99808053,  0.98510078,  0.99332662,  0.99992826,  1.0006022 ,\n",
        "        0.99727009,  0.98983662,  1.01423202,  1.00138159,  0.9887959 ,\n",
        "        1.00154519,  0.99700438,  1.00158956,  0.95223   ,  0.94576528,\n",
        "        0.99547929,  0.99230311,  0.99259474,  0.99364342,  0.98800382,\n",
        "        0.94091518,  0.99479893,  0.98096314,  0.93387417,  1.0030699 ,\n",
        "        1.0002437 ,  1.00830108,  1.00565491,  1.01566774,  0.99799071,\n",
        "        0.97935191,  1.00398141,  1.00774584,  1.00575145,  0.9913781 ,\n",
        "        1.00892379,  1.00413393,  1.00386421,  1.01547016,  1.00334318])"
       ]
      }
     ],
     "prompt_number": 603
    },
    {
     "cell_type": "code",
     "collapsed": false,
     "input": [
      "cluster2_distances = dream_distance_from_centroid[:,1]  #distances of all dreams from cluster 1 centroid"
     ],
     "language": "python",
     "metadata": {},
     "outputs": [],
     "prompt_number": 604
    },
    {
     "cell_type": "code",
     "collapsed": false,
     "input": [
      "len(cluster2_distances)  #makes sense"
     ],
     "language": "python",
     "metadata": {},
     "outputs": [
      {
       "metadata": {},
       "output_type": "pyout",
       "prompt_number": 605,
       "text": [
        "355"
       ]
      }
     ],
     "prompt_number": 605
    },
    {
     "cell_type": "code",
     "collapsed": false,
     "input": [
      "minimum_in_cluster2 = np.min(cluster2_distances)\n",
      "min_index_in_cluster2 = np.argmin(cluster2_distances)\n",
      "print 'min in cluster 2:', minimum_in_cluster2 \n",
      "print 'index:', min_index_in_cluster2\n",
      "\n",
      "#ok, except mulitple dreams with this number. and this just returns the first one that matches.\n",
      "#is it strange that a bunch have the same distance, or distances very very similar?? i assume theyre very slightly diff from ea other??\n",
      "#take a look at those"
     ],
     "language": "python",
     "metadata": {},
     "outputs": [
      {
       "output_type": "stream",
       "stream": "stdout",
       "text": [
        "min in cluster 2: 0.937692211434\n",
        "index: 52\n"
       ]
      }
     ],
     "prompt_number": 606
    },
    {
     "cell_type": "code",
     "collapsed": false,
     "input": [
      "print 'Cluster 2. {} dreams were similar to: '.format(len(dreams_in_clusters_dict[1])), dream_corpus[min_index_in_cluster2]"
     ],
     "language": "python",
     "metadata": {},
     "outputs": [
      {
       "output_type": "stream",
       "stream": "stdout",
       "text": [
        "Cluster 2. 107 dreams were similar to:  I was at the eye doctor in the mall but it was really big. Then all of a sudden here was my bed, so I sat on it. There were a lot of handsome men suddenly, and they were talking amongst themselves, not too far from my bed. I can\u2019t remember what I said to them, but they were making me feel uncomfortable. Then I was in a different place, and it was me and my boyfriend, and everything felt better. We were standing in line somewhere talking, and we were happy. Then I was at home, but my house looked a little different, almost altered, but the same? I felt confused. Then I was calling my best friend on the phone, I was worried about her, but when she came over something was missing, she wasn\u2019t pregnant like she is right now. I still felt a lot of concern for her. She was acting a little strange. So I guess I was getting ready to go, and I walk in my room to change and it was a store in the mall. Then, I leave my room to say goodbye to my mom and dad. When I opened their door I saw a glimpse of two naked people kissing, so I closed the door immediately and went to the front door. I remember feeling embarrassed, but the strange thing was that I don\u2019t think it was my parents. I\u2019m pretty sure it was me and my boyfriend. So then I\u2019m driving in my car with my best friend and we\u2019re talking, and she\u2019s pregnant again.\n"
       ]
      }
     ],
     "prompt_number": 607
    },
    {
     "cell_type": "code",
     "collapsed": false,
     "input": [
      "#show the top dream in each cluster\n",
      "\n",
      "for i in range(5):    \n",
      "    cluster_distances = dream_distance_from_centroid[:,i]    \n",
      "    minimum_in_cluster = np.min(cluster_distances)\n",
      "    min_index_in_cluster = np.argmin(cluster_distances)    \n",
      "    cluster_number = 'cluster' + str(i+1)\n",
      "    print cluster_number\n",
      "    print '{} dreams were similar to: '.format(len(dreams_in_clusters_dict[i])), dream_corpus_clean[min_index_in_cluster] \n",
      "    print"
     ],
     "language": "python",
     "metadata": {},
     "outputs": [
      {
       "output_type": "stream",
       "stream": "stdout",
       "text": [
        "cluster1\n",
        "41 dreams were similar to:  I was in a room that I didn\u2019t recognize but everyone in the room I was friends with. There was tons of people but no furnature. The people\u2019s voices were kind of blurry and I was pay attention to anyone. Then one of my good friends entered the room yelling. Two of my friends began screaming at each other, but what they said didn\u2019t make any sence. Everybody was standing in a group starring at the two of them fight. While everyone was watering, I walked out of the room and I was outside on the street. It was night and there was nobody on the street. As I was walking my cell phone began to ring, but I couldn\u2019t find it. I woke up to my alarm that I thought was my cell phone.\n",
        "\n",
        "cluster2\n",
        "107 dreams were similar to:  I was at the eye doctor in the mall but it was really big. Then all of a sudden here was my bed, so I sat on it. There were a lot of handsome men suddenly, and they were talking amongst themselves, not too far from my bed. I can\u2019t remember what I said to them, but they were making me feel uncomfortable. Then I was in a different place, and it was me and my boyfriend, and everything felt better. We were standing in line somewhere talking, and we were happy. Then I was at home, but my house looked a little different, almost altered, but the same? I felt confused. Then I was calling my best friend on the phone, I was worried about her, but when she came over something was missing, she wasn\u2019t pregnant like she is right now. I still felt a lot of concern for her. She was acting a little strange. So I guess I was getting ready to go, and I walk in my room to change and it was a store in the mall. Then, I leave my room to say goodbye to my mom and dad. When I opened their door I saw a glimpse of two naked people kissing, so I closed the door immediately and went to the front door. I remember feeling embarrassed, but the strange thing was that I don\u2019t think it was my parents. I\u2019m pretty sure it was me and my boyfriend. So then I\u2019m driving in my car with my best friend and we\u2019re talking, and she\u2019s pregnant again.\n",
        "\n",
        "cluster3\n",
        "61 dreams were similar to:  I don\u2019t remember much of my dream. I remember seeing a bunch of my friends faces & we were shopping & then we were at a house that we spend a lot of time at. I remember thinking how comfortable I was before my alarm went off & then how I really did not want to get up.\n",
        "\n",
        "cluster4\n",
        "84 dreams were similar to:  A big group of us were in a really big house. For some reason, I did not want to be found. I was running from room to room trying to avoid the people chasing me, eventually I found a room with lots of blue blankets. I covered up with those and shut my eyes. I don't recall anyone ever coming in after me. When I opened my eyes again I was tangled in the blankets. I had to tear them apart in order to run away. As I ran back through the house I saw a lot of people I knew. But I was no longer running from the bad guys. This time I walked down a long corridor and ended up at s BBQ with people I knew in high school. I sat at a table with old friends. They asked me about my ex-boyfriend, Chris. I told them I didn't think about him much except when I saw people with his eyes. When I went to pick up food from the line, Chris was right behind me. We hugged and started chatting and I couldn't help but notice how small his feet were.\n",
        "\n",
        "cluster5\n",
        "62 dreams were similar to:  I was driving down Archer Road and I was really excited because I was going to visit Brooke. Then I got really anxious because I recognized a car driving next to me and the person driving, Jake, was not someone I wanted to see. I ducked down so I couldn\u2019t be seen and the car kept going on its course without my touching the steering wheel.\n",
        "\n"
       ]
      }
     ],
     "prompt_number": 643
    },
    {
     "cell_type": "markdown",
     "metadata": {},
     "source": [
      "##Alt approach - calc pairwise distancse separately for each cluster"
     ]
    },
    {
     "cell_type": "code",
     "collapsed": false,
     "input": [
      "#Alt approach: #VS DO THIS FOR EACH CLUSTER SEPARATELY I.E., pairwise_distances(dream_vectors, Y=centroids_for_each_cluster[0] ...\n",
      "dream_distance_from_centroid_cluster1 = pairwise_distances(dream_vectors, Y=centroids_for_each_cluster[0], metric='euclidean', n_jobs=1)\n",
      "#try cosine"
     ],
     "language": "python",
     "metadata": {},
     "outputs": [],
     "prompt_number": 617
    },
    {
     "cell_type": "code",
     "collapsed": false,
     "input": [
      "dream_distance_from_centroid_cluster1[:10]  \n",
      "#seems this is the same as when do pairwise distances above with all clusters\n",
      "#so why would the dream closest to the centroids look different?"
     ],
     "language": "python",
     "metadata": {},
     "outputs": [
      {
       "metadata": {},
       "output_type": "pyout",
       "prompt_number": 620,
       "text": [
        "array([[ 0.99376899],\n",
        "       [ 0.9392089 ],\n",
        "       [ 0.99390158],\n",
        "       [ 1.01908078],\n",
        "       [ 0.99373761],\n",
        "       [ 1.00932891],\n",
        "       [ 1.00337936],\n",
        "       [ 1.01303169],\n",
        "       [ 1.00295813],\n",
        "       [ 1.00425898]])"
       ]
      }
     ],
     "prompt_number": 620
    },
    {
     "cell_type": "code",
     "collapsed": false,
     "input": [
      "alt_minimum_in_cluster1 = np.min(dream_distance_from_centroid_cluster1)\n",
      "alt_min_index_in_cluster1 = np.argmin(dream_distance_from_centroid_cluster1)\n",
      "print 'min in cluster 1:', alt_minimum_in_cluster1 \n",
      "print 'index:', alt_min_index_in_cluster1\n",
      "print 'Cluster 1. {} dreams were similar to: '.format(len(dreams_in_clusters_dict[0])), dream_corpus_clean[alt_min_index_in_cluster1]"
     ],
     "language": "python",
     "metadata": {},
     "outputs": [
      {
       "output_type": "stream",
       "stream": "stdout",
       "text": [
        "min in cluster 1: 0.933874168358\n",
        "index: 338\n",
        "Cluster 1. 41 dreams were similar to:  I was in a room that I didn\u2019t recognize but everyone in the room I was friends with. There was tons of people but no furnature. The people\u2019s voices were kind of blurry and I was pay attention to anyone. Then one of my good friends entered the room yelling. Two of my friends began screaming at each other, but what they said didn\u2019t make any sence. Everybody was standing in a group starring at the two of them fight. While everyone was watering, I walked out of the room and I was outside on the street. It was night and there was nobody on the street. As I was walking my cell phone began to ring, but I couldn\u2019t find it. I woke up to my alarm that I thought was my cell phone.\n"
       ]
      }
     ],
     "prompt_number": 623
    },
    {
     "cell_type": "code",
     "collapsed": false,
     "input": [
      "#compute distance of each dream to cluster centroid separately for each cluster\n",
      "\n",
      "for i in range(5):\n",
      "    alt_dream_distance_from_centroid_cluster = pairwise_distances(dream_vectors, Y=centroids_for_each_cluster[i], metric='euclidean', n_jobs=1)\n",
      "    \n",
      "    alt_minimum_in_cluster = np.min(alt_dream_distance_from_centroid_cluster)\n",
      "    alt_min_index_in_cluster = np.argmin(alt_dream_distance_from_centroid_cluster)\n",
      "    print 'min in cluster {}:'.format(i), alt_minimum_in_cluster \n",
      "    print 'index:', alt_min_index_in_cluster\n",
      "    print 'Cluster {}. {} dreams were similar to: '.format(i, len(dreams_in_clusters_dict[i])), dream_corpus_clean[alt_min_index_in_cluster]\n",
      "    print"
     ],
     "language": "python",
     "metadata": {},
     "outputs": [
      {
       "output_type": "stream",
       "stream": "stdout",
       "text": [
        "min in cluster 0: 0.933874168358\n",
        "index: 338\n",
        "Cluster 0. 41 dreams were similar to:  I was in a room that I didn\u2019t recognize but everyone in the room I was friends with. There was tons of people but no furnature. The people\u2019s voices were kind of blurry and I was pay attention to anyone. Then one of my good friends entered the room yelling. Two of my friends began screaming at each other, but what they said didn\u2019t make any sence. Everybody was standing in a group starring at the two of them fight. While everyone was watering, I walked out of the room and I was outside on the street. It was night and there was nobody on the street. As I was walking my cell phone began to ring, but I couldn\u2019t find it. I woke up to my alarm that I thought was my cell phone.\n",
        "\n",
        "min in cluster 1: 0.937692211434\n",
        "index: 52\n",
        "Cluster 1. 107 dreams were similar to:  I was at the eye doctor in the mall but it was really big. Then all of a sudden here was my bed, so I sat on it. There were a lot of handsome men suddenly, and they were talking amongst themselves, not too far from my bed. I can\u2019t remember what I said to them, but they were making me feel uncomfortable. Then I was in a different place, and it was me and my boyfriend, and everything felt better. We were standing in line somewhere talking, and we were happy. Then I was at home, but my house looked a little different, almost altered, but the same? I felt confused. Then I was calling my best friend on the phone, I was worried about her, but when she came over something was missing, she wasn\u2019t pregnant like she is right now. I still felt a lot of concern for her. She was acting a little strange. So I guess I was getting ready to go, and I walk in my room to change and it was a store in the mall. Then, I leave my room to say goodbye to my mom and dad. When I opened their door I saw a glimpse of two naked people kissing, so I closed the door immediately and went to the front door. I remember feeling embarrassed, but the strange thing was that I don\u2019t think it was my parents. I\u2019m pretty sure it was me and my boyfriend. So then I\u2019m driving in my car with my best friend and we\u2019re talking, and she\u2019s pregnant again.\n",
        "\n",
        "min in cluster 2: 0.94047895959\n",
        "index: 337\n",
        "Cluster 2. 61 dreams were similar to:  I don\u2019t remember much of my dream. I remember seeing a bunch of my friends faces & we were shopping & then we were at a house that we spend a lot of time at. I remember thinking how comfortable I was before my alarm went off & then how I really did not want to get up.\n",
        "\n",
        "min in cluster 3: 0.943807665409\n",
        "index: 276\n",
        "Cluster 3. 84 dreams were similar to:  A big group of us were in a really big house. For some reason, I did not want to be found. I was running from room to room trying to avoid the people chasing me, eventually I found a room with lots of blue blankets. I covered up with those and shut my eyes. I don't recall anyone ever coming in after me. When I opened my eyes again I was tangled in the blankets. I had to tear them apart in order to run away. As I ran back through the house I saw a lot of people I knew. But I was no longer running from the bad guys. This time I walked down a long corridor and ended up at s BBQ with people I knew in high school. I sat at a table with old friends. They asked me about my ex-boyfriend, Chris. I told them I didn't think about him much except when I saw people with his eyes. When I went to pick up food from the line, Chris was right behind me. We hugged and started chatting and I couldn't help but notice how small his feet were.\n",
        "\n",
        "min in cluster 4: 0.923971863024\n",
        "index: 304\n",
        "Cluster 4. 62 dreams were similar to:  I was driving down Archer Road and I was really excited because I was going to visit Brooke. Then I got really anxious because I recognized a car driving next to me and the person driving, Jake, was not someone I wanted to see. I ducked down so I couldn\u2019t be seen and the car kept going on its course without my touching the steering wheel.\n",
        "\n"
       ]
      }
     ],
     "prompt_number": 634
    },
    {
     "cell_type": "markdown",
     "metadata": {},
     "source": [
      "##Third alt approach:"
     ]
    },
    {
     "cell_type": "code",
     "collapsed": false,
     "input": [
      "# Alt, Tim's syntax:\n",
      "# from operator import itemgetter\n",
      "\n",
      "# centroids=k_means.cluster_centers_  #so far the same as mine\n",
      "\n",
      "# for center in centroids:\n",
      "#     center_dist=[]\n",
      "#     for x in range(len(tweet_bag)):\n",
      "#         #calculating distance to centroid separately for ea tweet. i.e., X passed through pairwise_distances is just for one tweet?\n",
      "#         center_dist.append(pairwise_distances(tweet_vectors[x],center))   \n",
      "#     print tweet_bag[min(enumerate(center_dist), key=itemgetter(1))[0]]   #look at more closely"
     ],
     "language": "python",
     "metadata": {},
     "outputs": []
    },
    {
     "cell_type": "code",
     "collapsed": false,
     "input": [
      "from operator import itemgetter\n",
      "\n",
      "for center in centroids_for_each_cluster:\n",
      "    center_dist=[]\n",
      "    for x in range(len(dream_corpus_clean)):\n",
      "        #calculating distance to centroid separately for ea tweet. i.e., X passed through pairwise_distances is just for one tweet?\n",
      "        center_dist.append(pairwise_distances(dream_vectors[x],center))   \n",
      "    print dream_corpus_clean[min(enumerate(center_dist), key=itemgetter(1))[0]]   #look at more closely\n",
      "    print"
     ],
     "language": "python",
     "metadata": {},
     "outputs": [
      {
       "output_type": "stream",
       "stream": "stdout",
       "text": [
        "I was in a room that I didn\u2019t recognize but everyone in the room I was friends with. There was tons of people but no furnature. The people\u2019s voices were kind of blurry and I was pay attention to anyone. Then one of my good friends entered the room yelling. Two of my friends began screaming at each other, but what they said didn\u2019t make any sence. Everybody was standing in a group starring at the two of them fight. While everyone was watering, I walked out of the room and I was outside on the street. It was night and there was nobody on the street. As I was walking my cell phone began to ring, but I couldn\u2019t find it. I woke up to my alarm that I thought was my cell phone.\n",
        "\n",
        "I was at the eye doctor in the mall but it was really big. Then all of a sudden here was my bed, so I sat on it. There were a lot of handsome men suddenly, and they were talking amongst themselves, not too far from my bed. I can\u2019t remember what I said to them, but they were making me feel uncomfortable. Then I was in a different place, and it was me and my boyfriend, and everything felt better. We were standing in line somewhere talking, and we were happy. Then I was at home, but my house looked a little different, almost altered, but the same? I felt confused. Then I was calling my best friend on the phone, I was worried about her, but when she came over something was missing, she wasn\u2019t pregnant like she is right now. I still felt a lot of concern for her. She was acting a little strange. So I guess I was getting ready to go, and I walk in my room to change and it was a store in the mall. Then, I leave my room to say goodbye to my mom and dad. When I opened their door I saw a glimpse of two naked people kissing, so I closed the door immediately and went to the front door. I remember feeling embarrassed, but the strange thing was that I don\u2019t think it was my parents. I\u2019m pretty sure it was me and my boyfriend. So then I\u2019m driving in my car with my best friend and we\u2019re talking, and she\u2019s pregnant again."
       ]
      },
      {
       "output_type": "stream",
       "stream": "stdout",
       "text": [
        "\n",
        "\n",
        "I don\u2019t remember much of my dream. I remember seeing a bunch of my friends faces & we were shopping & then we were at a house that we spend a lot of time at. I remember thinking how comfortable I was before my alarm went off & then how I really did not want to get up."
       ]
      },
      {
       "output_type": "stream",
       "stream": "stdout",
       "text": [
        "\n",
        "\n",
        "A big group of us were in a really big house. For some reason, I did not want to be found. I was running from room to room trying to avoid the people chasing me, eventually I found a room with lots of blue blankets. I covered up with those and shut my eyes. I don't recall anyone ever coming in after me. When I opened my eyes again I was tangled in the blankets. I had to tear them apart in order to run away. As I ran back through the house I saw a lot of people I knew. But I was no longer running from the bad guys. This time I walked down a long corridor and ended up at s BBQ with people I knew in high school. I sat at a table with old friends. They asked me about my ex-boyfriend, Chris. I told them I didn't think about him much except when I saw people with his eyes. When I went to pick up food from the line, Chris was right behind me. We hugged and started chatting and I couldn't help but notice how small his feet were."
       ]
      },
      {
       "output_type": "stream",
       "stream": "stdout",
       "text": [
        "\n",
        "\n",
        "I was driving down Archer Road and I was really excited because I was going to visit Brooke. Then I got really anxious because I recognized a car driving next to me and the person driving, Jake, was not someone I wanted to see. I ducked down so I couldn\u2019t be seen and the car kept going on its course without my touching the steering wheel."
       ]
      },
      {
       "output_type": "stream",
       "stream": "stdout",
       "text": [
        "\n",
        "\n"
       ]
      }
     ],
     "prompt_number": 642
    },
    {
     "cell_type": "markdown",
     "metadata": {},
     "source": [
      "##Get top 3 dreams per cluster"
     ]
    },
    {
     "cell_type": "code",
     "collapsed": false,
     "input": [
      "it = list(enumerate(alt_dream_distance_from_centroid_cluster[:5]))"
     ],
     "language": "python",
     "metadata": {},
     "outputs": [],
     "prompt_number": 652
    },
    {
     "cell_type": "code",
     "collapsed": false,
     "input": [
      "for x in it:\n",
      "    print x[1]"
     ],
     "language": "python",
     "metadata": {},
     "outputs": [
      {
       "output_type": "stream",
       "stream": "stdout",
       "text": [
        "[ 0.99734952]\n",
        "[ 0.99646222]\n",
        "[ 0.99449317]\n",
        "[ 1.0065465]\n",
        "[ 0.99991403]\n"
       ]
      }
     ],
     "prompt_number": 693
    },
    {
     "cell_type": "code",
     "collapsed": false,
     "input": [
      "it[]"
     ],
     "language": "python",
     "metadata": {},
     "outputs": [
      {
       "metadata": {},
       "output_type": "pyout",
       "prompt_number": 719,
       "text": [
        "[(0, array([ 0.99734952])),\n",
        " (1, array([ 0.99646222])),\n",
        " (2, array([ 0.99449317])),\n",
        " (3, array([ 1.0065465])),\n",
        " (4, array([ 0.99991403]))]"
       ]
      }
     ],
     "prompt_number": 719
    },
    {
     "cell_type": "code",
     "collapsed": false,
     "input": [
      "sorted(it)"
     ],
     "language": "python",
     "metadata": {},
     "outputs": [
      {
       "metadata": {},
       "output_type": "pyout",
       "prompt_number": 720,
       "text": [
        "[(0, array([ 0.99734952])),\n",
        " (1, array([ 0.99646222])),\n",
        " (2, array([ 0.99449317])),\n",
        " (3, array([ 1.0065465])),\n",
        " (4, array([ 0.99991403]))]"
       ]
      }
     ],
     "prompt_number": 720
    },
    {
     "cell_type": "code",
     "collapsed": false,
     "input": [
      "#np.sort(it, order=1)\n",
      "y = sorted(it, key=lambda tup: tup[1])"
     ],
     "language": "python",
     "metadata": {},
     "outputs": [],
     "prompt_number": 731
    },
    {
     "cell_type": "code",
     "collapsed": false,
     "input": [
      "y"
     ],
     "language": "python",
     "metadata": {},
     "outputs": [
      {
       "metadata": {},
       "output_type": "pyout",
       "prompt_number": 732,
       "text": [
        "[(2, array([ 0.99449317])),\n",
        " (1, array([ 0.99646222])),\n",
        " (0, array([ 0.99734952])),\n",
        " (4, array([ 0.99991403])),\n",
        " (3, array([ 1.0065465]))]"
       ]
      }
     ],
     "prompt_number": 732
    },
    {
     "cell_type": "code",
     "collapsed": false,
     "input": [
      "y[0][1], y[0][0]"
     ],
     "language": "python",
     "metadata": {},
     "outputs": [
      {
       "metadata": {},
       "output_type": "pyout",
       "prompt_number": 736,
       "text": [
        "(array([ 0.99449317]), 2)"
       ]
      }
     ],
     "prompt_number": 736
    },
    {
     "cell_type": "code",
     "collapsed": false,
     "input": [
      "def print_representative_dreams_for_each_cluster(num_clusters, num_dreams_to_print_per_cluster):\n",
      "    for i in range(num_clusters):\n",
      "        #get distance from each dream to centroid for cluster 1, then for cluster 2, etc.\n",
      "        alt_dream_distance_from_centroid_cluster = pairwise_distances(dream_vectors, Y=centroids_for_each_cluster[i], metric='euclidean', n_jobs=1)\n",
      "\n",
      "        enum_dream_distance_from_centroid = list(enumerate(alt_dream_distance_from_centroid_cluster))\n",
      "        dream_distance_from_centroid_sorted = sorted(enum_dream_distance_from_centroid, key=lambda tup: tup[1])\n",
      "\n",
      "        print \n",
      "\n",
      "        for x in range(num_dreams_to_print_per_cluster):\n",
      "\n",
      "            min_in_cluster = dream_distance_from_centroid_sorted[x][1]\n",
      "            min_index_in_cluster = dream_distance_from_centroid_sorted[x][0]\n",
      "\n",
      "            print 'min {} for cluster {}:'.format(x+1, i+1), min_in_cluster \n",
      "            print 'index:', min_index_in_cluster\n",
      "            print 'Cluster {}. {} dreams were similar to: '.format(i+1, len(dreams_in_clusters_dict[i])), dream_corpus_clean[min_index_in_cluster]\n",
      "            print"
     ],
     "language": "python",
     "metadata": {},
     "outputs": [],
     "prompt_number": 756
    },
    {
     "cell_type": "code",
     "collapsed": false,
     "input": [
      "print_representative_dreams_for_each_cluster(5, 3)"
     ],
     "language": "python",
     "metadata": {},
     "outputs": [
      {
       "output_type": "stream",
       "stream": "stdout",
       "text": [
        "\n",
        "min 1 for cluster 1: [ 0.93387417]\n",
        "index: 338\n",
        "Cluster 1. 41 dreams were similar to:  I was in a room that I didn\u2019t recognize but everyone in the room I was friends with. There was tons of people but no furnature. The people\u2019s voices were kind of blurry and I was pay attention to anyone. Then one of my good friends entered the room yelling. Two of my friends began screaming at each other, but what they said didn\u2019t make any sence. Everybody was standing in a group starring at the two of them fight. While everyone was watering, I walked out of the room and I was outside on the street. It was night and there was nobody on the street. As I was walking my cell phone began to ring, but I couldn\u2019t find it. I woke up to my alarm that I thought was my cell phone.\n",
        "\n",
        "min 2 for cluster 1: [ 0.93588212]\n",
        "index: 10\n",
        "Cluster 1. 41 dreams were similar to:  I was in a room that I didn\u2019t recognize but everybody in the room I was friends with. There was tons of people but no furniture. The people\u2019s voices were kind of blurry and I was pay attention to anyone. Then one of my good friends entered the room yelling. Two of my friends began screaming at each other but what they said didn\u2019t make any sense. Everybody was sitting in a room staring at the two of them fight. While everyone was watching, I walked out of the room and was outside on the street. It was night and there was nobody on the street. As I was walking my cell phone began to ring, but I couldn\u2019t find it.\n",
        "\n",
        "min 3 for cluster 1: [ 0.9392089]\n",
        "index: 1\n",
        "Cluster 1. 41 dreams were similar to:  I was in modern day Jerusalem, but I can remember thinking how the landscape looked more like Ireland to me. The dream started off in either my aunt\u2019s or my grandma\u2019s house. We were getting ready to go on a trip and there were a couple suitcases open in the large bathroom. I vaguely remember something about the power going out for a little while\u2026I recall wanting to pack up and get on out trip but not being too agitated either. At one point, things were just slow to get going and my aunt playfully ran into the large bathroom where the suitcases were \u2013 there was someone else sitting in there. Auntie sat next to them on the ground and I looked over at the jeans she was wearing. I thought to myself how weird it was that she had cut the length off of the back of them so the leg wouldn\u2019t drag on the ground but had left the front the same length. Auntie had previously stepped on the scale and it registered something like 70 kilograms. I ran over to the scale and it registered something like 80 kilos. I was trying to convert that over to pounds and she asked me what the scale said. Even though it had registered as more than her, I was quite carefree about the whole thing and told her and I think she helped me figure it out. Sometime after this we were on our trip and in a small, charming western town. There was a fairly large group of us, but I can only identify my friend Rochelle as being with us. We went into the restaurant that was well lit, had a couple walls missing so the breeze from the outside circulated through (it was a beautiful, sunny day) and the benches and tables were made of sturdy wood. For some reason, not everyone in our group was there and so we were ordering in spurts. Rochelle was one of the first to order. Her order came about an hour later \u2013 waffles, some type of meat, and two delicious looking poached eggs. But I remember thinking that with a wait time like that, it would take about an hour and a half for everyone to get their food! I was both amused and irritated by this. Then, somehow, we ended up in this castle-like structure in Jerusalem. I was with a couple other people, but I can only distinctly remember my grandma commenting on how King David, who had lived in this castle, had been this horrible tyrant and was spurting off some narrative about him. This didn\u2019t seem quite right to me. As I looked out one of the castle\u2019s windows onto the landscape of the green city, I remembered that King David had been a \u201cman after God\u2019s own heart.\u201d I couldn\u2019t believe that Lolita was so grossly mistaken and tried to go and say something to argue with her, but she brushed me off and went down the castle steps.\n",
        "\n",
        "\n",
        "min 1 for cluster 2: [ 0.93769221]\n",
        "index: 52\n",
        "Cluster 2. 107 dreams were similar to:  I was at the eye doctor in the mall but it was really big. Then all of a sudden here was my bed, so I sat on it. There were a lot of handsome men suddenly, and they were talking amongst themselves, not too far from my bed. I can\u2019t remember what I said to them, but they were making me feel uncomfortable. Then I was in a different place, and it was me and my boyfriend, and everything felt better. We were standing in line somewhere talking, and we were happy. Then I was at home, but my house looked a little different, almost altered, but the same? I felt confused. Then I was calling my best friend on the phone, I was worried about her, but when she came over something was missing, she wasn\u2019t pregnant like she is right now. I still felt a lot of concern for her. She was acting a little strange. So I guess I was getting ready to go, and I walk in my room to change and it was a store in the mall. Then, I leave my room to say goodbye to my mom and dad. When I opened their door I saw a glimpse of two naked people kissing, so I closed the door immediately and went to the front door. I remember feeling embarrassed, but the strange thing was that I don\u2019t think it was my parents. I\u2019m pretty sure it was me and my boyfriend. So then I\u2019m driving in my car with my best friend and we\u2019re talking, and she\u2019s pregnant again.\n",
        "\n",
        "min 2 for cluster 2: [ 0.93865406]\n",
        "index: 63\n",
        "Cluster 2. 107 dreams were similar to:  I was at some kind of gather of family and friends and I knew there was a baby around that I wanted to hold. But the mom needed the baby\u2019s things like a dollhouse and stroller so a couple of my friends and I went down an elevator to the lower levels of the building and retrieved those items and shopped a little. I felt like I had been in that shop many times before and I was in the aisle that I was always in when I went in so I didn\u2019t get anything. I went ahead of my two friends and I got to hold the baby. I don\u2019t know the mother of the baby, but the baby knew me and I don\u2019t know the gender. I thought maybe a boy. I tried keeping his head up but it was all squashed and deformed. But then when I help him up over my shoulder, his neck and head were okay. When I help him up in front of me where I could see his front, he was deformed at the neck and head and he talked to me like an older child would. My two friends came back after a while and one had definitely showered. My family and I, some friends, and Jennifer Lopez were at some kind of sports event. I had watched this type of rugby-ish game before. It had little girls and boys and older ones too. There was even a girl from Santa Clara. I think I was talking to this kid who I knew (an older version of the baby earlier, but a girl) about the game. The teams were the Yeses and the No\u2019s and I told her that she was a Maybe or that someone else was a Maybe. I had played the game before or had been there numerous times. I felt nostalgic and wanted to share the old game with her even if it was filled of cliques and was so dramatic. There were girls nearby talking about across the street where there was a school, called Eden. They were raving about how cute the boys over there were and then I remembered I had done and thought the same thing: used binoculars to look at the cute boys. The girl beside me told me about a boy she liked who was playing the game. I think it was called Eiffel ball. And I recalled a time when I had liked a boy too. The game was coed and of different ages and so my crush would inevitably show. I told her he must have gone to college because I couldn\u2019t spot him. I was also in college, but this felt like a high school event. I sat near my parents and the baby sat diagonally behind me with her mom and the mom kept complaining about how J. Lo\u2019s hair was in the way. I saw the mom\u2019s face, but I can\u2019t remember it. I told them to sit next to me but they didn\u2019t want to. J. Lo turned around and smiled. The announcer or some guy with a microphone was going through the crowd and random people would say something, like a quote, into the mic. J. Lo said hers and I thought \u2018that\u2019s so totally J. Lo\u2019, because she had said that quote somewhere else too. I started complaining to my dad that the game looked fake and planned out. He said it\u2019s supposed to be like that and after they\u2019ll start to play for real, the beginning is just dramatic and for show. I think my parents were in a fight but I was in Santa Clara, in my dorm with my friends when I got a phone call from my mom. She said that a family friend has a family member in the hospital who is dying. She said my brother was coming to pick him up and bring him to the airport. I ran out, yelled for my brother and looked for his car, but I couldn\u2019t find him. My SCU family friend lived in Casa so I went over there to be with him until my brother arrived. It didn\u2019t really look like Casa and all the people I saw were from my high school. I knew this because I saw one of my old crushes, but he ignored me, but not in an impolite way, he was just talking to other people. I just needed to find the family friend. As I was about to ask if the boys had seen him, I saw my friend from high school from South Carolina and ran to him. I was no longer looking for the family friend. He then became the one who needed comfort because someone in his family was dying or died. I hugged him when I knelt down in the floor to where he was sitting. He was sweaty, didn\u2019t have his glasses, and had been listening to music.\n",
        "\n",
        "min 3 for cluster 2: [ 0.94147463]\n",
        "index: 289\n",
        "Cluster 2. 107 dreams were similar to:  I can't remember how exactly it started, but somehow I was with my family in some city. I'm not sure where, and we were all walking downtown and I saw this girl who I actually only met a few weeks ago, but she was walking towards me and at first I was excited to see her, then I realized somehow that she was a boy, like she had facial hair. I just remember being so confused because when I met her I thought she was cute (I'm gay) but in my dream she was like male and it confused me so much. I wanted to go ask her what happened and I was trying to follow her but she went into a building and I tried to go follow her but my sister was telling me how we had to leave for our trip. Somehow, we got to this house on a hill with a big balcony and everyone was running around and moving things around. I didn't know that I was supposed to be doing or even why they all were in such a hurry. I felt really bad because they were acting like I was in there way, but I didn't know what was going on. then my mom was like, OK well, it's time to. And I was following them all down this path and there was a house and she was like we can't go in yet, we'll have to sleep outside and I was really annoyed because my brother tried to take the nice soft looking spot and I wanted to sleep there. We started arguing.\n",
        "\n",
        "\n",
        "min 1 for cluster 3: [ 0.94047896]\n",
        "index: 337\n",
        "Cluster 3. 61 dreams were similar to:  I don\u2019t remember much of my dream. I remember seeing a bunch of my friends faces & we were shopping & then we were at a house that we spend a lot of time at. I remember thinking how comfortable I was before my alarm went off & then how I really did not want to get up.\n",
        "\n",
        "min 2 for cluster 3: [ 0.94132429]\n",
        "index: 334\n",
        "Cluster 3. 61 dreams were similar to:  Wow, right before waking up I was crying in my sleep! I was exclaiming something emotionally to my friend and current suitemate, that \u201cEven though you look much different now, you\u2019ve always been beautiful to me.\u201d Before that I said, \u201cI know I\u2019m a girl and everything, but you\u2019ve always been beautiful.\u201d I said this to her, honestly meaning them & looking into her eyes and holding her two hands. (In real life I really do cherish her as one of my best friends too). The setting I can\u2019t quite remember now\u2026perhaps a living room environment. I was sitting or lying down to the left of my friend, and we were both facing my boyfriend. He was telling her, sincerely & kindly yet was brutally honest that \u201c\u2026I thought you were unattractive,\u201d but when he saw her another time or at another place, he thought she was attractive. The point he goes on to say is a piece of advice: that you should find someone who doesn\u2019t look at how you look, that cares about the person you are. The faces of my friend and my boyfriend were distinct & pretty clear. I remember seeing color (normal tones I think, not too bright etc) and I remember feeling a lot of emotion, and thinking too.\n",
        "\n",
        "min 3 for cluster 3: [ 0.94311715]\n",
        "index: 29\n",
        "Cluster 3. 61 dreams were similar to:  I do remember playing soccer. I think I tried out and made a Russian? Professional team. The most intense emotion I can remember having in a dream in quite some time was the feeling of excitement I had in hearing I\u2019d be starting in the 1st game, which was about to begin, I think.\n",
        "\n",
        "\n",
        "min 1 for cluster 4: [ 0.94380767]\n",
        "index: 276\n",
        "Cluster 4. 84 dreams were similar to:  A big group of us were in a really big house. For some reason, I did not want to be found. I was running from room to room trying to avoid the people chasing me, eventually I found a room with lots of blue blankets. I covered up with those and shut my eyes. I don't recall anyone ever coming in after me. When I opened my eyes again I was tangled in the blankets. I had to tear them apart in order to run away. As I ran back through the house I saw a lot of people I knew. But I was no longer running from the bad guys. This time I walked down a long corridor and ended up at s BBQ with people I knew in high school. I sat at a table with old friends. They asked me about my ex-boyfriend, Chris. I told them I didn't think about him much except when I saw people with his eyes. When I went to pick up food from the line, Chris was right behind me. We hugged and started chatting and I couldn't help but notice how small his feet were.\n",
        "\n",
        "min 2 for cluster 4: [ 0.94457613]\n",
        "index: 231\n",
        "Cluster 4. 84 dreams were similar to:  My younger cousin was applying to go to a very selective private school for kids that was located underneath the water in the middle of the Indian Ocean. One of my other cousins already went to school there. I was taking her to the school, and to get there we had to swim. The actual entrance to the school was a big mud plateau in the middle of the ocean; to get in you had to sink below the mud, and then you would drop below the ocean into a long narrow tunnel (vertical) that made me feel really claustrophobic. I took my cousin inside and the director of the school was showing us around, but I don\u2019t remember much about the inside of the school. Then I was in the ocean swimming again (not sure about this transition), but this time I was with two other people, both female, but I\u2019m not sure who they were. Then a polar bear showed up. He was huge. When he opened his mouth, his enormous teeth were dripping with blood. He was standing on top of the water, almost dancing. We knew we were going to get eaten. We swam toward the school entrance but he ate one of the people I was with. Then we got to the school entrance which had turned into a huge whirlpool. Then there were a bunch of people swimming around in the whirlpool, and the polar bear started trying to eat people then, bit the other girl I had been with before. I was scared to get eaten, but I knew I was dreaming so I woke myself up.\n",
        "\n",
        "min 3 for cluster 4: [ 0.94634096]\n",
        "index: 156\n",
        "Cluster 4. 84 dreams were similar to:  The dream started in the living room of a house, with about 8 of my friends and I watching In Living Color, but it was a new episode and wasn\u2019t funny or anything related to what the original was. It was filming a guy on the porch of his house, (the guy was doing something I don\u2019t recall), and I realized that I recognized the house he was at, and that his house was across the street. So we all went outside and watched some random guy making a fool of himself, which is apparently what In Living Color became. After this dream became surprisingly, weirder and less understandable. My friends and I decided that we needed drugs, so we decided to go get some. We ended up at my elementary school, which is although it was still on elementary school, it was a bar and arcade inside with lots of people and lights. I had to go use the restroom, so I did, and I met a guy who wanted to sell me drugs. I went back out to my friends and we gave the guy a couple hundred dollars. His friend, (who had somehow shown up), pulled a gun out and the other guy reached into his back pocket. I thought \u201cdamn, cops\u201d, but it turned out that he just had water balloons, which he started throwing at us while yelling at us to get lost. At this point a cop did show up, and he pulled his gun on the other guys. Something happened, but I didn\u2019t think I even dreamed about it, it\u2019s not that I can\u2019t remember. Regardless, my friends and I were now walking down the street outside of my elementary school with beer, drugs, and all of our money back. At this point, my younger brother was now with us, and he was telling us that the house on the corner that we were approaching had a crazy old lady who lived in it and she leeched internet and tech support from SCU, (which was now at the same location as my elementary school and the arcade place, but this didn\u2019t create a problem for my dream). We went onto this lady\u2019s well-lit front porch, which I thought was a bad idea because those drug dealers from before might see us. Sure enough, they did show up, and we all started arguing. Then I looked down the street and saw an enormous sun rising. Except that this \u201csun\u201d wasn\u2019t rising, it was just a big ball of fire and it streaked across the sky. Then it turned out to be a spaceship the size of a city, and it crashed down the street. Myself, my friends, and the drug dealers (who we were now on very good terms with), went down to check it out. It was surrounded by a chain link fence and had government agents everywhere already, which I remember thinking was rather surprising and unnaturally fast. We still went inside and started watching a display on the side of the ship with some of the government guys. It turned out to be a video game of some sort with different colored characters, and we all started betting on them and cheering.\n",
        "\n",
        "\n",
        "min 1 for cluster 5: [ 0.92397186]\n",
        "index: 304\n",
        "Cluster 5. 62 dreams were similar to:  I was driving down Archer Road and I was really excited because I was going to visit Brooke. Then I got really anxious because I recognized a car driving next to me and the person driving, Jake, was not someone I wanted to see. I ducked down so I couldn\u2019t be seen and the car kept going on its course without my touching the steering wheel.\n",
        "\n",
        "min 2 for cluster 5: [ 0.93597374]\n",
        "index: 213\n",
        "Cluster 5. 62 dreams were similar to:  I was in a car alone, driving. It was very quiet. There was no are else on the road. I started to feel anxious when I could not figure out if it was my car that I was driving, or somebody else\u2019s. I could not tell because I really could not distinguish anything on the inside.\n",
        "\n",
        "min 3 for cluster 5: [ 0.93777745]\n",
        "index: 74\n",
        "Cluster 5. 62 dreams were similar to:  I was planning to go to a couple of stores. One to get some things I needed as well as a plush football. I arrived at Walmart and realized that I could get everything that I needed there. Before I thought I had to make another trip somewhere else. As I pulled into the parking lot I saw a smiling man walking around. Then I saw the same man but this time he was wearing the store uniform. As I pulled into the parking space I crashed into a shopping cart and hit the check on the steering wheel. I then called my mom and told her about my little accident. Then I started going to the store and as I was entering I met a couple of my friends. They walked into the store with me and I remember thinking that I needed to get some books. I then started walking down the aisle and I saw bunch of the plush footballs that I wanted to get. I picked one out and then realized that it might be intended to be a dog toy. Then I remember walking around a bunch of machines that sell little toys. I was looking to set some kind of decorations, possibly for my hands. Some of the machines were difficult to reach. I then remember going to eat some food with a couple of my friends. After that I remember being inside of a store with the same friends. One of them, however, kept changing from my friend to another guy that I know. I then started asking that friend if he\u2019s e interested in going to the store that we were already standing in. he said he\u2019d go but that he wanted to get some food first. I laughed at him, along with one of the store employees and told him that we had already gotten some food. But he didn\u2019t eat much, so he wanted to go again. I then remember being in the car with my two friends. I was driving and one of my friends was trying to figure out where to go. One of my friends suggested going somewhere far and taking the freeway, but my other friend told him that I wasn\u2019t a good enough driver to do that. Then I remember that there was some kind of slow slot car like game where the trick shifts below the ground to form a loop like a freeway . I was first looking at it like it was a toy but then the car got transferred. I remember that my friends were saying that the only way the transaction could work was if there was something on the bottom, where the track went. I then remember being transported to watching a movie with my grandma. The movie was about the Sand Pearl Jam and his grandma wanted to know where a certain song occurred. She then said that she likes my band\u2019s music here. I told her that silly because Pearl Jam is considered one of the biggest bands in America\n",
        "\n"
       ]
      }
     ],
     "prompt_number": 757
    },
    {
     "cell_type": "markdown",
     "metadata": {},
     "source": [
      "##Show words that are representative or unique to clusters:"
     ]
    },
    {
     "cell_type": "code",
     "collapsed": false,
     "input": [
      "#getrow -- i'll have 5 of them if i add all the sentences together into each cluster, w 5 clusters\n",
      "#then can get indices (numbers) and the tf-idf with r.indices and r.data\n",
      "#then can get the names of the columns with: get_feature_names()  #will return words\n",
      "#(or .vocabulary_ ...but skip this)\n",
      "\n",
      "#vectorizer.get_feature_names() will return the words that represnet each column\n",
      "#so could find the 5 biggest tf-idfs in each row (cluster), find their indices, and then uses those indices to get the names\n",
      "#i assume with get_features(58)    -for index/column 58"
     ],
     "language": "python",
     "metadata": {},
     "outputs": []
    },
    {
     "cell_type": "code",
     "collapsed": false,
     "input": [
      "# for dream in dreams_in_clusters_dict[0]:\n",
      "#     print dream\n",
      "#     print"
     ],
     "language": "python",
     "metadata": {},
     "outputs": [],
     "prompt_number": 498
    },
    {
     "cell_type": "code",
     "collapsed": false,
     "input": [
      "# all_dreams = ''\n",
      "# for dream in dreams_in_clusters_dict[0]:\n",
      "#     all_dreams = all_dreams + ' ' + dream"
     ],
     "language": "python",
     "metadata": {},
     "outputs": [],
     "prompt_number": 492
    },
    {
     "cell_type": "code",
     "collapsed": false,
     "input": [
      "def combine_dreams_in_ea_cluster(num_clusters):\n",
      "    dream_corpus_clustered = []\n",
      "    for i in range(num_clusters):  #num of clusters\n",
      "        all_dreams = ''\n",
      "        for dream in dreams_in_clusters_dict[i]:\n",
      "            all_dreams = all_dreams + ' ' + dream\n",
      "        dream_corpus_clustered.append(all_dreams)\n",
      "    return dream_corpus_clustered"
     ],
     "language": "python",
     "metadata": {},
     "outputs": [],
     "prompt_number": 514
    },
    {
     "cell_type": "code",
     "collapsed": false,
     "input": [
      "dreams_by_cluster_list = combine_dreams_in_ea_cluster(5)\n",
      "len(dreams_by_cluster_list)"
     ],
     "language": "python",
     "metadata": {},
     "outputs": [
      {
       "metadata": {},
       "output_type": "pyout",
       "prompt_number": 525,
       "text": [
        "5"
       ]
      }
     ],
     "prompt_number": 525
    },
    {
     "cell_type": "code",
     "collapsed": false,
     "input": [
      "vectorizer = TfidfVectorizer(stop_words=\"english\")  \n",
      "dreams_by_cluster_vectors = vectorizer.fit_transform(dreams_by_cluster_list)"
     ],
     "language": "python",
     "metadata": {},
     "outputs": [],
     "prompt_number": 526
    },
    {
     "cell_type": "code",
     "collapsed": false,
     "input": [
      "from scipy.sparse import coo_matrix"
     ],
     "language": "python",
     "metadata": {},
     "outputs": [],
     "prompt_number": 799
    },
    {
     "cell_type": "code",
     "collapsed": false,
     "input": [
      "c_matrix = coo_matrix(dreams_by_cluster_vectors)"
     ],
     "language": "python",
     "metadata": {},
     "outputs": [],
     "prompt_number": 800
    },
    {
     "cell_type": "code",
     "collapsed": false,
     "input": [
      "count = 0\n",
      "for i, j, v in zip(c_matrix.row, c_matrix.col, c_matrix.data):\n",
      "    print i, j, v\n",
      "    count += 1\n",
      "    if count == 10:\n",
      "        break"
     ],
     "language": "python",
     "metadata": {},
     "outputs": [
      {
       "output_type": "stream",
       "stream": "stdout",
       "text": [
        "0 4359 0.0107415595956\n",
        "0 4475 0.00605160730834\n",
        "0 2488 0.0107415595956\n",
        "0 308 0.00719374764925\n",
        "0 399 0.00719374764925\n",
        "0 2923 0.00866622264738\n",
        "0 2092 0.0107415595956\n",
        "0 400 0.00605160730834\n",
        "0 3774 0.00511841070102\n",
        "0 2234 0.00605160730834\n"
       ]
      }
     ],
     "prompt_number": 801
    },
    {
     "cell_type": "code",
     "collapsed": false,
     "input": [
      "mylist = []\n",
      "mylist.append((1, 9))\n",
      "mylist\n",
      "mylist.append((88, 74))\n",
      "mylist"
     ],
     "language": "python",
     "metadata": {},
     "outputs": [
      {
       "metadata": {},
       "output_type": "pyout",
       "prompt_number": 808,
       "text": [
        "[(1, 9), (88, 74)]"
       ]
      }
     ],
     "prompt_number": 808
    },
    {
     "cell_type": "code",
     "collapsed": false,
     "input": [
      "#iterate through and put into a list with the index and tf-idf as a tuple. and then sort to get highest tfidfs and their indices\n",
      "variable_list = []\n",
      "for row, index, tfidf in zip(c_matrix.row, c_matrix.col, c_matrix.data):\n",
      "    if row == 0:\n",
      "        variable_list.append((index, tfidf))"
     ],
     "language": "python",
     "metadata": {},
     "outputs": [],
     "prompt_number": 809
    },
    {
     "cell_type": "code",
     "collapsed": false,
     "input": [
      "len(variable_list)"
     ],
     "language": "python",
     "metadata": {},
     "outputs": [
      {
       "metadata": {},
       "output_type": "pyout",
       "prompt_number": 810,
       "text": [
        "1537"
       ]
      }
     ],
     "prompt_number": 810
    },
    {
     "cell_type": "code",
     "collapsed": false,
     "input": [
      "variable_list_test = [(index, tfidf) for row, index, tfidf in zip(c_matrix.row, c_matrix.col, c_matrix.data) if row == i]"
     ],
     "language": "python",
     "metadata": {},
     "outputs": [],
     "prompt_number": 851
    },
    {
     "cell_type": "code",
     "collapsed": false,
     "input": [
      "len(variable_list_test)"
     ],
     "language": "python",
     "metadata": {},
     "outputs": [
      {
       "metadata": {},
       "output_type": "pyout",
       "prompt_number": 852,
       "text": [
        "1537"
       ]
      }
     ],
     "prompt_number": 852
    },
    {
     "cell_type": "code",
     "collapsed": false,
     "input": [
      "variables_sorted_by_tfidf = sorted(variable_list, key=lambda tup: tup[1], reverse=True)\n",
      "#lamda function somehow knows that iterating through with tup, and saying set the key to sort by as tup[1]"
     ],
     "language": "python",
     "metadata": {},
     "outputs": [],
     "prompt_number": 823
    },
    {
     "cell_type": "code",
     "collapsed": false,
     "input": [
      "a = variables_sorted_by_tfidf[:50]"
     ],
     "language": "python",
     "metadata": {},
     "outputs": [],
     "prompt_number": 824
    },
    {
     "cell_type": "code",
     "collapsed": false,
     "input": [
      "a"
     ],
     "language": "python",
     "metadata": {},
     "outputs": [
      {
       "metadata": {},
       "output_type": "pyout",
       "prompt_number": 827,
       "text": [
        "[(2365, 0.18426278523676098),\n",
        " (3247, 0.18426278523676098),\n",
        " (2886, 0.17914437453573984),\n",
        " (3346, 0.17914437453573984),\n",
        " (1692, 0.17402596383471872),\n",
        " (2019, 0.16890755313369757),\n",
        " (1782, 0.16378914243267642),\n",
        " (1694, 0.15355232103063415),\n",
        " (1198, 0.14843391032961301),\n",
        " (1798, 0.13819708892757074),\n",
        " (2209, 0.13307867822654959),\n",
        " (3385, 0.13307867822654959),\n",
        " (4410, 0.12796026752552847),\n",
        " (1545, 0.12284185682450732),\n",
        " (3187, 0.12284185682450732),\n",
        " (3792, 0.11260503542246504),\n",
        " (1306, 0.10748662472144391),\n",
        " (4182, 0.10236821402042277),\n",
        " (3432, 0.10236821402042277),\n",
        " (622, 0.10236821402042277),\n",
        " (2849, 0.096825716933474387),\n",
        " (547, 0.092131392618380492),\n",
        " (4078, 0.087012981917359358),\n",
        " (1869, 0.087012981917359358),\n",
        " (2779, 0.087012981917359358),\n",
        " (517, 0.081894571216338211),\n",
        " (2262, 0.081894571216338211),\n",
        " (2337, 0.081894571216338211),\n",
        " (993, 0.081894571216338211),\n",
        " (3370, 0.076776160515317077),\n",
        " (2835, 0.072619287700105783),\n",
        " (3982, 0.071657749814295943),\n",
        " (1197, 0.071657749814295943),\n",
        " (4046, 0.071657749814295943),\n",
        " (4105, 0.071657749814295943),\n",
        " (2739, 0.071657749814295943),\n",
        " (1437, 0.071657749814295943),\n",
        " (2680, 0.071657749814295943),\n",
        " (387, 0.066567680391763639),\n",
        " (2430, 0.066567680391763639),\n",
        " (1278, 0.066539339113274795),\n",
        " (305, 0.066539339113274795),\n",
        " (1957, 0.066539339113274795),\n",
        " (254, 0.066539339113274795),\n",
        " (1750, 0.066539339113274795),\n",
        " (1886, 0.064743728843273937),\n",
        " (2949, 0.064449357573679894),\n",
        " (644, 0.061420928412253661),\n",
        " (1761, 0.061420928412253661),\n",
        " (4048, 0.061420928412253661)]"
       ]
      }
     ],
     "prompt_number": 827
    },
    {
     "cell_type": "code",
     "collapsed": false,
     "input": [
      "a[1][1]"
     ],
     "language": "python",
     "metadata": {},
     "outputs": [
      {
       "metadata": {},
       "output_type": "pyout",
       "prompt_number": 830,
       "text": [
        "0.18426278523676098"
       ]
      }
     ],
     "prompt_number": 830
    },
    {
     "cell_type": "code",
     "collapsed": false,
     "input": [
      "max_index_in_cluster = variables_sorted_by_tfidf[0][0]\n",
      "word = vectorizer.get_feature_names()[max_index_in_cluster]"
     ],
     "language": "python",
     "metadata": {},
     "outputs": [],
     "prompt_number": 837
    },
    {
     "cell_type": "code",
     "collapsed": false,
     "input": [
      "max_index_in_cluster"
     ],
     "language": "python",
     "metadata": {},
     "outputs": [
      {
       "metadata": {},
       "output_type": "pyout",
       "prompt_number": 838,
       "text": [
        "2365"
       ]
      }
     ],
     "prompt_number": 838
    },
    {
     "cell_type": "code",
     "collapsed": false,
     "input": [
      "word"
     ],
     "language": "python",
     "metadata": {},
     "outputs": [
      {
       "metadata": {},
       "output_type": "pyout",
       "prompt_number": 839,
       "text": [
        "u'like'"
       ]
      }
     ],
     "prompt_number": 839
    },
    {
     "cell_type": "code",
     "collapsed": false,
     "input": [
      "def print_top_words_in_cluster(number_words):\n",
      "    word_list = []\n",
      "    for x in range(number_words):\n",
      "        #max_in_cluster = variables_sorted_by_tfidf[x][1]\n",
      "        max_index_in_cluster = variables_sorted_by_tfidf[x][0]\n",
      "        word = vectorizer.get_feature_names()[max_index_in_cluster]\n",
      "        word_list.append(word)\n",
      "\n",
      "    print 'Words representative of Cluster {}: '.format(1), word_list\n",
      "    print"
     ],
     "language": "python",
     "metadata": {},
     "outputs": [],
     "prompt_number": 840
    },
    {
     "cell_type": "code",
     "collapsed": false,
     "input": [
      "print_top_words_in_cluster(10)"
     ],
     "language": "python",
     "metadata": {},
     "outputs": [
      {
       "output_type": "stream",
       "stream": "stdout",
       "text": [
        "Words representative of Cluster 1:  [u'like', u'remember', u'people', u'room', u'friend', u'house', u'going', u'friends', u'didn', u'got']\n",
        "\n"
       ]
      }
     ],
     "prompt_number": 844
    },
    {
     "cell_type": "code",
     "collapsed": false,
     "input": [
      "def print_representative_words(number_clusters, number_words, c_matrix):\n",
      "    for i in range(number_clusters):\n",
      "        \n",
      "#         variable_list = []\n",
      "#         for row, index, tfidf in zip(c_matrix.row, c_matrix.col, c_matrix.data):\n",
      "#             if row == i:\n",
      "#                 variable_list.append((index, tfidf))\n",
      "\n",
      "        #iterate through sparse/coo matrix to get tuples:\n",
      "        variable_list = [(index, tfidf) for row, index, tfidf in zip(c_matrix.row, c_matrix.col, c_matrix.data) if row == i]\n",
      "        variables_sorted_by_tfidf = sorted(variable_list, key=lambda tup: tup[1], reverse=True)\n",
      "            \n",
      "        word_list = []\n",
      "        for x in range(number_words):\n",
      "            #max_in_cluster = variables_sorted_by_tfidf[x][1]\n",
      "            max_index_in_cluster = variables_sorted_by_tfidf[x][0]\n",
      "            word = vectorizer.get_feature_names()[max_index_in_cluster]\n",
      "            word_list.append(word)\n",
      "\n",
      "        print 'Words representative of Cluster {}: '.format(i+1), word_list\n",
      "        print"
     ],
     "language": "python",
     "metadata": {},
     "outputs": [],
     "prompt_number": 853
    },
    {
     "cell_type": "code",
     "collapsed": false,
     "input": [
      "print_representative_words(5, 20, c_matrix)"
     ],
     "language": "python",
     "metadata": {},
     "outputs": [
      {
       "output_type": "stream",
       "stream": "stdout",
       "text": [
        "Words representative of Cluster 1:  [u'like', u'remember', u'people', u'room', u'friend', u'house', u'going', u'friends', u'didn', u'got', u'just', u'said', u'went', u'felt', u'really', u'started', u'dream', u'trying', u'school', u'came']\n",
        "\n",
        "Words representative of Cluster 2: "
       ]
      },
      {
       "output_type": "stream",
       "stream": "stdout",
       "text": [
        " [u'got', u'remember', u'people', u'house', u'just', u'went', u'like', u'didn', u'canoe', u'spare', u'tried', u'school', u'really', u'started', u'grass', u'time', u'wasn', u'going', u'said', u'jeff']\n",
        "\n",
        "Words representative of Cluster 3: "
       ]
      },
      {
       "output_type": "stream",
       "stream": "stdout",
       "text": [
        " [u'remember', u'friend', u'like', u'dream', u'room', u'just', u'didn', u'people', u'went', u'think', u'really', u'started', u'friends', u'told', u'said', u'felt', u'saw', u'thought', u'school', u'got']\n",
        "\n",
        "Words representative of Cluster 4: "
       ]
      },
      {
       "output_type": "stream",
       "stream": "stdout",
       "text": [
        " [u'house', u'really', u'friends', u'friend', u'remember', u'got', u'dream', u'room', u'went', u'time', u'going', u'like', u'kept', u'felt', u'people', u'didn', u'knew', u'trying', u'just', u'family']\n",
        "\n",
        "Words representative of Cluster 5: "
       ]
      },
      {
       "output_type": "stream",
       "stream": "stdout",
       "text": [
        " [u'like', u'remember', u'going', u'people', u'started', u'house', u'friends', u'really', u'got', u'didn', u'went', u'friend', u'dream', u'felt', u'looked', u'school', u'told', u'room', u'just', u'said']\n",
        "\n"
       ]
      }
     ],
     "prompt_number": 859
    },
    {
     "cell_type": "markdown",
     "metadata": {},
     "source": [
      "##Do same as above but just with nouns"
     ]
    },
    {
     "cell_type": "code",
     "collapsed": false,
     "input": [
      "from textblob import TextBlob"
     ],
     "language": "python",
     "metadata": {},
     "outputs": [],
     "prompt_number": 860
    },
    {
     "cell_type": "code",
     "collapsed": false,
     "input": [
      "t = 'hello here i am, i remember wearing shoes and aimlessly hunting.'"
     ],
     "language": "python",
     "metadata": {},
     "outputs": [],
     "prompt_number": 946
    },
    {
     "cell_type": "code",
     "collapsed": false,
     "input": [
      "t2 = ['hello here i am, wearing shoes.', 'And i will walk the dog now.']"
     ],
     "language": "python",
     "metadata": {},
     "outputs": [],
     "prompt_number": 889
    },
    {
     "cell_type": "code",
     "collapsed": false,
     "input": [
      "#a2 = TextBlob(t2)"
     ],
     "language": "python",
     "metadata": {},
     "outputs": [],
     "prompt_number": 1032
    },
    {
     "cell_type": "code",
     "collapsed": false,
     "input": [
      "a = TextBlob(t)"
     ],
     "language": "python",
     "metadata": {},
     "outputs": [],
     "prompt_number": 947
    },
    {
     "cell_type": "code",
     "collapsed": false,
     "input": [
      "a.tags"
     ],
     "language": "python",
     "metadata": {},
     "outputs": [
      {
       "metadata": {},
       "output_type": "pyout",
       "prompt_number": 948,
       "text": [
        "[(u'hello', u'UH'),\n",
        " (u'here', u'RB'),\n",
        " (u'i', u'PRP'),\n",
        " (u'am', u'VBP'),\n",
        " (u'i', u'PRP'),\n",
        " (u'remember', u'VB'),\n",
        " (u'wearing', u'VBG'),\n",
        " (u'shoes', u'NNS'),\n",
        " (u'and', u'CC'),\n",
        " (u'aimlessly', u'RB'),\n",
        " (u'hunting', u'NN')]"
       ]
      }
     ],
     "prompt_number": 948
    },
    {
     "cell_type": "code",
     "collapsed": false,
     "input": [
      "t2 = 'hello here i am, wearing shoes.'\n",
      "\n",
      "word_list_test = []\n",
      "for x in range(30):\n",
      "    #max_in_cluster = variables_sorted_by_tfidf[x][1]\n",
      "    max_index_in_cluster = variables_sorted_by_tfidf[x][0]\n",
      "    word = vectorizer.get_feature_names()[max_index_in_cluster]\n",
      "    word_list_test.append(word)\n",
      "    \n",
      "group_of_words = ''\n",
      "for word in word_list_test:\n",
      "    group_of_words = group_of_words + ' ' + word\n",
      "    \n",
      "#or an do this with a .join and list comprehension in one line"
     ],
     "language": "python",
     "metadata": {},
     "outputs": []
    },
    {
     "cell_type": "code",
     "collapsed": false,
     "input": [
      "group_of_words"
     ],
     "language": "python",
     "metadata": {},
     "outputs": [
      {
       "metadata": {},
       "output_type": "pyout",
       "prompt_number": 870,
       "text": [
        "u' like remember people room friend house going friends didn got just said went felt really started dream trying school came party brother time guy outside boyfriend know left couldn running'"
       ]
      }
     ],
     "prompt_number": 870
    },
    {
     "cell_type": "code",
     "collapsed": false,
     "input": [
      "a2 = TextBlob(group_of_words)"
     ],
     "language": "python",
     "metadata": {},
     "outputs": [],
     "prompt_number": 871
    },
    {
     "cell_type": "code",
     "collapsed": false,
     "input": [
      "a2"
     ],
     "language": "python",
     "metadata": {},
     "outputs": [
      {
       "metadata": {},
       "output_type": "pyout",
       "prompt_number": 872,
       "text": [
        "TextBlob(\" like remember people room friend house going friends didn got just said went felt really started dream trying school came party brother time guy outside boyfriend know left couldn running\")"
       ]
      }
     ],
     "prompt_number": 872
    },
    {
     "cell_type": "code",
     "collapsed": false,
     "input": [
      "a2.tags"
     ],
     "language": "python",
     "metadata": {},
     "outputs": [
      {
       "metadata": {},
       "output_type": "pyout",
       "prompt_number": 873,
       "text": [
        "[(u'like', u'IN'),\n",
        " (u'remember', u'VB'),\n",
        " (u'people', u'NNS'),\n",
        " (u'room', u'NN'),\n",
        " (u'friend', u'NN'),\n",
        " (u'house', u'NN'),\n",
        " (u'going', u'VBG'),\n",
        " (u'friends', u'NNS'),\n",
        " (u'didn', u'VBD'),\n",
        " (u'got', u'VBD'),\n",
        " (u'just', u'RB'),\n",
        " (u'said', u'VBD'),\n",
        " (u'went', u'VBD'),\n",
        " (u'felt', u'VBD'),\n",
        " (u'really', u'RB'),\n",
        " (u'started', u'VBD'),\n",
        " (u'dream', u'NN'),\n",
        " (u'trying', u'VBG'),\n",
        " (u'school', u'NN'),\n",
        " (u'came', u'VBD'),\n",
        " (u'party', u'NN'),\n",
        " (u'brother', u'NN'),\n",
        " (u'time', u'NN'),\n",
        " (u'guy', u'NN'),\n",
        " (u'outside', u'IN'),\n",
        " (u'boyfriend', u'NN'),\n",
        " (u'know', u'VB'),\n",
        " (u'left', u'VBN'),\n",
        " (u'couldn', u'NN'),\n",
        " (u'running', u'VBG')]"
       ]
      }
     ],
     "prompt_number": 873
    },
    {
     "cell_type": "code",
     "collapsed": false,
     "input": [
      "a3 = []\n",
      "for word in a2.tags:\n",
      "    if word[1] == 'NN' or word[1] == 'NNS':\n",
      "        a3.append(word[0])\n",
      "        \n",
      "a3"
     ],
     "language": "python",
     "metadata": {},
     "outputs": [
      {
       "metadata": {},
       "output_type": "pyout",
       "prompt_number": 992,
       "text": [
        "[u'people',\n",
        " u'room',\n",
        " u'friend',\n",
        " u'house',\n",
        " u'friends',\n",
        " u'dream',\n",
        " u'school',\n",
        " u'party',\n",
        " u'brother',\n",
        " u'time',\n",
        " u'guy',\n",
        " u'boyfriend',\n",
        " u'couldn']"
       ]
      }
     ],
     "prompt_number": 992
    },
    {
     "cell_type": "code",
     "collapsed": false,
     "input": [
      "' '.join([word[0] for word in a2.tags if word[1] == 'NN'])"
     ],
     "language": "python",
     "metadata": {},
     "outputs": [
      {
       "metadata": {},
       "output_type": "pyout",
       "prompt_number": 898,
       "text": [
        "u'room friend house dream school party brother time guy boyfriend couldn'"
       ]
      }
     ],
     "prompt_number": 898
    },
    {
     "cell_type": "code",
     "collapsed": false,
     "input": [
      "#prob makes sense to just select nouns at outset and put them into string with .join method\n",
      "#then tfidf vectorize, etc.\n",
      "\n",
      "#makes sense to try other clustering algos where i can use cosine distance, because kmeans only uses euclidiean.\n",
      "#the pairwise_distances is euclidean here but that's not affecting the clusters, and doesn't really matter much\n",
      "#or as much as what the clustering algoright is using.\n",
      "\n",
      "#sentiment notes: maybe divide dreams into pos and neg with sentiment. and then cluster. \n",
      "#or cluster and then rate each cluster's sentiment. or maybe other options\n",
      "#but if just lump sentiment in with 1000s of tfidfs, then they might get drowned out."
     ],
     "language": "python",
     "metadata": {},
     "outputs": []
    },
    {
     "cell_type": "code",
     "collapsed": false,
     "input": [
      "#get dreams strings into noun strings -- take dream_corpus and return same thing excetp strings of nouns for ea dream\n",
      "#TextBlob can't take a list. needs just a string. so iterate through the dream_corpus_clean\n",
      "dream_nouns_corpus =[]\n",
      "for dream in dream_corpus_clean:\n",
      "    textblob_dream = TextBlob(dream)\n",
      "    dream_nouns = ' '.join([dream_word[0] for dream_word in textblob_dream.tags if dream_word[1] == 'NN'])  #add: or dream_word == 'NNS'\n",
      "    dream_nouns_corpus.append(dream_nouns)  "
     ],
     "language": "python",
     "metadata": {},
     "outputs": [],
     "prompt_number": 963
    },
    {
     "cell_type": "code",
     "collapsed": false,
     "input": [
      "vectorizer_nouns = TfidfVectorizer(stop_words=\"english\")  \n",
      "dream_vectors_nouns = vectorizer_nouns.fit_transform(dream_nouns_corpus)  #this is the X to pass into ml cluster algo. a list of strings."
     ],
     "language": "python",
     "metadata": {},
     "outputs": [],
     "prompt_number": 1014
    },
    {
     "cell_type": "code",
     "collapsed": false,
     "input": [
      "model_kmeans_nouns_5 = KMeans(n_clusters=5)  #set n_init higher\n",
      "clusters_kmeans_nouns_5 = model_kmeans_nouns_5.fit_predict(dream_vectors_nouns)"
     ],
     "language": "python",
     "metadata": {},
     "outputs": [],
     "prompt_number": 1015
    },
    {
     "cell_type": "code",
     "collapsed": false,
     "input": [
      "def dreams_dict_by_cluster(clusters, corpus):\n",
      "    clusters_to_dreams = defaultdict(list)\n",
      "    for i, category in enumerate(clusters):\n",
      "        dream = corpus[i]\n",
      "        clusters_to_dreams[category].append(dream)\n",
      "    return clusters_to_dreams\n",
      "\n",
      "noun_dreams_in_clusters_dict = dreams_dict_by_cluster(clusters_kmeans_nouns_5, dream_nouns_corpus)"
     ],
     "language": "python",
     "metadata": {},
     "outputs": [],
     "prompt_number": 1016
    },
    {
     "cell_type": "code",
     "collapsed": false,
     "input": [
      "#noun_dreams_in_clusters_dict[0]"
     ],
     "language": "python",
     "metadata": {},
     "outputs": [],
     "prompt_number": 973
    },
    {
     "cell_type": "code",
     "collapsed": false,
     "input": [
      "#gives the coordinates of the centroid for each of the five clusters\n",
      "centroids_for_each_noun_cluster = model_kmeans_nouns_5.cluster_centers_\n",
      "noun_dream_distance_from_centroid = pairwise_distances(dream_vectors_nouns, Y=centroids_for_each_noun_cluster, metric='euclidean', n_jobs=1)"
     ],
     "language": "python",
     "metadata": {},
     "outputs": [],
     "prompt_number": 1019
    },
    {
     "cell_type": "code",
     "collapsed": false,
     "input": [
      "#noun_dream_distance_from_centroid"
     ],
     "language": "python",
     "metadata": {},
     "outputs": [],
     "prompt_number": 1029
    },
    {
     "cell_type": "code",
     "collapsed": false,
     "input": [
      "#noun_dream_distance_from_centroid[:,1]"
     ],
     "language": "python",
     "metadata": {},
     "outputs": [],
     "prompt_number": 1028
    },
    {
     "cell_type": "code",
     "collapsed": false,
     "input": [
      "def print_representative_dreams_for_each_cluster(num_clusters, num_dreams_to_print_per_cluster, dream_distance_from_centroid_cluster, dreams_in_clusters_dict):\n",
      "    for i in range(num_clusters):\n",
      "\n",
      "        enum_dream_distance_from_centroid = list(enumerate(dream_distance_from_centroid_cluster[:,i]))\n",
      "        dream_distance_from_centroid_sorted = sorted(enum_dream_distance_from_centroid, key=lambda tup: tup[1])\n",
      "\n",
      "        print \n",
      "\n",
      "        for x in range(num_dreams_to_print_per_cluster):\n",
      "\n",
      "            min_in_cluster = dream_distance_from_centroid_sorted[x][1]\n",
      "            min_index_in_cluster = dream_distance_from_centroid_sorted[x][0]\n",
      "\n",
      "            print 'min {} for cluster {}:'.format(x+1, i+1), min_in_cluster \n",
      "            print 'index:', min_index_in_cluster\n",
      "            print 'Cluster {}. {} dreams were similar to: '.format(i+1, len(dreams_in_clusters_dict[i])), dream_corpus_clean[min_index_in_cluster]\n",
      "            print\n",
      "\n",
      "print_representative_dreams_for_each_cluster(5, 3, noun_dream_distance_from_centroid, noun_dreams_in_clusters_dict)"
     ],
     "language": "python",
     "metadata": {},
     "outputs": [
      {
       "output_type": "stream",
       "stream": "stdout",
       "text": [
        "\n",
        "min 1 for cluster 1: 0.238838307306\n",
        "index: 128\n",
        "Cluster 1. 42 dreams were similar to:  I was being chased by someone was coming after me, and I kept getting away. I don\u2019t remember much more than that. He was grasping my wrists pretty tightly.\n",
        "\n",
        "min 2 for cluster 1: 0.904597231366\n",
        "index: 224\n",
        "Cluster 1. 42 dreams were similar to:  Taking drivers ed again for college. It was like I didn\u2019t know how to drive again. No one did. We all had to take a new and harder class. My roommate and three other friends took the class with me. It was hard. I remember my friend Gonzaya called and asked if I passed the test but I wasn\u2019t taking the test because it was more than I wanted to think about. Wes and I were studying a speech on the elevator and I couldn\u2019t memorize it and I was embarrassed, I remember speaking.\n",
        "\n",
        "min 3 for cluster 1: 0.91243738404\n",
        "index: 245\n",
        "Cluster 1. 42 dreams were similar to:  I was on campus walking towards Benson when a couple of my friends came walking by and asking, \u201chow come you\u2019re not going to class?\u201d and I responded \u201cWhat do you mean?\u201d They said, \u201cYou have chem. class now!\u201d Suddenly it occurred to me that I did and ran the opposite direction towards Daly Science where my chem. class was. During the run I though to myself, \u201cI\u2019m so late I might as well skip\u201d, but I went to class anyway. I ran up a grassy hill and at the bottom on the other side was a building I knew was Daly. I was breathing hard but kept running with the thought, \u201cYou\u2019re late!\u201d I came in and took my seat. The room was sort of dark and the teacher, who I did not recognize but assume, was my chem. teacher, said. \u201cNow put everything away except for a pen and calculator.\u201d I thought \u201cOh, shit! It\u2019s a test! But I didn\u2019t study and I can\u2019t fail!\u201d I felt my heart race as the test got to me. I told myself \u201cYou\u2019ve taken chem. twice in high school. You can get partial credit at least!\u201d But when I looked at the test, it looked more like calculus problems with some diagrams of atoms and part of a financial balance sheet. I thought \u201cOh, no! I can\u2019t answer of these! I\u2019m gonna fail!\u201d and my heart felt like it skipped beats, my mind went blank and my body went limp. A heavy feeling of hopelessness came over me.\n",
        "\n",
        "\n",
        "min 1 for cluster 2: 0.345073765812\n",
        "index: 128\n",
        "Cluster 2. 44 dreams were similar to:  I was being chased by someone was coming after me, and I kept getting away. I don\u2019t remember much more than that. He was grasping my wrists pretty tightly.\n",
        "\n",
        "min 2 for cluster 2: 0.823925277706\n",
        "index: 349\n",
        "Cluster 2. 44 dreams were similar to:  In my dream, I was in a large house that I was unfamiliar with. The house was modern, white, and had very green plants. Throughout the dream, I was trying to get away from someone or something that was following and coming after me. I made my way through and around the inside and outside of the house in attempts to escape what was chasing me. However, the house seemed like a maze and I felt scared, anxious, and stressed as I tried to figure out which way to go.\n",
        "\n",
        "min 3 for cluster 2: 0.885525351585\n",
        "index: 181\n",
        "Cluster 2. 44 dreams were similar to:  I\u2019m in a van with a friend I haven\u2019t seen in maybe six months. We are going to burglarize a house and have similar clothes on although I\u2019m not sure what. So we get outside this house and there\u2019s a tall wrought iron fence between us and the dark Spanish-style house. I think I remember a dog barking also somewhere. Just as we\u2019re about to climb the fence either a light comes on in the house or I just decide that I don\u2019t want to go in. My friend is not having any of it and tries to talk me into it but I just have a bad feeling about it. I end up leaving him there and end up walking down a corridor of an apartment building which I guess is the only way to get back out to the street. As I\u2019m walking out the front door of the building, I pass a couple who is entering- they now look at me and just say my name, first and last and walks by.\n",
        "\n",
        "\n",
        "min 1 for cluster 3: 0.254129539658\n",
        "index: 128\n",
        "Cluster 3. 81 dreams were similar to:  I was being chased by someone was coming after me, and I kept getting away. I don\u2019t remember much more than that. He was grasping my wrists pretty tightly.\n",
        "\n",
        "min 2 for cluster 3: 0.91905536138\n",
        "index: 286\n",
        "Cluster 3. 81 dreams were similar to:  I went back to my dorm room and there were 2 squirrels in there which was a surprise! So I went in the hall and my roommate was out there and asked if I had seen them. Then my dog came and chased the squirrels out and Meg and I went and locked ourselves in our room and that\u2019s all I can remember.\n",
        "\n",
        "min 3 for cluster 3: 0.921095864892\n",
        "index: 65\n",
        "Cluster 3. 81 dreams were similar to:  In a car w/ my roommate some boy and Dr. Cuddy from House we\u2019re driving to a concert in a Camry and the dancing lot is the full. My roommate says good thing we got here early. I say I\u2019m hungry and Dr. Cuddy offers me a piece of gum. The guy wants a piece too so she reluctantly gives him one. We\u2019re back at the dorms (not my dorm). There is a suite down the hall with a few girls they ask me and a few friends who are hanging out in my room to drive them to the grocery store to buy food but we have to leave now because one of the girls has a meeting at 3. Then my guy friend walks in and the girl says \u201cshit\u201d because it\u2019s the guy she\u2019s supposed to be meeting with.\n",
        "\n",
        "\n",
        "min 1 for cluster 4: 0.206634083479\n",
        "index: 128\n",
        "Cluster 4. 92 dreams were similar to:  I was being chased by someone was coming after me, and I kept getting away. I don\u2019t remember much more than that. He was grasping my wrists pretty tightly.\n",
        "\n",
        "min 2 for cluster 4: 0.932382033099\n",
        "index: 289\n",
        "Cluster 4. 92 dreams were similar to:  I can't remember how exactly it started, but somehow I was with my family in some city. I'm not sure where, and we were all walking downtown and I saw this girl who I actually only met a few weeks ago, but she was walking towards me and at first I was excited to see her, then I realized somehow that she was a boy, like she had facial hair. I just remember being so confused because when I met her I thought she was cute (I'm gay) but in my dream she was like male and it confused me so much. I wanted to go ask her what happened and I was trying to follow her but she went into a building and I tried to go follow her but my sister was telling me how we had to leave for our trip. Somehow, we got to this house on a hill with a big balcony and everyone was running around and moving things around. I didn't know that I was supposed to be doing or even why they all were in such a hurry. I felt really bad because they were acting like I was in there way, but I didn't know what was going on. then my mom was like, OK well, it's time to. And I was following them all down this path and there was a house and she was like we can't go in yet, we'll have to sleep outside and I was really annoyed because my brother tried to take the nice soft looking spot and I wanted to sleep there. We started arguing.\n",
        "\n",
        "min 3 for cluster 4: 0.939490528802\n",
        "index: 179\n",
        "Cluster 4. 92 dreams were similar to:  The first thing I remember is being at the Cal Train Station. I remember waiting forever I get on the train. I remember thinking that I was feeling anxious and just wanted to be on the train. I was in so much of a rush I was telling people to hurry up but I also forgot something myself when I got on the train. After taking the Cal Train, my family and I rented a car. I clearly remember that all the roads we drove on were heading south. At one time we had to make a u-turn because it was a one way street. At this point I know I talked to my brother and sister about something but I forget. The next dream sequence landed the car driving through Malibu and Pepperdine University. I commented to my dad I\u2019m glad to chose Santa Clara over Pepperdine. As we were driving I remember looking out the window at all the nice houses in the area and wishing I could live in a house like that. As we were driving we came to what was supposed to be UCLA. I told my mom that she wouldn\u2019t be able to convince me to change schools. This UCLS, however, was like a waterpark. It was early morning and there were little kids running around with a lot of Disney costume people. I remember asking myself where all the students, but remembering it was early and most students sleep in. The final thing in my dream was a girl from my high school, Christina Murrillo, walking by with her friends. I said hi to her and thought that her friends were very pretty. Participant Code: 5794\n",
        "\n",
        "\n",
        "min 1 for cluster 5: 0.213808651805\n",
        "index: 128\n",
        "Cluster 5. 96 dreams were similar to:  I was being chased by someone was coming after me, and I kept getting away. I don\u2019t remember much more than that. He was grasping my wrists pretty tightly.\n",
        "\n",
        "min 2 for cluster 5: 0.904210984281\n",
        "index: 106\n",
        "Cluster 5. 96 dreams were similar to:  My dream jumped from one thing to another. I was shopping with some friends at the mall looking at jewelry. Then I was with my dad and my sister. My dad bought a present for my cousin but the store closed when he decided he wanted to return it. I felt frusterated b/c he always waits until the last minute to do things. After that I started being really mean to random people I saw and really outgoing. I pushed my sister to tell this guy I heard singing that was really bad. She did but she said he didn\u2019t believe her. Then I was alone in a store and I was calling my dad to find him and was feeling angry. A girl was mimicking what I said so I yelled at her and walked away. Next I was at home and trying to find something to eat but everyone else in my family was already eating all the good stuff but I wasn\u2019t angry this time I was calm.\n",
        "\n",
        "min 3 for cluster 5: 0.932315274383\n",
        "index: 52\n",
        "Cluster 5. 96 dreams were similar to:  I was at the eye doctor in the mall but it was really big. Then all of a sudden here was my bed, so I sat on it. There were a lot of handsome men suddenly, and they were talking amongst themselves, not too far from my bed. I can\u2019t remember what I said to them, but they were making me feel uncomfortable. Then I was in a different place, and it was me and my boyfriend, and everything felt better. We were standing in line somewhere talking, and we were happy. Then I was at home, but my house looked a little different, almost altered, but the same? I felt confused. Then I was calling my best friend on the phone, I was worried about her, but when she came over something was missing, she wasn\u2019t pregnant like she is right now. I still felt a lot of concern for her. She was acting a little strange. So I guess I was getting ready to go, and I walk in my room to change and it was a store in the mall. Then, I leave my room to say goodbye to my mom and dad. When I opened their door I saw a glimpse of two naked people kissing, so I closed the door immediately and went to the front door. I remember feeling embarrassed, but the strange thing was that I don\u2019t think it was my parents. I\u2019m pretty sure it was me and my boyfriend. So then I\u2019m driving in my car with my best friend and we\u2019re talking, and she\u2019s pregnant again.\n",
        "\n"
       ]
      }
     ],
     "prompt_number": 1027
    },
    {
     "cell_type": "code",
     "collapsed": false,
     "input": [
      "def combine_dreams_in_ea_cluster(num_clusters, cluster_dict):\n",
      "    dream_corpus_clustered = []\n",
      "    for i in range(num_clusters):  #num of clusters\n",
      "        all_dreams = ''\n",
      "        for dream in cluster_dict[i]:\n",
      "            all_dreams = all_dreams + ' ' + dream\n",
      "        dream_corpus_clustered.append(all_dreams)\n",
      "    \n",
      "    \n",
      "# this looks fine, all nouns:\n",
      "#     for cluster in dream_corpus_clustered:\n",
      "#         print cluster\n",
      "#         print\n",
      "        \n",
      "    \n",
      "    \n",
      "    vectorizer = TfidfVectorizer(stop_words=\"english\")  \n",
      "    dreams_by_cluster_vectors = vectorizer.fit_transform(dream_corpus_clustered)\n",
      "    c_matrix = coo_matrix(dreams_by_cluster_vectors)\n",
      "    return c_matrix, vectorizer\n",
      "\n",
      "\n",
      "#c_matrix_nouns, vectorizer_nouns_clusters = combine_dreams_in_ea_cluster(5, noun_dreams_in_clusters_dict)"
     ],
     "language": "python",
     "metadata": {},
     "outputs": [],
     "prompt_number": 986
    },
    {
     "cell_type": "code",
     "collapsed": false,
     "input": [
      "def print_representative_words(number_clusters, number_words, c_matrix, vectorizer):\n",
      "    for i in range(number_clusters):\n",
      "        \n",
      "        #iterate through sparse/coo matrix to get tuples:\n",
      "        variable_list = [(index, tfidf) for row, index, tfidf in zip(c_matrix.row, c_matrix.col, c_matrix.data) if row == i]\n",
      "        variables_sorted_by_tfidf = sorted(variable_list, key=lambda tup: tup[1], reverse=True)\n",
      "            \n",
      "        word_list = []\n",
      "        for x in range(number_words):\n",
      "            max_index_in_cluster = variables_sorted_by_tfidf[x][0]\n",
      "            word = vectorizer.get_feature_names()[max_index_in_cluster]     #!!!!!!!!!!!!!!!!!!\n",
      "            word_list.append(word)\n",
      "\n",
      "        print 'Words representative of Cluster {}: '.format(i+1), word_list\n",
      "        print"
     ],
     "language": "python",
     "metadata": {},
     "outputs": [],
     "prompt_number": 988
    },
    {
     "cell_type": "code",
     "collapsed": false,
     "input": [
      "print_representative_words(5, 10, c_matrix_nouns, vectorizer_nouns_clusters)"
     ],
     "language": "python",
     "metadata": {},
     "outputs": [
      {
       "output_type": "stream",
       "stream": "stdout",
       "text": [
        "Words representative of Cluster 1:  [u'house', u'room', u'dream', u'girlfriend', u'time', u'bed', u'yo', u'school', u'mom', u'game']\n",
        "\n",
        "Words representative of Cluster 2:  [u'room', u'dream', u'wasn', u'time', u'guy', u'class', u'water', u'girl', u'couldn', u'school']\n",
        "\n",
        "Words representative of Cluster 3: "
       ]
      },
      {
       "output_type": "stream",
       "stream": "stdout",
       "text": [
        " [u'plane', u'job', u'brother', u'dream', u'rice', u'house', u'erg', u'gate', u'time', u'airport']\n",
        "\n",
        "Words representative of Cluster 4:  [u'car', u'road', u'way', u'store', u'room', u'house', u'time', u'country', u'driver', u'friend']\n",
        "\n",
        "Words representative of Cluster 5: "
       ]
      },
      {
       "output_type": "stream",
       "stream": "stdout",
       "text": [
        " [u'friend', u'house', u'school', u'boyfriend', u'dream', u'family', u'door', u'cousin', u'thing', u'mom']\n",
        "\n"
       ]
      }
     ],
     "prompt_number": 991
    },
    {
     "cell_type": "code",
     "collapsed": false,
     "input": [],
     "language": "python",
     "metadata": {},
     "outputs": []
    },
    {
     "cell_type": "markdown",
     "metadata": {},
     "source": [
      "##Create function that can re-use to explore"
     ]
    },
    {
     "cell_type": "code",
     "collapsed": false,
     "input": [
      "#idea, to create 1 master function that run procuces the results?\n",
      "def print_representative_dreams_for_each_cluster(num_clusters, num_dreams_to_print_per_cluster, dream_corpus_to_cluster_with, dream_corpus_original):\n",
      "    \"\"\"takes the cleaned original dream corpus, the modified dream corpus (e.g., just nouns), the number of clusters,\n",
      "    and the number of dreams per cluster to show. Returns n dreams per cluster and 10 top tf-idf words per cluster\"\"\"\n",
      "    \n",
      "    vectorizer = TfidfVectorizer(stop_words=\"english\")  \n",
      "    dream_vectors = vectorizer.fit_transform(dream_corpus_to_cluster_with)  #this is the X to pass into ml cluster algo. a list of strings.\n",
      "    \n",
      "    model_kmeans = KMeans(n_clusters=num_clusters, n_init=50)  #set n_init higher\n",
      "    clusters_kmeans = model_kmeans.fit_predict(dream_vectors)\n",
      "    \n",
      "    centroids_for_each_cluster = model_kmeans.cluster_centers_\n",
      "\n",
      "    dreams_in_clusters_dict = dreams_dict_by_cluster(clusters_kmeans, dream_corpus_to_cluster_with)    \n",
      "    c_matrix, vectorizer_clusters = combine_dreams_in_ea_cluster(num_clusters, dreams_in_clusters_dict)\n",
      "    print_representative_words(num_clusters, 10, c_matrix, vectorizer_clusters)\n",
      "    \n",
      "    for i in range(num_clusters):\n",
      "        #get distance from each dream to centroid for cluster 1, then for cluster 2, etc.\n",
      "        dream_distance_from_centroid_cluster = pairwise_distances(dream_vectors, Y=centroids_for_each_cluster[i], metric='euclidean', n_jobs=1)\n",
      "\n",
      "        enum_dream_distance_from_centroid = list(enumerate(dream_distance_from_centroid_cluster))\n",
      "        dream_distance_from_centroid_sorted = sorted(enum_dream_distance_from_centroid, key=lambda tup: tup[1])\n",
      "\n",
      "        print \n",
      "\n",
      "        for x in range(num_dreams_to_print_per_cluster):\n",
      "\n",
      "            min_in_cluster = dream_distance_from_centroid_sorted[x][1]\n",
      "            min_index_in_cluster = dream_distance_from_centroid_sorted[x][0]\n",
      "\n",
      "            print 'min {} for cluster {}:'.format(x+1, i+1), min_in_cluster \n",
      "            print 'index:', min_index_in_cluster\n",
      "            print 'Cluster {}. Representative dream: '.format(i+1), dream_corpus_original[min_index_in_cluster]\n",
      "            print "
     ],
     "language": "python",
     "metadata": {},
     "outputs": [],
     "prompt_number": 1030
    },
    {
     "cell_type": "code",
     "collapsed": false,
     "input": [
      "print_representative_dreams_for_each_cluster(5, 3, dream_nouns_corpus, dream_corpus_clean)"
     ],
     "language": "python",
     "metadata": {},
     "outputs": [
      {
       "output_type": "stream",
       "stream": "stdout",
       "text": [
        "Words representative of Cluster 1:  [u'dream', u'room', u'school', u'water', u'time', u'guy', u'night', u'plane', u'dance', u'mom']\n",
        "\n",
        "Words representative of Cluster 2:  [u'car', u'room', u'street', u'drive', u'home', u'house', u'time', u'ammo', u'way', u'cop']\n",
        "\n",
        "Words representative of Cluster 3:  [u'friend', u'cousin', u'time', u'school', u'wasn', u'family', u'room', u'boyfriend', u'church', u'dinner']\n",
        "\n",
        "Words representative of Cluster 4:  [u'house', u'friend', u'dream', u'dog', u'man', u'thing', u'guy', u'building', u'street', u'time']\n",
        "\n",
        "Words representative of Cluster 5: "
       ]
      },
      {
       "output_type": "stream",
       "stream": "stdout",
       "text": [
        " [u'class', u'room', u'bed', u'brother', u'feeling', u'rice', u'girl', u'dream', u'campus', u'house']\n",
        "\n",
        "\n",
        "min 1 for cluster 1: [ 0.16726536]\n",
        "index: 128\n",
        "Cluster 1. Representative dream:  I was being chased by someone was coming after me, and I kept getting away. I don\u2019t remember much more than that. He was grasping my wrists pretty tightly.\n",
        "\n",
        "min 2 for cluster 1: [ 0.95685432]\n",
        "index: 307\n",
        "Cluster 1. Representative dream:  At the end there was like a movie preview that I wasn\u2019t exactly watching but I wasn\u2019t apart of either It was starring Ben Stiller who somehow had come across an old woman who was a midget and a widow. It was Christmas time and there lots of people around but it wasn\u2019t crowded or loud. The woman romantically interested in Stiller, but he had no idea. During the clip from the Christmas party scene where the woman repeated something funny someone had said in my dream I noticed this and was slightly confused. While saying this the old woman was sitting at a tall round table in the corner of a room that next to the opening to a living room where there was a fireplace with a fire in it. Ben Stiller was sitting on the other side of this table. They were both kind of leaning in and half sitting hal standing there were like classy versions of bar furniture. The woman, with her witty comment, was giving some sort of toast, I think I remember it being Christmas after her husband died. There was a relatively small crowd of people listening. The camera zoomed in through the crowd to the woman talking. There was a clip of Ben Stiller walking arm in arm with a beautiful woman. They were all bundled up in a long woolen coats and scarves. It was night and they were walking down a snowy sidewalk. One of the old woman\u2019s friends (a main character) was lying on his back looking up towards the camera and said something to the old woman about \u201cif you treat like a teacher\u2026\u201d Basically he wont love you like that. In the dream I knew the movie as if I had seen the trailer already. I wasn\u2019t exactly watching the trailer on a screen, but I wasn\u2019t part of it. It was like a break in the middle of my dream and the seemed normal to me. I could hear the announcer. Before this, in my dream, I was at a house possibly my fathers after my parents had gotten a divorce and things were settled. I was talking to my aunt and my dad about some big event that we were going to watch liver later, may have been dinner (which we would\u2019ve participated in). I walked into the bathroom, going to do something to my hair (die it/cut it?) I was surprised to find 2 or 3 other girls there hanging out, in towels, aw if they were always there, getting out of the shower. I remember, in my dream, that I had been one of them before (earlier in my dream) I was embarrassed about what I was doing in the bathroom and started to leave but for some reason turned around and stayed and started doing my hair. This was all during a party of sorts. During the day, very laid back, no one concentration of people, but people wandering scattered about. 2 of my professor, (whose practicum I\u2019ve been in since last winter and who are very laid back) walk in, to tell us the event will start soon (dinner). The girls are nonchalantly talking about roofies and my professor says something about the first one ever made not having a cure, but no one uses it because it smells rancid. I think the girls had one and dropped it in a cup which made it kind of smoke. The whole time I was in the bathroom, I felt a little awkward and out of place and dirty in a immoral impure thoughts kind of way.\n",
        "\n",
        "min 3 for cluster 1: [ 0.95881721]\n",
        "index: 117\n",
        "Cluster 1. Representative dream:  I was a one-woman spy or something against a group of bad guys. There was a lot of sprinting involved in long open stretches, trying to get somewhere where they couldn\u2019t see me. At another point in the night I had a reoccurring dream that I was driving on a big highway and there was a large intersection I had to navigate, and it was hard to pick the right merging lane. I did though. Later in the night I was in the dorm going to bed (walking to my room) hen I saw my CF Nick who I had been trying to find all night (in real life) and I was aware of this in the dream. With him was a guy named Colin from my high school who now goes to Georgetown. Colin was visiting SCU but I was asking Nick how he had met Colin. He said something about guys dressing us as women or Santa as the most interesting to know. (Colin has cross-dressed) Colin had intended a way to have Walkie-talkies from cordless phones, so we were testing this in a long hallway to see the range. Earlier in the night my ex-manager called me and I was really excited to talk to him but it was really his girlfriend who used his phone to tell me something. Upon hearing this I hung up. She didn\u2019t call back .right after wards ( I was a spy again) I was talking to my friend Todd in a crowded room with people playing video games. He was talking about a list he was making about how to survive on a bare minimum (like post-apocalyptic or something) and he had discovered some powder that you could add to make tea. I was trying to one-up him on this with some spy exploit of mine. I was in some cafeteria/dining hall with round tables and I was sitting with Khallia and he was teasing and fingering me. He was trying to be discrete about it but he wasn\u2019t so I was ashamed. I tried to cover it up with a white piece of cloth and look straight ahead. He said he had gotten to the point where his face didn\u2019t display emotion. I was confused. I was aware of all the information in the parenthesis during my dream.\n",
        "\n",
        "\n",
        "min 1 for cluster 2: [ 0.39162681]\n",
        "index: 128\n",
        "Cluster 2. Representative dream:  I was being chased by someone was coming after me, and I kept getting away. I don\u2019t remember much more than that. He was grasping my wrists pretty tightly.\n",
        "\n",
        "min 2 for cluster 2: [ 0.84821972]\n",
        "index: 177\n",
        "Cluster 2. Representative dream:  I remember being in the car with all of my friends and all of us going somewhere. My friend, Alex, was driving in the front seat. We were all going the wrong way on the freeway and lights were in our faces. I could see my friends\u2019 bodies, but not their faces. Then the car stopped.\n",
        "\n",
        "min 3 for cluster 2: [ 0.85952307]\n",
        "index: 202\n",
        "Cluster 2. Representative dream:  At Great America with my sister and friend Rhiannon. We kept on complaining about how it was so hot so kept on eating dip and dots ice cream. We decided to leave and go to my sisters house in Davis to go swimming. Rhiannon couldn\u2019t find her car keys, for some reason her car was my car. We didn\u2019t seem to care about her car keys so we took the light rail and ended up at the mall and decided to go shopping. By this time it was just me and Rhiannon. I was very satisfied w/everything that I was trying on. After the mall, we ended up at my house watching Saved by the Bell.\n",
        "\n",
        "\n",
        "min 1 for cluster 3: [ 0.26960598]\n",
        "index: 128\n",
        "Cluster 3. Representative dream:  I was being chased by someone was coming after me, and I kept getting away. I don\u2019t remember much more than that. He was grasping my wrists pretty tightly.\n",
        "\n",
        "min 2 for cluster 3: [ 0.88450176]\n",
        "index: 121\n",
        "Cluster 3. Representative dream:  It was about my friend and how every time I touched him I hurt him. He would start to bleed. I didn\u2019t want to hurt him and I felt really bad about it, but I couldn\u2019t help it.\n",
        "\n",
        "min 3 for cluster 3: [ 0.90722999]\n",
        "index: 345\n",
        "Cluster 3. Representative dream:  When I first fell asleep, I fell into a really deep sleep. I woke up at 2am and from that time until 6:40am I dreamt I was with my best friend at an old Victorian House in the South. I remember being confused as to what exactly I was doing there but since I was with my best friend I didn\u2019t think much of it. All of a sudden my older cousin came in and started talking in Spanish. I don\u2019t speak Spanish well so I had no idea what he was saying to my best friend. Then he left and my friend and I started cleaning up the house. Whenever I tried to bring up the Spanish convo she had with my cousin, she ignored me and changed the subject. I started to get annoyed w/her and just began doing my own thing. Then we decided to go get some dinner in town but realized we didn\u2019t have a car so we began to walk. As we were walking by some of the houses, I noticed a girl in a tire swing. I asked her her name and she said, \u201cFollow me.\u201d I got creeped out but my friend ran after her. We ran into her backyard & onto her back porch and up to her door. As we peeked in the screen, my cousin came up behind me and asked what I was doing there. I remember jumping when he touched me and got freaked and that\u2019s when I woke up.\n",
        "\n",
        "\n",
        "min 1 for cluster 4: [ 0.30645488]\n",
        "index: 128\n",
        "Cluster 4. Representative dream:  I was being chased by someone was coming after me, and I kept getting away. I don\u2019t remember much more than that. He was grasping my wrists pretty tightly.\n",
        "\n",
        "min 2 for cluster 4: [ 0.86037964]\n",
        "index: 349\n",
        "Cluster 4. Representative dream:  In my dream, I was in a large house that I was unfamiliar with. The house was modern, white, and had very green plants. Throughout the dream, I was trying to get away from someone or something that was following and coming after me. I made my way through and around the inside and outside of the house in attempts to escape what was chasing me. However, the house seemed like a maze and I felt scared, anxious, and stressed as I tried to figure out which way to go.\n",
        "\n",
        "min 3 for cluster 4: [ 0.88036608]\n",
        "index: 181\n",
        "Cluster 4. Representative dream:  I\u2019m in a van with a friend I haven\u2019t seen in maybe six months. We are going to burglarize a house and have similar clothes on although I\u2019m not sure what. So we get outside this house and there\u2019s a tall wrought iron fence between us and the dark Spanish-style house. I think I remember a dog barking also somewhere. Just as we\u2019re about to climb the fence either a light comes on in the house or I just decide that I don\u2019t want to go in. My friend is not having any of it and tries to talk me into it but I just have a bad feeling about it. I end up leaving him there and end up walking down a corridor of an apartment building which I guess is the only way to get back out to the street. As I\u2019m walking out the front door of the building, I pass a couple who is entering- they now look at me and just say my name, first and last and walks by.\n",
        "\n",
        "\n",
        "min 1 for cluster 5: [ 0.2902671]\n",
        "index: 128\n",
        "Cluster 5. Representative dream:  I was being chased by someone was coming after me, and I kept getting away. I don\u2019t remember much more than that. He was grasping my wrists pretty tightly.\n",
        "\n",
        "min 2 for cluster 5: [ 0.88016599]\n",
        "index: 188\n",
        "Cluster 5. Representative dream:  I was lying in bed and I was listening to my friend say how she didn\u2019t like being woken up by a noise because it scared her. I remember feeling bad because I wake up earlier than her to go to class.\n",
        "\n",
        "min 3 for cluster 5: [ 0.90668619]\n",
        "index: 252\n",
        "Cluster 5. Representative dream:  I was at the gym with two friends and they decided they were going to leave when I was not finished. Once they left I got really angry and yelled about them being awful. I left the gym and was self conscious about being sweaty. I ran into a boy I had feelings for and he reminded me not to be late for English because we had presentation. So I am wandering around school and go to science class where I learn we have a midterm that I have not studied for at all and I had never even been to the class once. A big white dog comes in the room ad I am very scared of him. I then leave the class because I remember that I am not even enrolled in it, and I am going to be late to English. I go to the usual room but the class has been switched to somewhere else. I go wandering around and find a girl passed out on a couch who knows where it is. So she tells me and I am following another lady who knows where it is, and all of a sudden we are in a mall. We finally get to where my class is, and Craig, a regular from the coffee place I worked, at, tells me he is the judge of the projects and that I am too late but that I should have a seat. I sit on this mat next to a huge guy who starts bouncing up and down making the whole floor shake, and I link arms with the girl sitting next to me.\n",
        "\n"
       ]
      }
     ],
     "prompt_number": 1031
    },
    {
     "cell_type": "code",
     "collapsed": false,
     "input": [
      "len(dream_nouns_corpus), len(dream_corpus_clean)"
     ],
     "language": "python",
     "metadata": {},
     "outputs": [
      {
       "metadata": {},
       "output_type": "pyout",
       "prompt_number": 1011,
       "text": [
        "(355, 355)"
       ]
      }
     ],
     "prompt_number": 1011
    },
    {
     "cell_type": "code",
     "collapsed": false,
     "input": [],
     "language": "python",
     "metadata": {},
     "outputs": []
    },
    {
     "cell_type": "code",
     "collapsed": false,
     "input": [],
     "language": "python",
     "metadata": {},
     "outputs": []
    }
   ],
   "metadata": {}
  }
 ]
}