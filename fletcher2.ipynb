{
 "metadata": {
  "name": "",
  "signature": "sha256:b4a35736db10b96b64abf9af69b88e1e7e90636ec116e7957a1081e734011b01"
 },
 "nbformat": 3,
 "nbformat_minor": 0,
 "worksheets": [
  {
   "cells": [
    {
     "cell_type": "code",
     "collapsed": false,
     "input": [
      "import pymongo\n",
      "import numpy as np\n",
      "from sklearn.feature_extraction.text import TfidfVectorizer\n",
      "from sklearn.cluster import KMeans\n",
      "from collections import defaultdict\n",
      "import matplotlib.pyplot as plt\n",
      "from sklearn.metrics.pairwise import pairwise_distances\n",
      "from textblob import TextBlob\n",
      "from scipy.sparse import coo_matrix\n",
      "from nltk.corpus import stopwords\n",
      "from textblob import Word\n",
      "from sklearn.cluster import AgglomerativeClustering\n",
      "from sklearn.cluster import DBSCAN\n",
      "from sklearn.cluster import MeanShift\n",
      "from sklearn.cluster import SpectralClustering\n",
      "import pandas as pd\n",
      "import seaborn as sns\n",
      "%matplotlib inline"
     ],
     "language": "python",
     "metadata": {},
     "outputs": [],
     "prompt_number": 725
    },
    {
     "cell_type": "code",
     "collapsed": false,
     "input": [
      "client = pymongo.MongoClient()  #create a MongoClient to the running mongod instance:\n",
      "db = client.dreams  #create dsbc database and assign it to db\n",
      "dream_wake_collection = db.dream_wake  #create collection for the dream vs. wake descriptions"
     ],
     "language": "python",
     "metadata": {},
     "outputs": [],
     "prompt_number": 7
    },
    {
     "cell_type": "code",
     "collapsed": false,
     "input": [
      "cursor_wake = dream_wake_collection.find( {'dream_wake': 'Waking'}, {'text':1, '_id':0})"
     ],
     "language": "python",
     "metadata": {},
     "outputs": [],
     "prompt_number": 499
    },
    {
     "cell_type": "code",
     "collapsed": false,
     "input": [
      "cursor_wake.count()"
     ],
     "language": "python",
     "metadata": {},
     "outputs": [
      {
       "metadata": {},
       "output_type": "pyout",
       "prompt_number": 502,
       "text": [
        "370"
       ]
      }
     ],
     "prompt_number": 502
    },
    {
     "cell_type": "code",
     "collapsed": false,
     "input": [
      "waking_corpus = [report['text'] for report in cursor_wake]"
     ],
     "language": "python",
     "metadata": {},
     "outputs": [],
     "prompt_number": 503
    },
    {
     "cell_type": "code",
     "collapsed": false,
     "input": [
      "waking_corpus_clean = [report for report in waking_corpus if len(report) > 150]  "
     ],
     "language": "python",
     "metadata": {},
     "outputs": [],
     "prompt_number": 504
    },
    {
     "cell_type": "code",
     "collapsed": false,
     "input": [
      "len(waking_corpus_clean)"
     ],
     "language": "python",
     "metadata": {},
     "outputs": [
      {
       "metadata": {},
       "output_type": "pyout",
       "prompt_number": 704,
       "text": [
        "354"
       ]
      }
     ],
     "prompt_number": 704
    },
    {
     "cell_type": "code",
     "collapsed": false,
     "input": [
      "for i in range(len(waking_corpus_clean)):\n",
      "    remaining_reports = waking_corpus_clean[i+1:]\n",
      "    for remaining_report in remaining_reports:\n",
      "        if waking_corpus_clean[i][10:40] in remaining_report:\n",
      "            print waking_corpus_clean[i], ' index:', i\n",
      "            print"
     ],
     "language": "python",
     "metadata": {},
     "outputs": [
      {
       "output_type": "stream",
       "stream": "stdout",
       "text": [
        "I just got back into my dorm room after doing some studying in the Sobrato computer lab with my boyfriend. Even though it is kind of late I didn\u2019t feel very tired at all. Rather, I was quite awake and planning to complete some more tasks before heading to bed. I just finished snacking on some nachos in the computer lab, and yet I was still a bit hungry when I got to my dorm room. And so, I ate a few peanut M&Ms and fixed myself a bagel with grape jam. I was basically pretty relaxed too, because tomorrow I only have class and lecture and choir rehearsal (no quizzes or exams). Physically, I felt ok but a bit gross too because I feel I had put on a few pounds this quarter. Psychologically, I felt calm and happy in general\u2026I had a relaxing night of just doing some reading for my psychology class, attending the Loyola Tuesday night liturgy for fun for the first time, and had a warm hug and goodbye from my boyfriend when he dropped me off at my suite front door. I was sitting here in my room, not much in my mind, actually (rare for me J), besides what I ought to do next. It is warm in here and the night is peaceful.  index: 0\n",
        "\n",
        "I was sitting in the computer lab upstairs in Benson, reading my chapter for my PSYC 1 class. I remember wondering if I read very slow, because it seems like it takes a long time for me to get through one page. I wondered if it took other people (people in my class or in this college) the same amount of time to do so. I don\u2019t think it\u2019s boring or tedious reading, though\u2026I\u2019m actually very interested in the subject matter. In fact, I would probably read anything psychology in my own time. I thought about a lot of things\u2026I guess a lot of things go through my mind at times. Whenever I enjoy psychology (a recurring thought in my mind is whether or not I should go to graduate school for psychology or go to law school. I\u2019ve been so uncertain about whether I ought to pursue the study of law for a long time now, even since the idea got implanted into me my freshmen year. I know I can be successful as a lawyer, but I\u2019m just not sure if I would be happy. I always find myself in some debate over pride and honor and happiness and passion. I know I can synthesize the two, but for some reason, I still view my life situation as one or the other. Going into law would be the more practical path, because I really really need the larger salary (I will be in great debt after graduation) but I really have no significant interest in law. While reading, I also thought about how fast my interests can change as well, and how I can basically will myself to enjoy law. I mean, once I see some purpose to doing something, I do enjoy it more, or have more motivation towards it. So yeah, a lot of things were going through my mind as I read. I\u2019m not easily distracted but I do find myself having instances where it\u2019s difficult to concentrate. People are coming in and out of the room, and my sick boyfriend coughs every once in a while next to me. He is also a factor in my decision (about law/ graduate school). Every day, in the back of my mind, I worry about what\u2019s going to happen to us. He\u2019s graduating this year and we\u2019re not sure where he\u2019s going to go to law school yet. I want to be near him, but at the same time, I want to independently make decisions on my own self interest. Oh yeah, and physically, I feel very well rested (I got about 9.5 hours of sleep! The most I\u2019ve gotten for\u2026perhaps the past few months!) I\u2019m warm too, and comfortable in my sweats and sneakers. I feel a little self-conscious, though, because I feel like my curly hair is unruly at times and I want to lose a few pounds on my body. Other than that, I feel fine, and am just hoping that I won\u2019t be sick (again) soon! I also was chewing some Orbitz gum, which tastes pretty good J I wasn\u2019t moving very much\u2026just reading, and occasionally shifting how I sat. I wished the chairs up in Benson were more comfortable and less slanted though.  index: 1\n",
        "\n",
        "Before the alarm went off, I was on Facebook looking at people\u2019s profiles for whom I am writing a recommendation. I was pleasantly surprised by one of the girls and by how she presented herself on Facebook. I was having a mixture of feelings \u2013 none of them particularly strong. However, I was feeling slightly anxious because I have to fill out these recommendations for girls I don\u2019t know especially well. I still want to give them a good, accurate eval, but this is harder and more time consuming without knowing them very well. I was also feeling a slight amount of self-imposed pressure and stress as I think about all of the work I need tostart tonight. I keep putting it off for other tasks I need to get done, so my mountains of reading just keep looming I the back of my mind. Despite these slightly anxious feelings however, I also felt comfortable. It\u2019s the weekend now and I\u2019m sitting in my room with nice, relaxing lighting. I felt a slight, fresh breeze coming through my open window, but was also vaguely aware of my warm hoody. I was chewing a piece of mint gum that tasted refreshing. Towards the end of my 15 minutes, I was checking my email. I felt excited and curious as I was logging onto GroupWise, because I never know what new, fun email I may have. The email reminded me of an assignment I have for my storytelling class, and another \u201cto-do\u201d item was added to my mental checklist along with just a small twinge of stress. Throughout this 15 minutes, I was listening to Phoebe Snow on my iPod, making me feel good with her upbeat style.  index: 2\n",
        "\n",
        "I was sitting on my bed, leaning against the wall, relaxed but not lying down and not really sleepy. I felt really frustrated because I was looking through some scholarship paperwork. I was angry about having to deal with all of the stuff and I was telling my roommate about the meeting I had just had about it all. I was totally venting to her and I could tell she wasn\u2019t really listening because she was busy with homework. I sat back and threw the papers on the floor and then just sat there for like 5 minutes. I felt really sad, but I felt really foolish for getting upset over such a trivial issue. My body felt super comfortable, but I was thinking about all that stuff.  index: 10\n",
        "\n",
        "I was studying for a midterm that I have at 11:45. I was pretty focused for the past half hour or so. I feel a little nervous for the test because I am not that prepared. I am also anxious and excited that it\u2019s Friday and to get the test over with.  index: 12\n",
        "\n",
        "I was in a girl\u2019s room on my hall with other people from my hall discussing the previous Saturday night. One of the other guys in the room got up from his seat and proclaimed he was going to sleep and made some awkward comment as he left. We remarked on how he has little social tact and always makes the girls on our hall feel awkward. I saw two girls I know outside, heading back to their dorm. Some of the people in the room yell at the two girls far below. They cannot see who is yelling which is good because someone was screaming obscenities. We disbanded to our separate rooms while I absentmindedly watched Chronicles of Roddick and checked facebook. Thought about the work I had to do in the coming week. A little stressed but still want a lazy Sunday.  index: 17\n",
        "\n",
        "I just finished a final that I had been cramming all night for. I feel really good because the test went well and the work paid off. As I was walking back to my room, my girlfriend called me and I told her the test went really well. She said that she has a ton of work to do but that she just wanted to call me to say hi and that she loves me\u2026we\u2019ll talk later. I was very aware of the abundance of noise from the construction workers. I also noticed that it is a pretty gloomy day. Once I made it back to my room, I cleaned up a few things that were on my desk. Then my roommate came in the room, asked how my final went and I told him it went really well. He looked really tired and it made me laugh. As I was about to start this, I thought about how much better my mood is today and that even though I got way less sleep, I am happier. I began to space out about how that has to do with my performance on my exam and a lot less stressors for the near future.  index: 19\n",
        "\n",
        "I cleaned up my room\u2014folding and putting away laundry. I then brushed teeth flipped the television to see if anything was on\u2014it wasn\u2019t. Washed my face and got into bed.  index: 69\n",
        "\n",
        "I finished my weights but talking to a friend on the phone while watching Conan. I then did 20 push ups, brushed my teeth, washed my face, and went to sleep.  index: 70\n",
        "\n",
        "During the last 15 minutes of my waking experience I was watching a re-run online of the most recent Desperate Housewives I missed last night. This episode was an unusual one for it was jammed pack with happy, scary, and sad events. During this experience I was nervous as the suspense built. Sad when one of the characters died. Scared for one of the characters as her mother-in-law was trying to kill her of set it up to look like a suicide. The end of the episode was a good one because everything that was misunderstood was cleared up and now everything seems to be okay. Nevertheless, it left me anxious to know that something else inevitably will happen. It was a very good suspenseful episode."
       ]
      },
      {
       "output_type": "stream",
       "stream": "stdout",
       "text": [
        "  index: 308\n",
        "\n"
       ]
      }
     ],
     "prompt_number": 706
    },
    {
     "cell_type": "code",
     "collapsed": false,
     "input": [
      "#verify that dreams are indeed duplicates:\n",
      "\n",
      "#leave index 308\n",
      "\n",
      "for report in waking_corpus_clean:\n",
      "    if 'xxxxx' in report:\n",
      "        print report\n",
      "        print"
     ],
     "language": "python",
     "metadata": {},
     "outputs": [],
     "prompt_number": 720
    },
    {
     "cell_type": "code",
     "collapsed": false,
     "input": [
      "for i in range(len(waking_corpus_clean)):\n",
      "    remaining_reports = waking_corpus_clean[i+1:]\n",
      "    for remaining_report in remaining_reports:\n",
      "        if waking_corpus_clean[i][10:40] in remaining_report:\n",
      "            print ' index:', i"
     ],
     "language": "python",
     "metadata": {},
     "outputs": [
      {
       "output_type": "stream",
       "stream": "stdout",
       "text": [
        " index: 0\n",
        " index: 1\n",
        " index: 2\n",
        " index: 10\n",
        " index: 12\n",
        " index: 17\n",
        " index: 19\n",
        " index: 69\n",
        " index: 70\n",
        " index:"
       ]
      },
      {
       "output_type": "stream",
       "stream": "stdout",
       "text": [
        " 308\n"
       ]
      }
     ],
     "prompt_number": 721
    },
    {
     "cell_type": "code",
     "collapsed": false,
     "input": [
      "#get rid of duplicate waking reports:\n",
      "waking_corpus_clean = [report for report in waking_corpus_clean if report != waking_corpus_clean[0] \n",
      "                           and report != waking_corpus_clean[1] and report != waking_corpus_clean[2] \n",
      "                           and report != waking_corpus_clean[10] and report != waking_corpus_clean[12]\n",
      "                           and report != waking_corpus_clean[17] and report != waking_corpus_clean[19]\n",
      "                           and report != waking_corpus_clean[69] and report != waking_corpus_clean[70]]"
     ],
     "language": "python",
     "metadata": {},
     "outputs": [],
     "prompt_number": 722
    },
    {
     "cell_type": "code",
     "collapsed": false,
     "input": [
      "len(waking_corpus_clean)"
     ],
     "language": "python",
     "metadata": {},
     "outputs": [
      {
       "metadata": {},
       "output_type": "pyout",
       "prompt_number": 723,
       "text": [
        "343"
       ]
      }
     ],
     "prompt_number": 723
    },
    {
     "cell_type": "code",
     "collapsed": false,
     "input": [],
     "language": "python",
     "metadata": {},
     "outputs": []
    },
    {
     "cell_type": "code",
     "collapsed": false,
     "input": [
      "cursor_dreams = dream_wake_collection.find( {'dream_wake': 'Dream'}, {'text':1, '_id':0})"
     ],
     "language": "python",
     "metadata": {},
     "outputs": [],
     "prompt_number": 683
    },
    {
     "cell_type": "code",
     "collapsed": false,
     "input": [
      "dream_corpus = [dream['text'] for dream in cursor_dreams]"
     ],
     "language": "python",
     "metadata": {},
     "outputs": [],
     "prompt_number": 684
    },
    {
     "cell_type": "code",
     "collapsed": false,
     "input": [
      "dream_corpus_clean = [dream for dream in dream_corpus if len(dream) > 150]  \n",
      "#when too few words to turn into tfidf features, seems that computes same dreams each time as closest to all centroids."
     ],
     "language": "python",
     "metadata": {},
     "outputs": [],
     "prompt_number": 685
    },
    {
     "cell_type": "code",
     "collapsed": false,
     "input": [
      "print 'length:', len(dream_corpus_clean), '    ', dream_corpus_clean[0]"
     ],
     "language": "python",
     "metadata": {},
     "outputs": [
      {
       "output_type": "stream",
       "stream": "stdout",
       "text": [
        "length: 347      Wow, right before waking up I was crying in my sleep! I was exclaiming somewhat emotionally to my friend and current suitemate that \u201cEven though you look much different now, you\u2019ve always been beautiful to me.\u201d Before that I said \u201cI know I\u2019m a girl and everything, but you\u2019ve always been beautiful.\u201d I said this to her honestly meaning them and looking into her eyes and holding her two hands. The setting I can\u2019t quite remember now\u2026perhaps a living room environment. I was sitting or lying down to the left of my friend and we were both (unknown) my boyfriend. He was telling her, sincerely and kindly yet was brutally honest that \u201c\u2026I thought you were unattractive,\u201d but (unknown) he saw her another time or at another place, he thought she was attractive. The point he goes on to saying is a piece of advice: that you should find someone who doesn\u2019t look at how you look, that cares about the person you are. The faces of my friend and my boyfriend were distinct and pretty clear. I remember seeing color (normal tones I think not too bright, etc.) and I remember feeling a lot of emotion, and thinking too.\n"
       ]
      }
     ],
     "prompt_number": 690
    },
    {
     "cell_type": "code",
     "collapsed": false,
     "input": [
      "mylist = ['hiiii', 'byeeeee', 'letsssss', 'runnnnnn', 'hiiii']"
     ],
     "language": "python",
     "metadata": {},
     "outputs": [],
     "prompt_number": 694
    },
    {
     "cell_type": "code",
     "collapsed": false,
     "input": [
      "for i in range(len(mylist)):\n",
      "    remaining_items = mylist[i+1:]\n",
      "    for remaining_item in remaining_items:\n",
      "        \n",
      "        if mylist[i][:3] in remaining_item:\n",
      "            print mylist[i], i"
     ],
     "language": "python",
     "metadata": {},
     "outputs": [
      {
       "output_type": "stream",
       "stream": "stdout",
       "text": [
        "hiiii 0\n"
       ]
      }
     ],
     "prompt_number": 646
    },
    {
     "cell_type": "code",
     "collapsed": false,
     "input": [
      "mylist = [x for x in mylist if x != mylist[0] and x != mylist[1]] "
     ],
     "language": "python",
     "metadata": {},
     "outputs": [],
     "prompt_number": 697
    },
    {
     "cell_type": "code",
     "collapsed": false,
     "input": [
      "mylist"
     ],
     "language": "python",
     "metadata": {},
     "outputs": [
      {
       "metadata": {},
       "output_type": "pyout",
       "prompt_number": 698,
       "text": [
        "['letsssss', 'runnnnnn']"
       ]
      }
     ],
     "prompt_number": 698
    },
    {
     "cell_type": "code",
     "collapsed": false,
     "input": [
      "mylist"
     ],
     "language": "python",
     "metadata": {},
     "outputs": [
      {
       "metadata": {},
       "output_type": "pyout",
       "prompt_number": 691,
       "text": [
        "['hiiii', 'byeeeee', 'letsssss', 'runnnnnn', 'hiiii']"
       ]
      }
     ],
     "prompt_number": 691
    },
    {
     "cell_type": "code",
     "collapsed": false,
     "input": [
      "mylist[0][:3] in mylist[4]"
     ],
     "language": "python",
     "metadata": {},
     "outputs": [
      {
       "metadata": {},
       "output_type": "pyout",
       "prompt_number": 647,
       "text": [
        "True"
       ]
      }
     ],
     "prompt_number": 647
    },
    {
     "cell_type": "code",
     "collapsed": false,
     "input": [
      "#find duplicate dreams\n",
      "\n",
      "for i in range(len(dream_corpus_clean)):\n",
      "    remaining_dreams = dream_corpus_clean[i+1:]\n",
      "    for remaining_dream in remaining_dreams:\n",
      "        if dream_corpus_clean[i][10:30] in remaining_dream:\n",
      "            print dream_corpus_clean[i], ' index:', i\n",
      "            print"
     ],
     "language": "python",
     "metadata": {},
     "outputs": [
      {
       "output_type": "stream",
       "stream": "stdout",
       "text": [
        "Wow, right before waking up I was crying in my sleep! I was exclaiming somewhat emotionally to my friend and current suitemate that \u201cEven though you look much different now, you\u2019ve always been beautiful to me.\u201d Before that I said \u201cI know I\u2019m a girl and everything, but you\u2019ve always been beautiful.\u201d I said this to her honestly meaning them and looking into her eyes and holding her two hands. The setting I can\u2019t quite remember now\u2026perhaps a living room environment. I was sitting or lying down to the left of my friend and we were both (unknown) my boyfriend. He was telling her, sincerely and kindly yet was brutally honest that \u201c\u2026I thought you were unattractive,\u201d but (unknown) he saw her another time or at another place, he thought she was attractive. The point he goes on to saying is a piece of advice: that you should find someone who doesn\u2019t look at how you look, that cares about the person you are. The faces of my friend and my boyfriend were distinct and pretty clear. I remember seeing color (normal tones I think not too bright, etc.) and I remember feeling a lot of emotion, and thinking too.  index: 0\n",
        "\n",
        "I was in modern day Jerusalem, but I can remember thinking how the landscape looked more like Ireland to me. The dream started off in either my aunt\u2019s or my grandma\u2019s house. We were getting ready to go on a trip and there were a couple suitcases open in the large bathroom. I vaguely remember something about the power going out for a little while\u2026I recall wanting to pack up and get on out trip but not being too agitated either. At one point, things were just slow to get going and my aunt playfully ran into the large bathroom where the suitcases were \u2013 there was someone else sitting in there. Auntie sat next to them on the ground and I looked over at the jeans she was wearing. I thought to myself how weird it was that she had cut the length off of the back of them so the leg wouldn\u2019t drag on the ground but had left the front the same length. Auntie had previously stepped on the scale and it registered something like 70 kilograms. I ran over to the scale and it registered something like 80 kilos. I was trying to convert that over to pounds and she asked me what the scale said. Even though it had registered as more than her, I was quite carefree about the whole thing and told her and I think she helped me figure it out. Sometime after this we were on our trip and in a small, charming western town. There was a fairly large group of us, but I can only identify my friend Rochelle as being with us. We went into the restaurant that was well lit, had a couple walls missing so the breeze from the outside circulated through (it was a beautiful, sunny day) and the benches and tables were made of sturdy wood. For some reason, not everyone in our group was there and so we were ordering in spurts. Rochelle was one of the first to order. Her order came about an hour later \u2013 waffles, some type of meat, and two delicious looking poached eggs. But I remember thinking that with a wait time like that, it would take about an hour and a half for everyone to get their food! I was both amused and irritated by this. Then, somehow, we ended up in this castle-like structure in Jerusalem. I was with a couple other people, but I can only distinctly remember my grandma commenting on how King David, who had lived in this castle, had been this horrible tyrant and was spurting off some narrative about him. This didn\u2019t seem quite right to me. As I looked out one of the castle\u2019s windows onto the landscape of the green city, I remembered that King David had been a \u201cman after God\u2019s own heart.\u201d I couldn\u2019t believe that Lolita was so grossly mistaken and tried to go and say something to argue with her, but she brushed me off and went down the castle steps.  index: 1\n",
        "\n",
        "I was in a room that I didn\u2019t recognize but everybody in the room I was friends with. There was tons of people but no furniture. The people\u2019s voices were kind of blurry and I was pay attention to anyone. Then one of my good friends entered the room yelling. Two of my friends began screaming at each other but what they said didn\u2019t make any sense. Everybody was sitting in a room staring at the two of them fight. While everyone was watching, I walked out of the room and was outside on the street. It was night and there was nobody on the street. As I was walking my cell phone began to ring, but I couldn\u2019t find it.  index: 9\n",
        "\n",
        "I was back home in Portland. I was in front of my fireplace at home playing with my cat Buzzer. I got up and got in my car and began driving. I started the drive alone, but at some point a passenger appeared in the car. I didn\u2019t recognize them, but it was apparent that we knew eachother and were fairly close. It started raining and while I was driving down Scholls Ferry I spun out and crashed into a \u201cSlow Down\u201d sign.  index: 14\n",
        "\n",
        "It was parent\u2019s weekend again and my dad was coming around with me to all my classes. He was really angry at me for my study habits and with how I was doing in my classes. He came back with me to my dorm and was shocked because there were hundreds of beer cans sitting all over my room. He was screaming at me for a while and then he just started laughing uncontrollably. Later that night he came around with my friends and I to different parties. He complained about the bad beer at college parties and about how I was spending my time.  index: 15\n",
        "\n",
        "I am at a school which is basically a combination of my highschool campus & Santa Clara. I was walking back to my dorm room with a large group of people and I didn\u2019t know any of them. We were coming from a lecture or some sort of activity. I started to walk really really fast because I had an extreme urge to poop when all of a sudden a tall blonde guy who seemed to be a fellow freshmen challenged me to a contest. The contest was like \u201cyour momma\u201d from MTV but it turned out to be a rapping contest about yourself. I felt nervous because I definitely can\u2019t rap and didn\u2019t know what I was going to rap about. I started coming up with lines in my head about owning 2 Ferraris and a motorcycle. As I was thinking about the lines I realized that I still had to go diarrhea really bad. But right then, the tall blonde guy cam up to me with a written description of the contest and I looked over it. By this point a large group of people had circled around us and I definitely couldn\u2019t go back on the contest but I was really nervous about whether or not I would be able to come up with funny lines and I really had to poo!  index: 16\n",
        "\n",
        "I was in a store shopping for clothes. I was looking at a shelf of jeans and there were tshirts hanging from the ceiling. The best shirts were really high up and I had to jump really high to get them. There was one shirt that EVERYONE knew was the coolest. So I went for it with a running start and got it. Employees were all cheering for me because they had never seen anyone jump so high  index: 17\n",
        "\n",
        "I was late for class while talking on to my grandmother who was hassling me for not calling her as often as she wanted. packing my bags while getting yelled at.  index: 68\n",
        "\n",
        "I had an affair with the escaped Hannibal Lector\u2019s wife. The only thing really remembered is running away from him after he noticed I had his wife\u2019s scarf in my suitcase. I was running down the stairs that kind of spiral down and he had a cross bow that he was shooting at me.  index: 69\n",
        "\n",
        "The first part I remember, I was deciding what to wear and put a sweatshirt on but packed a T-shirt because I thought it would get hot. I was going on a field trip with my mom\u2019s school. The next part I remember I was on a boat and I felt like I was trying to hide from someone. There were firework type explosions and lights in the sky. Next thing I knew I was walking into a forest type place (except it was like a display not a real forest) and it was really cold. I think I was still trying to hide. Then next thing I know I\u2019m with my dad and I have to drive to school. My grandma was there and had brought a brand new Prius but wouldn\u2019t let me drive it, so I drove my car. Then at school (I\u2019m back at my old high school) the teacher is talking to the kids about drinking and everyone leaves class and goes to the Spanish teacher who has donuts in her room. Everyone is sitting down copying answers when the 1st teacher comes in and offers muffins. The Spanish teacher is the only one who wanted a muffin.  index: 74\n",
        "\n",
        "I was being chased by someone was coming after me, and I kept getting away. I don\u2019t remember much more than that. He was grasping my wrists pretty tightly.  index: 123\n",
        "\n",
        "I was in the living room of a friend house. We were all watching TV when another friend of mine called my name from the elevator in the hall. I walked over and she asked me if I could get her any marijuana. I said no, and as she asked, two kids and their mom walked by, it made me nervous. I got on the elevator and we went up. I stepped out and found myself in the bathroom, ready for a shower. All the showers were occupied by fats girls I was frustrated because I anted to have sex, but all these girls were ugly. I finally got a shower and once I got in my girlfriend showed up. We got naked but didn\u2019t have sex. After this I went up to a friend room. She gave me a beer called \u201cChicago Bull Beer\u2019. A friend remarked that it was tasty and citrusy. I couldn\u2019t taste citrus, but it was good. We drank with the door open, which made me think we could get written up and in turn made me nervous.  index: 141\n",
        "\n",
        "It was about my ex-boyfriend. I was nervous around him because I thought I would see him with his girlfriend. I knew the whole time that I was dreaming. I wanted to see if my ex still had feelings for me and I found out that he did.  index: 161\n",
        "\n",
        "The first thing I remember is being at the Cal Train Station. I remember waiting forever I get on the train. I remember thinking that I was feeling anxious and just wanted to be on the train. I was in so much of a rush I was telling people to hurry up but I also forgot something myself when I got on the train. After taking the Cal Train, my family and I rented a car. I clearly remember that all the roads we drove on were heading south. At one time we had to make a u-turn because it was a one way street. At this point I know I talked to my brother and sister about something but I forget. The next dream sequence landed the car driving through Malibu and Pepperdine University. I commented to my dad I\u2019m glad to chose Santa Clara over Pepperdine. As we were driving I remember looking out the window at all the nice houses in the area and wishing I could live in a house like that. As we were driving we came to what was supposed to be UCLA. I told my mom that she wouldn\u2019t be able to convince me to change schools. This UCLS, however, was like a waterpark. It was early morning and there were little kids running around with a lot of Disney costume people. I remember asking myself where all the students, but remembering it was early and most students sleep in. The final thing in my dream was a girl from my high school, Christina Murrillo, walking by with her friends. I said hi to her and thought that her friends were very pretty. Participant Code: 5794  index: 173\n",
        "\n",
        "All I can recall right now is me being with my older brother. The last words I said to him before waking up dealt with me commenting on how he had my dream job. We were standing alone before I work up (I think our mom was present sometime in the dream too though, (unknown)). A few minutes before I woke up though, there were other people in my dream/ in the scene too. These people were strangers to me but friends to my brother. My brother worked in his residency. The people were co-workers/ fellow students doing residency w/ my brother, and they seemed very friendly and outgoing and said a few things. There were a only few of them (2-3?), and one of them was a caucasian girl. My brother was cooking/ preparing this huge oven pan or dish of fried rice. The fried rice had texture and was somewhat colorful (the yellow/brown of the rice, and with some orange from some of the scattered carrots and some green from some of the scattered peas. I remember feeling hungry looking at the rice J and my brother smushing it and stirring it with some kind of spoon or spatula. He told me it was his turn to do what he was doing (prepare the rice or food). I remember feeling a bit jealous of his job or whatever he was doing I think. He also seemed somewhat distanced and doing his own thing \u2013 not necessarily ignoring me but being the big brother who was in a different stage in life than me. I believe I felt like a little kid too, and like we were in a somewhat unfamiliar place for some reason (the closest description I can come up with is that it\u2019s like one of those parking garages?)  index: 183\n",
        "\n"
       ]
      }
     ],
     "prompt_number": 699
    },
    {
     "cell_type": "code",
     "collapsed": false,
     "input": [
      "#verify that dreams are indeed duplicates:\n",
      "\n",
      "#leave index 74, 123, 141, 161, 173\n",
      "\n",
      "for dream in dream_corpus_clean:\n",
      "    if 'spatula' in dream:\n",
      "        print dream\n",
      "        print"
     ],
     "language": "python",
     "metadata": {},
     "outputs": [],
     "prompt_number": 673
    },
    {
     "cell_type": "code",
     "collapsed": false,
     "input": [
      "#get rid of duplicate dreams:\n",
      "dream_corpus_clean = [dream for dream in dream_corpus_clean if dream != dream_corpus_clean[0] \n",
      "                           and dream != dream_corpus_clean[1] and dream != dream_corpus_clean[9] \n",
      "                           and dream != dream_corpus_clean[14] and dream != dream_corpus_clean[15]\n",
      "                           and dream != dream_corpus_clean[16] and dream != dream_corpus_clean[17]\n",
      "                           and dream != dream_corpus_clean[68] and dream != dream_corpus_clean[69]\n",
      "                           and dream != dream_corpus_clean[183]]"
     ],
     "language": "python",
     "metadata": {},
     "outputs": [],
     "prompt_number": 701
    },
    {
     "cell_type": "code",
     "collapsed": false,
     "input": [
      "len(dream_corpus_clean)"
     ],
     "language": "python",
     "metadata": {},
     "outputs": [
      {
       "metadata": {},
       "output_type": "pyout",
       "prompt_number": 702,
       "text": [
        "337"
       ]
      }
     ],
     "prompt_number": 702
    },
    {
     "cell_type": "code",
     "collapsed": false,
     "input": [],
     "language": "python",
     "metadata": {},
     "outputs": []
    },
    {
     "cell_type": "code",
     "collapsed": false,
     "input": [],
     "language": "python",
     "metadata": {},
     "outputs": []
    },
    {
     "cell_type": "code",
     "collapsed": false,
     "input": [],
     "language": "python",
     "metadata": {},
     "outputs": []
    },
    {
     "cell_type": "code",
     "collapsed": false,
     "input": [
      "stop = stopwords.words('english')\n",
      "stop += [\"remember\", \"remembered\", \"dream\", \"dreams\", \"dreamed\"]"
     ],
     "language": "python",
     "metadata": {},
     "outputs": [],
     "prompt_number": 371
    },
    {
     "cell_type": "code",
     "collapsed": false,
     "input": [
      "dream_corpus_clean_stop =[]\n",
      "for dream in dream_corpus_clean:\n",
      "    textblob_dream = TextBlob(dream)\n",
      "    dream_words = ' '.join([dream_word[0] for dream_word in textblob_dream.tags if dream_word[0] not in stop]) \n",
      "    dream_corpus_clean_stop.append(dream_words)  "
     ],
     "language": "python",
     "metadata": {},
     "outputs": [],
     "prompt_number": 372
    },
    {
     "cell_type": "code",
     "collapsed": false,
     "input": [
      "dream_corpus_clean_stop[1]"
     ],
     "language": "python",
     "metadata": {},
     "outputs": [
      {
       "metadata": {},
       "output_type": "pyout",
       "prompt_number": 381,
       "text": [
        "u'I modern day Jerusalem I thinking landscape looked like Ireland The started either aunt \\u2019 grandma \\u2019 house We getting ready go trip couple suitcases open large bathroom I vaguely something power going little while\\u2026I recall wanting pack get trip agitated either At one point things slow get going aunt playfully ran large bathroom suitcases someone else sitting Auntie sat next ground I looked jeans wearing I thought weird cut length back leg wouldn \\u2019 drag ground left front length Auntie previously stepped scale registered something like 70 kilograms I ran scale registered something like 80 kilos I trying convert pounds asked scale said Even though registered I quite carefree whole thing told I think helped figure Sometime trip small charming western town There fairly large group us I identify friend Rochelle us We went restaurant well lit couple walls missing breeze outside circulated beautiful sunny day benches tables made sturdy wood For reason everyone group ordering spurts Rochelle one first order Her order came hour later waffles type meat two delicious looking poached eggs But I thinking wait time like would take hour half everyone get food I amused irritated Then somehow ended castle-like structure Jerusalem I couple people I distinctly grandma commenting King David lived castle horrible tyrant spurting narrative This didn \\u2019 seem quite right As I looked one castle \\u2019 windows onto landscape green city I King David man God \\u2019 heart I couldn \\u2019 believe Lolita grossly mistaken tried go say something argue brushed went castle steps'"
       ]
      }
     ],
     "prompt_number": 381
    },
    {
     "cell_type": "code",
     "collapsed": false,
     "input": [
      "dream_corpus_clean_singularize[1]"
     ],
     "language": "python",
     "metadata": {},
     "outputs": [
      {
       "metadata": {},
       "output_type": "pyout",
       "prompt_number": 399,
       "text": [
        "u'I modern day Jerusalem I thinking landscape looked like Ireland The started either aunt \\u2019 grandma \\u2019 house We getting ready go trip couple suitcase open large bathroom I vaguely something power going little while\\u2026I recall wanting pack get trip agitated either At one point thing slow get going aunt playfully ran large bathroom suitcase someone else sitting Auntie sat next ground I looked jean wearing I thought weird cut length back leg wouldn \\u2019 drag ground left front length Auntie previously stepped scale registered something like 70 kilogram I ran scale registered something like 80 kilo I trying convert pound asked scale said Even though registered I quite carefree whole thing told I think helped figure Sometime trip small charming western town There fairly large group u I identify friend Rochelle u We went restaurant well lit couple wall missing breeze outside circulated beautiful sunny day bench table made sturdy wood For reason everyone group ordering spurt Rochelle one first order Her order came hmy later waffle type meat two deliciou looking poached egg But I thinking wait time like would take hmy half everyone get food I amused irritated Then somehow ended castle-like structure Jerusalem I couple person I distinctly grandma commenting King David lived castle horrible tyrant spurting narrative Thi didn \\u2019 seem quite right As I looked one castle \\u2019 window onto landscape green city I King David man God \\u2019 heart I couldn \\u2019 believe Lolitum grossly mistaken tried go say something argue brushed went castle step'"
       ]
      }
     ],
     "prompt_number": 399
    },
    {
     "cell_type": "code",
     "collapsed": false,
     "input": [
      "dream_corpus_clean_singularize =[]\n",
      "for dream in dream_corpus_clean_stop:\n",
      "    textblob_dream = TextBlob(dream)\n",
      "    dream_words_singular = ' '.join([dream_word.singularize() for dream_word in textblob_dream.words]) \n",
      "    dream_corpus_clean_singularize.append(dream_words_singular)  "
     ],
     "language": "python",
     "metadata": {},
     "outputs": [],
     "prompt_number": 398
    },
    {
     "cell_type": "code",
     "collapsed": false,
     "input": [
      "dream_corpus_clean_singularize =[]\n",
      "for dream in dream_corpus_clean_stop:\n",
      "    textblob_dream = TextBlob(dream)\n",
      "    dream_words_singular = ' '.join([dream_word.singularize() for dream_word in textblob_dream.words]) \n",
      "    dream_corpus_clean_singularize.append(dream_words_singular)  "
     ],
     "language": "python",
     "metadata": {},
     "outputs": []
    },
    {
     "cell_type": "code",
     "collapsed": false,
     "input": [],
     "language": "python",
     "metadata": {},
     "outputs": []
    },
    {
     "cell_type": "code",
     "collapsed": false,
     "input": [
      "dream_nouns_corpus =[]\n",
      "for dream in dream_corpus_clean:\n",
      "    textblob_dream = TextBlob(dream)\n",
      "    dream_nouns = ' '.join([dream_word[0] for dream_word in textblob_dream.tags if dream_word[1] == 'NN' or dream_word[1] == 'NNS' or dream_word[1] == 'NNP' or dream_word[1] == 'NNPS' or dream_word[1] == 'PRP']) \n",
      "    dream_nouns_corpus.append(dream_nouns)  "
     ],
     "language": "python",
     "metadata": {},
     "outputs": [],
     "prompt_number": 349
    },
    {
     "cell_type": "code",
     "collapsed": false,
     "input": [
      "dream_nouns_corpus = [dream for dream in dream_nouns_corpus if len(dream) > 100]"
     ],
     "language": "python",
     "metadata": {},
     "outputs": [],
     "prompt_number": 423
    },
    {
     "cell_type": "code",
     "collapsed": false,
     "input": [
      "dream_adj_adv_corpus =[]  #just adjectives and adverbs\n",
      "for dream in dream_corpus_clean:\n",
      "    textblob_dream = TextBlob(dream)\n",
      "    dream_adj_adv = ' '.join([dream_word[0] for dream_word in textblob_dream.tags if dream_word[1] == 'JJ' or dream_word[1] == 'JJR' or dream_word[1] == 'JJS' or dream_word[1] == 'RB' or dream_word[1] == 'RBR' or dream_word[1] == 'RBS'])  \n",
      "    dream_adj_adv_corpus.append(dream_adj_adv)  "
     ],
     "language": "python",
     "metadata": {},
     "outputs": [],
     "prompt_number": 350
    },
    {
     "cell_type": "code",
     "collapsed": false,
     "input": [
      "dream_adj_adv_corpus = [dream for dream in dream_adj_adv_corpus if len(dream) > 100]"
     ],
     "language": "python",
     "metadata": {},
     "outputs": [],
     "prompt_number": 419
    },
    {
     "cell_type": "code",
     "collapsed": false,
     "input": [
      "len(dream_corpus_clean), len(dream_nouns_corpus), len(dream_nouns_corpus)"
     ],
     "language": "python",
     "metadata": {},
     "outputs": [
      {
       "metadata": {},
       "output_type": "pyout",
       "prompt_number": 351,
       "text": [
        "(347, 347, 347)"
       ]
      }
     ],
     "prompt_number": 351
    },
    {
     "cell_type": "code",
     "collapsed": false,
     "input": [
      "dream_corpus_clean[105]"
     ],
     "language": "python",
     "metadata": {},
     "outputs": [
      {
       "metadata": {},
       "output_type": "pyout",
       "prompt_number": 352,
       "text": [
        "u'I was in a tan room with a low-to-the floor bed with silky white sheets on it. One of my closest friends was there and I told her she looked beautiful. Suddenly, we started kissing (I could actually feel is kissing). As we both took off our clothes, I thought to myself, \\u201cWhy am I making out with a girl, am I a guy?\\u201d just as I was going to tell her that we couldn\\u2019t go any further she disappeared from my sight and the room. I felt relieved, yet disappointed.'"
       ]
      }
     ],
     "prompt_number": 352
    },
    {
     "cell_type": "code",
     "collapsed": false,
     "input": [
      "dream_nouns_corpus[105]"
     ],
     "language": "python",
     "metadata": {},
     "outputs": [
      {
       "metadata": {},
       "output_type": "pyout",
       "prompt_number": 353,
       "text": [
        "u'I room floor bed sheets it friends I she we I we clothes I myself I girl I guy I we couldn \\u2019 t she sight room I'"
       ]
      }
     ],
     "prompt_number": 353
    },
    {
     "cell_type": "code",
     "collapsed": false,
     "input": [
      "dream_adj_adv_corpus[105]"
     ],
     "language": "python",
     "metadata": {},
     "outputs": [
      {
       "metadata": {},
       "output_type": "pyout",
       "prompt_number": 354,
       "text": [
        "u'tan low-to-the silky white closest beautiful Suddenly actually just further yet'"
       ]
      }
     ],
     "prompt_number": 354
    },
    {
     "cell_type": "code",
     "collapsed": false,
     "input": [
      "for dream in dream_adj_adv_corpus:\n",
      "    if len(dream) < 10:\n",
      "        print len(dream)"
     ],
     "language": "python",
     "metadata": {},
     "outputs": [
      {
       "output_type": "stream",
       "stream": "stdout",
       "text": [
        "4\n",
        "6\n",
        "3\n",
        "8\n"
       ]
      }
     ],
     "prompt_number": 355
    },
    {
     "cell_type": "code",
     "collapsed": false,
     "input": [
      "def dreams_dict_by_cluster(clusters, corpus):\n",
      "    clusters_to_dreams = defaultdict(list)\n",
      "    for i, category in enumerate(clusters):\n",
      "        dream = corpus[i]\n",
      "        clusters_to_dreams[category].append(dream)\n",
      "    return clusters_to_dreams"
     ],
     "language": "python",
     "metadata": {},
     "outputs": [],
     "prompt_number": 15
    },
    {
     "cell_type": "code",
     "collapsed": false,
     "input": [
      "def combine_dreams_in_ea_cluster(num_clusters, cluster_dict):\n",
      "    dream_corpus_clustered = []\n",
      "    for i in range(num_clusters):  #num of clusters\n",
      "        all_dreams = ''\n",
      "        for dream in cluster_dict[i]:\n",
      "            all_dreams = all_dreams + ' ' + dream\n",
      "        dream_corpus_clustered.append(all_dreams)\n",
      "        \n",
      "    vectorizer = TfidfVectorizer(stop_words=stop)  \n",
      "    dreams_by_cluster_vectors = vectorizer.fit_transform(dream_corpus_clustered)\n",
      "    c_matrix = coo_matrix(dreams_by_cluster_vectors)\n",
      "    return c_matrix, vectorizer"
     ],
     "language": "python",
     "metadata": {},
     "outputs": [],
     "prompt_number": 377
    },
    {
     "cell_type": "code",
     "collapsed": false,
     "input": [
      "def print_representative_words(number_clusters, number_words, c_matrix, vectorizer):\n",
      "    for i in range(number_clusters):\n",
      "        \n",
      "        #iterate through sparse/coo matrix to get tuples:\n",
      "        variable_list = [(index, tfidf) for row, index, tfidf in zip(c_matrix.row, c_matrix.col, c_matrix.data) if row == i]\n",
      "        variables_sorted_by_tfidf = sorted(variable_list, key=lambda tup: tup[1], reverse=True)\n",
      "            \n",
      "        word_list = []\n",
      "        for x in range(number_words):\n",
      "            max_index_in_cluster = variables_sorted_by_tfidf[x][0]\n",
      "            word = vectorizer.get_feature_names()[max_index_in_cluster]     \n",
      "            word_list.append(word)\n",
      "\n",
      "        print 'Words representative of Cluster {}: '.format(i+1), word_list\n",
      "        print"
     ],
     "language": "python",
     "metadata": {},
     "outputs": [],
     "prompt_number": 19
    },
    {
     "cell_type": "code",
     "collapsed": false,
     "input": [
      "def print_representative_dreams_for_each_cluster(num_clusters, num_dreams_to_print_per_cluster, dream_corpus_to_cluster_with, dream_corpus_original):\n",
      "    \"\"\"takes the cleaned original dream corpus, the modified dream corpus (e.g., just nouns), the number of clusters,\n",
      "    and the number of dreams per cluster to show. Returns n dreams per cluster and 10 top tf-idf words per cluster\"\"\"\n",
      "    \n",
      "    vectorizer = TfidfVectorizer(stop_words=stop)  \n",
      "    dream_vectors = vectorizer.fit_transform(dream_corpus_to_cluster_with)  #this is the X to pass into ml cluster algo. a list of strings.\n",
      "    \n",
      "    model_kmeans = KMeans(n_clusters=num_clusters, n_init=50)  #set n_init higher\n",
      "    clusters_kmeans = model_kmeans.fit_predict(dream_vectors)\n",
      "    \n",
      "    centroids_for_each_cluster = model_kmeans.cluster_centers_\n",
      "    dream_distance_from_centroid_cluster = pairwise_distances(dream_vectors, Y=centroids_for_each_cluster, metric='euclidean', n_jobs=1)\n",
      "    \n",
      "    dreams_in_clusters_dict = dreams_dict_by_cluster(clusters_kmeans, dream_corpus_to_cluster_with)    \n",
      "    c_matrix, vectorizer = combine_dreams_in_ea_cluster(num_clusters, dreams_in_clusters_dict)\n",
      "    print_representative_words(num_clusters, 10, c_matrix, vectorizer)\n",
      "    \n",
      "    for i in range(num_clusters):\n",
      "        #get distance from each dream to centroid for cluster 1, then for cluster 2, etc.\n",
      "        dream_distance_from_this_centroid_cluster = dream_distance_from_centroid_cluster[:,i] \n",
      "        \n",
      "        enum_dream_distance_from_centroid = list(enumerate(dream_distance_from_this_centroid_cluster))\n",
      "        dream_distance_from_centroid_sorted = sorted(enum_dream_distance_from_centroid, key=lambda tup: tup[1])\n",
      "\n",
      "        #print dream_distance_from_centroid_sorted[:20][0]  #it's saying that one dream is the closest to all centroids\n",
      "        #same problem had before. try tim's syntax? or original syntax that I got working??\n",
      "        print \n",
      "\n",
      "        for x in range(num_dreams_to_print_per_cluster):\n",
      "\n",
      "            min_in_cluster = dream_distance_from_centroid_sorted[x][1]\n",
      "            min_index_in_cluster = dream_distance_from_centroid_sorted[x][0]\n",
      "\n",
      "            print 'min {} for cluster {}:'.format(x+1, i+1), min_in_cluster \n",
      "            print 'index:', min_index_in_cluster\n",
      "            print 'Cluster {}. Representative dream: '.format(i+1), dream_corpus_original[min_index_in_cluster]\n",
      "            #print 'Modified dream: ', dream_corpus_to_cluster_with[min_index_in_cluster]\n",
      "\n",
      "            print "
     ],
     "language": "python",
     "metadata": {},
     "outputs": [],
     "prompt_number": 378
    },
    {
     "cell_type": "code",
     "collapsed": false,
     "input": [
      "print_representative_dreams_for_each_cluster(5, 3, dream_corpus_clean_singularize, dream_corpus_clean)"
     ],
     "language": "python",
     "metadata": {},
     "outputs": [
      {
       "output_type": "stream",
       "stream": "stdout",
       "text": [
        "Words representative of Cluster 1:  [u'man', u'time', u'room', u'like', u'dog', u'around', u'felt', u'friend', u'one', u'yo']\n",
        "\n",
        "Words representative of Cluster 2:  [u'friend', u'house', u'one', u'go', u'went', u'get', u'really', u'boyfriend', u'room', u'left']\n",
        "\n",
        "Words representative of Cluster 3: "
       ]
      },
      {
       "output_type": "stream",
       "stream": "stdout",
       "text": [
        " [u'like', u'one', u'friend', u'get', u'go', u'looked', u'around', u'going', u'back', u'would']\n",
        "\n",
        "Words representative of Cluster 4: "
       ]
      },
      {
       "output_type": "stream",
       "stream": "stdout",
       "text": [
        " [u'person', u'friend', u'like', u'room', u'one', u'back', u'really', u'school', u'started', u'get']\n",
        "\n",
        "Words representative of Cluster 5: "
       ]
      },
      {
       "output_type": "stream",
       "stream": "stdout",
       "text": [
        " [u'car', u'driving', u'sister', u'going', u'back', u'got', u'friend', u'get', u'started', u'see']\n",
        "\n",
        "\n",
        "min 1 for cluster 1: 0.9324384004\n",
        "index: 277\n",
        "Cluster 1. Representative dream:  For the majority of the night I do not remember any dreams. I remember falling asleep and feeling extremely content, but after that there were no specific dreams. I woke up before my alarm this morning and checked the clock it was about 3:38am. With a sigh of relief, I was able to roll over and fall back asleep. I awoke a second time around 5:10am and said hello to my roommate, who had gotten up to go to the bathroom. After I fell asleep a third time I had a pretty restless sleep, tossing and turning a lot. This is the only time I remember dreaming. I remember feeling as if there were a man in the room walking around. In my dream I was talking to him as he hung out in my actual dorm room. He made me feel slightly uncomfortable, and so I asked him to leave and he did. After that I don\u2019t remember anything else except waking (unhappily) to my alarm.\n",
        "\n",
        "min 2 for cluster 1: 0.947139665197\n",
        "index: 320\n",
        "Cluster 1. Representative dream:  I dreamt it was parent\u2019s weekend again and my dad was coming around with me to all my classes. He was really angry at me for my study habits and with how I was doing in my classes. He came back with me to my dorm and was shocked because there were hundreds of beer cans sitting all over my room. He was screaming at me for a while and then he just started laughing uncontrollably. Later that night he came around with my friends and I to different parties. He complained about the bad beer at college parties and about how I was spending my time. After that my memory is blank.\n",
        "\n",
        "min 3 for cluster 1: 0.948283539995\n",
        "index: 15\n",
        "Cluster 1. Representative dream:  It was parent\u2019s weekend again and my dad was coming around with me to all my classes. He was really angry at me for my study habits and with how I was doing in my classes. He came back with me to my dorm and was shocked because there were hundreds of beer cans sitting all over my room. He was screaming at me for a while and then he just started laughing uncontrollably. Later that night he came around with my friends and I to different parties. He complained about the bad beer at college parties and about how I was spending my time.\n",
        "\n",
        "\n",
        "min 1 for cluster 2: 0.922209715979\n",
        "index: 65\n",
        "Cluster 2. Representative dream:  I was in this huge house on the water with the boyfriend, his friends, and one of his friend\u2019s girlfriends. The house was huge with lots of large windows and tall archways. There were marble floor and a light tan color scheme there were lots of huge rooms and I shared one with the girlfriend. The room has a balcony that overlooks the lake and a huge water trampoline. I went to sleep and when I woke up I recalled that I had dreams but couldn\u2019t remember what happened in the dream. I opened the bedroom door the same time as the other guy\u2019s girlfriend did. We knew each other because out boyfriend\u2019s were suitemates. All the guys have left to go pick up some new video game so we were left in the house by ourselves. We decided to go exploring I was surprised my boyfriend had left because he never left\u2014he always included me in everything. I wasn\u2019t surprised the other girl\u2019s boyfriend had left because he always did things like that and the girl never knew where he was then I got a call from the boyfriend telling me that he was bringing over one of my friends that I had in real life I had gone shopping with the day before.\n",
        "\n",
        "min 2 for cluster 2: 0.940599437909\n",
        "index: 62\n",
        "Cluster 2. Representative dream:  I was at some kind of gather of family and friends and I knew there was a baby around that I wanted to hold. But the mom needed the baby\u2019s things like a dollhouse and stroller so a couple of my friends and I went down an elevator to the lower levels of the building and retrieved those items and shopped a little. I felt like I had been in that shop many times before and I was in the aisle that I was always in when I went in so I didn\u2019t get anything. I went ahead of my two friends and I got to hold the baby. I don\u2019t know the mother of the baby, but the baby knew me and I don\u2019t know the gender. I thought maybe a boy. I tried keeping his head up but it was all squashed and deformed. But then when I help him up over my shoulder, his neck and head were okay. When I help him up in front of me where I could see his front, he was deformed at the neck and head and he talked to me like an older child would. My two friends came back after a while and one had definitely showered. My family and I, some friends, and Jennifer Lopez were at some kind of sports event. I had watched this type of rugby-ish game before. It had little girls and boys and older ones too. There was even a girl from Santa Clara. I think I was talking to this kid who I knew (an older version of the baby earlier, but a girl) about the game. The teams were the Yeses and the No\u2019s and I told her that she was a Maybe or that someone else was a Maybe. I had played the game before or had been there numerous times. I felt nostalgic and wanted to share the old game with her even if it was filled of cliques and was so dramatic. There were girls nearby talking about across the street where there was a school, called Eden. They were raving about how cute the boys over there were and then I remembered I had done and thought the same thing: used binoculars to look at the cute boys. The girl beside me told me about a boy she liked who was playing the game. I think it was called Eiffel ball. And I recalled a time when I had liked a boy too. The game was coed and of different ages and so my crush would inevitably show. I told her he must have gone to college because I couldn\u2019t spot him. I was also in college, but this felt like a high school event. I sat near my parents and the baby sat diagonally behind me with her mom and the mom kept complaining about how J. Lo\u2019s hair was in the way. I saw the mom\u2019s face, but I can\u2019t remember it. I told them to sit next to me but they didn\u2019t want to. J. Lo turned around and smiled. The announcer or some guy with a microphone was going through the crowd and random people would say something, like a quote, into the mic. J. Lo said hers and I thought \u2018that\u2019s so totally J. Lo\u2019, because she had said that quote somewhere else too. I started complaining to my dad that the game looked fake and planned out. He said it\u2019s supposed to be like that and after they\u2019ll start to play for real, the beginning is just dramatic and for show. I think my parents were in a fight but I was in Santa Clara, in my dorm with my friends when I got a phone call from my mom. She said that a family friend has a family member in the hospital who is dying. She said my brother was coming to pick him up and bring him to the airport. I ran out, yelled for my brother and looked for his car, but I couldn\u2019t find him. My SCU family friend lived in Casa so I went over there to be with him until my brother arrived. It didn\u2019t really look like Casa and all the people I saw were from my high school. I knew this because I saw one of my old crushes, but he ignored me, but not in an impolite way, he was just talking to other people. I just needed to find the family friend. As I was about to ask if the boys had seen him, I saw my friend from high school from South Carolina and ran to him. I was no longer looking for the family friend. He then became the one who needed comfort because someone in his family was dying or died. I hugged him when I knelt down in the floor to where he was sitting. He was sweaty, didn\u2019t have his glasses, and had been listening to music.\n",
        "\n",
        "min 3 for cluster 2: 0.944920125506\n",
        "index: 326\n",
        "Cluster 2. Representative dream:  Wow, right before waking up I was crying in my sleep! I was exclaiming something emotionally to my friend and current suitemate, that \u201cEven though you look much different now, you\u2019ve always been beautiful to me.\u201d Before that I said, \u201cI know I\u2019m a girl and everything, but you\u2019ve always been beautiful.\u201d I said this to her, honestly meaning them & looking into her eyes and holding her two hands. (In real life I really do cherish her as one of my best friends too). The setting I can\u2019t quite remember now\u2026perhaps a living room environment. I was sitting or lying down to the left of my friend, and we were both facing my boyfriend. He was telling her, sincerely & kindly yet was brutally honest that \u201c\u2026I thought you were unattractive,\u201d but when he saw her another time or at another place, he thought she was attractive. The point he goes on to say is a piece of advice: that you should find someone who doesn\u2019t look at how you look, that cares about the person you are. The faces of my friend and my boyfriend were distinct & pretty clear. I remember seeing color (normal tones I think, not too bright etc) and I remember feeling a lot of emotion, and thinking too.\n",
        "\n",
        "\n",
        "min 1 for cluster 3: 0.926081787948\n",
        "index: 269\n",
        "Cluster 3. Representative dream:  I was walking on the beach with my boyfriend when we came across a trailer\u2014a big trailer. When we got on, I realized it was a wedding party. All the boys are in tuxedos and the girls are in purple and blue formal dresses. Everyone was drinking out of small brightly colored glasses. They kept urging me to drink too, but I didn't want to. They kept telling me to hurry up, saying it was almost time. They pushed me into a bathroom so I could do my make-up, but there were no mirrors. All my makeup was liquid, the same color of my drink. I was confused because I couldn't put on my make-up without a mirror. I was not conscious of what I looked like. They came to get me from the bathroom and kept saying that it was time. I was confused. When I looked out the window I saw two large groups in uniform squares like soldiers. The boys were on the left and the girls were on the right. They were all dancing in unison. They wanted me to go outside, but I wouldn't go.\n",
        "\n",
        "min 2 for cluster 3: 0.927840678339\n",
        "index: 73\n",
        "Cluster 3. Representative dream:  I was planning to go to a couple of stores. One to get some things I needed as well as a plush football. I arrived at Walmart and realized that I could get everything that I needed there. Before I thought I had to make another trip somewhere else. As I pulled into the parking lot I saw a smiling man walking around. Then I saw the same man but this time he was wearing the store uniform. As I pulled into the parking space I crashed into a shopping cart and hit the check on the steering wheel. I then called my mom and told her about my little accident. Then I started going to the store and as I was entering I met a couple of my friends. They walked into the store with me and I remember thinking that I needed to get some books. I then started walking down the aisle and I saw bunch of the plush footballs that I wanted to get. I picked one out and then realized that it might be intended to be a dog toy. Then I remember walking around a bunch of machines that sell little toys. I was looking to set some kind of decorations, possibly for my hands. Some of the machines were difficult to reach. I then remember going to eat some food with a couple of my friends. After that I remember being inside of a store with the same friends. One of them, however, kept changing from my friend to another guy that I know. I then started asking that friend if he\u2019s e interested in going to the store that we were already standing in. he said he\u2019d go but that he wanted to get some food first. I laughed at him, along with one of the store employees and told him that we had already gotten some food. But he didn\u2019t eat much, so he wanted to go again. I then remember being in the car with my two friends. I was driving and one of my friends was trying to figure out where to go. One of my friends suggested going somewhere far and taking the freeway, but my other friend told him that I wasn\u2019t a good enough driver to do that. Then I remember that there was some kind of slow slot car like game where the trick shifts below the ground to form a loop like a freeway . I was first looking at it like it was a toy but then the car got transferred. I remember that my friends were saying that the only way the transaction could work was if there was something on the bottom, where the track went. I then remember being transported to watching a movie with my grandma. The movie was about the Sand Pearl Jam and his grandma wanted to know where a certain song occurred. She then said that she likes my band\u2019s music here. I told her that silly because Pearl Jam is considered one of the biggest bands in America\n",
        "\n",
        "min 3 for cluster 3: 0.934597075841\n",
        "index: 1\n",
        "Cluster 3. Representative dream:  I was in modern day Jerusalem, but I can remember thinking how the landscape looked more like Ireland to me. The dream started off in either my aunt\u2019s or my grandma\u2019s house. We were getting ready to go on a trip and there were a couple suitcases open in the large bathroom. I vaguely remember something about the power going out for a little while\u2026I recall wanting to pack up and get on out trip but not being too agitated either. At one point, things were just slow to get going and my aunt playfully ran into the large bathroom where the suitcases were \u2013 there was someone else sitting in there. Auntie sat next to them on the ground and I looked over at the jeans she was wearing. I thought to myself how weird it was that she had cut the length off of the back of them so the leg wouldn\u2019t drag on the ground but had left the front the same length. Auntie had previously stepped on the scale and it registered something like 70 kilograms. I ran over to the scale and it registered something like 80 kilos. I was trying to convert that over to pounds and she asked me what the scale said. Even though it had registered as more than her, I was quite carefree about the whole thing and told her and I think she helped me figure it out. Sometime after this we were on our trip and in a small, charming western town. There was a fairly large group of us, but I can only identify my friend Rochelle as being with us. We went into the restaurant that was well lit, had a couple walls missing so the breeze from the outside circulated through (it was a beautiful, sunny day) and the benches and tables were made of sturdy wood. For some reason, not everyone in our group was there and so we were ordering in spurts. Rochelle was one of the first to order. Her order came about an hour later \u2013 waffles, some type of meat, and two delicious looking poached eggs. But I remember thinking that with a wait time like that, it would take about an hour and a half for everyone to get their food! I was both amused and irritated by this. Then, somehow, we ended up in this castle-like structure in Jerusalem. I was with a couple other people, but I can only distinctly remember my grandma commenting on how King David, who had lived in this castle, had been this horrible tyrant and was spurting off some narrative about him. This didn\u2019t seem quite right to me. As I looked out one of the castle\u2019s windows onto the landscape of the green city, I remembered that King David had been a \u201cman after God\u2019s own heart.\u201d I couldn\u2019t believe that Lolita was so grossly mistaken and tried to go and say something to argue with her, but she brushed me off and went down the castle steps.\n",
        "\n",
        "\n",
        "min 1 for cluster 4: 0.923787515987\n",
        "index: 62\n",
        "Cluster 4. Representative dream:  I was at some kind of gather of family and friends and I knew there was a baby around that I wanted to hold. But the mom needed the baby\u2019s things like a dollhouse and stroller so a couple of my friends and I went down an elevator to the lower levels of the building and retrieved those items and shopped a little. I felt like I had been in that shop many times before and I was in the aisle that I was always in when I went in so I didn\u2019t get anything. I went ahead of my two friends and I got to hold the baby. I don\u2019t know the mother of the baby, but the baby knew me and I don\u2019t know the gender. I thought maybe a boy. I tried keeping his head up but it was all squashed and deformed. But then when I help him up over my shoulder, his neck and head were okay. When I help him up in front of me where I could see his front, he was deformed at the neck and head and he talked to me like an older child would. My two friends came back after a while and one had definitely showered. My family and I, some friends, and Jennifer Lopez were at some kind of sports event. I had watched this type of rugby-ish game before. It had little girls and boys and older ones too. There was even a girl from Santa Clara. I think I was talking to this kid who I knew (an older version of the baby earlier, but a girl) about the game. The teams were the Yeses and the No\u2019s and I told her that she was a Maybe or that someone else was a Maybe. I had played the game before or had been there numerous times. I felt nostalgic and wanted to share the old game with her even if it was filled of cliques and was so dramatic. There were girls nearby talking about across the street where there was a school, called Eden. They were raving about how cute the boys over there were and then I remembered I had done and thought the same thing: used binoculars to look at the cute boys. The girl beside me told me about a boy she liked who was playing the game. I think it was called Eiffel ball. And I recalled a time when I had liked a boy too. The game was coed and of different ages and so my crush would inevitably show. I told her he must have gone to college because I couldn\u2019t spot him. I was also in college, but this felt like a high school event. I sat near my parents and the baby sat diagonally behind me with her mom and the mom kept complaining about how J. Lo\u2019s hair was in the way. I saw the mom\u2019s face, but I can\u2019t remember it. I told them to sit next to me but they didn\u2019t want to. J. Lo turned around and smiled. The announcer or some guy with a microphone was going through the crowd and random people would say something, like a quote, into the mic. J. Lo said hers and I thought \u2018that\u2019s so totally J. Lo\u2019, because she had said that quote somewhere else too. I started complaining to my dad that the game looked fake and planned out. He said it\u2019s supposed to be like that and after they\u2019ll start to play for real, the beginning is just dramatic and for show. I think my parents were in a fight but I was in Santa Clara, in my dorm with my friends when I got a phone call from my mom. She said that a family friend has a family member in the hospital who is dying. She said my brother was coming to pick him up and bring him to the airport. I ran out, yelled for my brother and looked for his car, but I couldn\u2019t find him. My SCU family friend lived in Casa so I went over there to be with him until my brother arrived. It didn\u2019t really look like Casa and all the people I saw were from my high school. I knew this because I saw one of my old crushes, but he ignored me, but not in an impolite way, he was just talking to other people. I just needed to find the family friend. As I was about to ask if the boys had seen him, I saw my friend from high school from South Carolina and ran to him. I was no longer looking for the family friend. He then became the one who needed comfort because someone in his family was dying or died. I hugged him when I knelt down in the floor to where he was sitting. He was sweaty, didn\u2019t have his glasses, and had been listening to music.\n",
        "\n",
        "min 2 for cluster 4: 0.931771583638\n",
        "index: 268\n",
        "Cluster 4. Representative dream:  A big group of us were in a really big house. For some reason, I did not want to be found. I was running from room to room trying to avoid the people chasing me, eventually I found a room with lots of blue blankets. I covered up with those and shut my eyes. I don't recall anyone ever coming in after me. When I opened my eyes again I was tangled in the blankets. I had to tear them apart in order to run away. As I ran back through the house I saw a lot of people I knew. But I was no longer running from the bad guys. This time I walked down a long corridor and ended up at s BBQ with people I knew in high school. I sat at a table with old friends. They asked me about my ex-boyfriend, Chris. I told them I didn't think about him much except when I saw people with his eyes. When I went to pick up food from the line, Chris was right behind me. We hugged and started chatting and I couldn't help but notice how small his feet were.\n",
        "\n",
        "min 3 for cluster 4: 0.94337889075\n",
        "index: 168\n",
        "Cluster 4. Representative dream:  I was in some building on the second floor and there were a bunch of people I knew gathered around tables looking at things. I was going to go to the side of the room, but decided to go by my friend and help her. There weren\u2019t a lot of people around her even though she was right in the center of the set of tables. So I figured, \u2018Perfect, more room, plus I\u2019m in the middle.\u2019 There was an escalator coming up from the first floor and directly facing the middle part of the room where my friend and I were. My back was facing the escalator when I nonchalantly turned around because I heard gunshots and commotion. I looked down and I had been hit with a bullet below my ribs. The hold was bleeding a little, but more looked like a caved in bruise or something. I saw the shooter, and he was my friend and I was totally confused as to why he just rode up the escalator and shot a random round. I just knew that he\u2019d shot randomly and wasn\u2019t aiming for me so I wasn\u2019t mad at all. I was just confused because I was thinking in my head how Andrew was a really good guy, so what was he doing? I also thought what a coincidence it was that no one was congregating near the escalator, but off to the side. My thoughts switched to the thought that I needed to get to a hospital to fix my wound. I wasn\u2019t bleeding externally, but all I could think was that I was hit by a bullet and so at any moment (because I didn\u2019t know what was happening internally) I may just have a seizure or something and die. So all I kept thinking was I needed to get to the hospital! At the hospital, I told some nurse lady that I need to go to surgery ASAP or else I would die. She acknowledged that I was in more critical condition than my friend, who\u2019d gotten hit in the foot, but she wasn\u2019t very urgent. I was mad because I had an inclination I needed to be \u201cfixed\u201d ASAP. All of a sudden my heart started racing and my hands and arms shook like I had a seizure or something. It was momentary, but made me mad because I told the lady, \u201cSee! My body\u2019s randomly doing things!\u201d She had a lackadaisical approach so I left to find a surgeon myself. All I could think though was that I needed to find someone I could trust. This one surgeon told me to fill out a few surveys and questionnaires before he could begin, so he knew what kind of a patient I was. It seemed reasonable, until I realized I\u2019d been filling out surveys for two hours! Then I realized that the guy wasn\u2019t going to help me, but just wanted me to take his surveys. I left the room when he wasn\u2019t looking, thinking I need to find a friend\u2019s dad who\u2019s a surgeon. I can trust my friends\u2019 dads! In the meantime surgeons offered their help, but I said no because I didn\u2019t trust them. Then I finally found one of my friends\u2019 dads. He got right to work giving me that shot to knock you out. I told him I had a hard time sleeping at night so he might to give me extra stuff. I was still unsure of trusting him, but I gave him the benefit of the doubt because he was related to my friend, plus it was a while since I got hit and I needed to remove the bullet from me. It was only a matter of time before I had another one of those seizure things. The doctor made me clean my forearm with a white antiseptic wipe, and he assured me the stuff would put me to sleep for approximately 8.5 hours. But when he did inject me, I started to get drowsy, but didn\u2019t knock out like he promised. That gave me doubts about him and when he went to get more fluid stuff, all I could think was, \u2018I can\u2019t trust him either! And I told him I don\u2019t fall asleep easily, I have a hard time falling asleep at night. I was right!\u2019\n",
        "\n",
        "\n",
        "min 1 for cluster 5: 0.914968693076\n",
        "index: 34\n",
        "Cluster 5. Representative dream:  I was driving somewhere at night in the city during winter. I parked in a ramp (structure) and was then in a coffee shop with my sister and fianc\u00e9 I was walking with them on the sidewalk and we were talking about following each other back. I got in my car and drove ahead. I passed my fianc\u00e9\u2019s car and my sister\u2019s car and realized I didn\u2019t know where I was going, and that I should have been following my fianc\u00e9 since he knew how to get back. I kept driving, and I heard my phone ring.\n",
        "\n",
        "min 2 for cluster 5: 0.921759438721\n",
        "index: 178\n",
        "Cluster 5. Representative dream:  I was driving in the car with my friend my Matt. He was driving and I was riding shotgun. The car was his old one back from high school but we were in California. I felt uneasy because I knew he was a bad driver. We get to a highway and begin to merge. Coming down the onramp I can feel that he is accelerating around the whole ramp and about to lose control. I turn to the back left window and see that the other cars on the highway are going way faster than us, so I turn around and grip my chair and start yelling at him to get control. He starts yelling back but I don\u2019t know what he said. We get on the highway and just go in a diagonal line across the lanes and slam into a wall. Then the car kept moving forward while scraping the wall to the left. A couple hundred feet a head I saw a wall perpendicular to the car that we\u2019d hit head on. I braced myself, then once we hit it was like a spring or something because his car just bounced right off and came to a stop.\n",
        "\n",
        "min 3 for cluster 5: 0.922073891137\n",
        "index: 14\n",
        "Cluster 5. Representative dream:  I was back home in Portland. I was in front of my fireplace at home playing with my cat Buzzer. I got up and got in my car and began driving. I started the drive alone, but at some point a passenger appeared in the car. I didn\u2019t recognize them, but it was apparent that we knew eachother and were fairly close. It started raining and while I was driving down Scholls Ferry I spun out and crashed into a \u201cSlow Down\u201d sign.\n",
        "\n"
       ]
      }
     ],
     "prompt_number": 400
    },
    {
     "cell_type": "code",
     "collapsed": false,
     "input": [],
     "language": "python",
     "metadata": {},
     "outputs": []
    },
    {
     "cell_type": "markdown",
     "metadata": {},
     "source": [
      "##Nightmare Analyses"
     ]
    },
    {
     "cell_type": "code",
     "collapsed": false,
     "input": [
      "client = pymongo.MongoClient()  #create a MongoClient to the running mongod instance:\n",
      "db = client.dreams  #create dsbc database and assign it to db\n",
      "worst_nightmares_collection = db.worst_nightmares  #create collection for the dream vs. wake descriptions"
     ],
     "language": "python",
     "metadata": {},
     "outputs": [],
     "prompt_number": 308
    },
    {
     "cell_type": "code",
     "collapsed": false,
     "input": [
      "cursor_worst = worst_nightmares_collection.find({}, {'text':1, '_id':0})"
     ],
     "language": "python",
     "metadata": {},
     "outputs": [],
     "prompt_number": 313
    },
    {
     "cell_type": "code",
     "collapsed": false,
     "input": [
      "nightmares_corpus = [dream['text'] for dream in cursor_worst]"
     ],
     "language": "python",
     "metadata": {},
     "outputs": [],
     "prompt_number": 314
    },
    {
     "cell_type": "code",
     "collapsed": false,
     "input": [
      "print nightmares_corpus[25]"
     ],
     "language": "python",
     "metadata": {},
     "outputs": [
      {
       "output_type": "stream",
       "stream": "stdout",
       "text": [
        "Being chased by a large Godzilla or King Kong-type creature. Tried hiding in various places (buildings, caves, etc.) but would always be eventually discovered and have to run again.\n"
       ]
      }
     ],
     "prompt_number": 592
    },
    {
     "cell_type": "code",
     "collapsed": false,
     "input": [],
     "language": "python",
     "metadata": {},
     "outputs": []
    },
    {
     "cell_type": "code",
     "collapsed": false,
     "input": [
      "nightmare_nouns_corpus =[]\n",
      "for dream in nightmares_corpus:\n",
      "    textblob_dream = TextBlob(dream)\n",
      "    nightmare_nouns = ' '.join([dream_word[0] for dream_word in textblob_dream.tags if dream_word[1] == 'NN' or dream_word[1] == 'NNS' or dream_word[1] == 'NNP' or dream_word[1] == 'NNPS' or dream_word[1] == 'PRP']) \n",
      "    nightmare_nouns_corpus.append(nightmare_nouns)  "
     ],
     "language": "python",
     "metadata": {},
     "outputs": [],
     "prompt_number": 323
    },
    {
     "cell_type": "code",
     "collapsed": false,
     "input": [
      "nightmare_adj_adv_corpus =[]  #just adjectives and adverbs\n",
      "for dream in nightmares_corpus:\n",
      "    textblob_dream = TextBlob(dream)\n",
      "    nightmare_adj_adv = ' '.join([dream_word[0] for dream_word in textblob_dream.tags if dream_word[1] == 'JJ' or dream_word[1] == 'JJR' or dream_word[1] == 'JJS' or dream_word[1] == 'RB' or dream_word[1] == 'RBR' or dream_word[1] == 'RBS'])  \n",
      "    nightmare_adj_adv_corpus.append(nightmare_adj_adv)  "
     ],
     "language": "python",
     "metadata": {},
     "outputs": [],
     "prompt_number": 324
    },
    {
     "cell_type": "code",
     "collapsed": false,
     "input": [
      "nightmares_corpus[3]"
     ],
     "language": "python",
     "metadata": {},
     "outputs": [
      {
       "metadata": {},
       "output_type": "pyout",
       "prompt_number": 341,
       "text": [
        "u'As a young boy some dereams would keep me awake. I cannot remember the details. My mother would always \"save me\" or I would wake up from my sleep.'"
       ]
      }
     ],
     "prompt_number": 341
    },
    {
     "cell_type": "code",
     "collapsed": false,
     "input": [
      "nightmare_nouns_corpus[3]"
     ],
     "language": "python",
     "metadata": {},
     "outputs": [
      {
       "metadata": {},
       "output_type": "pyout",
       "prompt_number": 333,
       "text": [
        "u'wife I I she me me she others I love time'"
       ]
      }
     ],
     "prompt_number": 333
    },
    {
     "cell_type": "code",
     "collapsed": false,
     "input": [
      "nightmare_adj_adv_corpus[3]"
     ],
     "language": "python",
     "metadata": {},
     "outputs": [
      {
       "metadata": {},
       "output_type": "pyout",
       "prompt_number": 335,
       "text": [
        "u'young awake always'"
       ]
      }
     ],
     "prompt_number": 335
    },
    {
     "cell_type": "code",
     "collapsed": false,
     "input": [
      "print_representative_dreams_for_each_cluster(5, 3, nightmares_corpus, nightmares_corpus)"
     ],
     "language": "python",
     "metadata": {},
     "outputs": [
      {
       "output_type": "stream",
       "stream": "stdout",
       "text": [
        "Words representative of Cluster 1:  [u'years', u'woke', u'house', u'bed', u'never', u'old', u'back', u'died', u'parents', u'time']\n",
        "\n",
        "Words representative of Cluster 2:  [u'would', u'wake', u'like', u'one', u'house', u'mother', u'seemed', u'trying', u'could', u'woke']\n",
        "\n",
        "Words representative of Cluster 3: "
       ]
      },
      {
       "output_type": "stream",
       "stream": "stdout",
       "text": [
        " [u'car', u'could', u'back', u'one', u'get', u'killed', u'see', u'accident', u'go', u'come']\n",
        "\n",
        "Words representative of Cluster 4: "
       ]
      },
      {
       "output_type": "stream",
       "stream": "stdout",
       "text": [
        " [u'looking', u'oso', u'saw', u'face', u'reflection', u'walking', u'back', u'house', u'began', u'behind']\n",
        "\n",
        "Words representative of Cluster 5: "
       ]
      },
      {
       "output_type": "stream",
       "stream": "stdout",
       "text": [
        " [u'one', u'couldn', u'get', u'trying', u'move', u'could', u'woke', u'house', u'away', u'dark']\n",
        "\n",
        "\n",
        "min 1 for cluster 1: 0.95412767345\n",
        "index: 338\n",
        "Cluster 1. Representative dream:  That was over 50 years ago. I was alone with my little son and dreamed that he was sitting in the front yard grass and a car left the street and came up onto the grass and ran him over. I woke up in a sweat totally afraid and had the fear that someone was in the house. I have never had a nightmare like that since.\n",
        "\n",
        "min 2 for cluster 1: 0.957150948153\n",
        "index: 286\n",
        "Cluster 1. Representative dream:  It was probably the one described on the previous page. Nightmares aren't a big part of my dreaming, but I remember some involving falling and choking. Once, a few years back, after my mother died, I woke up crying which was the first time I'd ever cried while dreaming. It was a mourning response, I'm sure, although it happened years after her death so it was a delayed grieving. I always hoped my dead parents would return in dreams -- something that has happened to many people I know -- but they never did. Maybe that's because I was with both of my parents when they died and there was virtually no \"unfinished business.\"\n",
        "\n",
        "min 3 for cluster 1: 0.959864598314\n",
        "index: 120\n",
        "Cluster 1. Representative dream:  My father died in 1960 from a long bout of cancer. I saw him die. For years I dreamed about his being ill, but I always woke up before he died. After many years of this frequent dream, I finally dreamed that he died. That was closure for me. After that, I never dreamed about his sickness or dying. I don't know if this qualifies as a nightmare, but this was a very disturbing dream.\n",
        "\n",
        "\n",
        "min 1 for cluster 2: 0.935569604573\n",
        "index: 69\n",
        "Cluster 2. Representative dream:  When my son was killed and he was calling out mom I would say are you alright ,he would say no and I would have like a panic attack and it seemed as though my heart was dead and I would wake up with my pulse racing .\n",
        "\n",
        "min 2 for cluster 2: 0.941376777693\n",
        "index: 113\n",
        "Cluster 2. Representative dream:  When I was young I had a recurring nightmare which involved people trying to make me lay down in a hospital. I would try and try to run away but I could only move in slow motion. I knew that if the people got me to lay down on the hospital bed I would die. I was terrified! Then I would wake up and feel safe. After that I realized that I was actually still asleep and the people were still there trying to trick me into laying down. This would happen several times before I would actually wake up.\n",
        "\n",
        "min 3 for cluster 2: 0.946775884947\n",
        "index: 78\n",
        "Cluster 2. Representative dream:  Had this dream a few time being chased by a monster down my street. I would just make it to my front door and close the door. I would be running but it seemed to take so long to get to the front door I would wake up when it got close to the monster getting me\n",
        "\n",
        "\n",
        "min 1 for cluster 3: 0.943664517904\n",
        "index: 114\n",
        "Cluster 3. Representative dream:  I dreamt my son was killed in a car accident as a teen - and I was so afraid it would come true. I was very glad he made it safely to 20 and I could stop worrying so much\n",
        "\n",
        "min 2 for cluster 3: 0.95675157412\n",
        "index: 31\n",
        "Cluster 3. Representative dream:  I never had a bad dream but the worse one I can remember was back when I was in college 60's. I was at a party and on my way home and I ran up on a car accident. I was not able to stop and continued past the accident and the road ended and went over the edge and I started falling. Then woke up.\n",
        "\n",
        "min 3 for cluster 3: 0.957810668308\n",
        "index: 410\n",
        "Cluster 3. Representative dream:  It was right after my first baby was born. There is a river that cuts through our town, and the San Souci bridge goes across it. It is night, winter time. I have the baby in the back seat of the car in his car seat. It is a citation. I am driving. I come up to the bridge and before I can stop I see that the bridge ends half-way across the river and I drive over the edge. All I can think is, as I'm driving over the edge in slow motion into the cold, black water is \"Oh my god I've killed the baby\". I scream in my dream and wake myself up, crying and shaking. I was so upset, in my half-wake state, that I decide to go back to sleep and have the dream again. I fell back asleep, and found myself driving my car to the bridge, just as before. But before I drive off the edge, I yank the steering wheel to the left, and avoid driving off the bridge. I pull the car to the side, and grab my baby out of his car seat and hold him tight, in his little blue, fuzzy snow suit. It is still dark, and cold, and I can see my breath. I am in the parking lot of Electric Park Ballroom--a venue that sits in the edge of the river. I am breathing fast and rocking back and forth. I saved the baby this time. I don't remember anything after that.\n",
        "\n",
        "\n",
        "min 1 for cluster 4: 0.962293019038\n",
        "index: 389\n",
        "Cluster 4. Representative dream:  I dreamt the end of the earth was coming, I went to my mothers house and saw my father lying dead and naked in the alley next to the house My mother answered the door and had leisions all over her face and didn't care about anything. I looked up the block and saw my three children running and a car stopped with a man staring at me holding a rifle and shooting my children, after they fell down they got up and were shot again, this happed three times. Then I ran accross the street and tried to save my aunt. She came to the door with so many lesions all over her face, while there was huge thundering in the sky it looked as if the entire universe was cracking and a bright light was behind it. She said to stay in her house, no one was safe from the end of the world but her house was the safest. Not a dream, six months after my father died As a child I had a lot of death dreams and within two weeks someone died (actually)\n",
        "\n",
        "min 2 for cluster 4: 0.962445749532\n",
        "index: 83\n",
        "Cluster 4. Representative dream:  The worst nightmare I can remember took place when I was 10-11 years old. I was walking in the woods at night and came upon a very old abandoned and wrecked car. It was hard to see, but I recognized an old woman that I knew. She was dead and rotting away. Suddenly, she began to move and looked at me very threateningly. I began to run away from the car when I turned around and saw her coming after me. I could not run or scream and felt terrified. I woke up.\n",
        "\n",
        "min 3 for cluster 4: 0.965109532297\n",
        "index: 356\n",
        "Cluster 4. Representative dream:  Although this dream began as a nightmare, it had a good ending. I'm walking alone at night in an industrial area that is unfamiliar. Rather than walking on a sidewalk with paved streets and light posts, I'm walking between unlit warehouses on either side of me. Then I'm suddenly inside a large building that's similar to an enclosed parking garage--that is, it's made of cement and has a low ceiling. Rather than cars, there are stacks of boxes and crates scattered around. When I see the shadows of two or more workers moving about, I believe it's dangerous, so I hide behind some boxes. Every once in a while, I can see a worker's face--a grotesque face one sees on Halloween masks, not the face of a human. I am very scared and try to sneak away without being discovered but someone--or something--dressed in dark clothes is following me. No matter which way I go, I can't find an exit nor shake whoever is behind me. Then I run inside a theater--I have no idea how I got there! All I know is the stage and seats are to my right, a wall to my left, stairs in front, and something awful chasing me from behind. So I run up the steps all the way to the top, but when I start to turn right and run between the row of seats, I stop and turn around to look at what's chasing me. Instead of a monster, it's an androgynous-looking human being who isn't frightening at all. The face appears to be similar to mine, is beautiful, and I'm no longer afraid. Though I can't articulate the experience, I sensed some truth about myself and/or life.\n",
        "\n",
        "\n",
        "min 1 for cluster 5: 0.936766896363\n",
        "index: 71\n",
        "Cluster 5. Representative dream:  I dreamt I was in a box and couldn't get out ... I called out, but couldn't vocalize anything. It was dark and claustrophobic. No matter what I tried, no one heard me and I couldn't move.\n",
        "\n",
        "min 2 for cluster 5: 0.940124878623\n",
        "index: 294\n",
        "Cluster 5. Representative dream:  It was one of those dreams where you don't really know if it's a dream or not. It was dark in the bedroom but I knew that someone, someTHING, was there with me. I couldn't move no matter how hard I tried. Suddenly I was in a car, running, running, knowing that I was only seconds away from painful, horrible death but I couldn't run fast enough (yes, I was in a car but I still felt the weight of my legs, the terror at knowing I couldn't move them fast enough to get away...) Something big, black, and amorphous was gaining behind me and I couldn't run. I could barely lift my feet and I was dizzy, staggering like I was really, really drunk. I woke up with my heart pounding a million miles and hour.\n",
        "\n",
        "min 3 for cluster 5: 0.9520279396\n",
        "index: 330\n",
        "Cluster 5. Representative dream:  A beast was chasing everyone around me and the only way I could make him stop was to make him chase me. Everyone turned away and wouldn't help me. I couldn't get away, and couldn't get any help.\n",
        "\n"
       ]
      }
     ],
     "prompt_number": 380
    },
    {
     "cell_type": "code",
     "collapsed": false,
     "input": [],
     "language": "python",
     "metadata": {},
     "outputs": []
    },
    {
     "cell_type": "markdown",
     "metadata": {},
     "source": [
      "##Other clustering methods: Agglomerative"
     ]
    },
    {
     "cell_type": "code",
     "collapsed": false,
     "input": [
      "#AgglomerativeClustering(n_clusters=num_clusters, affinity='cosine', linkage='average').fit_predict(dream_vectors.toarray())\n",
      "\n",
      "\n",
      "def representative_dreams_for_clusters_agglo(num_clusters, num_dreams_to_print_per_cluster, dream_corpus_to_cluster_with, dream_corpus_original):\n",
      "    \"\"\"takes the cleaned original dream corpus, the modified dream corpus (e.g., just nouns), the number of clusters,\n",
      "    and the number of dreams per cluster to show. Returns n dreams per cluster and 10 top tf-idf words per cluster\"\"\"\n",
      "    \n",
      "    vectorizer = TfidfVectorizer(stop_words=stop)  \n",
      "    dream_vectors = vectorizer.fit_transform(dream_corpus_to_cluster_with)  #this is the X to pass into ml cluster algo. a list of strings.\n",
      "    \n",
      "    model_agglo = AgglomerativeClustering(n_clusters=num_clusters, affinity='cosine', linkage='average') \n",
      "    clusters_agglo = model_agglo.fit_predict(dream_vectors.toarray())\n",
      "    \n",
      "    #centroids_for_each_cluster = model_agglo.cluster_centers_\n",
      "    #dream_distance_from_centroid_cluster = pairwise_distances(dream_vectors, Y=centroids_for_each_cluster, metric='euclidean', n_jobs=1)\n",
      "    \n",
      "    dreams_in_clusters_dict = dreams_dict_by_cluster(clusters_agglo, dream_corpus_to_cluster_with)    \n",
      "    c_matrix, vectorizer = combine_dreams_in_ea_cluster(num_clusters, dreams_in_clusters_dict)\n",
      "    print_representative_words(num_clusters, 7, c_matrix, vectorizer)\n",
      "    \n",
      "    for i in range(num_clusters):\n",
      "        #get distance from each dream to centroid for cluster 1, then for cluster 2, etc.\n",
      "        #dream_distance_from_this_centroid_cluster = dream_distance_from_centroid_cluster[:,i] \n",
      "        \n",
      "        #enum_dream_distance_from_centroid = list(enumerate(dream_distance_from_this_centroid_cluster))\n",
      "        #dream_distance_from_centroid_sorted = sorted(enum_dream_distance_from_centroid, key=lambda tup: tup[1])\n",
      "\n",
      "        #print dream_distance_from_centroid_sorted[:20][0]  #it's saying that one dream is the closest to all centroids\n",
      "        #same problem had before. try tim's syntax? or original syntax that I got working??\n",
      "        print \n",
      "\n",
      "#         for x in range(num_dreams_to_print_per_cluster):\n",
      "\n",
      "#             min_in_cluster = dream_distance_from_centroid_sorted[x][1]\n",
      "#             min_index_in_cluster = dream_distance_from_centroid_sorted[x][0]\n",
      "\n",
      "#             print 'min {} for cluster {}:'.format(x+1, i+1), min_in_cluster \n",
      "#             print 'index:', min_index_in_cluster\n",
      "#             print 'Cluster {}. Representative dream: '.format(i+1), dream_corpus_original[min_index_in_cluster]\n",
      "#             #print 'Modified dream: ', dream_corpus_to_cluster_with[min_index_in_cluster]\n",
      "\n",
      "#             print "
     ],
     "language": "python",
     "metadata": {},
     "outputs": [],
     "prompt_number": 428
    },
    {
     "cell_type": "code",
     "collapsed": false,
     "input": [
      "representative_dreams_for_clusters_agglo(5, 3, dream_adj_adv_corpus, dream_adj_adv_corpus)"
     ],
     "language": "python",
     "metadata": {},
     "outputs": [
      {
       "output_type": "stream",
       "stream": "stdout",
       "text": [
        "Words representative of Cluster 1:  [u'back', u'really', u'next', u'big', u'old', u'also', u'even']\n",
        "\n",
        "Words representative of Cluster 2:  [u'drunk', u'older', u'deeper', u'never', u'away', u'sandy', u'alone']\n",
        "\n",
        "Words representative of Cluster 3:  [u'temporary', u'nonsensical', u'periodically', u'otherwise', u'randomly', u'meanwhile', u'good']\n",
        "\n",
        "Words representative of Cluster 4:  [u'grayish', u'blackish', u'vertically', u'inward', u'exactly', u'seemingly', u'parallel']\n",
        "\n",
        "Words representative of Cluster 5:  [u'spare', u'healthy', u'actual', u'back', u'vietnamese', u'separate', u'major']\n",
        "\n",
        "\n",
        "\n",
        "\n",
        "\n",
        "\n"
       ]
      }
     ],
     "prompt_number": 422
    },
    {
     "cell_type": "code",
     "collapsed": false,
     "input": [
      "representative_dreams_for_clusters_agglo(5, 3, dream_nouns_corpus, dream_nouns_corpus)"
     ],
     "language": "python",
     "metadata": {},
     "outputs": [
      {
       "output_type": "stream",
       "stream": "stdout",
       "text": [
        "Words representative of Cluster 1:  [u'house', u'room', u'people', u'friend', u'friends', u'school', u'time']\n",
        "\n",
        "Words representative of Cluster 2:  [u'giants', u'john', u'questions', u'kristin', u'ana', u'gazebo', u'suit']\n",
        "\n",
        "Words representative of Cluster 3:  [u'wife', u'spiral', u'scarf', u'lector', u'hannibal', u'affair', u'shooting']\n",
        "\n",
        "Words representative of Cluster 4:  [u'knives', u'air', u'right', u'serration', u'difference', u'width', u'knife']\n",
        "\n",
        "Words representative of Cluster 5: "
       ]
      },
      {
       "output_type": "stream",
       "stream": "stdout",
       "text": [
        " [u'scene', u'night', u'lemonade', u'butts', u'ninjas', u'pageant', u'beauty']\n",
        "\n",
        "\n",
        "\n",
        "\n",
        "\n",
        "\n"
       ]
      }
     ],
     "prompt_number": 424
    },
    {
     "cell_type": "code",
     "collapsed": false,
     "input": [
      "representative_dreams_for_clusters_agglo(5, 3, dream_corpus_clean_singularize, dream_corpus_clean_singularize)"
     ],
     "language": "python",
     "metadata": {},
     "outputs": [
      {
       "output_type": "stream",
       "stream": "stdout",
       "text": [
        "Words representative of Cluster 1:  [u'friend', u'person', u'one', u'house', u'like', u'going', u'room']\n",
        "\n",
        "Words representative of Cluster 2:  [u'never', u'couldn', u'snowboarding', u'date', u'one', u'ready', u'like']\n",
        "\n",
        "Words representative of Cluster 3: "
       ]
      },
      {
       "output_type": "stream",
       "stream": "stdout",
       "text": [
        " [u'wife', u'running', u'away', u'spiral', u'lector', u'hannibal', u'escaped']\n",
        "\n",
        "Words representative of Cluster 4: "
       ]
      },
      {
       "output_type": "stream",
       "stream": "stdout",
       "text": [
        " [u'procedure', u'hurting', u'anesthesium', u'pill', u'dental', u'dentist', u'female']\n",
        "\n",
        "Words representative of Cluster 5: "
       ]
      },
      {
       "output_type": "stream",
       "stream": "stdout",
       "text": [
        " [u'bed', u'woke', u'putting', u'firecracker', u'crayon', u'soap', u'sock']\n",
        "\n",
        "\n",
        "\n",
        "\n",
        "\n",
        "\n"
       ]
      }
     ],
     "prompt_number": 425
    },
    {
     "cell_type": "markdown",
     "metadata": {},
     "source": [
      "##Other clustering methods: DB Scan"
     ]
    },
    {
     "cell_type": "code",
     "collapsed": false,
     "input": [
      "#DB_clusters = DBSCAN(eps=0.54, min_samples=2, metric='cosine', algorithm='brute').fit_predict(ing_vectors.toarray())\n",
      "\n",
      "def representative_dreams_for_clusters_dbscan(num_clusters, num_dreams_to_print_per_cluster, dream_corpus_to_cluster_with, dream_corpus_original):\n",
      "    \"\"\"takes the cleaned original dream corpus, the modified dream corpus (e.g., just nouns), the number of clusters,\n",
      "    and the number of dreams per cluster to show. Returns n dreams per cluster and 10 top tf-idf words per cluster\"\"\"\n",
      "    \n",
      "    vectorizer = TfidfVectorizer(stop_words=stop)  \n",
      "    dream_vectors = vectorizer.fit_transform(dream_corpus_to_cluster_with)  #this is the X to pass into ml cluster algo. a list of strings.\n",
      "    \n",
      "    model_dbscan = DBSCAN(eps=0.54, min_samples=2, metric='cosine', algorithm='brute') \n",
      "    clusters_dbscan = model_dbscan.fit_predict(dream_vectors.toarray())\n",
      "    \n",
      "    #centroids_for_each_cluster = model_agglo.cluster_centers_\n",
      "    #dream_distance_from_centroid_cluster = pairwise_distances(dream_vectors, Y=centroids_for_each_cluster, metric='euclidean', n_jobs=1)\n",
      "    \n",
      "    num_clusters = len(clusters_dbscan)\n",
      "    \n",
      "    dreams_in_clusters_dict = dreams_dict_by_cluster(clusters_dbscan, dream_corpus_to_cluster_with)    \n",
      "    c_matrix, vectorizer = combine_dreams_in_ea_cluster(num_clusters, dreams_in_clusters_dict)\n",
      "    print_representative_words(num_clusters, 7, c_matrix, vectorizer)"
     ],
     "language": "python",
     "metadata": {},
     "outputs": [],
     "prompt_number": 449
    },
    {
     "cell_type": "code",
     "collapsed": false,
     "input": [
      "representative_dreams_for_clusters_dbscan(5, 3, dream_corpus_clean_singularize, dream_corpus_clean_singularize)"
     ],
     "language": "python",
     "metadata": {},
     "outputs": [
      {
       "output_type": "stream",
       "stream": "stdout",
       "text": [
        "Words representative of Cluster 1:  [u'happening', u'tell', u'finally', u'winded', u'center', u'cowell', u'acros']\n",
        "\n",
        "Words representative of Cluster 2:  [u'room', u'friend', u'street', u'began', u'two', u'didn', u'person']\n",
        "\n",
        "Words representative of Cluster 3:  [u'yelled', u'bag', u'packing', u'often', u'calling', u'hassling', u'grandmother']\n",
        "\n",
        "Words representative of Cluster 4:  [u'contest', u'really', u'line', u'rap', u'definitely', u'nervou', u'tall']\n",
        "\n",
        "Words representative of Cluster 5:  [u'look', u'friend', u'boyfriend', u'alway', u've', u'another', u'beautiful']\n",
        "\n",
        "Words representative of Cluster 6:  [u'party', u'beer', u'class', u'came', u'around', u'spending', u'college']\n",
        "\n",
        "Words representative of Cluster 7:  [u'brother', u'rice', u'somewhat', u'like', u'person', u'fried', u'residency']\n",
        "\n",
        "Words representative of Cluster 8:  [u'wife', u'running', u'shooting', u'bow', u'cros', u'spiral', u'stair']\n",
        "\n",
        "Words representative of Cluster 9:  [u'driving', u'car', u'home', u'got', u'started', u'portland', u'point']\n",
        "\n",
        "Words representative of Cluster 10:  [u'back', u'church', u'mas', u'seat', u'chri', u'meggan', u'sat']\n",
        "\n",
        "Words representative of Cluster 11:  [u'high', u'shirt', u'jump', u'really', u'seen', u'cheering', u'employee']\n",
        "\n",
        "Words representative of Cluster 12:  [u'castle', u'like', u'something', u'registered', u'scale', u'couple', u'trip']\n",
        "\n"
       ]
      },
      {
       "ename": "IndexError",
       "evalue": "list index out of range",
       "output_type": "pyerr",
       "traceback": [
        "\u001b[0;31m---------------------------------------------------------------------------\u001b[0m\n\u001b[0;31mIndexError\u001b[0m                                Traceback (most recent call last)",
        "\u001b[0;32m<ipython-input-450-500815170f0f>\u001b[0m in \u001b[0;36m<module>\u001b[0;34m()\u001b[0m\n\u001b[0;32m----> 1\u001b[0;31m \u001b[0mrepresentative_dreams_for_clusters_dbscan\u001b[0m\u001b[0;34m(\u001b[0m\u001b[0;36m5\u001b[0m\u001b[0;34m,\u001b[0m \u001b[0;36m3\u001b[0m\u001b[0;34m,\u001b[0m \u001b[0mdream_corpus_clean_singularize\u001b[0m\u001b[0;34m,\u001b[0m \u001b[0mdream_corpus_clean_singularize\u001b[0m\u001b[0;34m)\u001b[0m\u001b[0;34m\u001b[0m\u001b[0m\n\u001b[0m",
        "\u001b[0;32m<ipython-input-449-0b2ab0f50d8b>\u001b[0m in \u001b[0;36mrepresentative_dreams_for_clusters_dbscan\u001b[0;34m(num_clusters, num_dreams_to_print_per_cluster, dream_corpus_to_cluster_with, dream_corpus_original)\u001b[0m\n\u001b[1;32m     18\u001b[0m     \u001b[0mdreams_in_clusters_dict\u001b[0m \u001b[0;34m=\u001b[0m \u001b[0mdreams_dict_by_cluster\u001b[0m\u001b[0;34m(\u001b[0m\u001b[0mclusters_dbscan\u001b[0m\u001b[0;34m,\u001b[0m \u001b[0mdream_corpus_to_cluster_with\u001b[0m\u001b[0;34m)\u001b[0m\u001b[0;34m\u001b[0m\u001b[0m\n\u001b[1;32m     19\u001b[0m     \u001b[0mc_matrix\u001b[0m\u001b[0;34m,\u001b[0m \u001b[0mvectorizer\u001b[0m \u001b[0;34m=\u001b[0m \u001b[0mcombine_dreams_in_ea_cluster\u001b[0m\u001b[0;34m(\u001b[0m\u001b[0mnum_clusters\u001b[0m\u001b[0;34m,\u001b[0m \u001b[0mdreams_in_clusters_dict\u001b[0m\u001b[0;34m)\u001b[0m\u001b[0;34m\u001b[0m\u001b[0m\n\u001b[0;32m---> 20\u001b[0;31m     \u001b[0mprint_representative_words\u001b[0m\u001b[0;34m(\u001b[0m\u001b[0mnum_clusters\u001b[0m\u001b[0;34m,\u001b[0m \u001b[0;36m7\u001b[0m\u001b[0;34m,\u001b[0m \u001b[0mc_matrix\u001b[0m\u001b[0;34m,\u001b[0m \u001b[0mvectorizer\u001b[0m\u001b[0;34m)\u001b[0m\u001b[0;34m\u001b[0m\u001b[0m\n\u001b[0m",
        "\u001b[0;32m<ipython-input-19-6072334d4582>\u001b[0m in \u001b[0;36mprint_representative_words\u001b[0;34m(number_clusters, number_words, c_matrix, vectorizer)\u001b[0m\n\u001b[1;32m      8\u001b[0m         \u001b[0mword_list\u001b[0m \u001b[0;34m=\u001b[0m \u001b[0;34m[\u001b[0m\u001b[0;34m]\u001b[0m\u001b[0;34m\u001b[0m\u001b[0m\n\u001b[1;32m      9\u001b[0m         \u001b[0;32mfor\u001b[0m \u001b[0mx\u001b[0m \u001b[0;32min\u001b[0m \u001b[0mrange\u001b[0m\u001b[0;34m(\u001b[0m\u001b[0mnumber_words\u001b[0m\u001b[0;34m)\u001b[0m\u001b[0;34m:\u001b[0m\u001b[0;34m\u001b[0m\u001b[0m\n\u001b[0;32m---> 10\u001b[0;31m             \u001b[0mmax_index_in_cluster\u001b[0m \u001b[0;34m=\u001b[0m \u001b[0mvariables_sorted_by_tfidf\u001b[0m\u001b[0;34m[\u001b[0m\u001b[0mx\u001b[0m\u001b[0;34m]\u001b[0m\u001b[0;34m[\u001b[0m\u001b[0;36m0\u001b[0m\u001b[0;34m]\u001b[0m\u001b[0;34m\u001b[0m\u001b[0m\n\u001b[0m\u001b[1;32m     11\u001b[0m             \u001b[0mword\u001b[0m \u001b[0;34m=\u001b[0m \u001b[0mvectorizer\u001b[0m\u001b[0;34m.\u001b[0m\u001b[0mget_feature_names\u001b[0m\u001b[0;34m(\u001b[0m\u001b[0;34m)\u001b[0m\u001b[0;34m[\u001b[0m\u001b[0mmax_index_in_cluster\u001b[0m\u001b[0;34m]\u001b[0m     \u001b[0;31m#!!!!!!!!!!!!!!!!!!\u001b[0m\u001b[0;34m\u001b[0m\u001b[0m\n\u001b[1;32m     12\u001b[0m             \u001b[0mword_list\u001b[0m\u001b[0;34m.\u001b[0m\u001b[0mappend\u001b[0m\u001b[0;34m(\u001b[0m\u001b[0mword\u001b[0m\u001b[0;34m)\u001b[0m\u001b[0;34m\u001b[0m\u001b[0m\n",
        "\u001b[0;31mIndexError\u001b[0m: list index out of range"
       ]
      }
     ],
     "prompt_number": 450
    },
    {
     "cell_type": "markdown",
     "metadata": {},
     "source": [
      "##Other clustering methods: Mean Shift"
     ]
    },
    {
     "cell_type": "code",
     "collapsed": false,
     "input": [
      "def representative_dreams_for_cluster_meanshift(num_clusters, num_dreams_to_print_per_cluster, dream_corpus_to_cluster_with, dream_corpus_original):\n",
      "    \"\"\"takes the cleaned original dream corpus, the modified dream corpus (e.g., just nouns), the number of clusters,\n",
      "    and the number of dreams per cluster to show. Returns n dreams per cluster and 10 top tf-idf words per cluster\"\"\"\n",
      "    \n",
      "    vectorizer = TfidfVectorizer(stop_words=stop)  \n",
      "    dream_vectors = vectorizer.fit_transform(dream_corpus_to_cluster_with)  #this is the X to pass into ml cluster algo. a list of strings.\n",
      "    \n",
      "    model_meanshift = MeanShift(cluster_all=False)  #set n_init higher\n",
      "    clusters_meanshift = model_meanshift.fit_predict(dream_vectors.toarray())\n",
      "        \n",
      "    centroids_for_each_cluster = model_meanshift.cluster_centers_\n",
      "    dream_distance_from_centroid_cluster = pairwise_distances(dream_vectors, Y=centroids_for_each_cluster, metric='euclidean', n_jobs=1)\n",
      "    \n",
      "    dreams_in_clusters_dict = dreams_dict_by_cluster(clusters_meanshift, dream_corpus_to_cluster_with)    \n",
      "    num_clusters = len(dreams_in_clusters_dict)\n",
      "    print num_clusters\n",
      "    c_matrix, vectorizer = combine_dreams_in_ea_cluster(num_clusters, dreams_in_clusters_dict)\n",
      "    print_representative_words(num_clusters, 10, c_matrix, vectorizer)\n",
      "    \n",
      "    for i in range(num_clusters):\n",
      "        #get distance from each dream to centroid for cluster 1, then for cluster 2, etc.\n",
      "        dream_distance_from_this_centroid_cluster = dream_distance_from_centroid_cluster[:,i] \n",
      "        \n",
      "        enum_dream_distance_from_centroid = list(enumerate(dream_distance_from_this_centroid_cluster))\n",
      "        dream_distance_from_centroid_sorted = sorted(enum_dream_distance_from_centroid, key=lambda tup: tup[1])\n",
      "\n",
      "        #print dream_distance_from_centroid_sorted[:20][0]  #it's saying that one dream is the closest to all centroids\n",
      "        #same problem had before. try tim's syntax? or original syntax that I got working??\n",
      "        print \n",
      "\n",
      "        for x in range(num_dreams_to_print_per_cluster):\n",
      "\n",
      "            min_in_cluster = dream_distance_from_centroid_sorted[x][1]\n",
      "            min_index_in_cluster = dream_distance_from_centroid_sorted[x][0]\n",
      "\n",
      "            print 'min {} for cluster {}:'.format(x+1, i+1), min_in_cluster \n",
      "            print 'index:', min_index_in_cluster\n",
      "            print 'Cluster {}. Representative dream: '.format(i+1), dream_corpus_original[min_index_in_cluster]\n",
      "            #print 'Modified dream: ', dream_corpus_to_cluster_with[min_index_in_cluster]\n",
      "\n",
      "            print "
     ],
     "language": "python",
     "metadata": {},
     "outputs": [],
     "prompt_number": 471
    },
    {
     "cell_type": "code",
     "collapsed": false,
     "input": [
      "representative_dreams_for_cluster_meanshift(5, 3, dream_corpus_clean_singularize, dream_corpus_clean_singularize)"
     ],
     "language": "python",
     "metadata": {},
     "outputs": [
      {
       "output_type": "stream",
       "stream": "stdout",
       "text": [
        "1\n",
        "Words representative of Cluster 1: "
       ]
      },
      {
       "output_type": "stream",
       "stream": "stdout",
       "text": [
        " [u'friend', u'one', u'like', u'person', u'get', u'back', u'house', u'go', u'really', u'going']\n",
        "\n",
        "\n",
        "min 1 for cluster 1: 0.932360821443\n",
        "index: 62\n",
        "Cluster 1. Representative dream:  I kind gather family friend I knew baby around I wanted hold But mom needed baby \u2019 thing like dollhouse stroller couple friend I went elevator lower level building retrieved item shopped little I felt like I shop many time I aisle I alway I went I didn \u2019 get anything I went ahead two friend I got hold baby I \u2019 know mother baby baby knew I \u2019 know gender I thought maybe boy I tried keeping head squashed deformed But I help shoulder neck head okay When I help front I could see front deformed neck head talked like older child would My two friend came back one definitely showered My family I friend Jennifer Lopez kind sport event I watched type rugby-ish game It little girl boy older one There even girl Santum Clara I think I talking kid I knew older version baby earlier girl game The team Yese No \u2019 I told Maybe someone else Maybe I played game numerou time I felt nostalgic wanted share old game even filled clique dramatic There girl nearby talking acros street school called Eden They raving cute boy I I done thought thing used binocular look cute boy The girl beside told boy liked playing game I think called Eiffel ball And I recalled time I liked boy The game coed different age crush would inevitably show I told must gone college I couldn \u2019 spot I also college felt like high school event I sat near parent baby sat diagonally behind mom mom kept complaining J Lo \u2019 hair way I saw mom \u2019 face I \u2019 I told sit next didn \u2019 want J Lo turned around smiled The announcer guy microphone going crowd random person would say something like quote mic J Lo said I thought \u2018 \u2019 totally J Lo \u2019 said quote somewhere else I started complaining dad game looked fake planned He said \u2019 supposed like \u2019 ll start play real beginning dramatic show I think parent fight I Santum Clara dorm friend I got phone call mom She said family friend family member hospital dying She said brother coming pick bring airport I ran yelled brother looked car I couldn \u2019 find My SCU family friend lived Casa I went brother arrived It didn \u2019 really look like Casa person I saw high school I knew I saw one old crush ignored impolite way talking person I needed find family friend As I ask boy seen I saw friend high school South Carolina ran I longer looking family friend He became one needed comfort someone family dying died I hugged I knelt floor sitting He sweaty didn \u2019 glass listening music\n",
        "\n",
        "min 2 for cluster 1: 0.941798338331\n",
        "index: 73\n",
        "Cluster 1. Representative dream:  I planning go couple store One get thing I needed well plush football I arrived Walmart realized I could get everything I needed Before I thought I make another trip somewhere else As I pulled parking lot I saw smiling man walking around Then I saw man time wearing store uniform As I pulled parking space I crashed shopping cart hit check steering wheel I called mom told little accident Then I started going store I entering I met couple friend They walked store I thinking I needed get book I started walking aisle I saw bunch plush football I wanted get I picked one realized might intended dog toy Then I walking around bunch machine sell little toy I looking set kind decoration possibly hand Some machine difficult reach I going eat food couple friend After I inside store friend One however kept changing friend another guy I know I started asking friend \u2019 e interested going store already standing said \u2019 d go wanted get food first I laughed along one store employee told already gotten food But didn \u2019 eat much wanted go I car two friend I driving one friend trying figure go One friend suggested going somewhere far taking freeway friend told I wasn \u2019 good enough driver Then I kind slow slot car like game trick shift ground form loop like freeway I first looking like toy car got transferred I friend saying way transaction could work something bottom track went I transported watching movie grandma The movie Sand Pearl Jam grandma wanted know certain song occurred She said like band \u2019 music I told silly Pearl Jam considered one biggest band America\n",
        "\n",
        "min 3 for cluster 1: 0.945180920264\n",
        "index: 51\n",
        "Cluster 1. Representative dream:  I eye doctor mall really big Then sudden bed I sat There lot handsome man suddenly talking amongst far bed I \u2019 I said making feel uncomfortable Then I different place boyfriend everything felt better We standing line somewhere talking happy Then I home house looked little different almost altered I felt confused Then I calling best friend phone I worried came something missing wasn \u2019 pregnant like right I still felt lot concern She acting little strange So I gues I getting ready go I walk room change store mall Then I leave room say goodbye mom dad When I opened door I saw glimpse two naked person kissing I closed door immediately went front door I feeling embarrassed strange thing I \u2019 think parent I \u2019 m pretty sure boyfriend So I \u2019 m driving car best friend \u2019 re talking \u2019 pregnant\n",
        "\n"
       ]
      }
     ],
     "prompt_number": 468
    },
    {
     "cell_type": "markdown",
     "metadata": {},
     "source": [
      "##Other clustering methods: Spectral Clustering"
     ]
    },
    {
     "cell_type": "code",
     "collapsed": false,
     "input": [
      "def representative_dreams_for_cluster_spectral(num_clusters, num_dreams_to_print_per_cluster, dream_corpus_to_cluster_with, dream_corpus_original):\n",
      "    \"\"\"takes the cleaned original dream corpus, the modified dream corpus (e.g., just nouns), the number of clusters,\n",
      "    and the number of dreams per cluster to show. Returns n dreams per cluster and 10 top tf-idf words per cluster\"\"\"\n",
      "    \n",
      "    vectorizer = TfidfVectorizer(stop_words=stop)  \n",
      "    dream_vectors = vectorizer.fit_transform(dream_corpus_to_cluster_with)  #this is the X to pass into ml cluster algo. a list of strings.\n",
      "    \n",
      "    model_spectral = SpectralClustering(n_clusters=num_clusters, n_init=10)  #set n_init higher\n",
      "    clusters_spectral = model_spectral.fit_predict(dream_vectors.toarray())\n",
      "        \n",
      "    #centroids_for_each_cluster = model_spectral.cluster_centers_\n",
      "    #dream_distance_from_centroid_cluster = pairwise_distances(dream_vectors, Y=centroids_for_each_cluster, metric='euclidean', n_jobs=1)\n",
      "    \n",
      "    dreams_in_clusters_dict = dreams_dict_by_cluster(clusters_spectral, dream_corpus_to_cluster_with)    \n",
      "    #num_clusters = len(dreams_in_clusters_dict)\n",
      "    print num_clusters\n",
      "    c_matrix, vectorizer = combine_dreams_in_ea_cluster(num_clusters, dreams_in_clusters_dict)\n",
      "    print_representative_words(num_clusters, 10, c_matrix, vectorizer)\n",
      "    \n",
      "#     for i in range(num_clusters):\n",
      "#         #get distance from each dream to centroid for cluster 1, then for cluster 2, etc.\n",
      "#         dream_distance_from_this_centroid_cluster = dream_distance_from_centroid_cluster[:,i] \n",
      "        \n",
      "#         enum_dream_distance_from_centroid = list(enumerate(dream_distance_from_this_centroid_cluster))\n",
      "#         dream_distance_from_centroid_sorted = sorted(enum_dream_distance_from_centroid, key=lambda tup: tup[1])\n",
      "\n",
      "#         #print dream_distance_from_centroid_sorted[:20][0]  #it's saying that one dream is the closest to all centroids\n",
      "#         #same problem had before. try tim's syntax? or original syntax that I got working??\n",
      "#         print \n",
      "\n",
      "#         for x in range(num_dreams_to_print_per_cluster):\n",
      "\n",
      "#             min_in_cluster = dream_distance_from_centroid_sorted[x][1]\n",
      "#             min_index_in_cluster = dream_distance_from_centroid_sorted[x][0]\n",
      "\n",
      "#             print 'min {} for cluster {}:'.format(x+1, i+1), min_in_cluster \n",
      "#             print 'index:', min_index_in_cluster\n",
      "#             print 'Cluster {}. Representative dream: '.format(i+1), dream_corpus_original[min_index_in_cluster]\n",
      "#             #print 'Modified dream: ', dream_corpus_to_cluster_with[min_index_in_cluster]\n",
      "\n",
      "#             print "
     ],
     "language": "python",
     "metadata": {},
     "outputs": [],
     "prompt_number": 481
    },
    {
     "cell_type": "code",
     "collapsed": false,
     "input": [
      "representative_dreams_for_cluster_spectral(5, 3, dream_corpus_clean_singularize, dream_corpus_clean_singularize)"
     ],
     "language": "python",
     "metadata": {},
     "outputs": [
      {
       "output_type": "stream",
       "stream": "stdout",
       "text": [
        "5\n",
        "Words representative of Cluster 1: "
       ]
      },
      {
       "output_type": "stream",
       "stream": "stdout",
       "text": [
        " [u'church', u'back', u'mas', u'got', u'meggan', u'seat', u'chri', u'steph', u'shirt', u'next']\n",
        "\n",
        "Words representative of Cluster 2: "
       ]
      },
      {
       "output_type": "stream",
       "stream": "stdout",
       "text": [
        " [u'friend', u'one', u'house', u'like', u'got', u'person', u'go', u'going', u'guy', u'time']\n",
        "\n",
        "Words representative of Cluster 3: "
       ]
      },
      {
       "output_type": "stream",
       "stream": "stdout",
       "text": [
        " [u'finally', u'happening', u'tell', u'winded', u'cowell', u'coughing', u'medical', u'cup', u'carried', u'stared']\n",
        "\n",
        "Words representative of Cluster 4: "
       ]
      },
      {
       "output_type": "stream",
       "stream": "stdout",
       "text": [
        " [u'wife', u'running', u'spiral', u'lector', u'hannibal', u'escaped', u'affair', u'scarf', u'shooting', u'stair']\n",
        "\n",
        "Words representative of Cluster 5: "
       ]
      },
      {
       "output_type": "stream",
       "stream": "stdout",
       "text": [
        " [u'brother', u'like', u'rice', u'castle', u'one', u'friend', u'said', u'think', u'though', u'registered']\n",
        "\n"
       ]
      }
     ],
     "prompt_number": 482
    },
    {
     "cell_type": "markdown",
     "metadata": {},
     "source": [
      "##Sentiment Analysis"
     ]
    },
    {
     "cell_type": "code",
     "collapsed": false,
     "input": [
      "len(waking_corpus_clean), len(dream_corpus_clean)"
     ],
     "language": "python",
     "metadata": {},
     "outputs": [
      {
       "metadata": {},
       "output_type": "pyout",
       "prompt_number": 520,
       "text": [
        "(354, 347)"
       ]
      }
     ],
     "prompt_number": 520
    },
    {
     "cell_type": "code",
     "collapsed": false,
     "input": [
      "dream_and_wake_corpus = waking_corpus_clean + dream_corpus_clean"
     ],
     "language": "python",
     "metadata": {},
     "outputs": [],
     "prompt_number": 517
    },
    {
     "cell_type": "code",
     "collapsed": false,
     "input": [
      "len(dream_and_wake_corpus)"
     ],
     "language": "python",
     "metadata": {},
     "outputs": [
      {
       "metadata": {},
       "output_type": "pyout",
       "prompt_number": 518,
       "text": [
        "701"
       ]
      }
     ],
     "prompt_number": 518
    },
    {
     "cell_type": "code",
     "collapsed": false,
     "input": [
      "sentiment_list_descriptions = []\n",
      "for description in dream_and_wake_corpus:\n",
      "    textblob_descriptions = TextBlob(description)\n",
      "    sentiment_results_descriptions = textblob_descriptions.sentiment\n",
      "    sentiment_number_descriptions = sentiment_results_descriptions[0]\n",
      "    sentiment_list_descriptions.append(sentiment_number_descriptions)"
     ],
     "language": "python",
     "metadata": {},
     "outputs": [],
     "prompt_number": 521
    },
    {
     "cell_type": "code",
     "collapsed": false,
     "input": [
      "np.mean(sentiment_list_descriptions)"
     ],
     "language": "python",
     "metadata": {},
     "outputs": [
      {
       "metadata": {},
       "output_type": "pyout",
       "prompt_number": 524,
       "text": [
        "0.041365214413420656"
       ]
      }
     ],
     "prompt_number": 524
    },
    {
     "cell_type": "code",
     "collapsed": false,
     "input": [
      "dreams = []\n",
      "awake = []\n",
      "for i, d in enumerate(sentiment_list_descriptions):\n",
      "    if i < 354:\n",
      "        awake.append(d)\n",
      "    else:\n",
      "        dreams.append(d)"
     ],
     "language": "python",
     "metadata": {},
     "outputs": [],
     "prompt_number": 525
    },
    {
     "cell_type": "code",
     "collapsed": false,
     "input": [
      "len(awake), len(dreams)"
     ],
     "language": "python",
     "metadata": {},
     "outputs": [
      {
       "metadata": {},
       "output_type": "pyout",
       "prompt_number": 527,
       "text": [
        "(354, 347)"
       ]
      }
     ],
     "prompt_number": 527
    },
    {
     "cell_type": "code",
     "collapsed": false,
     "input": [
      "print 'mean of awake: ', np.mean(awake) \n",
      "print 'mean of dreams: ', np.mean(dreams)"
     ],
     "language": "python",
     "metadata": {},
     "outputs": [
      {
       "output_type": "stream",
       "stream": "stdout",
       "text": [
        "mean of awake:  0.0408777404413\n",
        "mean of dreams:  0.0418625221544\n"
       ]
      }
     ],
     "prompt_number": 528
    },
    {
     "cell_type": "code",
     "collapsed": false,
     "input": [],
     "language": "python",
     "metadata": {},
     "outputs": []
    },
    {
     "cell_type": "code",
     "collapsed": false,
     "input": [
      "sentiment_list_dreams = []\n",
      "for dream in dream_corpus_clean:\n",
      "    textblob_dream = TextBlob(dream)\n",
      "    sentiment_results_dream = textblob_dream.sentiment\n",
      "    sentiment_number_dream = sentiment_results_dream[0]\n",
      "    sentiment_list_dreams.append(sentiment_number_dream)"
     ],
     "language": "python",
     "metadata": {},
     "outputs": [],
     "prompt_number": 508
    },
    {
     "cell_type": "code",
     "collapsed": false,
     "input": [
      "sentiment_list_waking = []\n",
      "for report in waking_corpus_clean:\n",
      "    textblob_waking = TextBlob(report)\n",
      "    sentiment_results_wake = textblob_waking.sentiment\n",
      "    sentiment_number_wake = sentiment_results_wake[0]\n",
      "    sentiment_list_waking.append(sentiment_number_wake)"
     ],
     "language": "python",
     "metadata": {},
     "outputs": [],
     "prompt_number": 509
    },
    {
     "cell_type": "code",
     "collapsed": false,
     "input": [
      "np.mean(sentiment_list_dreams), np.mean(sentiment_list_waking)"
     ],
     "language": "python",
     "metadata": {},
     "outputs": [
      {
       "metadata": {},
       "output_type": "pyout",
       "prompt_number": 510,
       "text": [
        "(0.041862522154391825, 0.04087774044133876)"
       ]
      }
     ],
     "prompt_number": 510
    },
    {
     "cell_type": "code",
     "collapsed": false,
     "input": [
      "plt.hist(sentiment_list_dreams, bins=20)\n",
      "plt.hist(sentiment_list_waking, bins=20)"
     ],
     "language": "python",
     "metadata": {},
     "outputs": [
      {
       "metadata": {},
       "output_type": "pyout",
       "prompt_number": 534,
       "text": [
        "(array([  1.,   1.,   0.,   0.,   2.,   3.,   8.,  20.,  37.,  57.,  69.,\n",
        "         51.,  40.,  25.,  14.,  10.,   7.,   5.,   3.,   1.]),\n",
        " array([-0.6    , -0.54125, -0.4825 , -0.42375, -0.365  , -0.30625,\n",
        "        -0.2475 , -0.18875, -0.13   , -0.07125, -0.0125 ,  0.04625,\n",
        "         0.105  ,  0.16375,  0.2225 ,  0.28125,  0.34   ,  0.39875,\n",
        "         0.4575 ,  0.51625,  0.575  ]),\n",
        " <a list of 20 Patch objects>)"
       ]
      },
      {
       "metadata": {},
       "output_type": "display_data",
       "png": "[encoded data removed]",
       "text": [
        "<matplotlib.figure.Figure at 0x111b4ab90>"
       ]
      }
     ],
     "prompt_number": 534
    },
    {
     "cell_type": "code",
     "collapsed": false,
     "input": [
      "plt.hist(sentiment_list_dreams, bins=20)"
     ],
     "language": "python",
     "metadata": {},
     "outputs": [
      {
       "metadata": {},
       "output_type": "pyout",
       "prompt_number": 530,
       "text": [
        "(array([  1.,   0.,   0.,   1.,   0.,   5.,   8.,   3.,  14.,  18.,  46.,\n",
        "         68.,  71.,  48.,  19.,  26.,   9.,   6.,   1.,   3.]),\n",
        " array([-0.7    , -0.63875, -0.5775 , -0.51625, -0.455  , -0.39375,\n",
        "        -0.3325 , -0.27125, -0.21   , -0.14875, -0.0875 , -0.02625,\n",
        "         0.035  ,  0.09625,  0.1575 ,  0.21875,  0.28   ,  0.34125,\n",
        "         0.4025 ,  0.46375,  0.525  ]),\n",
        " <a list of 20 Patch objects>)"
       ]
      },
      {
       "metadata": {},
       "output_type": "display_data",
       "png": "[encoded data removed]",
       "text": [
        "<matplotlib.figure.Figure at 0x111b1f8d0>"
       ]
      }
     ],
     "prompt_number": 530
    },
    {
     "cell_type": "code",
     "collapsed": false,
     "input": [
      "plt.hist(sentiment_list_waking, bins=20)"
     ],
     "language": "python",
     "metadata": {},
     "outputs": [
      {
       "metadata": {},
       "output_type": "pyout",
       "prompt_number": 513,
       "text": [
        "(array([  1.,   1.,   0.,   0.,   2.,   3.,   8.,  20.,  37.,  57.,  69.,\n",
        "         51.,  40.,  25.,  14.,  10.,   7.,   5.,   3.,   1.]),\n",
        " array([-0.6    , -0.54125, -0.4825 , -0.42375, -0.365  , -0.30625,\n",
        "        -0.2475 , -0.18875, -0.13   , -0.07125, -0.0125 ,  0.04625,\n",
        "         0.105  ,  0.16375,  0.2225 ,  0.28125,  0.34   ,  0.39875,\n",
        "         0.4575 ,  0.51625,  0.575  ]),\n",
        " <a list of 20 Patch objects>)"
       ]
      },
      {
       "metadata": {},
       "output_type": "display_data",
       "png": "[encoded data removed]",
       "text": [
        "<matplotlib.figure.Figure at 0x1115a8590>"
       ]
      }
     ],
     "prompt_number": 513
    },
    {
     "cell_type": "markdown",
     "metadata": {},
     "source": [
      "##Get emotion word list"
     ]
    },
    {
     "cell_type": "code",
     "collapsed": false,
     "input": [
      "df = pd.read_excel('emotion_words.xlsx')"
     ],
     "language": "python",
     "metadata": {},
     "outputs": [],
     "prompt_number": 726
    },
    {
     "cell_type": "code",
     "collapsed": false,
     "input": [
      "emotion_words = df.values\n",
      "emotion_words_2 = [word[0] for word in emotion_words]\n",
      "emotion_words_set = set(emotion_words_2)\n",
      "sorted_emotion_words = list(sorted(emotion_words_set))\n",
      "sorted_emotion_words.pop(0)\n",
      "sorted_emotion_words[:10]  "
     ],
     "language": "python",
     "metadata": {},
     "outputs": [
      {
       "metadata": {},
       "output_type": "pyout",
       "prompt_number": 727,
       "text": [
        "[u'Abandoned',\n",
        " u'Abashed',\n",
        " u'Abused',\n",
        " u'Aching',\n",
        " u'Admiring',\n",
        " u'Adoring',\n",
        " u'Adrift',\n",
        " u'Affectionate',\n",
        " u'Affronted',\n",
        " u'Afraid']"
       ]
      }
     ],
     "prompt_number": 727
    },
    {
     "cell_type": "code",
     "collapsed": false,
     "input": [
      "#NEXT STEPS\n",
      "#individually run stemmer on this and lemmatizer on this and see what happens. is it ok? think i just do one, not both?\n",
      "#whatever i choose to do, do the same to the text in the actual dreams\n",
      "#then for each doc, loop through emotion words and either give the dream a 0 or 1 for each emotion word.\n",
      "    #could have a dict where each emotion word is a key. loop through the keys and then add/appen 0 or 1 to values list\n",
      "#then can convert this into a pandas df  -- \n",
      "    #it'll automaticall convert dict so each word is a variable/col header, each value is a dream/doc\n",
      "#then I think i can plot something like: \n",
      "    #sns.barplot(x = df.columns, y = [df['fear'].count(), df['happy'].count()])   #or maybe for y: df.loc[0].count...?\n",
      "\n",
      "#ultimately should group variables together into categories (~25) reviwed by shaver on \n",
      "    # http://changingminds.org/explanations/emotions/basic%20emotions.htm\n",
      "#ultimately should try and plot percentages within dreams and within waking, to compare."
     ],
     "language": "python",
     "metadata": {},
     "outputs": []
    },
    {
     "cell_type": "code",
     "collapsed": false,
     "input": [
      "#how to just plot word frequency?\n",
      "    # http://www.thoughtly.co/blog/working-with-text/\n",
      "    # just have a dictoinary counter and go through and put words in dict and count. then plot. \n",
      "    # and do same for waking. and can copute difference too."
     ],
     "language": "python",
     "metadata": {},
     "outputs": []
    }
   ],
   "metadata": {}
  }
 ]
}